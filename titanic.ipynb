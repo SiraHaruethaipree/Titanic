{
  "cells": [
    {
      "cell_type": "markdown",
      "metadata": {
        "id": "view-in-github",
        "colab_type": "text"
      },
      "source": [
        "<a href=\"https://colab.research.google.com/github/SiraHaruethaipree/Titanic/blob/main/titanic.ipynb\" target=\"_parent\"><img src=\"https://colab.research.google.com/assets/colab-badge.svg\" alt=\"Open In Colab\"/></a>"
      ]
    },
    {
      "cell_type": "markdown",
      "metadata": {
        "id": "68ZD704RWXQq"
      },
      "source": [
        "# Titatic Dataset\n",
        "\n",
        "วันที่ 15 เมษายน 1912 เรือสำราญที่ขนาดใหญ่ที่สุดที่เคยถูกสร้างมาชนภูเขาน้ำแข็ง ผลจ่ากการจมของเรือ Titanic มีผู้เสียชีวิต 1,502 คน จากผู้โดยสารและลูกเรือทั้งหมด 2,224 คน\n",
        "\n",
        "หนึ่งในเหตุผลหลักที่มีผู้เสียชีวิตจำนวนมากขนาดนี้ก็คือการที่เรือ Titanic มีจำนวนเรือกู้ชีพ (lifeboat) ไม่เพียงพอต่อจำนวนลูกเรือและผู้โดยสาร ดังนั้นโอกาสรอดชีวิตของลูกเรือโดยสารจึงไม่ได้ขึ้นกับโชคแต่เพียงอย่างเดียว ผู้โดยสารบางกลุ่มมีโอกาสรอดชีวิตมากกว่ากลุ่มอื่นๆ\n",
        "\n",
        "### Data Description\n",
        "\n",
        "| Variable | Definition |\tKey |\n",
        "| ------- | ------- |\t------- |\n",
        "| survival |\tSurvival |\t0 = No, 1 = Yes |\n",
        "| pclass |\tTicket class |\t1 = 1st, 2 = 2nd, 3 = 3rd |\n",
        "| sex |\tSex\t| |\n",
        "| Age\t| Age in years |\t|\n",
        "| sibsp |\t# of siblings / spouses aboard the Titanic\t|  |\n",
        "| parch |\t# of parents / children aboard the Titanic\t|  |\n",
        "| ticket\t| Ticket number\t|  |\n",
        "| fare |\tPassenger fare\t|  |\n",
        "| cabin |\tCabin number\t|  |\n",
        "| embarked |\tPort of Embarkation |\tC = Cherbourg, Q = Queenstown, S = Southampton |\n",
        "\n",
        "**Variable Notes**\n",
        "\n",
        "pclass: เป็นตัวแปรสำหรับวัดสถานะทางสังคม\n",
        "- 1st = Upper\n",
        "- 2nd = Middle\n",
        "- 3rd = Lower\n",
        "\n",
        "age: ถ้าอายุเป็นทศนิยม จะเป็นการประมาณอายุ โดยจะเป็นในรูปแบบ xx.5\n",
        "\n",
        "sibsp: ชุดข้อมูลนี้นิยามความสัมพันธ์ ญาติ ดังนี้\n",
        "- Sibling = พี่ชาย/น้องชาย, พี่สาว/น้องสาว, ลูกพี่ลูกน้อง\n",
        "- Spouse = สามี, ภรรยา\n",
        "\n",
        "parch: ชุดข้อมูลนี้นิยามความสัมพันธ์ ครอบครัว ดังนี้\n",
        "- Parent = บิดา, มารดา\n",
        "- Child = ลูกสาว, ลูกชาย\n",
        "- เด็กบางคนที่เดินทางกับพี่เลี้ยงจะมี parch=0\n",
        "\n",
        "### Objective:\n",
        "**ให้ทำการสร้าง classification model สำหรับทำนายว่าผู้โดยสารจะรอดชีวิตหรือเสียชีวิต**\n",
        "\n",
        "*คุณควรจะต้องมีการทำ [Feature Engineering](https://triangleinequality.wordpress.com/2013/09/08/basic-feature-engineering-with-the-titanic-data/) เพื่อสร้าง feature ใหม่*"
      ]
    },
    {
      "cell_type": "markdown",
      "source": [
        "# Import library"
      ],
      "metadata": {
        "id": "o4R7wJiEJCGU"
      }
    },
    {
      "cell_type": "markdown",
      "source": [
        "ทำการ import ไลบรารี่ที่ใช้ในการทำ machine learning ของโปรเจคนี้"
      ],
      "metadata": {
        "id": "MwJKvxakU_2X"
      }
    },
    {
      "cell_type": "code",
      "execution_count": null,
      "metadata": {
        "id": "zB1KG0CTWWNr"
      },
      "outputs": [],
      "source": [
        "import pandas as pd\n",
        "import numpy as np\n",
        "import seaborn as sns\n",
        "import matplotlib.pyplot as plt\n",
        "\n",
        "import string\n",
        "\n",
        "from sklearn.model_selection import  train_test_split\n",
        "from sklearn.preprocessing import StandardScaler\n",
        "from sklearn.model_selection import GridSearchCV\n",
        "from sklearn.tree import DecisionTreeClassifier\n",
        "from sklearn.metrics import roc_auc_score, plot_confusion_matrix, classification_report, f1_score, plot_roc_curve, accuracy_score\n",
        "from sklearn.svm import SVC\n",
        "from sklearn.neighbors import KNeighborsClassifier\n",
        "from sklearn.ensemble import RandomForestClassifier\n",
        "from sklearn.linear_model import LogisticRegression\n",
        "from sklearn.naive_bayes import GaussianNB\n",
        "from xgboost import XGBClassifier"
      ]
    },
    {
      "cell_type": "markdown",
      "source": [
        "# Import Data"
      ],
      "metadata": {
        "id": "L7VkiTVgU04f"
      }
    },
    {
      "cell_type": "markdown",
      "source": [
        "ขั้นตอนการนำเข้าข้อมูล Titanic dataset"
      ],
      "metadata": {
        "id": "GLNVF-8oVv0I"
      }
    },
    {
      "cell_type": "code",
      "execution_count": null,
      "metadata": {
        "colab": {
          "base_uri": "https://localhost:8080/"
        },
        "id": "alrsww8GWN0F",
        "outputId": "bdf1bf70-e051-40f6-d4b4-8884f56c6ec0"
      },
      "outputs": [
        {
          "output_type": "stream",
          "name": "stdout",
          "text": [
            "Mounted at /content/drive\n"
          ]
        }
      ],
      "source": [
        "from google.colab import drive\n",
        "drive.mount('/content/drive') #เชื่อมต่อเข้ากับ google drive"
      ]
    },
    {
      "cell_type": "code",
      "execution_count": null,
      "metadata": {
        "id": "JFoEYBpMWmby"
      },
      "outputs": [],
      "source": [
        "data = pd.read_excel(\"/content/drive/MyDrive/machine learning Kmitl/Copy of Copy of titanic_data.xlsx\")"
      ]
    },
    {
      "cell_type": "markdown",
      "source": [
        "หลังจากที่นำเข้าข้อมูลแล้ว ทำการเช็ครายละเอียดคร่าวๆของข้อมูล"
      ],
      "metadata": {
        "id": "Kz10cNyxV-Mh"
      }
    },
    {
      "cell_type": "code",
      "execution_count": null,
      "metadata": {
        "colab": {
          "base_uri": "https://localhost:8080/",
          "height": 677
        },
        "id": "6y8agYnsYpzU",
        "outputId": "f447ca46-7ebc-4faa-8905-2170beb0c5a1"
      },
      "outputs": [
        {
          "output_type": "execute_result",
          "data": {
            "text/plain": [
              "    PassengerId  Survived  Pclass  \\\n",
              "0             1         0       3   \n",
              "1             2         1       1   \n",
              "2             3         1       3   \n",
              "3             4         1       1   \n",
              "4             5         0       3   \n",
              "5             6         0       3   \n",
              "6             7         0       1   \n",
              "7             8         0       3   \n",
              "8             9         1       3   \n",
              "9            10         1       2   \n",
              "10           11         1       3   \n",
              "11           12         1       1   \n",
              "12           13         0       3   \n",
              "13           14         0       3   \n",
              "14           15         0       3   \n",
              "15           16         1       2   \n",
              "16           17         0       3   \n",
              "17           18         1       2   \n",
              "18           19         0       3   \n",
              "19           20         1       3   \n",
              "\n",
              "                                                 Name     Sex   Age  SibSp  \\\n",
              "0                             Braund, Mr. Owen Harris    male  22.0      1   \n",
              "1   Cumings, Mrs. John Bradley (Florence Briggs Th...  female  38.0      1   \n",
              "2                              Heikkinen, Miss. Laina  female  26.0      0   \n",
              "3        Futrelle, Mrs. Jacques Heath (Lily May Peel)  female  35.0      1   \n",
              "4                            Allen, Mr. William Henry    male  35.0      0   \n",
              "5                                    Moran, Mr. James    male   NaN      0   \n",
              "6                             McCarthy, Mr. Timothy J    male  54.0      0   \n",
              "7                      Palsson, Master. Gosta Leonard    male   2.0      3   \n",
              "8   Johnson, Mrs. Oscar W (Elisabeth Vilhelmina Berg)  female  27.0      0   \n",
              "9                 Nasser, Mrs. Nicholas (Adele Achem)  female  14.0      1   \n",
              "10                    Sandstrom, Miss. Marguerite Rut  female   4.0      1   \n",
              "11                           Bonnell, Miss. Elizabeth  female  58.0      0   \n",
              "12                     Saundercock, Mr. William Henry    male  20.0      0   \n",
              "13                        Andersson, Mr. Anders Johan    male  39.0      1   \n",
              "14               Vestrom, Miss. Hulda Amanda Adolfina  female  14.0      0   \n",
              "15                   Hewlett, Mrs. (Mary D Kingcome)   female  55.0      0   \n",
              "16                               Rice, Master. Eugene    male   2.0      4   \n",
              "17                       Williams, Mr. Charles Eugene    male   NaN      0   \n",
              "18  Vander Planke, Mrs. Julius (Emelia Maria Vande...  female  31.0      1   \n",
              "19                            Masselmani, Mrs. Fatima  female   NaN      0   \n",
              "\n",
              "    Parch            Ticket     Fare Cabin Embarked  \n",
              "0       0         A/5 21171   7.2500   NaN        S  \n",
              "1       0          PC 17599  71.2833   C85        C  \n",
              "2       0  STON/O2. 3101282   7.9250   NaN        S  \n",
              "3       0            113803  53.1000  C123        S  \n",
              "4       0            373450   8.0500   NaN        S  \n",
              "5       0            330877   8.4583   NaN        Q  \n",
              "6       0             17463  51.8625   E46        S  \n",
              "7       1            349909  21.0750   NaN        S  \n",
              "8       2            347742  11.1333   NaN        S  \n",
              "9       0            237736  30.0708   NaN        C  \n",
              "10      1           PP 9549  16.7000    G6        S  \n",
              "11      0            113783  26.5500  C103        S  \n",
              "12      0         A/5. 2151   8.0500   NaN        S  \n",
              "13      5            347082  31.2750   NaN        S  \n",
              "14      0            350406   7.8542   NaN        S  \n",
              "15      0            248706  16.0000   NaN        S  \n",
              "16      1            382652  29.1250   NaN        Q  \n",
              "17      0            244373  13.0000   NaN        S  \n",
              "18      0            345763  18.0000   NaN        S  \n",
              "19      0              2649   7.2250   NaN        C  "
            ],
            "text/html": [
              "\n",
              "  <div id=\"df-20bc9c91-a3b6-4fcb-bba1-a1746e582837\">\n",
              "    <div class=\"colab-df-container\">\n",
              "      <div>\n",
              "<style scoped>\n",
              "    .dataframe tbody tr th:only-of-type {\n",
              "        vertical-align: middle;\n",
              "    }\n",
              "\n",
              "    .dataframe tbody tr th {\n",
              "        vertical-align: top;\n",
              "    }\n",
              "\n",
              "    .dataframe thead th {\n",
              "        text-align: right;\n",
              "    }\n",
              "</style>\n",
              "<table border=\"1\" class=\"dataframe\">\n",
              "  <thead>\n",
              "    <tr style=\"text-align: right;\">\n",
              "      <th></th>\n",
              "      <th>PassengerId</th>\n",
              "      <th>Survived</th>\n",
              "      <th>Pclass</th>\n",
              "      <th>Name</th>\n",
              "      <th>Sex</th>\n",
              "      <th>Age</th>\n",
              "      <th>SibSp</th>\n",
              "      <th>Parch</th>\n",
              "      <th>Ticket</th>\n",
              "      <th>Fare</th>\n",
              "      <th>Cabin</th>\n",
              "      <th>Embarked</th>\n",
              "    </tr>\n",
              "  </thead>\n",
              "  <tbody>\n",
              "    <tr>\n",
              "      <th>0</th>\n",
              "      <td>1</td>\n",
              "      <td>0</td>\n",
              "      <td>3</td>\n",
              "      <td>Braund, Mr. Owen Harris</td>\n",
              "      <td>male</td>\n",
              "      <td>22.0</td>\n",
              "      <td>1</td>\n",
              "      <td>0</td>\n",
              "      <td>A/5 21171</td>\n",
              "      <td>7.2500</td>\n",
              "      <td>NaN</td>\n",
              "      <td>S</td>\n",
              "    </tr>\n",
              "    <tr>\n",
              "      <th>1</th>\n",
              "      <td>2</td>\n",
              "      <td>1</td>\n",
              "      <td>1</td>\n",
              "      <td>Cumings, Mrs. John Bradley (Florence Briggs Th...</td>\n",
              "      <td>female</td>\n",
              "      <td>38.0</td>\n",
              "      <td>1</td>\n",
              "      <td>0</td>\n",
              "      <td>PC 17599</td>\n",
              "      <td>71.2833</td>\n",
              "      <td>C85</td>\n",
              "      <td>C</td>\n",
              "    </tr>\n",
              "    <tr>\n",
              "      <th>2</th>\n",
              "      <td>3</td>\n",
              "      <td>1</td>\n",
              "      <td>3</td>\n",
              "      <td>Heikkinen, Miss. Laina</td>\n",
              "      <td>female</td>\n",
              "      <td>26.0</td>\n",
              "      <td>0</td>\n",
              "      <td>0</td>\n",
              "      <td>STON/O2. 3101282</td>\n",
              "      <td>7.9250</td>\n",
              "      <td>NaN</td>\n",
              "      <td>S</td>\n",
              "    </tr>\n",
              "    <tr>\n",
              "      <th>3</th>\n",
              "      <td>4</td>\n",
              "      <td>1</td>\n",
              "      <td>1</td>\n",
              "      <td>Futrelle, Mrs. Jacques Heath (Lily May Peel)</td>\n",
              "      <td>female</td>\n",
              "      <td>35.0</td>\n",
              "      <td>1</td>\n",
              "      <td>0</td>\n",
              "      <td>113803</td>\n",
              "      <td>53.1000</td>\n",
              "      <td>C123</td>\n",
              "      <td>S</td>\n",
              "    </tr>\n",
              "    <tr>\n",
              "      <th>4</th>\n",
              "      <td>5</td>\n",
              "      <td>0</td>\n",
              "      <td>3</td>\n",
              "      <td>Allen, Mr. William Henry</td>\n",
              "      <td>male</td>\n",
              "      <td>35.0</td>\n",
              "      <td>0</td>\n",
              "      <td>0</td>\n",
              "      <td>373450</td>\n",
              "      <td>8.0500</td>\n",
              "      <td>NaN</td>\n",
              "      <td>S</td>\n",
              "    </tr>\n",
              "    <tr>\n",
              "      <th>5</th>\n",
              "      <td>6</td>\n",
              "      <td>0</td>\n",
              "      <td>3</td>\n",
              "      <td>Moran, Mr. James</td>\n",
              "      <td>male</td>\n",
              "      <td>NaN</td>\n",
              "      <td>0</td>\n",
              "      <td>0</td>\n",
              "      <td>330877</td>\n",
              "      <td>8.4583</td>\n",
              "      <td>NaN</td>\n",
              "      <td>Q</td>\n",
              "    </tr>\n",
              "    <tr>\n",
              "      <th>6</th>\n",
              "      <td>7</td>\n",
              "      <td>0</td>\n",
              "      <td>1</td>\n",
              "      <td>McCarthy, Mr. Timothy J</td>\n",
              "      <td>male</td>\n",
              "      <td>54.0</td>\n",
              "      <td>0</td>\n",
              "      <td>0</td>\n",
              "      <td>17463</td>\n",
              "      <td>51.8625</td>\n",
              "      <td>E46</td>\n",
              "      <td>S</td>\n",
              "    </tr>\n",
              "    <tr>\n",
              "      <th>7</th>\n",
              "      <td>8</td>\n",
              "      <td>0</td>\n",
              "      <td>3</td>\n",
              "      <td>Palsson, Master. Gosta Leonard</td>\n",
              "      <td>male</td>\n",
              "      <td>2.0</td>\n",
              "      <td>3</td>\n",
              "      <td>1</td>\n",
              "      <td>349909</td>\n",
              "      <td>21.0750</td>\n",
              "      <td>NaN</td>\n",
              "      <td>S</td>\n",
              "    </tr>\n",
              "    <tr>\n",
              "      <th>8</th>\n",
              "      <td>9</td>\n",
              "      <td>1</td>\n",
              "      <td>3</td>\n",
              "      <td>Johnson, Mrs. Oscar W (Elisabeth Vilhelmina Berg)</td>\n",
              "      <td>female</td>\n",
              "      <td>27.0</td>\n",
              "      <td>0</td>\n",
              "      <td>2</td>\n",
              "      <td>347742</td>\n",
              "      <td>11.1333</td>\n",
              "      <td>NaN</td>\n",
              "      <td>S</td>\n",
              "    </tr>\n",
              "    <tr>\n",
              "      <th>9</th>\n",
              "      <td>10</td>\n",
              "      <td>1</td>\n",
              "      <td>2</td>\n",
              "      <td>Nasser, Mrs. Nicholas (Adele Achem)</td>\n",
              "      <td>female</td>\n",
              "      <td>14.0</td>\n",
              "      <td>1</td>\n",
              "      <td>0</td>\n",
              "      <td>237736</td>\n",
              "      <td>30.0708</td>\n",
              "      <td>NaN</td>\n",
              "      <td>C</td>\n",
              "    </tr>\n",
              "    <tr>\n",
              "      <th>10</th>\n",
              "      <td>11</td>\n",
              "      <td>1</td>\n",
              "      <td>3</td>\n",
              "      <td>Sandstrom, Miss. Marguerite Rut</td>\n",
              "      <td>female</td>\n",
              "      <td>4.0</td>\n",
              "      <td>1</td>\n",
              "      <td>1</td>\n",
              "      <td>PP 9549</td>\n",
              "      <td>16.7000</td>\n",
              "      <td>G6</td>\n",
              "      <td>S</td>\n",
              "    </tr>\n",
              "    <tr>\n",
              "      <th>11</th>\n",
              "      <td>12</td>\n",
              "      <td>1</td>\n",
              "      <td>1</td>\n",
              "      <td>Bonnell, Miss. Elizabeth</td>\n",
              "      <td>female</td>\n",
              "      <td>58.0</td>\n",
              "      <td>0</td>\n",
              "      <td>0</td>\n",
              "      <td>113783</td>\n",
              "      <td>26.5500</td>\n",
              "      <td>C103</td>\n",
              "      <td>S</td>\n",
              "    </tr>\n",
              "    <tr>\n",
              "      <th>12</th>\n",
              "      <td>13</td>\n",
              "      <td>0</td>\n",
              "      <td>3</td>\n",
              "      <td>Saundercock, Mr. William Henry</td>\n",
              "      <td>male</td>\n",
              "      <td>20.0</td>\n",
              "      <td>0</td>\n",
              "      <td>0</td>\n",
              "      <td>A/5. 2151</td>\n",
              "      <td>8.0500</td>\n",
              "      <td>NaN</td>\n",
              "      <td>S</td>\n",
              "    </tr>\n",
              "    <tr>\n",
              "      <th>13</th>\n",
              "      <td>14</td>\n",
              "      <td>0</td>\n",
              "      <td>3</td>\n",
              "      <td>Andersson, Mr. Anders Johan</td>\n",
              "      <td>male</td>\n",
              "      <td>39.0</td>\n",
              "      <td>1</td>\n",
              "      <td>5</td>\n",
              "      <td>347082</td>\n",
              "      <td>31.2750</td>\n",
              "      <td>NaN</td>\n",
              "      <td>S</td>\n",
              "    </tr>\n",
              "    <tr>\n",
              "      <th>14</th>\n",
              "      <td>15</td>\n",
              "      <td>0</td>\n",
              "      <td>3</td>\n",
              "      <td>Vestrom, Miss. Hulda Amanda Adolfina</td>\n",
              "      <td>female</td>\n",
              "      <td>14.0</td>\n",
              "      <td>0</td>\n",
              "      <td>0</td>\n",
              "      <td>350406</td>\n",
              "      <td>7.8542</td>\n",
              "      <td>NaN</td>\n",
              "      <td>S</td>\n",
              "    </tr>\n",
              "    <tr>\n",
              "      <th>15</th>\n",
              "      <td>16</td>\n",
              "      <td>1</td>\n",
              "      <td>2</td>\n",
              "      <td>Hewlett, Mrs. (Mary D Kingcome)</td>\n",
              "      <td>female</td>\n",
              "      <td>55.0</td>\n",
              "      <td>0</td>\n",
              "      <td>0</td>\n",
              "      <td>248706</td>\n",
              "      <td>16.0000</td>\n",
              "      <td>NaN</td>\n",
              "      <td>S</td>\n",
              "    </tr>\n",
              "    <tr>\n",
              "      <th>16</th>\n",
              "      <td>17</td>\n",
              "      <td>0</td>\n",
              "      <td>3</td>\n",
              "      <td>Rice, Master. Eugene</td>\n",
              "      <td>male</td>\n",
              "      <td>2.0</td>\n",
              "      <td>4</td>\n",
              "      <td>1</td>\n",
              "      <td>382652</td>\n",
              "      <td>29.1250</td>\n",
              "      <td>NaN</td>\n",
              "      <td>Q</td>\n",
              "    </tr>\n",
              "    <tr>\n",
              "      <th>17</th>\n",
              "      <td>18</td>\n",
              "      <td>1</td>\n",
              "      <td>2</td>\n",
              "      <td>Williams, Mr. Charles Eugene</td>\n",
              "      <td>male</td>\n",
              "      <td>NaN</td>\n",
              "      <td>0</td>\n",
              "      <td>0</td>\n",
              "      <td>244373</td>\n",
              "      <td>13.0000</td>\n",
              "      <td>NaN</td>\n",
              "      <td>S</td>\n",
              "    </tr>\n",
              "    <tr>\n",
              "      <th>18</th>\n",
              "      <td>19</td>\n",
              "      <td>0</td>\n",
              "      <td>3</td>\n",
              "      <td>Vander Planke, Mrs. Julius (Emelia Maria Vande...</td>\n",
              "      <td>female</td>\n",
              "      <td>31.0</td>\n",
              "      <td>1</td>\n",
              "      <td>0</td>\n",
              "      <td>345763</td>\n",
              "      <td>18.0000</td>\n",
              "      <td>NaN</td>\n",
              "      <td>S</td>\n",
              "    </tr>\n",
              "    <tr>\n",
              "      <th>19</th>\n",
              "      <td>20</td>\n",
              "      <td>1</td>\n",
              "      <td>3</td>\n",
              "      <td>Masselmani, Mrs. Fatima</td>\n",
              "      <td>female</td>\n",
              "      <td>NaN</td>\n",
              "      <td>0</td>\n",
              "      <td>0</td>\n",
              "      <td>2649</td>\n",
              "      <td>7.2250</td>\n",
              "      <td>NaN</td>\n",
              "      <td>C</td>\n",
              "    </tr>\n",
              "  </tbody>\n",
              "</table>\n",
              "</div>\n",
              "      <button class=\"colab-df-convert\" onclick=\"convertToInteractive('df-20bc9c91-a3b6-4fcb-bba1-a1746e582837')\"\n",
              "              title=\"Convert this dataframe to an interactive table.\"\n",
              "              style=\"display:none;\">\n",
              "        \n",
              "  <svg xmlns=\"http://www.w3.org/2000/svg\" height=\"24px\"viewBox=\"0 0 24 24\"\n",
              "       width=\"24px\">\n",
              "    <path d=\"M0 0h24v24H0V0z\" fill=\"none\"/>\n",
              "    <path d=\"M18.56 5.44l.94 2.06.94-2.06 2.06-.94-2.06-.94-.94-2.06-.94 2.06-2.06.94zm-11 1L8.5 8.5l.94-2.06 2.06-.94-2.06-.94L8.5 2.5l-.94 2.06-2.06.94zm10 10l.94 2.06.94-2.06 2.06-.94-2.06-.94-.94-2.06-.94 2.06-2.06.94z\"/><path d=\"M17.41 7.96l-1.37-1.37c-.4-.4-.92-.59-1.43-.59-.52 0-1.04.2-1.43.59L10.3 9.45l-7.72 7.72c-.78.78-.78 2.05 0 2.83L4 21.41c.39.39.9.59 1.41.59.51 0 1.02-.2 1.41-.59l7.78-7.78 2.81-2.81c.8-.78.8-2.07 0-2.86zM5.41 20L4 18.59l7.72-7.72 1.47 1.35L5.41 20z\"/>\n",
              "  </svg>\n",
              "      </button>\n",
              "      \n",
              "  <style>\n",
              "    .colab-df-container {\n",
              "      display:flex;\n",
              "      flex-wrap:wrap;\n",
              "      gap: 12px;\n",
              "    }\n",
              "\n",
              "    .colab-df-convert {\n",
              "      background-color: #E8F0FE;\n",
              "      border: none;\n",
              "      border-radius: 50%;\n",
              "      cursor: pointer;\n",
              "      display: none;\n",
              "      fill: #1967D2;\n",
              "      height: 32px;\n",
              "      padding: 0 0 0 0;\n",
              "      width: 32px;\n",
              "    }\n",
              "\n",
              "    .colab-df-convert:hover {\n",
              "      background-color: #E2EBFA;\n",
              "      box-shadow: 0px 1px 2px rgba(60, 64, 67, 0.3), 0px 1px 3px 1px rgba(60, 64, 67, 0.15);\n",
              "      fill: #174EA6;\n",
              "    }\n",
              "\n",
              "    [theme=dark] .colab-df-convert {\n",
              "      background-color: #3B4455;\n",
              "      fill: #D2E3FC;\n",
              "    }\n",
              "\n",
              "    [theme=dark] .colab-df-convert:hover {\n",
              "      background-color: #434B5C;\n",
              "      box-shadow: 0px 1px 3px 1px rgba(0, 0, 0, 0.15);\n",
              "      filter: drop-shadow(0px 1px 2px rgba(0, 0, 0, 0.3));\n",
              "      fill: #FFFFFF;\n",
              "    }\n",
              "  </style>\n",
              "\n",
              "      <script>\n",
              "        const buttonEl =\n",
              "          document.querySelector('#df-20bc9c91-a3b6-4fcb-bba1-a1746e582837 button.colab-df-convert');\n",
              "        buttonEl.style.display =\n",
              "          google.colab.kernel.accessAllowed ? 'block' : 'none';\n",
              "\n",
              "        async function convertToInteractive(key) {\n",
              "          const element = document.querySelector('#df-20bc9c91-a3b6-4fcb-bba1-a1746e582837');\n",
              "          const dataTable =\n",
              "            await google.colab.kernel.invokeFunction('convertToInteractive',\n",
              "                                                     [key], {});\n",
              "          if (!dataTable) return;\n",
              "\n",
              "          const docLinkHtml = 'Like what you see? Visit the ' +\n",
              "            '<a target=\"_blank\" href=https://colab.research.google.com/notebooks/data_table.ipynb>data table notebook</a>'\n",
              "            + ' to learn more about interactive tables.';\n",
              "          element.innerHTML = '';\n",
              "          dataTable['output_type'] = 'display_data';\n",
              "          await google.colab.output.renderOutput(dataTable, element);\n",
              "          const docLink = document.createElement('div');\n",
              "          docLink.innerHTML = docLinkHtml;\n",
              "          element.appendChild(docLink);\n",
              "        }\n",
              "      </script>\n",
              "    </div>\n",
              "  </div>\n",
              "  "
            ]
          },
          "metadata": {},
          "execution_count": 4
        }
      ],
      "source": [
        "data.head(20) #แสดง 20 บรรทัดแรกของข้อมูล"
      ]
    },
    {
      "cell_type": "code",
      "execution_count": null,
      "metadata": {
        "colab": {
          "base_uri": "https://localhost:8080/"
        },
        "id": "hO33vud-ZCXu",
        "outputId": "47370296-58aa-41f0-f4f9-79ff72265ba7"
      },
      "outputs": [
        {
          "output_type": "execute_result",
          "data": {
            "text/plain": [
              "(891, 12)"
            ]
          },
          "metadata": {},
          "execution_count": 5
        }
      ],
      "source": [
        "data.shape # แสดง shape ของข้อมูลมีทั้งหมด 891 แถว 12 คอลัมน์"
      ]
    },
    {
      "cell_type": "code",
      "execution_count": null,
      "metadata": {
        "colab": {
          "base_uri": "https://localhost:8080/"
        },
        "id": "viYGazmLZP1N",
        "outputId": "25150626-e9c6-4212-94fe-a7209ebe86d9"
      },
      "outputs": [
        {
          "output_type": "stream",
          "name": "stdout",
          "text": [
            "<class 'pandas.core.frame.DataFrame'>\n",
            "RangeIndex: 891 entries, 0 to 890\n",
            "Data columns (total 12 columns):\n",
            " #   Column       Non-Null Count  Dtype  \n",
            "---  ------       --------------  -----  \n",
            " 0   PassengerId  891 non-null    int64  \n",
            " 1   Survived     891 non-null    int64  \n",
            " 2   Pclass       891 non-null    int64  \n",
            " 3   Name         891 non-null    object \n",
            " 4   Sex          891 non-null    object \n",
            " 5   Age          714 non-null    float64\n",
            " 6   SibSp        891 non-null    int64  \n",
            " 7   Parch        891 non-null    int64  \n",
            " 8   Ticket       891 non-null    object \n",
            " 9   Fare         891 non-null    float64\n",
            " 10  Cabin        204 non-null    object \n",
            " 11  Embarked     889 non-null    object \n",
            "dtypes: float64(2), int64(5), object(5)\n",
            "memory usage: 83.7+ KB\n"
          ]
        }
      ],
      "source": [
        "data.info() #แสดง information ของข้อมูล"
      ]
    },
    {
      "cell_type": "markdown",
      "source": [
        "จาก .info() ด้านบนจะเห็นว่ามีบางคอลัมน์ที่มีข้อมูลไม่ครบ 891 แถว เช่น Age, Cabin และยังแสดงให้เห็น type ของแต่ละคอลัมน์"
      ],
      "metadata": {
        "id": "PU0wgQ31Wa2P"
      }
    },
    {
      "cell_type": "code",
      "execution_count": null,
      "metadata": {
        "colab": {
          "base_uri": "https://localhost:8080/",
          "height": 300
        },
        "id": "f2E0hpVjZFcJ",
        "outputId": "22c81a55-d4a6-467a-c9c2-e16067ddc316"
      },
      "outputs": [
        {
          "output_type": "execute_result",
          "data": {
            "text/plain": [
              "       PassengerId    Survived      Pclass         Age       SibSp  \\\n",
              "count   891.000000  891.000000  891.000000  714.000000  891.000000   \n",
              "mean    446.000000    0.383838    2.308642   29.699118    0.523008   \n",
              "std     257.353842    0.486592    0.836071   14.526497    1.102743   \n",
              "min       1.000000    0.000000    1.000000    0.420000    0.000000   \n",
              "25%     223.500000    0.000000    2.000000   20.125000    0.000000   \n",
              "50%     446.000000    0.000000    3.000000   28.000000    0.000000   \n",
              "75%     668.500000    1.000000    3.000000   38.000000    1.000000   \n",
              "max     891.000000    1.000000    3.000000   80.000000    8.000000   \n",
              "\n",
              "            Parch        Fare  \n",
              "count  891.000000  891.000000  \n",
              "mean     0.381594   32.204208  \n",
              "std      0.806057   49.693429  \n",
              "min      0.000000    0.000000  \n",
              "25%      0.000000    7.910400  \n",
              "50%      0.000000   14.454200  \n",
              "75%      0.000000   31.000000  \n",
              "max      6.000000  512.329200  "
            ],
            "text/html": [
              "\n",
              "  <div id=\"df-fcd07dbc-0c02-4b86-a74e-7c5b86afda27\">\n",
              "    <div class=\"colab-df-container\">\n",
              "      <div>\n",
              "<style scoped>\n",
              "    .dataframe tbody tr th:only-of-type {\n",
              "        vertical-align: middle;\n",
              "    }\n",
              "\n",
              "    .dataframe tbody tr th {\n",
              "        vertical-align: top;\n",
              "    }\n",
              "\n",
              "    .dataframe thead th {\n",
              "        text-align: right;\n",
              "    }\n",
              "</style>\n",
              "<table border=\"1\" class=\"dataframe\">\n",
              "  <thead>\n",
              "    <tr style=\"text-align: right;\">\n",
              "      <th></th>\n",
              "      <th>PassengerId</th>\n",
              "      <th>Survived</th>\n",
              "      <th>Pclass</th>\n",
              "      <th>Age</th>\n",
              "      <th>SibSp</th>\n",
              "      <th>Parch</th>\n",
              "      <th>Fare</th>\n",
              "    </tr>\n",
              "  </thead>\n",
              "  <tbody>\n",
              "    <tr>\n",
              "      <th>count</th>\n",
              "      <td>891.000000</td>\n",
              "      <td>891.000000</td>\n",
              "      <td>891.000000</td>\n",
              "      <td>714.000000</td>\n",
              "      <td>891.000000</td>\n",
              "      <td>891.000000</td>\n",
              "      <td>891.000000</td>\n",
              "    </tr>\n",
              "    <tr>\n",
              "      <th>mean</th>\n",
              "      <td>446.000000</td>\n",
              "      <td>0.383838</td>\n",
              "      <td>2.308642</td>\n",
              "      <td>29.699118</td>\n",
              "      <td>0.523008</td>\n",
              "      <td>0.381594</td>\n",
              "      <td>32.204208</td>\n",
              "    </tr>\n",
              "    <tr>\n",
              "      <th>std</th>\n",
              "      <td>257.353842</td>\n",
              "      <td>0.486592</td>\n",
              "      <td>0.836071</td>\n",
              "      <td>14.526497</td>\n",
              "      <td>1.102743</td>\n",
              "      <td>0.806057</td>\n",
              "      <td>49.693429</td>\n",
              "    </tr>\n",
              "    <tr>\n",
              "      <th>min</th>\n",
              "      <td>1.000000</td>\n",
              "      <td>0.000000</td>\n",
              "      <td>1.000000</td>\n",
              "      <td>0.420000</td>\n",
              "      <td>0.000000</td>\n",
              "      <td>0.000000</td>\n",
              "      <td>0.000000</td>\n",
              "    </tr>\n",
              "    <tr>\n",
              "      <th>25%</th>\n",
              "      <td>223.500000</td>\n",
              "      <td>0.000000</td>\n",
              "      <td>2.000000</td>\n",
              "      <td>20.125000</td>\n",
              "      <td>0.000000</td>\n",
              "      <td>0.000000</td>\n",
              "      <td>7.910400</td>\n",
              "    </tr>\n",
              "    <tr>\n",
              "      <th>50%</th>\n",
              "      <td>446.000000</td>\n",
              "      <td>0.000000</td>\n",
              "      <td>3.000000</td>\n",
              "      <td>28.000000</td>\n",
              "      <td>0.000000</td>\n",
              "      <td>0.000000</td>\n",
              "      <td>14.454200</td>\n",
              "    </tr>\n",
              "    <tr>\n",
              "      <th>75%</th>\n",
              "      <td>668.500000</td>\n",
              "      <td>1.000000</td>\n",
              "      <td>3.000000</td>\n",
              "      <td>38.000000</td>\n",
              "      <td>1.000000</td>\n",
              "      <td>0.000000</td>\n",
              "      <td>31.000000</td>\n",
              "    </tr>\n",
              "    <tr>\n",
              "      <th>max</th>\n",
              "      <td>891.000000</td>\n",
              "      <td>1.000000</td>\n",
              "      <td>3.000000</td>\n",
              "      <td>80.000000</td>\n",
              "      <td>8.000000</td>\n",
              "      <td>6.000000</td>\n",
              "      <td>512.329200</td>\n",
              "    </tr>\n",
              "  </tbody>\n",
              "</table>\n",
              "</div>\n",
              "      <button class=\"colab-df-convert\" onclick=\"convertToInteractive('df-fcd07dbc-0c02-4b86-a74e-7c5b86afda27')\"\n",
              "              title=\"Convert this dataframe to an interactive table.\"\n",
              "              style=\"display:none;\">\n",
              "        \n",
              "  <svg xmlns=\"http://www.w3.org/2000/svg\" height=\"24px\"viewBox=\"0 0 24 24\"\n",
              "       width=\"24px\">\n",
              "    <path d=\"M0 0h24v24H0V0z\" fill=\"none\"/>\n",
              "    <path d=\"M18.56 5.44l.94 2.06.94-2.06 2.06-.94-2.06-.94-.94-2.06-.94 2.06-2.06.94zm-11 1L8.5 8.5l.94-2.06 2.06-.94-2.06-.94L8.5 2.5l-.94 2.06-2.06.94zm10 10l.94 2.06.94-2.06 2.06-.94-2.06-.94-.94-2.06-.94 2.06-2.06.94z\"/><path d=\"M17.41 7.96l-1.37-1.37c-.4-.4-.92-.59-1.43-.59-.52 0-1.04.2-1.43.59L10.3 9.45l-7.72 7.72c-.78.78-.78 2.05 0 2.83L4 21.41c.39.39.9.59 1.41.59.51 0 1.02-.2 1.41-.59l7.78-7.78 2.81-2.81c.8-.78.8-2.07 0-2.86zM5.41 20L4 18.59l7.72-7.72 1.47 1.35L5.41 20z\"/>\n",
              "  </svg>\n",
              "      </button>\n",
              "      \n",
              "  <style>\n",
              "    .colab-df-container {\n",
              "      display:flex;\n",
              "      flex-wrap:wrap;\n",
              "      gap: 12px;\n",
              "    }\n",
              "\n",
              "    .colab-df-convert {\n",
              "      background-color: #E8F0FE;\n",
              "      border: none;\n",
              "      border-radius: 50%;\n",
              "      cursor: pointer;\n",
              "      display: none;\n",
              "      fill: #1967D2;\n",
              "      height: 32px;\n",
              "      padding: 0 0 0 0;\n",
              "      width: 32px;\n",
              "    }\n",
              "\n",
              "    .colab-df-convert:hover {\n",
              "      background-color: #E2EBFA;\n",
              "      box-shadow: 0px 1px 2px rgba(60, 64, 67, 0.3), 0px 1px 3px 1px rgba(60, 64, 67, 0.15);\n",
              "      fill: #174EA6;\n",
              "    }\n",
              "\n",
              "    [theme=dark] .colab-df-convert {\n",
              "      background-color: #3B4455;\n",
              "      fill: #D2E3FC;\n",
              "    }\n",
              "\n",
              "    [theme=dark] .colab-df-convert:hover {\n",
              "      background-color: #434B5C;\n",
              "      box-shadow: 0px 1px 3px 1px rgba(0, 0, 0, 0.15);\n",
              "      filter: drop-shadow(0px 1px 2px rgba(0, 0, 0, 0.3));\n",
              "      fill: #FFFFFF;\n",
              "    }\n",
              "  </style>\n",
              "\n",
              "      <script>\n",
              "        const buttonEl =\n",
              "          document.querySelector('#df-fcd07dbc-0c02-4b86-a74e-7c5b86afda27 button.colab-df-convert');\n",
              "        buttonEl.style.display =\n",
              "          google.colab.kernel.accessAllowed ? 'block' : 'none';\n",
              "\n",
              "        async function convertToInteractive(key) {\n",
              "          const element = document.querySelector('#df-fcd07dbc-0c02-4b86-a74e-7c5b86afda27');\n",
              "          const dataTable =\n",
              "            await google.colab.kernel.invokeFunction('convertToInteractive',\n",
              "                                                     [key], {});\n",
              "          if (!dataTable) return;\n",
              "\n",
              "          const docLinkHtml = 'Like what you see? Visit the ' +\n",
              "            '<a target=\"_blank\" href=https://colab.research.google.com/notebooks/data_table.ipynb>data table notebook</a>'\n",
              "            + ' to learn more about interactive tables.';\n",
              "          element.innerHTML = '';\n",
              "          dataTable['output_type'] = 'display_data';\n",
              "          await google.colab.output.renderOutput(dataTable, element);\n",
              "          const docLink = document.createElement('div');\n",
              "          docLink.innerHTML = docLinkHtml;\n",
              "          element.appendChild(docLink);\n",
              "        }\n",
              "      </script>\n",
              "    </div>\n",
              "  </div>\n",
              "  "
            ]
          },
          "metadata": {},
          "execution_count": 7
        }
      ],
      "source": [
        "data.describe() #เช็คค่าทางสถิติต่างๆของ dataset"
      ]
    },
    {
      "cell_type": "code",
      "execution_count": null,
      "metadata": {
        "colab": {
          "base_uri": "https://localhost:8080/"
        },
        "id": "F7f4f5RDoeK8",
        "outputId": "9924558d-deee-4724-fb6e-0c91296c2290"
      },
      "outputs": [
        {
          "output_type": "execute_result",
          "data": {
            "text/plain": [
              "PassengerId      0\n",
              "Survived         0\n",
              "Pclass           0\n",
              "Name             0\n",
              "Sex              0\n",
              "Age            177\n",
              "SibSp            0\n",
              "Parch            0\n",
              "Ticket           0\n",
              "Fare             0\n",
              "Cabin          687\n",
              "Embarked         2\n",
              "dtype: int64"
            ]
          },
          "metadata": {},
          "execution_count": 8
        }
      ],
      "source": [
        "data.isna().sum() #ตรวจสอบ missing value ใน dataset"
      ]
    },
    {
      "cell_type": "markdown",
      "source": [
        "จากผลลัพธ์ด้านบนแสดงให้เห็นว่าคอลัมน์ cabin มี misiing value ถึง 687 และ Age มี 177 และ Embarked มี 2 ตัวที่เป็น missing value "
      ],
      "metadata": {
        "id": "WviHIKxxAjwB"
      }
    },
    {
      "cell_type": "markdown",
      "metadata": {
        "id": "El8-PqKDg4kP"
      },
      "source": [
        "# Feature Engineering\n",
        "\n"
      ]
    },
    {
      "cell_type": "markdown",
      "source": [
        "Round the values at age column\n",
        "\n",
        "จากข้อมูลทางสถิติจะเห็นว่าอายุที่น้อยที่สุดของชุดข้อมูลนี้อยู่ที่ 0.42 จึงลองเช็คค่าดูว่าผลลัพธ์ของคอลัมน์อายุนั้นเป็นแบบไหน"
      ],
      "metadata": {
        "id": "41nzcTfXA7JC"
      }
    },
    {
      "cell_type": "code",
      "source": [
        "data[\"Age\"].value_counts().sort_index()[:20]"
      ],
      "metadata": {
        "colab": {
          "base_uri": "https://localhost:8080/"
        },
        "id": "WeYB2704XvXD",
        "outputId": "5c4f6e3a-4458-40f6-8e30-716e1b099d37"
      },
      "execution_count": null,
      "outputs": [
        {
          "output_type": "execute_result",
          "data": {
            "text/plain": [
              "0.42      1\n",
              "0.67      1\n",
              "0.75      2\n",
              "0.83      2\n",
              "0.92      1\n",
              "1.00      7\n",
              "2.00     10\n",
              "3.00      6\n",
              "4.00     10\n",
              "5.00      4\n",
              "6.00      3\n",
              "7.00      3\n",
              "8.00      4\n",
              "9.00      8\n",
              "10.00     2\n",
              "11.00     4\n",
              "12.00     1\n",
              "13.00     2\n",
              "14.00     6\n",
              "14.50     1\n",
              "15.00     5\n",
              "16.00    17\n",
              "17.00    13\n",
              "18.00    26\n",
              "19.00    25\n",
              "20.00    15\n",
              "Name: Age, dtype: int64"
            ]
          },
          "metadata": {},
          "execution_count": 9
        }
      ]
    },
    {
      "cell_type": "markdown",
      "source": [
        "จะเห็นได้ว่าเมื่อข้อมูลมีอายุมากกว่า 1 จะเป็นลักษณะเลขจำนวนเต็ม กับ .5 จึงทำการปัดเศษให้เป็นเลขจำนวนเต็มทั้งหมด"
      ],
      "metadata": {
        "id": "7i8M7ft6BiHO"
      }
    },
    {
      "cell_type": "code",
      "source": [
        "data[\"Age\"] = data[\"Age\"].apply(np.ceil) #np.ceil จะปัดเศษขึ้นตลอด "
      ],
      "metadata": {
        "id": "0zVu2gK5ZUu3"
      },
      "execution_count": null,
      "outputs": []
    },
    {
      "cell_type": "code",
      "source": [
        "data[\"Age\"].value_counts().sort_index()[:20] # ผลลัพธ์หลังจากใช้ np.ceil จะเห็นเป็นเลขจำนวนเต็มทั้งหมด"
      ],
      "metadata": {
        "colab": {
          "base_uri": "https://localhost:8080/"
        },
        "id": "VYuSwx2_cQH8",
        "outputId": "8da9b8a4-7a4e-4783-f7f5-4a6d0b5059c1"
      },
      "execution_count": null,
      "outputs": [
        {
          "output_type": "execute_result",
          "data": {
            "text/plain": [
              "1.0     14\n",
              "2.0     10\n",
              "3.0      6\n",
              "4.0     10\n",
              "5.0      4\n",
              "6.0      3\n",
              "7.0      3\n",
              "8.0      4\n",
              "9.0      8\n",
              "10.0     2\n",
              "11.0     4\n",
              "12.0     1\n",
              "13.0     2\n",
              "14.0     6\n",
              "15.0     6\n",
              "16.0    17\n",
              "17.0    13\n",
              "18.0    26\n",
              "19.0    25\n",
              "20.0    15\n",
              "Name: Age, dtype: int64"
            ]
          },
          "metadata": {},
          "execution_count": 11
        }
      ]
    },
    {
      "cell_type": "markdown",
      "source": [
        "ขั้นตอน feature engineer ต่อจากนี้จะถูกอ้างอิงมาจากลิ้งที่ได้แนบมา"
      ],
      "metadata": {
        "id": "aeNIz_aaC792"
      }
    },
    {
      "cell_type": "markdown",
      "metadata": {
        "id": "MVy5tlbWijb7"
      },
      "source": [
        "## Titles\n",
        "\n"
      ]
    },
    {
      "cell_type": "markdown",
      "source": [
        "ในคอลัมน์ name จะสกัดเอาคำนำหน้าชื่อมาใช้ในการทำโมเดล โดยจะมีทั้ง Mrs., Miss, Mrและ Master มาไว้คอลัมน์ใหม่"
      ],
      "metadata": {
        "id": "ucCEtCWlDSku"
      }
    },
    {
      "cell_type": "code",
      "execution_count": null,
      "metadata": {
        "id": "1Org-7aUg8Tr"
      },
      "outputs": [],
      "source": [
        "def substrings_in_string(big_string, substrings): #สร้างฟังก์ชั่นเพื่อตรวจเช็ค string ในคอลัมน์ name\n",
        "    for substring in substrings:\n",
        "        if str.find(big_string, substring) != -1:\n",
        "            return substring\n",
        "    return np.nan"
      ]
    },
    {
      "cell_type": "code",
      "execution_count": null,
      "metadata": {
        "id": "AHjdK6irhK6p"
      },
      "outputs": [],
      "source": [
        "title_list=['Mrs', 'Mr', 'Master', 'Miss', 'Major', 'Rev',\n",
        "                    'Dr', 'Ms', 'Mlle','Col', 'Capt', 'Mme', 'Countess',\n",
        "                    'Don', 'Jonkheer'] # list คำนำหน้าชื่อ"
      ]
    },
    {
      "cell_type": "code",
      "execution_count": null,
      "metadata": {
        "id": "G5um85pphMAi"
      },
      "outputs": [],
      "source": [
        "data['Title']=data['Name'].map(lambda x: substrings_in_string(x, title_list)) "
      ]
    },
    {
      "cell_type": "code",
      "execution_count": null,
      "metadata": {
        "colab": {
          "base_uri": "https://localhost:8080/",
          "height": 206
        },
        "id": "yIs-zP9XibAo",
        "outputId": "cf6b110c-9748-4c27-968c-4682e36ddd47"
      },
      "outputs": [
        {
          "output_type": "execute_result",
          "data": {
            "text/plain": [
              "   PassengerId  Survived  Pclass  \\\n",
              "0            1         0       3   \n",
              "1            2         1       1   \n",
              "2            3         1       3   \n",
              "3            4         1       1   \n",
              "4            5         0       3   \n",
              "\n",
              "                                                Name     Sex   Age  SibSp  \\\n",
              "0                            Braund, Mr. Owen Harris    male  22.0      1   \n",
              "1  Cumings, Mrs. John Bradley (Florence Briggs Th...  female  38.0      1   \n",
              "2                             Heikkinen, Miss. Laina  female  26.0      0   \n",
              "3       Futrelle, Mrs. Jacques Heath (Lily May Peel)  female  35.0      1   \n",
              "4                           Allen, Mr. William Henry    male  35.0      0   \n",
              "\n",
              "   Parch            Ticket     Fare Cabin Embarked Title  \n",
              "0      0         A/5 21171   7.2500   NaN        S    Mr  \n",
              "1      0          PC 17599  71.2833   C85        C   Mrs  \n",
              "2      0  STON/O2. 3101282   7.9250   NaN        S  Miss  \n",
              "3      0            113803  53.1000  C123        S   Mrs  \n",
              "4      0            373450   8.0500   NaN        S    Mr  "
            ],
            "text/html": [
              "\n",
              "  <div id=\"df-110170e1-a5fd-4519-aa79-2708e0a25327\">\n",
              "    <div class=\"colab-df-container\">\n",
              "      <div>\n",
              "<style scoped>\n",
              "    .dataframe tbody tr th:only-of-type {\n",
              "        vertical-align: middle;\n",
              "    }\n",
              "\n",
              "    .dataframe tbody tr th {\n",
              "        vertical-align: top;\n",
              "    }\n",
              "\n",
              "    .dataframe thead th {\n",
              "        text-align: right;\n",
              "    }\n",
              "</style>\n",
              "<table border=\"1\" class=\"dataframe\">\n",
              "  <thead>\n",
              "    <tr style=\"text-align: right;\">\n",
              "      <th></th>\n",
              "      <th>PassengerId</th>\n",
              "      <th>Survived</th>\n",
              "      <th>Pclass</th>\n",
              "      <th>Name</th>\n",
              "      <th>Sex</th>\n",
              "      <th>Age</th>\n",
              "      <th>SibSp</th>\n",
              "      <th>Parch</th>\n",
              "      <th>Ticket</th>\n",
              "      <th>Fare</th>\n",
              "      <th>Cabin</th>\n",
              "      <th>Embarked</th>\n",
              "      <th>Title</th>\n",
              "    </tr>\n",
              "  </thead>\n",
              "  <tbody>\n",
              "    <tr>\n",
              "      <th>0</th>\n",
              "      <td>1</td>\n",
              "      <td>0</td>\n",
              "      <td>3</td>\n",
              "      <td>Braund, Mr. Owen Harris</td>\n",
              "      <td>male</td>\n",
              "      <td>22.0</td>\n",
              "      <td>1</td>\n",
              "      <td>0</td>\n",
              "      <td>A/5 21171</td>\n",
              "      <td>7.2500</td>\n",
              "      <td>NaN</td>\n",
              "      <td>S</td>\n",
              "      <td>Mr</td>\n",
              "    </tr>\n",
              "    <tr>\n",
              "      <th>1</th>\n",
              "      <td>2</td>\n",
              "      <td>1</td>\n",
              "      <td>1</td>\n",
              "      <td>Cumings, Mrs. John Bradley (Florence Briggs Th...</td>\n",
              "      <td>female</td>\n",
              "      <td>38.0</td>\n",
              "      <td>1</td>\n",
              "      <td>0</td>\n",
              "      <td>PC 17599</td>\n",
              "      <td>71.2833</td>\n",
              "      <td>C85</td>\n",
              "      <td>C</td>\n",
              "      <td>Mrs</td>\n",
              "    </tr>\n",
              "    <tr>\n",
              "      <th>2</th>\n",
              "      <td>3</td>\n",
              "      <td>1</td>\n",
              "      <td>3</td>\n",
              "      <td>Heikkinen, Miss. Laina</td>\n",
              "      <td>female</td>\n",
              "      <td>26.0</td>\n",
              "      <td>0</td>\n",
              "      <td>0</td>\n",
              "      <td>STON/O2. 3101282</td>\n",
              "      <td>7.9250</td>\n",
              "      <td>NaN</td>\n",
              "      <td>S</td>\n",
              "      <td>Miss</td>\n",
              "    </tr>\n",
              "    <tr>\n",
              "      <th>3</th>\n",
              "      <td>4</td>\n",
              "      <td>1</td>\n",
              "      <td>1</td>\n",
              "      <td>Futrelle, Mrs. Jacques Heath (Lily May Peel)</td>\n",
              "      <td>female</td>\n",
              "      <td>35.0</td>\n",
              "      <td>1</td>\n",
              "      <td>0</td>\n",
              "      <td>113803</td>\n",
              "      <td>53.1000</td>\n",
              "      <td>C123</td>\n",
              "      <td>S</td>\n",
              "      <td>Mrs</td>\n",
              "    </tr>\n",
              "    <tr>\n",
              "      <th>4</th>\n",
              "      <td>5</td>\n",
              "      <td>0</td>\n",
              "      <td>3</td>\n",
              "      <td>Allen, Mr. William Henry</td>\n",
              "      <td>male</td>\n",
              "      <td>35.0</td>\n",
              "      <td>0</td>\n",
              "      <td>0</td>\n",
              "      <td>373450</td>\n",
              "      <td>8.0500</td>\n",
              "      <td>NaN</td>\n",
              "      <td>S</td>\n",
              "      <td>Mr</td>\n",
              "    </tr>\n",
              "  </tbody>\n",
              "</table>\n",
              "</div>\n",
              "      <button class=\"colab-df-convert\" onclick=\"convertToInteractive('df-110170e1-a5fd-4519-aa79-2708e0a25327')\"\n",
              "              title=\"Convert this dataframe to an interactive table.\"\n",
              "              style=\"display:none;\">\n",
              "        \n",
              "  <svg xmlns=\"http://www.w3.org/2000/svg\" height=\"24px\"viewBox=\"0 0 24 24\"\n",
              "       width=\"24px\">\n",
              "    <path d=\"M0 0h24v24H0V0z\" fill=\"none\"/>\n",
              "    <path d=\"M18.56 5.44l.94 2.06.94-2.06 2.06-.94-2.06-.94-.94-2.06-.94 2.06-2.06.94zm-11 1L8.5 8.5l.94-2.06 2.06-.94-2.06-.94L8.5 2.5l-.94 2.06-2.06.94zm10 10l.94 2.06.94-2.06 2.06-.94-2.06-.94-.94-2.06-.94 2.06-2.06.94z\"/><path d=\"M17.41 7.96l-1.37-1.37c-.4-.4-.92-.59-1.43-.59-.52 0-1.04.2-1.43.59L10.3 9.45l-7.72 7.72c-.78.78-.78 2.05 0 2.83L4 21.41c.39.39.9.59 1.41.59.51 0 1.02-.2 1.41-.59l7.78-7.78 2.81-2.81c.8-.78.8-2.07 0-2.86zM5.41 20L4 18.59l7.72-7.72 1.47 1.35L5.41 20z\"/>\n",
              "  </svg>\n",
              "      </button>\n",
              "      \n",
              "  <style>\n",
              "    .colab-df-container {\n",
              "      display:flex;\n",
              "      flex-wrap:wrap;\n",
              "      gap: 12px;\n",
              "    }\n",
              "\n",
              "    .colab-df-convert {\n",
              "      background-color: #E8F0FE;\n",
              "      border: none;\n",
              "      border-radius: 50%;\n",
              "      cursor: pointer;\n",
              "      display: none;\n",
              "      fill: #1967D2;\n",
              "      height: 32px;\n",
              "      padding: 0 0 0 0;\n",
              "      width: 32px;\n",
              "    }\n",
              "\n",
              "    .colab-df-convert:hover {\n",
              "      background-color: #E2EBFA;\n",
              "      box-shadow: 0px 1px 2px rgba(60, 64, 67, 0.3), 0px 1px 3px 1px rgba(60, 64, 67, 0.15);\n",
              "      fill: #174EA6;\n",
              "    }\n",
              "\n",
              "    [theme=dark] .colab-df-convert {\n",
              "      background-color: #3B4455;\n",
              "      fill: #D2E3FC;\n",
              "    }\n",
              "\n",
              "    [theme=dark] .colab-df-convert:hover {\n",
              "      background-color: #434B5C;\n",
              "      box-shadow: 0px 1px 3px 1px rgba(0, 0, 0, 0.15);\n",
              "      filter: drop-shadow(0px 1px 2px rgba(0, 0, 0, 0.3));\n",
              "      fill: #FFFFFF;\n",
              "    }\n",
              "  </style>\n",
              "\n",
              "      <script>\n",
              "        const buttonEl =\n",
              "          document.querySelector('#df-110170e1-a5fd-4519-aa79-2708e0a25327 button.colab-df-convert');\n",
              "        buttonEl.style.display =\n",
              "          google.colab.kernel.accessAllowed ? 'block' : 'none';\n",
              "\n",
              "        async function convertToInteractive(key) {\n",
              "          const element = document.querySelector('#df-110170e1-a5fd-4519-aa79-2708e0a25327');\n",
              "          const dataTable =\n",
              "            await google.colab.kernel.invokeFunction('convertToInteractive',\n",
              "                                                     [key], {});\n",
              "          if (!dataTable) return;\n",
              "\n",
              "          const docLinkHtml = 'Like what you see? Visit the ' +\n",
              "            '<a target=\"_blank\" href=https://colab.research.google.com/notebooks/data_table.ipynb>data table notebook</a>'\n",
              "            + ' to learn more about interactive tables.';\n",
              "          element.innerHTML = '';\n",
              "          dataTable['output_type'] = 'display_data';\n",
              "          await google.colab.output.renderOutput(dataTable, element);\n",
              "          const docLink = document.createElement('div');\n",
              "          docLink.innerHTML = docLinkHtml;\n",
              "          element.appendChild(docLink);\n",
              "        }\n",
              "      </script>\n",
              "    </div>\n",
              "  </div>\n",
              "  "
            ]
          },
          "metadata": {},
          "execution_count": 15
        }
      ],
      "source": [
        "data.head()"
      ]
    },
    {
      "cell_type": "code",
      "execution_count": null,
      "metadata": {
        "colab": {
          "base_uri": "https://localhost:8080/"
        },
        "id": "8xOnebbqi5qd",
        "outputId": "8a3d4e35-c68c-42f5-b1b4-3ce66cc598fb"
      },
      "outputs": [
        {
          "output_type": "execute_result",
          "data": {
            "text/plain": [
              "Mr          518\n",
              "Miss        180\n",
              "Mrs         129\n",
              "Master       40\n",
              "Dr            7\n",
              "Rev           6\n",
              "Major         2\n",
              "Col           2\n",
              "Don           1\n",
              "Mme           1\n",
              "Ms            1\n",
              "Mlle          1\n",
              "Capt          1\n",
              "Countess      1\n",
              "Jonkheer      1\n",
              "Name: Title, dtype: int64"
            ]
          },
          "metadata": {},
          "execution_count": 16
        }
      ],
      "source": [
        "data[\"Title\"].value_counts() #แสดงจำนวนผลลัพธ์ของคำนำหน้าชื่อ ที่ได้ทำการ filter "
      ]
    },
    {
      "cell_type": "markdown",
      "source": [
        "จะเห็นได้ว่าคำนำหน้าชื่อมีค่อนข้างที่จะหลากหลาย จึงทำการลดให้เหลือแค่ Mr, Mrs, Miss, Master ตามเงื่อนไขด้านล่าง"
      ],
      "metadata": {
        "id": "3xfIugWfE_W9"
      }
    },
    {
      "cell_type": "code",
      "execution_count": null,
      "metadata": {
        "id": "hLJQmilOiryR"
      },
      "outputs": [],
      "source": [
        "def replace_titles(x): #ฟังก์ชั่น replace ลกรูปคำนำหน้าชื่อ\n",
        "    title=x['Title']\n",
        "    if title in ['Don', 'Major', 'Capt', 'Jonkheer', 'Rev', 'Col']:\n",
        "        return 'Mr'\n",
        "    elif title in ['Countess', 'Mme']:\n",
        "        return 'Mrs'\n",
        "    elif title in ['Mlle', 'Ms']:\n",
        "        return 'Miss'\n",
        "    elif title =='Dr':\n",
        "        if x['Sex']=='Male':\n",
        "            return 'Mr'\n",
        "        else:\n",
        "            return 'Mrs'\n",
        "    else:\n",
        "        return title"
      ]
    },
    {
      "cell_type": "code",
      "execution_count": null,
      "metadata": {
        "id": "q7GIwyWJitCA"
      },
      "outputs": [],
      "source": [
        "data['Title']=data.apply(replace_titles, axis=1)"
      ]
    },
    {
      "cell_type": "code",
      "execution_count": null,
      "metadata": {
        "colab": {
          "base_uri": "https://localhost:8080/",
          "height": 206
        },
        "id": "S4sYzuFOizMG",
        "outputId": "88d53485-b437-4e34-ddc0-eed577c9e7fa"
      },
      "outputs": [
        {
          "output_type": "execute_result",
          "data": {
            "text/plain": [
              "   PassengerId  Survived  Pclass  \\\n",
              "0            1         0       3   \n",
              "1            2         1       1   \n",
              "2            3         1       3   \n",
              "3            4         1       1   \n",
              "4            5         0       3   \n",
              "\n",
              "                                                Name     Sex   Age  SibSp  \\\n",
              "0                            Braund, Mr. Owen Harris    male  22.0      1   \n",
              "1  Cumings, Mrs. John Bradley (Florence Briggs Th...  female  38.0      1   \n",
              "2                             Heikkinen, Miss. Laina  female  26.0      0   \n",
              "3       Futrelle, Mrs. Jacques Heath (Lily May Peel)  female  35.0      1   \n",
              "4                           Allen, Mr. William Henry    male  35.0      0   \n",
              "\n",
              "   Parch            Ticket     Fare Cabin Embarked Title  \n",
              "0      0         A/5 21171   7.2500   NaN        S    Mr  \n",
              "1      0          PC 17599  71.2833   C85        C   Mrs  \n",
              "2      0  STON/O2. 3101282   7.9250   NaN        S  Miss  \n",
              "3      0            113803  53.1000  C123        S   Mrs  \n",
              "4      0            373450   8.0500   NaN        S    Mr  "
            ],
            "text/html": [
              "\n",
              "  <div id=\"df-0296f198-b1cc-4e4c-a4db-f3b2c85732aa\">\n",
              "    <div class=\"colab-df-container\">\n",
              "      <div>\n",
              "<style scoped>\n",
              "    .dataframe tbody tr th:only-of-type {\n",
              "        vertical-align: middle;\n",
              "    }\n",
              "\n",
              "    .dataframe tbody tr th {\n",
              "        vertical-align: top;\n",
              "    }\n",
              "\n",
              "    .dataframe thead th {\n",
              "        text-align: right;\n",
              "    }\n",
              "</style>\n",
              "<table border=\"1\" class=\"dataframe\">\n",
              "  <thead>\n",
              "    <tr style=\"text-align: right;\">\n",
              "      <th></th>\n",
              "      <th>PassengerId</th>\n",
              "      <th>Survived</th>\n",
              "      <th>Pclass</th>\n",
              "      <th>Name</th>\n",
              "      <th>Sex</th>\n",
              "      <th>Age</th>\n",
              "      <th>SibSp</th>\n",
              "      <th>Parch</th>\n",
              "      <th>Ticket</th>\n",
              "      <th>Fare</th>\n",
              "      <th>Cabin</th>\n",
              "      <th>Embarked</th>\n",
              "      <th>Title</th>\n",
              "    </tr>\n",
              "  </thead>\n",
              "  <tbody>\n",
              "    <tr>\n",
              "      <th>0</th>\n",
              "      <td>1</td>\n",
              "      <td>0</td>\n",
              "      <td>3</td>\n",
              "      <td>Braund, Mr. Owen Harris</td>\n",
              "      <td>male</td>\n",
              "      <td>22.0</td>\n",
              "      <td>1</td>\n",
              "      <td>0</td>\n",
              "      <td>A/5 21171</td>\n",
              "      <td>7.2500</td>\n",
              "      <td>NaN</td>\n",
              "      <td>S</td>\n",
              "      <td>Mr</td>\n",
              "    </tr>\n",
              "    <tr>\n",
              "      <th>1</th>\n",
              "      <td>2</td>\n",
              "      <td>1</td>\n",
              "      <td>1</td>\n",
              "      <td>Cumings, Mrs. John Bradley (Florence Briggs Th...</td>\n",
              "      <td>female</td>\n",
              "      <td>38.0</td>\n",
              "      <td>1</td>\n",
              "      <td>0</td>\n",
              "      <td>PC 17599</td>\n",
              "      <td>71.2833</td>\n",
              "      <td>C85</td>\n",
              "      <td>C</td>\n",
              "      <td>Mrs</td>\n",
              "    </tr>\n",
              "    <tr>\n",
              "      <th>2</th>\n",
              "      <td>3</td>\n",
              "      <td>1</td>\n",
              "      <td>3</td>\n",
              "      <td>Heikkinen, Miss. Laina</td>\n",
              "      <td>female</td>\n",
              "      <td>26.0</td>\n",
              "      <td>0</td>\n",
              "      <td>0</td>\n",
              "      <td>STON/O2. 3101282</td>\n",
              "      <td>7.9250</td>\n",
              "      <td>NaN</td>\n",
              "      <td>S</td>\n",
              "      <td>Miss</td>\n",
              "    </tr>\n",
              "    <tr>\n",
              "      <th>3</th>\n",
              "      <td>4</td>\n",
              "      <td>1</td>\n",
              "      <td>1</td>\n",
              "      <td>Futrelle, Mrs. Jacques Heath (Lily May Peel)</td>\n",
              "      <td>female</td>\n",
              "      <td>35.0</td>\n",
              "      <td>1</td>\n",
              "      <td>0</td>\n",
              "      <td>113803</td>\n",
              "      <td>53.1000</td>\n",
              "      <td>C123</td>\n",
              "      <td>S</td>\n",
              "      <td>Mrs</td>\n",
              "    </tr>\n",
              "    <tr>\n",
              "      <th>4</th>\n",
              "      <td>5</td>\n",
              "      <td>0</td>\n",
              "      <td>3</td>\n",
              "      <td>Allen, Mr. William Henry</td>\n",
              "      <td>male</td>\n",
              "      <td>35.0</td>\n",
              "      <td>0</td>\n",
              "      <td>0</td>\n",
              "      <td>373450</td>\n",
              "      <td>8.0500</td>\n",
              "      <td>NaN</td>\n",
              "      <td>S</td>\n",
              "      <td>Mr</td>\n",
              "    </tr>\n",
              "  </tbody>\n",
              "</table>\n",
              "</div>\n",
              "      <button class=\"colab-df-convert\" onclick=\"convertToInteractive('df-0296f198-b1cc-4e4c-a4db-f3b2c85732aa')\"\n",
              "              title=\"Convert this dataframe to an interactive table.\"\n",
              "              style=\"display:none;\">\n",
              "        \n",
              "  <svg xmlns=\"http://www.w3.org/2000/svg\" height=\"24px\"viewBox=\"0 0 24 24\"\n",
              "       width=\"24px\">\n",
              "    <path d=\"M0 0h24v24H0V0z\" fill=\"none\"/>\n",
              "    <path d=\"M18.56 5.44l.94 2.06.94-2.06 2.06-.94-2.06-.94-.94-2.06-.94 2.06-2.06.94zm-11 1L8.5 8.5l.94-2.06 2.06-.94-2.06-.94L8.5 2.5l-.94 2.06-2.06.94zm10 10l.94 2.06.94-2.06 2.06-.94-2.06-.94-.94-2.06-.94 2.06-2.06.94z\"/><path d=\"M17.41 7.96l-1.37-1.37c-.4-.4-.92-.59-1.43-.59-.52 0-1.04.2-1.43.59L10.3 9.45l-7.72 7.72c-.78.78-.78 2.05 0 2.83L4 21.41c.39.39.9.59 1.41.59.51 0 1.02-.2 1.41-.59l7.78-7.78 2.81-2.81c.8-.78.8-2.07 0-2.86zM5.41 20L4 18.59l7.72-7.72 1.47 1.35L5.41 20z\"/>\n",
              "  </svg>\n",
              "      </button>\n",
              "      \n",
              "  <style>\n",
              "    .colab-df-container {\n",
              "      display:flex;\n",
              "      flex-wrap:wrap;\n",
              "      gap: 12px;\n",
              "    }\n",
              "\n",
              "    .colab-df-convert {\n",
              "      background-color: #E8F0FE;\n",
              "      border: none;\n",
              "      border-radius: 50%;\n",
              "      cursor: pointer;\n",
              "      display: none;\n",
              "      fill: #1967D2;\n",
              "      height: 32px;\n",
              "      padding: 0 0 0 0;\n",
              "      width: 32px;\n",
              "    }\n",
              "\n",
              "    .colab-df-convert:hover {\n",
              "      background-color: #E2EBFA;\n",
              "      box-shadow: 0px 1px 2px rgba(60, 64, 67, 0.3), 0px 1px 3px 1px rgba(60, 64, 67, 0.15);\n",
              "      fill: #174EA6;\n",
              "    }\n",
              "\n",
              "    [theme=dark] .colab-df-convert {\n",
              "      background-color: #3B4455;\n",
              "      fill: #D2E3FC;\n",
              "    }\n",
              "\n",
              "    [theme=dark] .colab-df-convert:hover {\n",
              "      background-color: #434B5C;\n",
              "      box-shadow: 0px 1px 3px 1px rgba(0, 0, 0, 0.15);\n",
              "      filter: drop-shadow(0px 1px 2px rgba(0, 0, 0, 0.3));\n",
              "      fill: #FFFFFF;\n",
              "    }\n",
              "  </style>\n",
              "\n",
              "      <script>\n",
              "        const buttonEl =\n",
              "          document.querySelector('#df-0296f198-b1cc-4e4c-a4db-f3b2c85732aa button.colab-df-convert');\n",
              "        buttonEl.style.display =\n",
              "          google.colab.kernel.accessAllowed ? 'block' : 'none';\n",
              "\n",
              "        async function convertToInteractive(key) {\n",
              "          const element = document.querySelector('#df-0296f198-b1cc-4e4c-a4db-f3b2c85732aa');\n",
              "          const dataTable =\n",
              "            await google.colab.kernel.invokeFunction('convertToInteractive',\n",
              "                                                     [key], {});\n",
              "          if (!dataTable) return;\n",
              "\n",
              "          const docLinkHtml = 'Like what you see? Visit the ' +\n",
              "            '<a target=\"_blank\" href=https://colab.research.google.com/notebooks/data_table.ipynb>data table notebook</a>'\n",
              "            + ' to learn more about interactive tables.';\n",
              "          element.innerHTML = '';\n",
              "          dataTable['output_type'] = 'display_data';\n",
              "          await google.colab.output.renderOutput(dataTable, element);\n",
              "          const docLink = document.createElement('div');\n",
              "          docLink.innerHTML = docLinkHtml;\n",
              "          element.appendChild(docLink);\n",
              "        }\n",
              "      </script>\n",
              "    </div>\n",
              "  </div>\n",
              "  "
            ]
          },
          "metadata": {},
          "execution_count": 19
        }
      ],
      "source": [
        "data.head()"
      ]
    },
    {
      "cell_type": "code",
      "execution_count": null,
      "metadata": {
        "colab": {
          "base_uri": "https://localhost:8080/"
        },
        "id": "5hCSF06Ki_Gm",
        "outputId": "1fabc622-0d8c-4c75-ce46-a9a08b2dcf0a"
      },
      "outputs": [
        {
          "output_type": "execute_result",
          "data": {
            "text/plain": [
              "Mr        531\n",
              "Miss      182\n",
              "Mrs       138\n",
              "Master     40\n",
              "Name: Title, dtype: int64"
            ]
          },
          "metadata": {},
          "execution_count": 20
        }
      ],
      "source": [
        "data[\"Title\"].value_counts() #ผลลัพธ์สุดท้ายที่ได้ของคอลัมน์ title จะมีจำนวนดังนี้"
      ]
    },
    {
      "cell_type": "markdown",
      "metadata": {
        "id": "1m6GlCMMjQtA"
      },
      "source": [
        "## Deck"
      ]
    },
    {
      "cell_type": "markdown",
      "source": [
        "ในคอลัมน์ Cabin อาจจะไม่ได้นำไปใช้เนื่องจากมี missing data มาก แต่เพื่อการ visualize ออกมาดู ซึ่งจะทำการแทน nan เป็น Unknown และนำไปไว้ในคอลัมน์ Deck ที่ถูกสร้างขึ้นมาใหม่ และทำการแบ่งคลาสตามคำนำหน้าของ cabin เช่น C22, C26  จะถูกตัดให้เหลือแค่ C "
      ],
      "metadata": {
        "id": "DBr1U4_6GHxK"
      }
    },
    {
      "cell_type": "code",
      "execution_count": null,
      "metadata": {
        "id": "yw2jDGw5l_Nx"
      },
      "outputs": [],
      "source": [
        "data[\"Deck\"] = data[\"Cabin\"].fillna(\"Unknown\") # แทนที่ nan ด้วย Unknown"
      ]
    },
    {
      "cell_type": "code",
      "execution_count": null,
      "metadata": {
        "colab": {
          "base_uri": "https://localhost:8080/"
        },
        "id": "o5_OKILlmScM",
        "outputId": "801c5796-179a-4fa5-ea33-9d0c1b6d7122"
      },
      "outputs": [
        {
          "output_type": "execute_result",
          "data": {
            "text/plain": [
              "Unknown        687\n",
              "C23 C25 C27      4\n",
              "G6               4\n",
              "B96 B98          4\n",
              "C22 C26          3\n",
              "              ... \n",
              "E34              1\n",
              "C7               1\n",
              "C54              1\n",
              "E36              1\n",
              "C148             1\n",
              "Name: Deck, Length: 148, dtype: int64"
            ]
          },
          "metadata": {},
          "execution_count": 22
        }
      ],
      "source": [
        "data[\"Deck\"].value_counts() #ผลลัพธ์จำนวนหลังจากทำการแทน Unknown"
      ]
    },
    {
      "cell_type": "code",
      "execution_count": null,
      "metadata": {
        "colab": {
          "base_uri": "https://localhost:8080/",
          "height": 206
        },
        "id": "4OarbRdNm04u",
        "outputId": "b9a99e24-1ee9-48f4-ae2e-6ce2bc24b5c4"
      },
      "outputs": [
        {
          "output_type": "execute_result",
          "data": {
            "text/plain": [
              "   PassengerId  Survived  Pclass  \\\n",
              "0            1         0       3   \n",
              "1            2         1       1   \n",
              "2            3         1       3   \n",
              "3            4         1       1   \n",
              "4            5         0       3   \n",
              "\n",
              "                                                Name     Sex   Age  SibSp  \\\n",
              "0                            Braund, Mr. Owen Harris    male  22.0      1   \n",
              "1  Cumings, Mrs. John Bradley (Florence Briggs Th...  female  38.0      1   \n",
              "2                             Heikkinen, Miss. Laina  female  26.0      0   \n",
              "3       Futrelle, Mrs. Jacques Heath (Lily May Peel)  female  35.0      1   \n",
              "4                           Allen, Mr. William Henry    male  35.0      0   \n",
              "\n",
              "   Parch            Ticket     Fare Cabin Embarked Title     Deck  \n",
              "0      0         A/5 21171   7.2500   NaN        S    Mr  Unknown  \n",
              "1      0          PC 17599  71.2833   C85        C   Mrs      C85  \n",
              "2      0  STON/O2. 3101282   7.9250   NaN        S  Miss  Unknown  \n",
              "3      0            113803  53.1000  C123        S   Mrs     C123  \n",
              "4      0            373450   8.0500   NaN        S    Mr  Unknown  "
            ],
            "text/html": [
              "\n",
              "  <div id=\"df-814a406a-f432-4b1e-9c1c-b3904ae3e8ba\">\n",
              "    <div class=\"colab-df-container\">\n",
              "      <div>\n",
              "<style scoped>\n",
              "    .dataframe tbody tr th:only-of-type {\n",
              "        vertical-align: middle;\n",
              "    }\n",
              "\n",
              "    .dataframe tbody tr th {\n",
              "        vertical-align: top;\n",
              "    }\n",
              "\n",
              "    .dataframe thead th {\n",
              "        text-align: right;\n",
              "    }\n",
              "</style>\n",
              "<table border=\"1\" class=\"dataframe\">\n",
              "  <thead>\n",
              "    <tr style=\"text-align: right;\">\n",
              "      <th></th>\n",
              "      <th>PassengerId</th>\n",
              "      <th>Survived</th>\n",
              "      <th>Pclass</th>\n",
              "      <th>Name</th>\n",
              "      <th>Sex</th>\n",
              "      <th>Age</th>\n",
              "      <th>SibSp</th>\n",
              "      <th>Parch</th>\n",
              "      <th>Ticket</th>\n",
              "      <th>Fare</th>\n",
              "      <th>Cabin</th>\n",
              "      <th>Embarked</th>\n",
              "      <th>Title</th>\n",
              "      <th>Deck</th>\n",
              "    </tr>\n",
              "  </thead>\n",
              "  <tbody>\n",
              "    <tr>\n",
              "      <th>0</th>\n",
              "      <td>1</td>\n",
              "      <td>0</td>\n",
              "      <td>3</td>\n",
              "      <td>Braund, Mr. Owen Harris</td>\n",
              "      <td>male</td>\n",
              "      <td>22.0</td>\n",
              "      <td>1</td>\n",
              "      <td>0</td>\n",
              "      <td>A/5 21171</td>\n",
              "      <td>7.2500</td>\n",
              "      <td>NaN</td>\n",
              "      <td>S</td>\n",
              "      <td>Mr</td>\n",
              "      <td>Unknown</td>\n",
              "    </tr>\n",
              "    <tr>\n",
              "      <th>1</th>\n",
              "      <td>2</td>\n",
              "      <td>1</td>\n",
              "      <td>1</td>\n",
              "      <td>Cumings, Mrs. John Bradley (Florence Briggs Th...</td>\n",
              "      <td>female</td>\n",
              "      <td>38.0</td>\n",
              "      <td>1</td>\n",
              "      <td>0</td>\n",
              "      <td>PC 17599</td>\n",
              "      <td>71.2833</td>\n",
              "      <td>C85</td>\n",
              "      <td>C</td>\n",
              "      <td>Mrs</td>\n",
              "      <td>C85</td>\n",
              "    </tr>\n",
              "    <tr>\n",
              "      <th>2</th>\n",
              "      <td>3</td>\n",
              "      <td>1</td>\n",
              "      <td>3</td>\n",
              "      <td>Heikkinen, Miss. Laina</td>\n",
              "      <td>female</td>\n",
              "      <td>26.0</td>\n",
              "      <td>0</td>\n",
              "      <td>0</td>\n",
              "      <td>STON/O2. 3101282</td>\n",
              "      <td>7.9250</td>\n",
              "      <td>NaN</td>\n",
              "      <td>S</td>\n",
              "      <td>Miss</td>\n",
              "      <td>Unknown</td>\n",
              "    </tr>\n",
              "    <tr>\n",
              "      <th>3</th>\n",
              "      <td>4</td>\n",
              "      <td>1</td>\n",
              "      <td>1</td>\n",
              "      <td>Futrelle, Mrs. Jacques Heath (Lily May Peel)</td>\n",
              "      <td>female</td>\n",
              "      <td>35.0</td>\n",
              "      <td>1</td>\n",
              "      <td>0</td>\n",
              "      <td>113803</td>\n",
              "      <td>53.1000</td>\n",
              "      <td>C123</td>\n",
              "      <td>S</td>\n",
              "      <td>Mrs</td>\n",
              "      <td>C123</td>\n",
              "    </tr>\n",
              "    <tr>\n",
              "      <th>4</th>\n",
              "      <td>5</td>\n",
              "      <td>0</td>\n",
              "      <td>3</td>\n",
              "      <td>Allen, Mr. William Henry</td>\n",
              "      <td>male</td>\n",
              "      <td>35.0</td>\n",
              "      <td>0</td>\n",
              "      <td>0</td>\n",
              "      <td>373450</td>\n",
              "      <td>8.0500</td>\n",
              "      <td>NaN</td>\n",
              "      <td>S</td>\n",
              "      <td>Mr</td>\n",
              "      <td>Unknown</td>\n",
              "    </tr>\n",
              "  </tbody>\n",
              "</table>\n",
              "</div>\n",
              "      <button class=\"colab-df-convert\" onclick=\"convertToInteractive('df-814a406a-f432-4b1e-9c1c-b3904ae3e8ba')\"\n",
              "              title=\"Convert this dataframe to an interactive table.\"\n",
              "              style=\"display:none;\">\n",
              "        \n",
              "  <svg xmlns=\"http://www.w3.org/2000/svg\" height=\"24px\"viewBox=\"0 0 24 24\"\n",
              "       width=\"24px\">\n",
              "    <path d=\"M0 0h24v24H0V0z\" fill=\"none\"/>\n",
              "    <path d=\"M18.56 5.44l.94 2.06.94-2.06 2.06-.94-2.06-.94-.94-2.06-.94 2.06-2.06.94zm-11 1L8.5 8.5l.94-2.06 2.06-.94-2.06-.94L8.5 2.5l-.94 2.06-2.06.94zm10 10l.94 2.06.94-2.06 2.06-.94-2.06-.94-.94-2.06-.94 2.06-2.06.94z\"/><path d=\"M17.41 7.96l-1.37-1.37c-.4-.4-.92-.59-1.43-.59-.52 0-1.04.2-1.43.59L10.3 9.45l-7.72 7.72c-.78.78-.78 2.05 0 2.83L4 21.41c.39.39.9.59 1.41.59.51 0 1.02-.2 1.41-.59l7.78-7.78 2.81-2.81c.8-.78.8-2.07 0-2.86zM5.41 20L4 18.59l7.72-7.72 1.47 1.35L5.41 20z\"/>\n",
              "  </svg>\n",
              "      </button>\n",
              "      \n",
              "  <style>\n",
              "    .colab-df-container {\n",
              "      display:flex;\n",
              "      flex-wrap:wrap;\n",
              "      gap: 12px;\n",
              "    }\n",
              "\n",
              "    .colab-df-convert {\n",
              "      background-color: #E8F0FE;\n",
              "      border: none;\n",
              "      border-radius: 50%;\n",
              "      cursor: pointer;\n",
              "      display: none;\n",
              "      fill: #1967D2;\n",
              "      height: 32px;\n",
              "      padding: 0 0 0 0;\n",
              "      width: 32px;\n",
              "    }\n",
              "\n",
              "    .colab-df-convert:hover {\n",
              "      background-color: #E2EBFA;\n",
              "      box-shadow: 0px 1px 2px rgba(60, 64, 67, 0.3), 0px 1px 3px 1px rgba(60, 64, 67, 0.15);\n",
              "      fill: #174EA6;\n",
              "    }\n",
              "\n",
              "    [theme=dark] .colab-df-convert {\n",
              "      background-color: #3B4455;\n",
              "      fill: #D2E3FC;\n",
              "    }\n",
              "\n",
              "    [theme=dark] .colab-df-convert:hover {\n",
              "      background-color: #434B5C;\n",
              "      box-shadow: 0px 1px 3px 1px rgba(0, 0, 0, 0.15);\n",
              "      filter: drop-shadow(0px 1px 2px rgba(0, 0, 0, 0.3));\n",
              "      fill: #FFFFFF;\n",
              "    }\n",
              "  </style>\n",
              "\n",
              "      <script>\n",
              "        const buttonEl =\n",
              "          document.querySelector('#df-814a406a-f432-4b1e-9c1c-b3904ae3e8ba button.colab-df-convert');\n",
              "        buttonEl.style.display =\n",
              "          google.colab.kernel.accessAllowed ? 'block' : 'none';\n",
              "\n",
              "        async function convertToInteractive(key) {\n",
              "          const element = document.querySelector('#df-814a406a-f432-4b1e-9c1c-b3904ae3e8ba');\n",
              "          const dataTable =\n",
              "            await google.colab.kernel.invokeFunction('convertToInteractive',\n",
              "                                                     [key], {});\n",
              "          if (!dataTable) return;\n",
              "\n",
              "          const docLinkHtml = 'Like what you see? Visit the ' +\n",
              "            '<a target=\"_blank\" href=https://colab.research.google.com/notebooks/data_table.ipynb>data table notebook</a>'\n",
              "            + ' to learn more about interactive tables.';\n",
              "          element.innerHTML = '';\n",
              "          dataTable['output_type'] = 'display_data';\n",
              "          await google.colab.output.renderOutput(dataTable, element);\n",
              "          const docLink = document.createElement('div');\n",
              "          docLink.innerHTML = docLinkHtml;\n",
              "          element.appendChild(docLink);\n",
              "        }\n",
              "      </script>\n",
              "    </div>\n",
              "  </div>\n",
              "  "
            ]
          },
          "metadata": {},
          "execution_count": 23
        }
      ],
      "source": [
        "data.head()"
      ]
    },
    {
      "cell_type": "code",
      "execution_count": null,
      "metadata": {
        "id": "T4zCE9yrjSg4"
      },
      "outputs": [],
      "source": [
        "cabin_list = ['A', 'B', 'C', 'D', 'E', 'F', 'T', 'G', 'Unknown'] #สกัดเอาเฉพาะตัวอักษรภาษาอังกฤษตัวแรกในคอลัมน์ cabin\n",
        "data['Deck']=data['Deck'].map(lambda x: substrings_in_string(x, cabin_list))"
      ]
    },
    {
      "cell_type": "code",
      "execution_count": null,
      "metadata": {
        "colab": {
          "base_uri": "https://localhost:8080/"
        },
        "id": "rnx5QIc8mcKt",
        "outputId": "c7128791-3e5d-4b45-d313-6011cea295c9"
      },
      "outputs": [
        {
          "output_type": "execute_result",
          "data": {
            "text/plain": [
              "Unknown    687\n",
              "C           59\n",
              "B           47\n",
              "E           33\n",
              "D           33\n",
              "A           15\n",
              "F           12\n",
              "G            4\n",
              "T            1\n",
              "Name: Deck, dtype: int64"
            ]
          },
          "metadata": {},
          "execution_count": 25
        }
      ],
      "source": [
        "data[\"Deck\"].value_counts()"
      ]
    },
    {
      "cell_type": "markdown",
      "metadata": {
        "id": "ENfQqEdsnOqH"
      },
      "source": [
        "## Family Size"
      ]
    },
    {
      "cell_type": "markdown",
      "source": [
        "Family size จะทำการรวม features SibSp และ Parch เพื่ออาจจะช่วยตอบคำถามว่าการไปเที่ยวคนเดียวนั้นจะทำรอดได้ดีกว่าไหม หรือบางทีการที่ไปทั้งครอบครัวจะทำให้มีอัตรารอดชีวิตมากกว่า "
      ],
      "metadata": {
        "id": "k2_xXIgnKhV0"
      }
    },
    {
      "cell_type": "code",
      "execution_count": null,
      "metadata": {
        "id": "4MX1yeY-nNz3"
      },
      "outputs": [],
      "source": [
        "data['Family_Size']=data['SibSp']+data['Parch'] #ทำการรวมกันของคอลัมน์ SibSp และ Parch "
      ]
    },
    {
      "cell_type": "code",
      "execution_count": null,
      "metadata": {
        "colab": {
          "base_uri": "https://localhost:8080/"
        },
        "id": "-PPgVv18n3FM",
        "outputId": "2a95e042-912f-4487-dd1b-47c88f1d75d7"
      },
      "outputs": [
        {
          "output_type": "execute_result",
          "data": {
            "text/plain": [
              "0     537\n",
              "1     161\n",
              "2     102\n",
              "3      29\n",
              "5      22\n",
              "4      15\n",
              "6      12\n",
              "10      7\n",
              "7       6\n",
              "Name: Family_Size, dtype: int64"
            ]
          },
          "metadata": {},
          "execution_count": 27
        }
      ],
      "source": [
        "data[\"Family_Size\"].value_counts() #เช็คจำนวนที่ได้หัลงจากรวม Family_size"
      ]
    },
    {
      "cell_type": "code",
      "execution_count": null,
      "metadata": {
        "colab": {
          "base_uri": "https://localhost:8080/",
          "height": 206
        },
        "id": "pjeDo-kMnx_k",
        "outputId": "f6047731-5196-4c00-8574-fd48e9dce58c"
      },
      "outputs": [
        {
          "output_type": "execute_result",
          "data": {
            "text/plain": [
              "   PassengerId  Survived  Pclass  \\\n",
              "0            1         0       3   \n",
              "1            2         1       1   \n",
              "2            3         1       3   \n",
              "3            4         1       1   \n",
              "4            5         0       3   \n",
              "\n",
              "                                                Name     Sex   Age  SibSp  \\\n",
              "0                            Braund, Mr. Owen Harris    male  22.0      1   \n",
              "1  Cumings, Mrs. John Bradley (Florence Briggs Th...  female  38.0      1   \n",
              "2                             Heikkinen, Miss. Laina  female  26.0      0   \n",
              "3       Futrelle, Mrs. Jacques Heath (Lily May Peel)  female  35.0      1   \n",
              "4                           Allen, Mr. William Henry    male  35.0      0   \n",
              "\n",
              "   Parch            Ticket     Fare Cabin Embarked Title     Deck  Family_Size  \n",
              "0      0         A/5 21171   7.2500   NaN        S    Mr  Unknown            1  \n",
              "1      0          PC 17599  71.2833   C85        C   Mrs        C            1  \n",
              "2      0  STON/O2. 3101282   7.9250   NaN        S  Miss  Unknown            0  \n",
              "3      0            113803  53.1000  C123        S   Mrs        C            1  \n",
              "4      0            373450   8.0500   NaN        S    Mr  Unknown            0  "
            ],
            "text/html": [
              "\n",
              "  <div id=\"df-a3d3c2d5-f486-4976-a4b7-f560e7fa0583\">\n",
              "    <div class=\"colab-df-container\">\n",
              "      <div>\n",
              "<style scoped>\n",
              "    .dataframe tbody tr th:only-of-type {\n",
              "        vertical-align: middle;\n",
              "    }\n",
              "\n",
              "    .dataframe tbody tr th {\n",
              "        vertical-align: top;\n",
              "    }\n",
              "\n",
              "    .dataframe thead th {\n",
              "        text-align: right;\n",
              "    }\n",
              "</style>\n",
              "<table border=\"1\" class=\"dataframe\">\n",
              "  <thead>\n",
              "    <tr style=\"text-align: right;\">\n",
              "      <th></th>\n",
              "      <th>PassengerId</th>\n",
              "      <th>Survived</th>\n",
              "      <th>Pclass</th>\n",
              "      <th>Name</th>\n",
              "      <th>Sex</th>\n",
              "      <th>Age</th>\n",
              "      <th>SibSp</th>\n",
              "      <th>Parch</th>\n",
              "      <th>Ticket</th>\n",
              "      <th>Fare</th>\n",
              "      <th>Cabin</th>\n",
              "      <th>Embarked</th>\n",
              "      <th>Title</th>\n",
              "      <th>Deck</th>\n",
              "      <th>Family_Size</th>\n",
              "    </tr>\n",
              "  </thead>\n",
              "  <tbody>\n",
              "    <tr>\n",
              "      <th>0</th>\n",
              "      <td>1</td>\n",
              "      <td>0</td>\n",
              "      <td>3</td>\n",
              "      <td>Braund, Mr. Owen Harris</td>\n",
              "      <td>male</td>\n",
              "      <td>22.0</td>\n",
              "      <td>1</td>\n",
              "      <td>0</td>\n",
              "      <td>A/5 21171</td>\n",
              "      <td>7.2500</td>\n",
              "      <td>NaN</td>\n",
              "      <td>S</td>\n",
              "      <td>Mr</td>\n",
              "      <td>Unknown</td>\n",
              "      <td>1</td>\n",
              "    </tr>\n",
              "    <tr>\n",
              "      <th>1</th>\n",
              "      <td>2</td>\n",
              "      <td>1</td>\n",
              "      <td>1</td>\n",
              "      <td>Cumings, Mrs. John Bradley (Florence Briggs Th...</td>\n",
              "      <td>female</td>\n",
              "      <td>38.0</td>\n",
              "      <td>1</td>\n",
              "      <td>0</td>\n",
              "      <td>PC 17599</td>\n",
              "      <td>71.2833</td>\n",
              "      <td>C85</td>\n",
              "      <td>C</td>\n",
              "      <td>Mrs</td>\n",
              "      <td>C</td>\n",
              "      <td>1</td>\n",
              "    </tr>\n",
              "    <tr>\n",
              "      <th>2</th>\n",
              "      <td>3</td>\n",
              "      <td>1</td>\n",
              "      <td>3</td>\n",
              "      <td>Heikkinen, Miss. Laina</td>\n",
              "      <td>female</td>\n",
              "      <td>26.0</td>\n",
              "      <td>0</td>\n",
              "      <td>0</td>\n",
              "      <td>STON/O2. 3101282</td>\n",
              "      <td>7.9250</td>\n",
              "      <td>NaN</td>\n",
              "      <td>S</td>\n",
              "      <td>Miss</td>\n",
              "      <td>Unknown</td>\n",
              "      <td>0</td>\n",
              "    </tr>\n",
              "    <tr>\n",
              "      <th>3</th>\n",
              "      <td>4</td>\n",
              "      <td>1</td>\n",
              "      <td>1</td>\n",
              "      <td>Futrelle, Mrs. Jacques Heath (Lily May Peel)</td>\n",
              "      <td>female</td>\n",
              "      <td>35.0</td>\n",
              "      <td>1</td>\n",
              "      <td>0</td>\n",
              "      <td>113803</td>\n",
              "      <td>53.1000</td>\n",
              "      <td>C123</td>\n",
              "      <td>S</td>\n",
              "      <td>Mrs</td>\n",
              "      <td>C</td>\n",
              "      <td>1</td>\n",
              "    </tr>\n",
              "    <tr>\n",
              "      <th>4</th>\n",
              "      <td>5</td>\n",
              "      <td>0</td>\n",
              "      <td>3</td>\n",
              "      <td>Allen, Mr. William Henry</td>\n",
              "      <td>male</td>\n",
              "      <td>35.0</td>\n",
              "      <td>0</td>\n",
              "      <td>0</td>\n",
              "      <td>373450</td>\n",
              "      <td>8.0500</td>\n",
              "      <td>NaN</td>\n",
              "      <td>S</td>\n",
              "      <td>Mr</td>\n",
              "      <td>Unknown</td>\n",
              "      <td>0</td>\n",
              "    </tr>\n",
              "  </tbody>\n",
              "</table>\n",
              "</div>\n",
              "      <button class=\"colab-df-convert\" onclick=\"convertToInteractive('df-a3d3c2d5-f486-4976-a4b7-f560e7fa0583')\"\n",
              "              title=\"Convert this dataframe to an interactive table.\"\n",
              "              style=\"display:none;\">\n",
              "        \n",
              "  <svg xmlns=\"http://www.w3.org/2000/svg\" height=\"24px\"viewBox=\"0 0 24 24\"\n",
              "       width=\"24px\">\n",
              "    <path d=\"M0 0h24v24H0V0z\" fill=\"none\"/>\n",
              "    <path d=\"M18.56 5.44l.94 2.06.94-2.06 2.06-.94-2.06-.94-.94-2.06-.94 2.06-2.06.94zm-11 1L8.5 8.5l.94-2.06 2.06-.94-2.06-.94L8.5 2.5l-.94 2.06-2.06.94zm10 10l.94 2.06.94-2.06 2.06-.94-2.06-.94-.94-2.06-.94 2.06-2.06.94z\"/><path d=\"M17.41 7.96l-1.37-1.37c-.4-.4-.92-.59-1.43-.59-.52 0-1.04.2-1.43.59L10.3 9.45l-7.72 7.72c-.78.78-.78 2.05 0 2.83L4 21.41c.39.39.9.59 1.41.59.51 0 1.02-.2 1.41-.59l7.78-7.78 2.81-2.81c.8-.78.8-2.07 0-2.86zM5.41 20L4 18.59l7.72-7.72 1.47 1.35L5.41 20z\"/>\n",
              "  </svg>\n",
              "      </button>\n",
              "      \n",
              "  <style>\n",
              "    .colab-df-container {\n",
              "      display:flex;\n",
              "      flex-wrap:wrap;\n",
              "      gap: 12px;\n",
              "    }\n",
              "\n",
              "    .colab-df-convert {\n",
              "      background-color: #E8F0FE;\n",
              "      border: none;\n",
              "      border-radius: 50%;\n",
              "      cursor: pointer;\n",
              "      display: none;\n",
              "      fill: #1967D2;\n",
              "      height: 32px;\n",
              "      padding: 0 0 0 0;\n",
              "      width: 32px;\n",
              "    }\n",
              "\n",
              "    .colab-df-convert:hover {\n",
              "      background-color: #E2EBFA;\n",
              "      box-shadow: 0px 1px 2px rgba(60, 64, 67, 0.3), 0px 1px 3px 1px rgba(60, 64, 67, 0.15);\n",
              "      fill: #174EA6;\n",
              "    }\n",
              "\n",
              "    [theme=dark] .colab-df-convert {\n",
              "      background-color: #3B4455;\n",
              "      fill: #D2E3FC;\n",
              "    }\n",
              "\n",
              "    [theme=dark] .colab-df-convert:hover {\n",
              "      background-color: #434B5C;\n",
              "      box-shadow: 0px 1px 3px 1px rgba(0, 0, 0, 0.15);\n",
              "      filter: drop-shadow(0px 1px 2px rgba(0, 0, 0, 0.3));\n",
              "      fill: #FFFFFF;\n",
              "    }\n",
              "  </style>\n",
              "\n",
              "      <script>\n",
              "        const buttonEl =\n",
              "          document.querySelector('#df-a3d3c2d5-f486-4976-a4b7-f560e7fa0583 button.colab-df-convert');\n",
              "        buttonEl.style.display =\n",
              "          google.colab.kernel.accessAllowed ? 'block' : 'none';\n",
              "\n",
              "        async function convertToInteractive(key) {\n",
              "          const element = document.querySelector('#df-a3d3c2d5-f486-4976-a4b7-f560e7fa0583');\n",
              "          const dataTable =\n",
              "            await google.colab.kernel.invokeFunction('convertToInteractive',\n",
              "                                                     [key], {});\n",
              "          if (!dataTable) return;\n",
              "\n",
              "          const docLinkHtml = 'Like what you see? Visit the ' +\n",
              "            '<a target=\"_blank\" href=https://colab.research.google.com/notebooks/data_table.ipynb>data table notebook</a>'\n",
              "            + ' to learn more about interactive tables.';\n",
              "          element.innerHTML = '';\n",
              "          dataTable['output_type'] = 'display_data';\n",
              "          await google.colab.output.renderOutput(dataTable, element);\n",
              "          const docLink = document.createElement('div');\n",
              "          docLink.innerHTML = docLinkHtml;\n",
              "          element.appendChild(docLink);\n",
              "        }\n",
              "      </script>\n",
              "    </div>\n",
              "  </div>\n",
              "  "
            ]
          },
          "metadata": {},
          "execution_count": 28
        }
      ],
      "source": [
        "data.head()"
      ]
    },
    {
      "cell_type": "markdown",
      "metadata": {
        "id": "RJSOIskioafx"
      },
      "source": [
        "## Age*Class"
      ]
    },
    {
      "cell_type": "markdown",
      "source": [
        "Age*Class คอลัมน์จะเป็นการรวมของคอลัมน์ Age และ PClass ซึ่งทั้งสองส่วนนี้เป็น interaction เทอม ซึ่งสามารถคูณกันได้"
      ],
      "metadata": {
        "id": "1bihmNtSNCKe"
      }
    },
    {
      "cell_type": "code",
      "execution_count": null,
      "metadata": {
        "id": "0m_BcDcuobLW"
      },
      "outputs": [],
      "source": [
        "data['Age*Class']=data['Age']*data['Pclass'] #ทำการคูณกันระหว่างคอลัมน์ Age และ Pclass"
      ]
    },
    {
      "cell_type": "code",
      "execution_count": null,
      "metadata": {
        "colab": {
          "base_uri": "https://localhost:8080/"
        },
        "id": "qPgbKLa8o1qM",
        "outputId": "5dd23ffe-7512-4e4e-f4b5-bdecbcc23a52"
      },
      "outputs": [
        {
          "output_type": "execute_result",
          "data": {
            "text/plain": [
              "48.0     27\n",
              "54.0     26\n",
              "60.0     26\n",
              "66.0     25\n",
              "72.0     21\n",
              "         ..\n",
              "183.0     1\n",
              "86.0      1\n",
              "118.0     1\n",
              "1.0       1\n",
              "222.0     1\n",
              "Name: Age*Class, Length: 114, dtype: int64"
            ]
          },
          "metadata": {},
          "execution_count": 30
        }
      ],
      "source": [
        "data[\"Age*Class\"].value_counts() #แสดงจำนวนของ Age*Class"
      ]
    },
    {
      "cell_type": "code",
      "execution_count": null,
      "metadata": {
        "colab": {
          "base_uri": "https://localhost:8080/",
          "height": 206
        },
        "id": "oatk4HfRo6Ai",
        "outputId": "1f2126ad-80ed-4ad4-a49c-95081d00fc58"
      },
      "outputs": [
        {
          "output_type": "execute_result",
          "data": {
            "text/plain": [
              "   PassengerId  Survived  Pclass  \\\n",
              "0            1         0       3   \n",
              "1            2         1       1   \n",
              "2            3         1       3   \n",
              "3            4         1       1   \n",
              "4            5         0       3   \n",
              "\n",
              "                                                Name     Sex   Age  SibSp  \\\n",
              "0                            Braund, Mr. Owen Harris    male  22.0      1   \n",
              "1  Cumings, Mrs. John Bradley (Florence Briggs Th...  female  38.0      1   \n",
              "2                             Heikkinen, Miss. Laina  female  26.0      0   \n",
              "3       Futrelle, Mrs. Jacques Heath (Lily May Peel)  female  35.0      1   \n",
              "4                           Allen, Mr. William Henry    male  35.0      0   \n",
              "\n",
              "   Parch            Ticket     Fare Cabin Embarked Title     Deck  \\\n",
              "0      0         A/5 21171   7.2500   NaN        S    Mr  Unknown   \n",
              "1      0          PC 17599  71.2833   C85        C   Mrs        C   \n",
              "2      0  STON/O2. 3101282   7.9250   NaN        S  Miss  Unknown   \n",
              "3      0            113803  53.1000  C123        S   Mrs        C   \n",
              "4      0            373450   8.0500   NaN        S    Mr  Unknown   \n",
              "\n",
              "   Family_Size  Age*Class  \n",
              "0            1       66.0  \n",
              "1            1       38.0  \n",
              "2            0       78.0  \n",
              "3            1       35.0  \n",
              "4            0      105.0  "
            ],
            "text/html": [
              "\n",
              "  <div id=\"df-200c88c5-2e75-4668-82aa-abca29ee46b2\">\n",
              "    <div class=\"colab-df-container\">\n",
              "      <div>\n",
              "<style scoped>\n",
              "    .dataframe tbody tr th:only-of-type {\n",
              "        vertical-align: middle;\n",
              "    }\n",
              "\n",
              "    .dataframe tbody tr th {\n",
              "        vertical-align: top;\n",
              "    }\n",
              "\n",
              "    .dataframe thead th {\n",
              "        text-align: right;\n",
              "    }\n",
              "</style>\n",
              "<table border=\"1\" class=\"dataframe\">\n",
              "  <thead>\n",
              "    <tr style=\"text-align: right;\">\n",
              "      <th></th>\n",
              "      <th>PassengerId</th>\n",
              "      <th>Survived</th>\n",
              "      <th>Pclass</th>\n",
              "      <th>Name</th>\n",
              "      <th>Sex</th>\n",
              "      <th>Age</th>\n",
              "      <th>SibSp</th>\n",
              "      <th>Parch</th>\n",
              "      <th>Ticket</th>\n",
              "      <th>Fare</th>\n",
              "      <th>Cabin</th>\n",
              "      <th>Embarked</th>\n",
              "      <th>Title</th>\n",
              "      <th>Deck</th>\n",
              "      <th>Family_Size</th>\n",
              "      <th>Age*Class</th>\n",
              "    </tr>\n",
              "  </thead>\n",
              "  <tbody>\n",
              "    <tr>\n",
              "      <th>0</th>\n",
              "      <td>1</td>\n",
              "      <td>0</td>\n",
              "      <td>3</td>\n",
              "      <td>Braund, Mr. Owen Harris</td>\n",
              "      <td>male</td>\n",
              "      <td>22.0</td>\n",
              "      <td>1</td>\n",
              "      <td>0</td>\n",
              "      <td>A/5 21171</td>\n",
              "      <td>7.2500</td>\n",
              "      <td>NaN</td>\n",
              "      <td>S</td>\n",
              "      <td>Mr</td>\n",
              "      <td>Unknown</td>\n",
              "      <td>1</td>\n",
              "      <td>66.0</td>\n",
              "    </tr>\n",
              "    <tr>\n",
              "      <th>1</th>\n",
              "      <td>2</td>\n",
              "      <td>1</td>\n",
              "      <td>1</td>\n",
              "      <td>Cumings, Mrs. John Bradley (Florence Briggs Th...</td>\n",
              "      <td>female</td>\n",
              "      <td>38.0</td>\n",
              "      <td>1</td>\n",
              "      <td>0</td>\n",
              "      <td>PC 17599</td>\n",
              "      <td>71.2833</td>\n",
              "      <td>C85</td>\n",
              "      <td>C</td>\n",
              "      <td>Mrs</td>\n",
              "      <td>C</td>\n",
              "      <td>1</td>\n",
              "      <td>38.0</td>\n",
              "    </tr>\n",
              "    <tr>\n",
              "      <th>2</th>\n",
              "      <td>3</td>\n",
              "      <td>1</td>\n",
              "      <td>3</td>\n",
              "      <td>Heikkinen, Miss. Laina</td>\n",
              "      <td>female</td>\n",
              "      <td>26.0</td>\n",
              "      <td>0</td>\n",
              "      <td>0</td>\n",
              "      <td>STON/O2. 3101282</td>\n",
              "      <td>7.9250</td>\n",
              "      <td>NaN</td>\n",
              "      <td>S</td>\n",
              "      <td>Miss</td>\n",
              "      <td>Unknown</td>\n",
              "      <td>0</td>\n",
              "      <td>78.0</td>\n",
              "    </tr>\n",
              "    <tr>\n",
              "      <th>3</th>\n",
              "      <td>4</td>\n",
              "      <td>1</td>\n",
              "      <td>1</td>\n",
              "      <td>Futrelle, Mrs. Jacques Heath (Lily May Peel)</td>\n",
              "      <td>female</td>\n",
              "      <td>35.0</td>\n",
              "      <td>1</td>\n",
              "      <td>0</td>\n",
              "      <td>113803</td>\n",
              "      <td>53.1000</td>\n",
              "      <td>C123</td>\n",
              "      <td>S</td>\n",
              "      <td>Mrs</td>\n",
              "      <td>C</td>\n",
              "      <td>1</td>\n",
              "      <td>35.0</td>\n",
              "    </tr>\n",
              "    <tr>\n",
              "      <th>4</th>\n",
              "      <td>5</td>\n",
              "      <td>0</td>\n",
              "      <td>3</td>\n",
              "      <td>Allen, Mr. William Henry</td>\n",
              "      <td>male</td>\n",
              "      <td>35.0</td>\n",
              "      <td>0</td>\n",
              "      <td>0</td>\n",
              "      <td>373450</td>\n",
              "      <td>8.0500</td>\n",
              "      <td>NaN</td>\n",
              "      <td>S</td>\n",
              "      <td>Mr</td>\n",
              "      <td>Unknown</td>\n",
              "      <td>0</td>\n",
              "      <td>105.0</td>\n",
              "    </tr>\n",
              "  </tbody>\n",
              "</table>\n",
              "</div>\n",
              "      <button class=\"colab-df-convert\" onclick=\"convertToInteractive('df-200c88c5-2e75-4668-82aa-abca29ee46b2')\"\n",
              "              title=\"Convert this dataframe to an interactive table.\"\n",
              "              style=\"display:none;\">\n",
              "        \n",
              "  <svg xmlns=\"http://www.w3.org/2000/svg\" height=\"24px\"viewBox=\"0 0 24 24\"\n",
              "       width=\"24px\">\n",
              "    <path d=\"M0 0h24v24H0V0z\" fill=\"none\"/>\n",
              "    <path d=\"M18.56 5.44l.94 2.06.94-2.06 2.06-.94-2.06-.94-.94-2.06-.94 2.06-2.06.94zm-11 1L8.5 8.5l.94-2.06 2.06-.94-2.06-.94L8.5 2.5l-.94 2.06-2.06.94zm10 10l.94 2.06.94-2.06 2.06-.94-2.06-.94-.94-2.06-.94 2.06-2.06.94z\"/><path d=\"M17.41 7.96l-1.37-1.37c-.4-.4-.92-.59-1.43-.59-.52 0-1.04.2-1.43.59L10.3 9.45l-7.72 7.72c-.78.78-.78 2.05 0 2.83L4 21.41c.39.39.9.59 1.41.59.51 0 1.02-.2 1.41-.59l7.78-7.78 2.81-2.81c.8-.78.8-2.07 0-2.86zM5.41 20L4 18.59l7.72-7.72 1.47 1.35L5.41 20z\"/>\n",
              "  </svg>\n",
              "      </button>\n",
              "      \n",
              "  <style>\n",
              "    .colab-df-container {\n",
              "      display:flex;\n",
              "      flex-wrap:wrap;\n",
              "      gap: 12px;\n",
              "    }\n",
              "\n",
              "    .colab-df-convert {\n",
              "      background-color: #E8F0FE;\n",
              "      border: none;\n",
              "      border-radius: 50%;\n",
              "      cursor: pointer;\n",
              "      display: none;\n",
              "      fill: #1967D2;\n",
              "      height: 32px;\n",
              "      padding: 0 0 0 0;\n",
              "      width: 32px;\n",
              "    }\n",
              "\n",
              "    .colab-df-convert:hover {\n",
              "      background-color: #E2EBFA;\n",
              "      box-shadow: 0px 1px 2px rgba(60, 64, 67, 0.3), 0px 1px 3px 1px rgba(60, 64, 67, 0.15);\n",
              "      fill: #174EA6;\n",
              "    }\n",
              "\n",
              "    [theme=dark] .colab-df-convert {\n",
              "      background-color: #3B4455;\n",
              "      fill: #D2E3FC;\n",
              "    }\n",
              "\n",
              "    [theme=dark] .colab-df-convert:hover {\n",
              "      background-color: #434B5C;\n",
              "      box-shadow: 0px 1px 3px 1px rgba(0, 0, 0, 0.15);\n",
              "      filter: drop-shadow(0px 1px 2px rgba(0, 0, 0, 0.3));\n",
              "      fill: #FFFFFF;\n",
              "    }\n",
              "  </style>\n",
              "\n",
              "      <script>\n",
              "        const buttonEl =\n",
              "          document.querySelector('#df-200c88c5-2e75-4668-82aa-abca29ee46b2 button.colab-df-convert');\n",
              "        buttonEl.style.display =\n",
              "          google.colab.kernel.accessAllowed ? 'block' : 'none';\n",
              "\n",
              "        async function convertToInteractive(key) {\n",
              "          const element = document.querySelector('#df-200c88c5-2e75-4668-82aa-abca29ee46b2');\n",
              "          const dataTable =\n",
              "            await google.colab.kernel.invokeFunction('convertToInteractive',\n",
              "                                                     [key], {});\n",
              "          if (!dataTable) return;\n",
              "\n",
              "          const docLinkHtml = 'Like what you see? Visit the ' +\n",
              "            '<a target=\"_blank\" href=https://colab.research.google.com/notebooks/data_table.ipynb>data table notebook</a>'\n",
              "            + ' to learn more about interactive tables.';\n",
              "          element.innerHTML = '';\n",
              "          dataTable['output_type'] = 'display_data';\n",
              "          await google.colab.output.renderOutput(dataTable, element);\n",
              "          const docLink = document.createElement('div');\n",
              "          docLink.innerHTML = docLinkHtml;\n",
              "          element.appendChild(docLink);\n",
              "        }\n",
              "      </script>\n",
              "    </div>\n",
              "  </div>\n",
              "  "
            ]
          },
          "metadata": {},
          "execution_count": 31
        }
      ],
      "source": [
        "data.head()"
      ]
    },
    {
      "cell_type": "markdown",
      "source": [
        "##Fare_Per_Person"
      ],
      "metadata": {
        "id": "PO8t_lZkQ4aP"
      }
    },
    {
      "cell_type": "markdown",
      "source": [
        "คอลัมน์ Fare_Per_Person จะเป็นการนำคอลัมน์ Fare หารด้วยจำนวน Family_size  เพื่อหาราคาตั๋วต่อหนึ่งคน"
      ],
      "metadata": {
        "id": "0tXGMtGCR4rQ"
      }
    },
    {
      "cell_type": "code",
      "execution_count": null,
      "metadata": {
        "id": "TD7Ec5oLphWD"
      },
      "outputs": [],
      "source": [
        "data['Fare_Per_Person']=data['Fare']/(data['Family_Size']+1) #สร้างคอลัมน์ Fare_Per_Person โดยที่ Family_Size จะบวก 1 เพื่อที่จะสามารถนำไปหารได้"
      ]
    },
    {
      "cell_type": "code",
      "execution_count": null,
      "metadata": {
        "colab": {
          "base_uri": "https://localhost:8080/"
        },
        "id": "dgQ1NBh8qfND",
        "outputId": "608bc54f-cdd7-45c4-db13-1d189475e529"
      },
      "outputs": [
        {
          "output_type": "execute_result",
          "data": {
            "text/plain": [
              "13.00000    59\n",
              "8.05000     50\n",
              "7.75000     39\n",
              "7.89580     38\n",
              "10.50000    28\n",
              "            ..\n",
              "35.00000     1\n",
              "13.86040     1\n",
              "37.62500     1\n",
              "27.72085     1\n",
              "10.51670     1\n",
              "Name: Fare_Per_Person, Length: 289, dtype: int64"
            ]
          },
          "metadata": {},
          "execution_count": 33
        }
      ],
      "source": [
        "data[\"Fare_Per_Person\"].value_counts() #แสดงจำนวน Fare_Per_Person"
      ]
    },
    {
      "cell_type": "code",
      "execution_count": null,
      "metadata": {
        "colab": {
          "base_uri": "https://localhost:8080/",
          "height": 302
        },
        "id": "zHeENr7GqlON",
        "outputId": "60708b85-5db1-4d24-9fab-e4fc387f12fa"
      },
      "outputs": [
        {
          "output_type": "execute_result",
          "data": {
            "text/plain": [
              "   PassengerId  Survived  Pclass  \\\n",
              "0            1         0       3   \n",
              "1            2         1       1   \n",
              "2            3         1       3   \n",
              "3            4         1       1   \n",
              "4            5         0       3   \n",
              "\n",
              "                                                Name     Sex   Age  SibSp  \\\n",
              "0                            Braund, Mr. Owen Harris    male  22.0      1   \n",
              "1  Cumings, Mrs. John Bradley (Florence Briggs Th...  female  38.0      1   \n",
              "2                             Heikkinen, Miss. Laina  female  26.0      0   \n",
              "3       Futrelle, Mrs. Jacques Heath (Lily May Peel)  female  35.0      1   \n",
              "4                           Allen, Mr. William Henry    male  35.0      0   \n",
              "\n",
              "   Parch            Ticket     Fare Cabin Embarked Title     Deck  \\\n",
              "0      0         A/5 21171   7.2500   NaN        S    Mr  Unknown   \n",
              "1      0          PC 17599  71.2833   C85        C   Mrs        C   \n",
              "2      0  STON/O2. 3101282   7.9250   NaN        S  Miss  Unknown   \n",
              "3      0            113803  53.1000  C123        S   Mrs        C   \n",
              "4      0            373450   8.0500   NaN        S    Mr  Unknown   \n",
              "\n",
              "   Family_Size  Age*Class  Fare_Per_Person  \n",
              "0            1       66.0          3.62500  \n",
              "1            1       38.0         35.64165  \n",
              "2            0       78.0          7.92500  \n",
              "3            1       35.0         26.55000  \n",
              "4            0      105.0          8.05000  "
            ],
            "text/html": [
              "\n",
              "  <div id=\"df-0ee8a9ff-c7f9-4ab3-945b-01da76178fc8\">\n",
              "    <div class=\"colab-df-container\">\n",
              "      <div>\n",
              "<style scoped>\n",
              "    .dataframe tbody tr th:only-of-type {\n",
              "        vertical-align: middle;\n",
              "    }\n",
              "\n",
              "    .dataframe tbody tr th {\n",
              "        vertical-align: top;\n",
              "    }\n",
              "\n",
              "    .dataframe thead th {\n",
              "        text-align: right;\n",
              "    }\n",
              "</style>\n",
              "<table border=\"1\" class=\"dataframe\">\n",
              "  <thead>\n",
              "    <tr style=\"text-align: right;\">\n",
              "      <th></th>\n",
              "      <th>PassengerId</th>\n",
              "      <th>Survived</th>\n",
              "      <th>Pclass</th>\n",
              "      <th>Name</th>\n",
              "      <th>Sex</th>\n",
              "      <th>Age</th>\n",
              "      <th>SibSp</th>\n",
              "      <th>Parch</th>\n",
              "      <th>Ticket</th>\n",
              "      <th>Fare</th>\n",
              "      <th>Cabin</th>\n",
              "      <th>Embarked</th>\n",
              "      <th>Title</th>\n",
              "      <th>Deck</th>\n",
              "      <th>Family_Size</th>\n",
              "      <th>Age*Class</th>\n",
              "      <th>Fare_Per_Person</th>\n",
              "    </tr>\n",
              "  </thead>\n",
              "  <tbody>\n",
              "    <tr>\n",
              "      <th>0</th>\n",
              "      <td>1</td>\n",
              "      <td>0</td>\n",
              "      <td>3</td>\n",
              "      <td>Braund, Mr. Owen Harris</td>\n",
              "      <td>male</td>\n",
              "      <td>22.0</td>\n",
              "      <td>1</td>\n",
              "      <td>0</td>\n",
              "      <td>A/5 21171</td>\n",
              "      <td>7.2500</td>\n",
              "      <td>NaN</td>\n",
              "      <td>S</td>\n",
              "      <td>Mr</td>\n",
              "      <td>Unknown</td>\n",
              "      <td>1</td>\n",
              "      <td>66.0</td>\n",
              "      <td>3.62500</td>\n",
              "    </tr>\n",
              "    <tr>\n",
              "      <th>1</th>\n",
              "      <td>2</td>\n",
              "      <td>1</td>\n",
              "      <td>1</td>\n",
              "      <td>Cumings, Mrs. John Bradley (Florence Briggs Th...</td>\n",
              "      <td>female</td>\n",
              "      <td>38.0</td>\n",
              "      <td>1</td>\n",
              "      <td>0</td>\n",
              "      <td>PC 17599</td>\n",
              "      <td>71.2833</td>\n",
              "      <td>C85</td>\n",
              "      <td>C</td>\n",
              "      <td>Mrs</td>\n",
              "      <td>C</td>\n",
              "      <td>1</td>\n",
              "      <td>38.0</td>\n",
              "      <td>35.64165</td>\n",
              "    </tr>\n",
              "    <tr>\n",
              "      <th>2</th>\n",
              "      <td>3</td>\n",
              "      <td>1</td>\n",
              "      <td>3</td>\n",
              "      <td>Heikkinen, Miss. Laina</td>\n",
              "      <td>female</td>\n",
              "      <td>26.0</td>\n",
              "      <td>0</td>\n",
              "      <td>0</td>\n",
              "      <td>STON/O2. 3101282</td>\n",
              "      <td>7.9250</td>\n",
              "      <td>NaN</td>\n",
              "      <td>S</td>\n",
              "      <td>Miss</td>\n",
              "      <td>Unknown</td>\n",
              "      <td>0</td>\n",
              "      <td>78.0</td>\n",
              "      <td>7.92500</td>\n",
              "    </tr>\n",
              "    <tr>\n",
              "      <th>3</th>\n",
              "      <td>4</td>\n",
              "      <td>1</td>\n",
              "      <td>1</td>\n",
              "      <td>Futrelle, Mrs. Jacques Heath (Lily May Peel)</td>\n",
              "      <td>female</td>\n",
              "      <td>35.0</td>\n",
              "      <td>1</td>\n",
              "      <td>0</td>\n",
              "      <td>113803</td>\n",
              "      <td>53.1000</td>\n",
              "      <td>C123</td>\n",
              "      <td>S</td>\n",
              "      <td>Mrs</td>\n",
              "      <td>C</td>\n",
              "      <td>1</td>\n",
              "      <td>35.0</td>\n",
              "      <td>26.55000</td>\n",
              "    </tr>\n",
              "    <tr>\n",
              "      <th>4</th>\n",
              "      <td>5</td>\n",
              "      <td>0</td>\n",
              "      <td>3</td>\n",
              "      <td>Allen, Mr. William Henry</td>\n",
              "      <td>male</td>\n",
              "      <td>35.0</td>\n",
              "      <td>0</td>\n",
              "      <td>0</td>\n",
              "      <td>373450</td>\n",
              "      <td>8.0500</td>\n",
              "      <td>NaN</td>\n",
              "      <td>S</td>\n",
              "      <td>Mr</td>\n",
              "      <td>Unknown</td>\n",
              "      <td>0</td>\n",
              "      <td>105.0</td>\n",
              "      <td>8.05000</td>\n",
              "    </tr>\n",
              "  </tbody>\n",
              "</table>\n",
              "</div>\n",
              "      <button class=\"colab-df-convert\" onclick=\"convertToInteractive('df-0ee8a9ff-c7f9-4ab3-945b-01da76178fc8')\"\n",
              "              title=\"Convert this dataframe to an interactive table.\"\n",
              "              style=\"display:none;\">\n",
              "        \n",
              "  <svg xmlns=\"http://www.w3.org/2000/svg\" height=\"24px\"viewBox=\"0 0 24 24\"\n",
              "       width=\"24px\">\n",
              "    <path d=\"M0 0h24v24H0V0z\" fill=\"none\"/>\n",
              "    <path d=\"M18.56 5.44l.94 2.06.94-2.06 2.06-.94-2.06-.94-.94-2.06-.94 2.06-2.06.94zm-11 1L8.5 8.5l.94-2.06 2.06-.94-2.06-.94L8.5 2.5l-.94 2.06-2.06.94zm10 10l.94 2.06.94-2.06 2.06-.94-2.06-.94-.94-2.06-.94 2.06-2.06.94z\"/><path d=\"M17.41 7.96l-1.37-1.37c-.4-.4-.92-.59-1.43-.59-.52 0-1.04.2-1.43.59L10.3 9.45l-7.72 7.72c-.78.78-.78 2.05 0 2.83L4 21.41c.39.39.9.59 1.41.59.51 0 1.02-.2 1.41-.59l7.78-7.78 2.81-2.81c.8-.78.8-2.07 0-2.86zM5.41 20L4 18.59l7.72-7.72 1.47 1.35L5.41 20z\"/>\n",
              "  </svg>\n",
              "      </button>\n",
              "      \n",
              "  <style>\n",
              "    .colab-df-container {\n",
              "      display:flex;\n",
              "      flex-wrap:wrap;\n",
              "      gap: 12px;\n",
              "    }\n",
              "\n",
              "    .colab-df-convert {\n",
              "      background-color: #E8F0FE;\n",
              "      border: none;\n",
              "      border-radius: 50%;\n",
              "      cursor: pointer;\n",
              "      display: none;\n",
              "      fill: #1967D2;\n",
              "      height: 32px;\n",
              "      padding: 0 0 0 0;\n",
              "      width: 32px;\n",
              "    }\n",
              "\n",
              "    .colab-df-convert:hover {\n",
              "      background-color: #E2EBFA;\n",
              "      box-shadow: 0px 1px 2px rgba(60, 64, 67, 0.3), 0px 1px 3px 1px rgba(60, 64, 67, 0.15);\n",
              "      fill: #174EA6;\n",
              "    }\n",
              "\n",
              "    [theme=dark] .colab-df-convert {\n",
              "      background-color: #3B4455;\n",
              "      fill: #D2E3FC;\n",
              "    }\n",
              "\n",
              "    [theme=dark] .colab-df-convert:hover {\n",
              "      background-color: #434B5C;\n",
              "      box-shadow: 0px 1px 3px 1px rgba(0, 0, 0, 0.15);\n",
              "      filter: drop-shadow(0px 1px 2px rgba(0, 0, 0, 0.3));\n",
              "      fill: #FFFFFF;\n",
              "    }\n",
              "  </style>\n",
              "\n",
              "      <script>\n",
              "        const buttonEl =\n",
              "          document.querySelector('#df-0ee8a9ff-c7f9-4ab3-945b-01da76178fc8 button.colab-df-convert');\n",
              "        buttonEl.style.display =\n",
              "          google.colab.kernel.accessAllowed ? 'block' : 'none';\n",
              "\n",
              "        async function convertToInteractive(key) {\n",
              "          const element = document.querySelector('#df-0ee8a9ff-c7f9-4ab3-945b-01da76178fc8');\n",
              "          const dataTable =\n",
              "            await google.colab.kernel.invokeFunction('convertToInteractive',\n",
              "                                                     [key], {});\n",
              "          if (!dataTable) return;\n",
              "\n",
              "          const docLinkHtml = 'Like what you see? Visit the ' +\n",
              "            '<a target=\"_blank\" href=https://colab.research.google.com/notebooks/data_table.ipynb>data table notebook</a>'\n",
              "            + ' to learn more about interactive tables.';\n",
              "          element.innerHTML = '';\n",
              "          dataTable['output_type'] = 'display_data';\n",
              "          await google.colab.output.renderOutput(dataTable, element);\n",
              "          const docLink = document.createElement('div');\n",
              "          docLink.innerHTML = docLinkHtml;\n",
              "          element.appendChild(docLink);\n",
              "        }\n",
              "      </script>\n",
              "    </div>\n",
              "  </div>\n",
              "  "
            ]
          },
          "metadata": {},
          "execution_count": 34
        }
      ],
      "source": [
        "data.head()"
      ]
    },
    {
      "cell_type": "markdown",
      "metadata": {
        "id": "QQPbGkTYbq44"
      },
      "source": [
        "#EDA"
      ]
    },
    {
      "cell_type": "markdown",
      "source": [
        "ในส่วนของ EDA หริอ exploratory data analysis จะแสดงกราฟจำนวนของผู้รอดชีวิตเมื่อเทียบกับ Features ในแต่ละ Feature"
      ],
      "metadata": {
        "id": "Yz2U6bJuVewm"
      }
    },
    {
      "cell_type": "code",
      "execution_count": null,
      "metadata": {
        "colab": {
          "base_uri": "https://localhost:8080/",
          "height": 295
        },
        "id": "egxYx90TZM-V",
        "outputId": "0a47e75f-151a-4942-91f0-4de1d691a9d4"
      },
      "outputs": [
        {
          "output_type": "display_data",
          "data": {
            "text/plain": [
              "<Figure size 432x288 with 1 Axes>"
            ],
            "image/png": "[encoded data removed]"
          },
          "metadata": {
            "needs_background": "light"
          }
        }
      ],
      "source": [
        "ax = sns.countplot(x = \"Sex\" ,data =data, hue = \"Survived\")\n",
        "ax.legend(labels = [\"Deceased\", \"Survived\"])\n",
        "ax.set_title(\"Data - Survival based on Pclass.\")\n",
        "for p in ax.patches:\n",
        "   ax.annotate('{:.1f}'.format(p.get_height()), (p.get_x()+0.1, p.get_height()+1))"
      ]
    },
    {
      "cell_type": "markdown",
      "source": [
        "กราฟ Sex จะเห็นได้ว่าเพศหญิงมีอัตราการรอดชีวิตมากกว่าเพศชาย"
      ],
      "metadata": {
        "id": "kYJPXU9dXh0r"
      }
    },
    {
      "cell_type": "code",
      "execution_count": null,
      "metadata": {
        "colab": {
          "base_uri": "https://localhost:8080/",
          "height": 295
        },
        "id": "AyQm88gpgcqF",
        "outputId": "02e223c4-acfc-48c7-928c-456005d2f03f"
      },
      "outputs": [
        {
          "output_type": "display_data",
          "data": {
            "text/plain": [
              "<Figure size 432x288 with 1 Axes>"
            ],
            "image/png": "[encoded data removed]"
          },
          "metadata": {
            "needs_background": "light"
          }
        }
      ],
      "source": [
        "ax = sns.countplot(x = \"Pclass\" ,data =data, hue = \"Survived\")\n",
        "ax.legend(labels = [\"Deceased\", \"Survived\"])\n",
        "ax.set_title(\"Data - Survival based on Pclass.\")\n",
        "for p in ax.patches:\n",
        "   ax.annotate('{:.1f}'.format(p.get_height()), (p.get_x()+0.1, p.get_height()+1))"
      ]
    },
    {
      "cell_type": "markdown",
      "source": [
        "กราฟจาก feature Pclass จะเห็นได้ว่าคลาสที่ 1 จะมีสัดส่วนของผู้รอดชีวิตมากกว่าผู้เสียชีวิต ส่วนในคลาสที่ 3 จะเป็นคลาสที่มีคนเสียชีวิตมากสุด"
      ],
      "metadata": {
        "id": "7zwuz75Xh6__"
      }
    },
    {
      "cell_type": "code",
      "execution_count": null,
      "metadata": {
        "colab": {
          "base_uri": "https://localhost:8080/",
          "height": 312
        },
        "id": "iGiGKzbulXSQ",
        "outputId": "051273af-a90b-40e4-fe32-f66bb8d5188c"
      },
      "outputs": [
        {
          "output_type": "execute_result",
          "data": {
            "text/plain": [
              "Text(0.5, 1.0, 'Data - Survival based on SibSp.')"
            ]
          },
          "metadata": {},
          "execution_count": 37
        },
        {
          "output_type": "display_data",
          "data": {
            "text/plain": [
              "<Figure size 432x288 with 1 Axes>"
            ],
            "image/png": "[encoded data removed]"
          },
          "metadata": {
            "needs_background": "light"
          }
        }
      ],
      "source": [
        "ax = sns.countplot(x = \"SibSp\" ,data =data, hue = \"Survived\")\n",
        "ax.legend(labels = [\"Deceased\", \"Survived\"])\n",
        "ax.set_title(\"Data - Survival based on SibSp.\")"
      ]
    },
    {
      "cell_type": "markdown",
      "source": [
        "กราฟจาก SibSp ซึ่งแสดงให้เห็นจำนวนของญาติเมื่อเทียบกับอัตราการรอดชีวิตและเสียชีวิต จะพบว่าผู้ที่โดยสารบนเรือส่วนใหญ่จะมีจำนวนเครือญาติเป็น 0 สิ่งที่น่าสนใจคือในส่วนที่มีเครือญาติเท่ากับ 1 จะมีอัตราส่วนการรอดชีวิตมากกว่าการเสียชีวิต"
      ],
      "metadata": {
        "id": "mwdGrjCViFU-"
      }
    },
    {
      "cell_type": "code",
      "execution_count": null,
      "metadata": {
        "colab": {
          "base_uri": "https://localhost:8080/",
          "height": 313
        },
        "id": "lQrPBZFullso",
        "outputId": "0a34b250-7287-4175-b0fa-5b60ca628f82"
      },
      "outputs": [
        {
          "output_type": "execute_result",
          "data": {
            "text/plain": [
              "Text(0.5, 1.0, 'Data - Survival based on Age_Range.')"
            ]
          },
          "metadata": {},
          "execution_count": 38
        },
        {
          "output_type": "display_data",
          "data": {
            "text/plain": [
              "<Figure size 432x288 with 1 Axes>"
            ],
            "image/png": "[encoded data removed]"
          },
          "metadata": {
            "needs_background": "light"
          }
        }
      ],
      "source": [
        "data['Age_Range'] = pd.cut(data.Age, [0, 10, 20, 30, 40, 50, 60,70,80]) #แบ่งทำช่วงอายุเพื่อใช้ในการพลอตกราฟ\n",
        "ax = sns.countplot(x = \"Age_Range\", hue = \"Survived\", data = data)\n",
        "ax.legend(labels = [\"Deceased\", \"Survived\"])\n",
        "ax.set_title(\"Data - Survival based on Age_Range.\")"
      ]
    },
    {
      "cell_type": "markdown",
      "source": [
        "กราฟช่วงอายุ Age เมื่อเทียบกับจำนวนผู้รอดชีวิตและผู้เสียชีวิต จะเห็นได้ว่าผู้ที่มีช่วงอายุน้อยกว่า 10 ปีจะมีอัตราการรอดชีวิตที่มากกว่าการเสียชีวิต และช่วงอายุที่มีการโดยสารเรือไททานิคมากสุดอยู่ที่ช่วงอายุ 20-30 ปี"
      ],
      "metadata": {
        "id": "1WDSMVyJjLJk"
      }
    },
    {
      "cell_type": "code",
      "execution_count": null,
      "metadata": {
        "colab": {
          "base_uri": "https://localhost:8080/",
          "height": 312
        },
        "id": "JjyzgQxDmJpp",
        "outputId": "6259ea83-cfed-414a-a422-40d8aa1173db"
      },
      "outputs": [
        {
          "output_type": "execute_result",
          "data": {
            "text/plain": [
              "Text(0.5, 1.0, 'Data - Survival based on Parch.')"
            ]
          },
          "metadata": {},
          "execution_count": 39
        },
        {
          "output_type": "display_data",
          "data": {
            "text/plain": [
              "<Figure size 432x288 with 1 Axes>"
            ],
            "image/png": "[encoded data removed]"
          },
          "metadata": {
            "needs_background": "light"
          }
        }
      ],
      "source": [
        "ax = sns.countplot(x = \"Parch\" ,data =data, hue = \"Survived\")\n",
        "ax.legend(labels = [\"Deceased\", \"Survived\"])\n",
        "ax.set_title(\"Data - Survival based on Parch.\")"
      ]
    },
    {
      "cell_type": "markdown",
      "source": [
        "กราฟแสดงจำนวนครอบครัวที่ไปด้วยเช่น พ่อ แม่ ลูก หลาน ที่เรียกว่า Parch จะเห็นได้ว่า ผู้โดยสารสวนใหญ่เลือกเดินทางคนเดียว และที่ Parch เท่ากับ 1 มีอัตราการรอดชีวิตมากกว่าการเสียชีวิต"
      ],
      "metadata": {
        "id": "z3siT3OwnYqG"
      }
    },
    {
      "cell_type": "code",
      "execution_count": null,
      "metadata": {
        "colab": {
          "base_uri": "https://localhost:8080/"
        },
        "id": "AaRIIf3RnixI",
        "outputId": "1de7daa0-d2bf-4f27-bfcd-0726eeb343e8"
      },
      "outputs": [
        {
          "output_type": "execute_result",
          "data": {
            "text/plain": [
              "count    891.000000\n",
              "mean      32.204208\n",
              "std       49.693429\n",
              "min        0.000000\n",
              "25%        7.910400\n",
              "50%       14.454200\n",
              "75%       31.000000\n",
              "max      512.329200\n",
              "Name: Fare, dtype: float64"
            ]
          },
          "metadata": {},
          "execution_count": 40
        }
      ],
      "source": [
        "data.Fare.describe() #เช็คค่าทางสถิติของคอลัมน์ราคาตั๋วมีค่าเฉลี่ยของราคาอยู่ที่ 32.2"
      ]
    },
    {
      "cell_type": "code",
      "execution_count": null,
      "metadata": {
        "colab": {
          "base_uri": "https://localhost:8080/",
          "height": 314
        },
        "id": "E67zGgOYm23b",
        "outputId": "ee925e8c-c6f2-4e7c-a01b-bd8c57a74c39"
      },
      "outputs": [
        {
          "output_type": "execute_result",
          "data": {
            "text/plain": [
              "Text(0.5, 1.0, 'Data - Survival based on Fare.')"
            ]
          },
          "metadata": {},
          "execution_count": 41
        },
        {
          "output_type": "display_data",
          "data": {
            "text/plain": [
              "<Figure size 432x288 with 1 Axes>"
            ],
            "image/png": "[encoded data removed]"
          },
          "metadata": {
            "needs_background": "light"
          }
        }
      ],
      "source": [
        "data['Fare_Category'] = pd.cut(data['Fare'], bins=[0,7.91,14.45,31.00,512], labels=['Low','Mid','High_Mid','High']) #แบ่งประเภทของค่าตั๊วตาม quartile range\n",
        "ax = sns.countplot(x = \"Fare_Category\" ,data =data, hue = \"Survived\")\n",
        "ax.legend(labels = [\"Deceased\", \"Survived\"])\n",
        "ax.set_title(\"Data - Survival based on Fare.\")"
      ]
    },
    {
      "cell_type": "markdown",
      "source": [
        "จากกราฟ จะเห็นได้ว่าผู้ที่อัตราการรอดชีวิตส่วนใหญ่จะเป็นผู้ที่จ่ายราคาตั๋วในช่วงราคาที่สูงแต่กลับกันคนที่จ่ายค่าโดยสารราถูกกลับมีอัตราผู้เสียชีวิตมากกว่าผู้รอดชีวิต"
      ],
      "metadata": {
        "id": "JkLAW827ogwG"
      }
    },
    {
      "cell_type": "code",
      "execution_count": null,
      "metadata": {
        "colab": {
          "base_uri": "https://localhost:8080/",
          "height": 312
        },
        "id": "FcCXDSmSoeRM",
        "outputId": "a2b12d7e-be68-4883-cec8-821a53d849c0"
      },
      "outputs": [
        {
          "output_type": "execute_result",
          "data": {
            "text/plain": [
              "Text(0.5, 1.0, 'Data - Survival based on embarking point.')"
            ]
          },
          "metadata": {},
          "execution_count": 42
        },
        {
          "output_type": "display_data",
          "data": {
            "text/plain": [
              "<Figure size 432x288 with 1 Axes>"
            ],
            "image/png": "[encoded data removed]"
          },
          "metadata": {
            "needs_background": "light"
          }
        }
      ],
      "source": [
        "ax = sns.countplot(x = \"Embarked\" ,data =data, hue = \"Survived\")\n",
        "ax.set_xticklabels([\"Southampton\",\"Cherbourg\",\"Queenstown\"])\n",
        "ax.legend(labels = [\"Deceased\", \"Survived\"])\n",
        "ax.set_title(\"Data - Survival based on embarking point.\")"
      ]
    },
    {
      "cell_type": "markdown",
      "source": [
        "กราฟเทียบ Embarking กับจำนวนผู้รอดชีวิตและจำนวนผู้เสียชีวิต ซึงจะเห็นได้ว่าผู้โดยสารส่วนใหญ่ขึ้นมาจากท่า Southampton และในส่วนที่น่าสนใจคือ จะเห็นได้ว่าอัตราการรอดชีวิตมากกว่าเสียชีวิตเมื่อมีคนขึ้นที่ท่า Cherbourg"
      ],
      "metadata": {
        "id": "CwRed0Qs4HEb"
      }
    },
    {
      "cell_type": "code",
      "execution_count": null,
      "metadata": {
        "colab": {
          "base_uri": "https://localhost:8080/",
          "height": 312
        },
        "id": "aPZDTAu5ri7Z",
        "outputId": "876d0f20-ab77-4f23-b79e-41400f7aa92b"
      },
      "outputs": [
        {
          "output_type": "execute_result",
          "data": {
            "text/plain": [
              "Text(0.5, 1.0, 'Data - Survival based on Title.')"
            ]
          },
          "metadata": {},
          "execution_count": 43
        },
        {
          "output_type": "display_data",
          "data": {
            "text/plain": [
              "<Figure size 432x288 with 1 Axes>"
            ],
            "image/png": "[encoded data removed]"
          },
          "metadata": {
            "needs_background": "light"
          }
        }
      ],
      "source": [
        "ax = sns.countplot(x = \"Title\" ,data =data, hue = \"Survived\")\n",
        "ax.legend(labels = [\"Deceased\", \"Survived\"])\n",
        "ax.set_title(\"Data - Survival based on Title.\")"
      ]
    },
    {
      "cell_type": "markdown",
      "source": [
        "กราฟเทียบระหว่างสรรพนามของบุคคลกับอัตราการเสียชีวิตและรอดชีวิต ซึ่งเป็นข้อมูลที่ได้ทำการ feature engineer ก่อนหน้านั้น จะเห็นได้ว่า Mrs Miss และ Master จะมีอัตราการรอดชีวิตมากกว่าเสียชีวิต"
      ],
      "metadata": {
        "id": "zcLNzR2A46u3"
      }
    },
    {
      "cell_type": "code",
      "execution_count": null,
      "metadata": {
        "colab": {
          "base_uri": "https://localhost:8080/",
          "height": 312
        },
        "id": "Gd9xoKHlo02g",
        "outputId": "01ef521c-1081-432f-a41d-b5594b2976f8"
      },
      "outputs": [
        {
          "output_type": "execute_result",
          "data": {
            "text/plain": [
              "Text(0.5, 1.0, 'Data - Survival based on Deck.')"
            ]
          },
          "metadata": {},
          "execution_count": 44
        },
        {
          "output_type": "display_data",
          "data": {
            "text/plain": [
              "<Figure size 432x288 with 1 Axes>"
            ],
            "image/png": "[encoded data removed]"
          },
          "metadata": {
            "needs_background": "light"
          }
        }
      ],
      "source": [
        "ax = sns.countplot(x = \"Deck\" ,data =data, hue = \"Survived\")\n",
        "ax.legend(labels = [\"Deceased\", \"Survived\"])\n",
        "ax.set_title(\"Data - Survival based on Deck.\")"
      ]
    },
    {
      "cell_type": "markdown",
      "source": [
        "กราฟ Deck เมื่อเทียบกับจำนวนผู้รอดชีวิตและผู้เสียชีวิต ซึ่งงเป็นกราฟที่ได้จากการ Feature engineer ของคอลัมน์ cabin จะเห็นได้ว่าข้อมูลส่วนใหญ่เป็น Unknown "
      ],
      "metadata": {
        "id": "92k4szJ051qc"
      }
    },
    {
      "cell_type": "code",
      "execution_count": null,
      "metadata": {
        "colab": {
          "base_uri": "https://localhost:8080/",
          "height": 313
        },
        "id": "l19Imbt3rY2-",
        "outputId": "bedc6534-138a-4a09-b987-5bf0201db637"
      },
      "outputs": [
        {
          "output_type": "execute_result",
          "data": {
            "text/plain": [
              "Text(0.5, 1.0, 'Data - Survival based on Family_Size.')"
            ]
          },
          "metadata": {},
          "execution_count": 45
        },
        {
          "output_type": "display_data",
          "data": {
            "text/plain": [
              "<Figure size 432x288 with 1 Axes>"
            ],
            "image/png": "[encoded data removed]"
          },
          "metadata": {
            "needs_background": "light"
          }
        }
      ],
      "source": [
        "ax = sns.countplot(x = \"Family_Size\" ,data =data, hue = \"Survived\")\n",
        "ax.legend(labels = [\"Deceased\", \"Survived\"])\n",
        "ax.set_title(\"Data - Survival based on Family_Size.\")"
      ]
    },
    {
      "cell_type": "markdown",
      "source": [
        "กราฟเปรียบเทียบ Family Size กับอัตราการเสียชีวิตและรอดชีวิต จะเห็นได้ว่าคนที่มี Family_size เท่ากับ 1, 2 และ 3 จะมีอัตราการรอดชีวิตมากกว่าเสียชีวิต"
      ],
      "metadata": {
        "id": "KZA4ygAZ72PQ"
      }
    },
    {
      "cell_type": "code",
      "source": [
        "data[\"Age*Class\"].describe()"
      ],
      "metadata": {
        "id": "N4KPL3h_9Nrj",
        "colab": {
          "base_uri": "https://localhost:8080/"
        },
        "outputId": "bf8ddbfe-da7f-491f-fbb2-759ea1400bc5"
      },
      "execution_count": null,
      "outputs": [
        {
          "output_type": "execute_result",
          "data": {
            "text/plain": [
              "count    714.000000\n",
              "mean      61.978992\n",
              "std       34.405809\n",
              "min        1.000000\n",
              "25%       38.000000\n",
              "50%       58.000000\n",
              "75%       81.000000\n",
              "max      222.000000\n",
              "Name: Age*Class, dtype: float64"
            ]
          },
          "metadata": {},
          "execution_count": 46
        }
      ]
    },
    {
      "cell_type": "code",
      "execution_count": null,
      "metadata": {
        "colab": {
          "base_uri": "https://localhost:8080/",
          "height": 314
        },
        "id": "U-EWxlcztH7k",
        "outputId": "c5853aa5-6dd1-43e0-ff47-3b2448595882"
      },
      "outputs": [
        {
          "output_type": "execute_result",
          "data": {
            "text/plain": [
              "Text(0.5, 1.0, 'Data - Survival based on Age*Class.')"
            ]
          },
          "metadata": {},
          "execution_count": 47
        },
        {
          "output_type": "display_data",
          "data": {
            "text/plain": [
              "<Figure size 432x288 with 1 Axes>"
            ],
            "image/png": "[encoded data removed]"
          },
          "metadata": {
            "needs_background": "light"
          }
        }
      ],
      "source": [
        "data['Age*Class_Category'] = pd.cut(data['Age*Class'], bins=[0.92,38,58,81,222], labels=['Low','Mid','High_Mid','High']) #แบ่งประเภทของค่าตั๊วตาม quartile range\n",
        "ax = sns.countplot(x = \"Age*Class_Category\" ,data =data, hue = \"Survived\")\n",
        "ax.legend(labels = [\"Deceased\", \"Survived\"])\n",
        "ax.set_title(\"Data - Survival based on Age*Class.\")"
      ]
    },
    {
      "cell_type": "markdown",
      "source": [
        "กราฟ \"Age*Class\" ที่ได้ทำการเทียบจำนวนผู้รอดชีวิตและผู้เสียชีวิต ซึ่งคอลัมน์นี้ถูกสร้างมาจาก Age คูณกับ Class ซึ่งจะเห็นได้ว่า ในส่วนของ Age*class ที่มีค่าน้อยจะมีอัตราการรอดชีวิตมากกว่าเสียชีวิต"
      ],
      "metadata": {
        "id": "Bb1JwxxJFMqF"
      }
    },
    {
      "cell_type": "code",
      "execution_count": null,
      "metadata": {
        "colab": {
          "base_uri": "https://localhost:8080/"
        },
        "id": "WPhZSfPntwBt",
        "outputId": "d795ccad-35ce-4d34-fd07-c672356f25f1"
      },
      "outputs": [
        {
          "output_type": "execute_result",
          "data": {
            "text/plain": [
              "count    891.000000\n",
              "mean      19.916375\n",
              "std       35.841257\n",
              "min        0.000000\n",
              "25%        7.250000\n",
              "50%        8.300000\n",
              "75%       23.666667\n",
              "max      512.329200\n",
              "Name: Fare_Per_Person, dtype: float64"
            ]
          },
          "metadata": {},
          "execution_count": 48
        }
      ],
      "source": [
        "data[\"Fare_Per_Person\"].describe()"
      ]
    },
    {
      "cell_type": "code",
      "execution_count": null,
      "metadata": {
        "colab": {
          "base_uri": "https://localhost:8080/",
          "height": 314
        },
        "id": "uZem-jk-uOZG",
        "outputId": "b5320889-d850-47c0-8691-ba7f3e1a2ff8"
      },
      "outputs": [
        {
          "output_type": "execute_result",
          "data": {
            "text/plain": [
              "Text(0.5, 1.0, 'Data - Survival based on Fare_Per_Person.')"
            ]
          },
          "metadata": {},
          "execution_count": 49
        },
        {
          "output_type": "display_data",
          "data": {
            "text/plain": [
              "<Figure size 432x288 with 1 Axes>"
            ],
            "image/png": "[encoded data removed]"
          },
          "metadata": {
            "needs_background": "light"
          }
        }
      ],
      "source": [
        "data['Fare_Per_Person_Category'] = pd.cut(data['Fare_Per_Person'], bins=[0,7.25,8.3,23.67,512.32], labels=['Low','Mid','High_Mid','High']) #แบ่งประเภทของค่าตั๊วตาม quartile range\n",
        "ax = sns.countplot(x = \"Fare_Per_Person_Category\" ,data =data, hue = \"Survived\")\n",
        "ax.legend(labels = [\"Deceased\", \"Survived\"])\n",
        "ax.set_title(\"Data - Survival based on Fare_Per_Person.\")"
      ]
    },
    {
      "cell_type": "markdown",
      "source": [
        "กราฟ Fare_Per_Person ที่ได้มาจากการนำ Fare หารด้วย familysize จะเห้นได้ว่าอัตราการรอดชีวิตจะสูงขึ้นเมื่อค่าโดยสารที่จ่ายมีราคาแพง"
      ],
      "metadata": {
        "id": "yVu_QjG61B-W"
      }
    },
    {
      "cell_type": "code",
      "execution_count": null,
      "metadata": {
        "colab": {
          "base_uri": "https://localhost:8080/",
          "height": 577
        },
        "id": "UCMeb-xHui4C",
        "outputId": "06a428b1-5ead-4499-b948-0a384c0f3dc4"
      },
      "outputs": [
        {
          "output_type": "execute_result",
          "data": {
            "text/plain": [
              "   PassengerId  Survived  Pclass  \\\n",
              "0            1         0       3   \n",
              "1            2         1       1   \n",
              "2            3         1       3   \n",
              "3            4         1       1   \n",
              "4            5         0       3   \n",
              "\n",
              "                                                Name     Sex   Age  SibSp  \\\n",
              "0                            Braund, Mr. Owen Harris    male  22.0      1   \n",
              "1  Cumings, Mrs. John Bradley (Florence Briggs Th...  female  38.0      1   \n",
              "2                             Heikkinen, Miss. Laina  female  26.0      0   \n",
              "3       Futrelle, Mrs. Jacques Heath (Lily May Peel)  female  35.0      1   \n",
              "4                           Allen, Mr. William Henry    male  35.0      0   \n",
              "\n",
              "   Parch            Ticket     Fare  ... Embarked Title     Deck Family_Size  \\\n",
              "0      0         A/5 21171   7.2500  ...        S    Mr  Unknown           1   \n",
              "1      0          PC 17599  71.2833  ...        C   Mrs        C           1   \n",
              "2      0  STON/O2. 3101282   7.9250  ...        S  Miss  Unknown           0   \n",
              "3      0            113803  53.1000  ...        S   Mrs        C           1   \n",
              "4      0            373450   8.0500  ...        S    Mr  Unknown           0   \n",
              "\n",
              "   Age*Class  Fare_Per_Person  Age_Range Fare_Category Age*Class_Category  \\\n",
              "0       66.0          3.62500   (20, 30]           Low           High_Mid   \n",
              "1       38.0         35.64165   (30, 40]          High                Low   \n",
              "2       78.0          7.92500   (20, 30]           Mid           High_Mid   \n",
              "3       35.0         26.55000   (30, 40]          High                Low   \n",
              "4      105.0          8.05000   (30, 40]           Mid               High   \n",
              "\n",
              "  Fare_Per_Person_Category  \n",
              "0                      Low  \n",
              "1                     High  \n",
              "2                      Mid  \n",
              "3                     High  \n",
              "4                      Mid  \n",
              "\n",
              "[5 rows x 21 columns]"
            ],
            "text/html": [
              "\n",
              "  <div id=\"df-7e0448cf-2645-400e-8946-28832c14fa6f\">\n",
              "    <div class=\"colab-df-container\">\n",
              "      <div>\n",
              "<style scoped>\n",
              "    .dataframe tbody tr th:only-of-type {\n",
              "        vertical-align: middle;\n",
              "    }\n",
              "\n",
              "    .dataframe tbody tr th {\n",
              "        vertical-align: top;\n",
              "    }\n",
              "\n",
              "    .dataframe thead th {\n",
              "        text-align: right;\n",
              "    }\n",
              "</style>\n",
              "<table border=\"1\" class=\"dataframe\">\n",
              "  <thead>\n",
              "    <tr style=\"text-align: right;\">\n",
              "      <th></th>\n",
              "      <th>PassengerId</th>\n",
              "      <th>Survived</th>\n",
              "      <th>Pclass</th>\n",
              "      <th>Name</th>\n",
              "      <th>Sex</th>\n",
              "      <th>Age</th>\n",
              "      <th>SibSp</th>\n",
              "      <th>Parch</th>\n",
              "      <th>Ticket</th>\n",
              "      <th>Fare</th>\n",
              "      <th>...</th>\n",
              "      <th>Embarked</th>\n",
              "      <th>Title</th>\n",
              "      <th>Deck</th>\n",
              "      <th>Family_Size</th>\n",
              "      <th>Age*Class</th>\n",
              "      <th>Fare_Per_Person</th>\n",
              "      <th>Age_Range</th>\n",
              "      <th>Fare_Category</th>\n",
              "      <th>Age*Class_Category</th>\n",
              "      <th>Fare_Per_Person_Category</th>\n",
              "    </tr>\n",
              "  </thead>\n",
              "  <tbody>\n",
              "    <tr>\n",
              "      <th>0</th>\n",
              "      <td>1</td>\n",
              "      <td>0</td>\n",
              "      <td>3</td>\n",
              "      <td>Braund, Mr. Owen Harris</td>\n",
              "      <td>male</td>\n",
              "      <td>22.0</td>\n",
              "      <td>1</td>\n",
              "      <td>0</td>\n",
              "      <td>A/5 21171</td>\n",
              "      <td>7.2500</td>\n",
              "      <td>...</td>\n",
              "      <td>S</td>\n",
              "      <td>Mr</td>\n",
              "      <td>Unknown</td>\n",
              "      <td>1</td>\n",
              "      <td>66.0</td>\n",
              "      <td>3.62500</td>\n",
              "      <td>(20, 30]</td>\n",
              "      <td>Low</td>\n",
              "      <td>High_Mid</td>\n",
              "      <td>Low</td>\n",
              "    </tr>\n",
              "    <tr>\n",
              "      <th>1</th>\n",
              "      <td>2</td>\n",
              "      <td>1</td>\n",
              "      <td>1</td>\n",
              "      <td>Cumings, Mrs. John Bradley (Florence Briggs Th...</td>\n",
              "      <td>female</td>\n",
              "      <td>38.0</td>\n",
              "      <td>1</td>\n",
              "      <td>0</td>\n",
              "      <td>PC 17599</td>\n",
              "      <td>71.2833</td>\n",
              "      <td>...</td>\n",
              "      <td>C</td>\n",
              "      <td>Mrs</td>\n",
              "      <td>C</td>\n",
              "      <td>1</td>\n",
              "      <td>38.0</td>\n",
              "      <td>35.64165</td>\n",
              "      <td>(30, 40]</td>\n",
              "      <td>High</td>\n",
              "      <td>Low</td>\n",
              "      <td>High</td>\n",
              "    </tr>\n",
              "    <tr>\n",
              "      <th>2</th>\n",
              "      <td>3</td>\n",
              "      <td>1</td>\n",
              "      <td>3</td>\n",
              "      <td>Heikkinen, Miss. Laina</td>\n",
              "      <td>female</td>\n",
              "      <td>26.0</td>\n",
              "      <td>0</td>\n",
              "      <td>0</td>\n",
              "      <td>STON/O2. 3101282</td>\n",
              "      <td>7.9250</td>\n",
              "      <td>...</td>\n",
              "      <td>S</td>\n",
              "      <td>Miss</td>\n",
              "      <td>Unknown</td>\n",
              "      <td>0</td>\n",
              "      <td>78.0</td>\n",
              "      <td>7.92500</td>\n",
              "      <td>(20, 30]</td>\n",
              "      <td>Mid</td>\n",
              "      <td>High_Mid</td>\n",
              "      <td>Mid</td>\n",
              "    </tr>\n",
              "    <tr>\n",
              "      <th>3</th>\n",
              "      <td>4</td>\n",
              "      <td>1</td>\n",
              "      <td>1</td>\n",
              "      <td>Futrelle, Mrs. Jacques Heath (Lily May Peel)</td>\n",
              "      <td>female</td>\n",
              "      <td>35.0</td>\n",
              "      <td>1</td>\n",
              "      <td>0</td>\n",
              "      <td>113803</td>\n",
              "      <td>53.1000</td>\n",
              "      <td>...</td>\n",
              "      <td>S</td>\n",
              "      <td>Mrs</td>\n",
              "      <td>C</td>\n",
              "      <td>1</td>\n",
              "      <td>35.0</td>\n",
              "      <td>26.55000</td>\n",
              "      <td>(30, 40]</td>\n",
              "      <td>High</td>\n",
              "      <td>Low</td>\n",
              "      <td>High</td>\n",
              "    </tr>\n",
              "    <tr>\n",
              "      <th>4</th>\n",
              "      <td>5</td>\n",
              "      <td>0</td>\n",
              "      <td>3</td>\n",
              "      <td>Allen, Mr. William Henry</td>\n",
              "      <td>male</td>\n",
              "      <td>35.0</td>\n",
              "      <td>0</td>\n",
              "      <td>0</td>\n",
              "      <td>373450</td>\n",
              "      <td>8.0500</td>\n",
              "      <td>...</td>\n",
              "      <td>S</td>\n",
              "      <td>Mr</td>\n",
              "      <td>Unknown</td>\n",
              "      <td>0</td>\n",
              "      <td>105.0</td>\n",
              "      <td>8.05000</td>\n",
              "      <td>(30, 40]</td>\n",
              "      <td>Mid</td>\n",
              "      <td>High</td>\n",
              "      <td>Mid</td>\n",
              "    </tr>\n",
              "  </tbody>\n",
              "</table>\n",
              "<p>5 rows × 21 columns</p>\n",
              "</div>\n",
              "      <button class=\"colab-df-convert\" onclick=\"convertToInteractive('df-7e0448cf-2645-400e-8946-28832c14fa6f')\"\n",
              "              title=\"Convert this dataframe to an interactive table.\"\n",
              "              style=\"display:none;\">\n",
              "        \n",
              "  <svg xmlns=\"http://www.w3.org/2000/svg\" height=\"24px\"viewBox=\"0 0 24 24\"\n",
              "       width=\"24px\">\n",
              "    <path d=\"M0 0h24v24H0V0z\" fill=\"none\"/>\n",
              "    <path d=\"M18.56 5.44l.94 2.06.94-2.06 2.06-.94-2.06-.94-.94-2.06-.94 2.06-2.06.94zm-11 1L8.5 8.5l.94-2.06 2.06-.94-2.06-.94L8.5 2.5l-.94 2.06-2.06.94zm10 10l.94 2.06.94-2.06 2.06-.94-2.06-.94-.94-2.06-.94 2.06-2.06.94z\"/><path d=\"M17.41 7.96l-1.37-1.37c-.4-.4-.92-.59-1.43-.59-.52 0-1.04.2-1.43.59L10.3 9.45l-7.72 7.72c-.78.78-.78 2.05 0 2.83L4 21.41c.39.39.9.59 1.41.59.51 0 1.02-.2 1.41-.59l7.78-7.78 2.81-2.81c.8-.78.8-2.07 0-2.86zM5.41 20L4 18.59l7.72-7.72 1.47 1.35L5.41 20z\"/>\n",
              "  </svg>\n",
              "      </button>\n",
              "      \n",
              "  <style>\n",
              "    .colab-df-container {\n",
              "      display:flex;\n",
              "      flex-wrap:wrap;\n",
              "      gap: 12px;\n",
              "    }\n",
              "\n",
              "    .colab-df-convert {\n",
              "      background-color: #E8F0FE;\n",
              "      border: none;\n",
              "      border-radius: 50%;\n",
              "      cursor: pointer;\n",
              "      display: none;\n",
              "      fill: #1967D2;\n",
              "      height: 32px;\n",
              "      padding: 0 0 0 0;\n",
              "      width: 32px;\n",
              "    }\n",
              "\n",
              "    .colab-df-convert:hover {\n",
              "      background-color: #E2EBFA;\n",
              "      box-shadow: 0px 1px 2px rgba(60, 64, 67, 0.3), 0px 1px 3px 1px rgba(60, 64, 67, 0.15);\n",
              "      fill: #174EA6;\n",
              "    }\n",
              "\n",
              "    [theme=dark] .colab-df-convert {\n",
              "      background-color: #3B4455;\n",
              "      fill: #D2E3FC;\n",
              "    }\n",
              "\n",
              "    [theme=dark] .colab-df-convert:hover {\n",
              "      background-color: #434B5C;\n",
              "      box-shadow: 0px 1px 3px 1px rgba(0, 0, 0, 0.15);\n",
              "      filter: drop-shadow(0px 1px 2px rgba(0, 0, 0, 0.3));\n",
              "      fill: #FFFFFF;\n",
              "    }\n",
              "  </style>\n",
              "\n",
              "      <script>\n",
              "        const buttonEl =\n",
              "          document.querySelector('#df-7e0448cf-2645-400e-8946-28832c14fa6f button.colab-df-convert');\n",
              "        buttonEl.style.display =\n",
              "          google.colab.kernel.accessAllowed ? 'block' : 'none';\n",
              "\n",
              "        async function convertToInteractive(key) {\n",
              "          const element = document.querySelector('#df-7e0448cf-2645-400e-8946-28832c14fa6f');\n",
              "          const dataTable =\n",
              "            await google.colab.kernel.invokeFunction('convertToInteractive',\n",
              "                                                     [key], {});\n",
              "          if (!dataTable) return;\n",
              "\n",
              "          const docLinkHtml = 'Like what you see? Visit the ' +\n",
              "            '<a target=\"_blank\" href=https://colab.research.google.com/notebooks/data_table.ipynb>data table notebook</a>'\n",
              "            + ' to learn more about interactive tables.';\n",
              "          element.innerHTML = '';\n",
              "          dataTable['output_type'] = 'display_data';\n",
              "          await google.colab.output.renderOutput(dataTable, element);\n",
              "          const docLink = document.createElement('div');\n",
              "          docLink.innerHTML = docLinkHtml;\n",
              "          element.appendChild(docLink);\n",
              "        }\n",
              "      </script>\n",
              "    </div>\n",
              "  </div>\n",
              "  "
            ]
          },
          "metadata": {},
          "execution_count": 50
        }
      ],
      "source": [
        "data.head()"
      ]
    },
    {
      "cell_type": "markdown",
      "metadata": {
        "id": "rvUPP6Ch5asy"
      },
      "source": [
        "ทำการเช็คว่าข้อมูลเป็น normal distribution และดูค่าการกระจายของข้อมูล บนคอลัมน์ที่เป็น continous value ที่ประกอบไปด้วยคอลัมน์ Age, Fare, Age*class, Fare_Per_Person"
      ]
    },
    {
      "cell_type": "code",
      "execution_count": null,
      "metadata": {
        "colab": {
          "base_uri": "https://localhost:8080/",
          "height": 657
        },
        "id": "ycVx9Zie17NS",
        "outputId": "38aa3b87-c2fe-491f-c0fe-0038a9a778a4"
      },
      "outputs": [
        {
          "output_type": "display_data",
          "data": {
            "text/plain": [
              "<Figure size 1080x648 with 4 Axes>"
            ],
            "image/png": "[encoded data removed]"
          },
          "metadata": {
            "needs_background": "light"
          }
        }
      ],
      "source": [
        "fig, axes = plt.subplots(nrows = 2, ncols = 2, figsize = (15,9))\n",
        "sns.histplot(data = data, x = \"Age\", ax = axes[0,0])\n",
        "axes[0,0].set_title(\"Age distribution\")\n",
        "sns.histplot(data = data, x = \"Fare\", ax = axes[0,1])\n",
        "axes[0,1].set_title(\"Fare distribution\")\n",
        "sns.histplot(data = data, x = \"Age*Class\", ax = axes[1,0])\n",
        "axes[1,0].set_title(\"Age*Class distribution\")\n",
        "sns.histplot(data = data, x = \"Fare_Per_Person\", ax = axes[1,1])\n",
        "axes[1,1].set_title(\"Fare_Per_Person distribution\")\n",
        "plt.tight_layout()"
      ]
    },
    {
      "cell_type": "markdown",
      "source": [
        "จะเห็นได้ว่าจากกราฟด้านบน Fare distribution กับ Fare_per_person จะเป็นกราฟที่เบ้ขวามาก อาจจะต้องทำการเช็ค outlier และทำการตัดทิ้ง"
      ],
      "metadata": {
        "id": "llJqiwC21gY9"
      }
    },
    {
      "cell_type": "markdown",
      "source": [
        "# Data preparation"
      ],
      "metadata": {
        "id": "OoGYBDii0jn9"
      }
    },
    {
      "cell_type": "markdown",
      "source": [
        "ขั้นตอนนี้จะเป็นการเตรียมข้อมูลที่มีเพื่อที่จะนำไปใช้ในการสร้างโมเดล"
      ],
      "metadata": {
        "id": "164a0q8c2hcx"
      }
    },
    {
      "cell_type": "code",
      "source": [
        "data2 = data.drop(columns= [\"Age_Range\",\t\"Fare_Category\",\t\"Age*Class_Category\",\t\"Fare_Per_Person_Category\"]) #ตัดคอลัมน์ทีได้ทำการสร้างมาแบ่งช่วงเพื่อใช้ในการพลอตกราฟออก\n",
        "data2.head()"
      ],
      "metadata": {
        "colab": {
          "base_uri": "https://localhost:8080/",
          "height": 302
        },
        "id": "fjeht9S90qlT",
        "outputId": "75e561ca-8f3f-40cb-c05b-3344afa6b25d"
      },
      "execution_count": null,
      "outputs": [
        {
          "output_type": "execute_result",
          "data": {
            "text/plain": [
              "   PassengerId  Survived  Pclass  \\\n",
              "0            1         0       3   \n",
              "1            2         1       1   \n",
              "2            3         1       3   \n",
              "3            4         1       1   \n",
              "4            5         0       3   \n",
              "\n",
              "                                                Name     Sex   Age  SibSp  \\\n",
              "0                            Braund, Mr. Owen Harris    male  22.0      1   \n",
              "1  Cumings, Mrs. John Bradley (Florence Briggs Th...  female  38.0      1   \n",
              "2                             Heikkinen, Miss. Laina  female  26.0      0   \n",
              "3       Futrelle, Mrs. Jacques Heath (Lily May Peel)  female  35.0      1   \n",
              "4                           Allen, Mr. William Henry    male  35.0      0   \n",
              "\n",
              "   Parch            Ticket     Fare Cabin Embarked Title     Deck  \\\n",
              "0      0         A/5 21171   7.2500   NaN        S    Mr  Unknown   \n",
              "1      0          PC 17599  71.2833   C85        C   Mrs        C   \n",
              "2      0  STON/O2. 3101282   7.9250   NaN        S  Miss  Unknown   \n",
              "3      0            113803  53.1000  C123        S   Mrs        C   \n",
              "4      0            373450   8.0500   NaN        S    Mr  Unknown   \n",
              "\n",
              "   Family_Size  Age*Class  Fare_Per_Person  \n",
              "0            1       66.0          3.62500  \n",
              "1            1       38.0         35.64165  \n",
              "2            0       78.0          7.92500  \n",
              "3            1       35.0         26.55000  \n",
              "4            0      105.0          8.05000  "
            ],
            "text/html": [
              "\n",
              "  <div id=\"df-ffa6c73d-9031-45c7-9630-3bad190f375f\">\n",
              "    <div class=\"colab-df-container\">\n",
              "      <div>\n",
              "<style scoped>\n",
              "    .dataframe tbody tr th:only-of-type {\n",
              "        vertical-align: middle;\n",
              "    }\n",
              "\n",
              "    .dataframe tbody tr th {\n",
              "        vertical-align: top;\n",
              "    }\n",
              "\n",
              "    .dataframe thead th {\n",
              "        text-align: right;\n",
              "    }\n",
              "</style>\n",
              "<table border=\"1\" class=\"dataframe\">\n",
              "  <thead>\n",
              "    <tr style=\"text-align: right;\">\n",
              "      <th></th>\n",
              "      <th>PassengerId</th>\n",
              "      <th>Survived</th>\n",
              "      <th>Pclass</th>\n",
              "      <th>Name</th>\n",
              "      <th>Sex</th>\n",
              "      <th>Age</th>\n",
              "      <th>SibSp</th>\n",
              "      <th>Parch</th>\n",
              "      <th>Ticket</th>\n",
              "      <th>Fare</th>\n",
              "      <th>Cabin</th>\n",
              "      <th>Embarked</th>\n",
              "      <th>Title</th>\n",
              "      <th>Deck</th>\n",
              "      <th>Family_Size</th>\n",
              "      <th>Age*Class</th>\n",
              "      <th>Fare_Per_Person</th>\n",
              "    </tr>\n",
              "  </thead>\n",
              "  <tbody>\n",
              "    <tr>\n",
              "      <th>0</th>\n",
              "      <td>1</td>\n",
              "      <td>0</td>\n",
              "      <td>3</td>\n",
              "      <td>Braund, Mr. Owen Harris</td>\n",
              "      <td>male</td>\n",
              "      <td>22.0</td>\n",
              "      <td>1</td>\n",
              "      <td>0</td>\n",
              "      <td>A/5 21171</td>\n",
              "      <td>7.2500</td>\n",
              "      <td>NaN</td>\n",
              "      <td>S</td>\n",
              "      <td>Mr</td>\n",
              "      <td>Unknown</td>\n",
              "      <td>1</td>\n",
              "      <td>66.0</td>\n",
              "      <td>3.62500</td>\n",
              "    </tr>\n",
              "    <tr>\n",
              "      <th>1</th>\n",
              "      <td>2</td>\n",
              "      <td>1</td>\n",
              "      <td>1</td>\n",
              "      <td>Cumings, Mrs. John Bradley (Florence Briggs Th...</td>\n",
              "      <td>female</td>\n",
              "      <td>38.0</td>\n",
              "      <td>1</td>\n",
              "      <td>0</td>\n",
              "      <td>PC 17599</td>\n",
              "      <td>71.2833</td>\n",
              "      <td>C85</td>\n",
              "      <td>C</td>\n",
              "      <td>Mrs</td>\n",
              "      <td>C</td>\n",
              "      <td>1</td>\n",
              "      <td>38.0</td>\n",
              "      <td>35.64165</td>\n",
              "    </tr>\n",
              "    <tr>\n",
              "      <th>2</th>\n",
              "      <td>3</td>\n",
              "      <td>1</td>\n",
              "      <td>3</td>\n",
              "      <td>Heikkinen, Miss. Laina</td>\n",
              "      <td>female</td>\n",
              "      <td>26.0</td>\n",
              "      <td>0</td>\n",
              "      <td>0</td>\n",
              "      <td>STON/O2. 3101282</td>\n",
              "      <td>7.9250</td>\n",
              "      <td>NaN</td>\n",
              "      <td>S</td>\n",
              "      <td>Miss</td>\n",
              "      <td>Unknown</td>\n",
              "      <td>0</td>\n",
              "      <td>78.0</td>\n",
              "      <td>7.92500</td>\n",
              "    </tr>\n",
              "    <tr>\n",
              "      <th>3</th>\n",
              "      <td>4</td>\n",
              "      <td>1</td>\n",
              "      <td>1</td>\n",
              "      <td>Futrelle, Mrs. Jacques Heath (Lily May Peel)</td>\n",
              "      <td>female</td>\n",
              "      <td>35.0</td>\n",
              "      <td>1</td>\n",
              "      <td>0</td>\n",
              "      <td>113803</td>\n",
              "      <td>53.1000</td>\n",
              "      <td>C123</td>\n",
              "      <td>S</td>\n",
              "      <td>Mrs</td>\n",
              "      <td>C</td>\n",
              "      <td>1</td>\n",
              "      <td>35.0</td>\n",
              "      <td>26.55000</td>\n",
              "    </tr>\n",
              "    <tr>\n",
              "      <th>4</th>\n",
              "      <td>5</td>\n",
              "      <td>0</td>\n",
              "      <td>3</td>\n",
              "      <td>Allen, Mr. William Henry</td>\n",
              "      <td>male</td>\n",
              "      <td>35.0</td>\n",
              "      <td>0</td>\n",
              "      <td>0</td>\n",
              "      <td>373450</td>\n",
              "      <td>8.0500</td>\n",
              "      <td>NaN</td>\n",
              "      <td>S</td>\n",
              "      <td>Mr</td>\n",
              "      <td>Unknown</td>\n",
              "      <td>0</td>\n",
              "      <td>105.0</td>\n",
              "      <td>8.05000</td>\n",
              "    </tr>\n",
              "  </tbody>\n",
              "</table>\n",
              "</div>\n",
              "      <button class=\"colab-df-convert\" onclick=\"convertToInteractive('df-ffa6c73d-9031-45c7-9630-3bad190f375f')\"\n",
              "              title=\"Convert this dataframe to an interactive table.\"\n",
              "              style=\"display:none;\">\n",
              "        \n",
              "  <svg xmlns=\"http://www.w3.org/2000/svg\" height=\"24px\"viewBox=\"0 0 24 24\"\n",
              "       width=\"24px\">\n",
              "    <path d=\"M0 0h24v24H0V0z\" fill=\"none\"/>\n",
              "    <path d=\"M18.56 5.44l.94 2.06.94-2.06 2.06-.94-2.06-.94-.94-2.06-.94 2.06-2.06.94zm-11 1L8.5 8.5l.94-2.06 2.06-.94-2.06-.94L8.5 2.5l-.94 2.06-2.06.94zm10 10l.94 2.06.94-2.06 2.06-.94-2.06-.94-.94-2.06-.94 2.06-2.06.94z\"/><path d=\"M17.41 7.96l-1.37-1.37c-.4-.4-.92-.59-1.43-.59-.52 0-1.04.2-1.43.59L10.3 9.45l-7.72 7.72c-.78.78-.78 2.05 0 2.83L4 21.41c.39.39.9.59 1.41.59.51 0 1.02-.2 1.41-.59l7.78-7.78 2.81-2.81c.8-.78.8-2.07 0-2.86zM5.41 20L4 18.59l7.72-7.72 1.47 1.35L5.41 20z\"/>\n",
              "  </svg>\n",
              "      </button>\n",
              "      \n",
              "  <style>\n",
              "    .colab-df-container {\n",
              "      display:flex;\n",
              "      flex-wrap:wrap;\n",
              "      gap: 12px;\n",
              "    }\n",
              "\n",
              "    .colab-df-convert {\n",
              "      background-color: #E8F0FE;\n",
              "      border: none;\n",
              "      border-radius: 50%;\n",
              "      cursor: pointer;\n",
              "      display: none;\n",
              "      fill: #1967D2;\n",
              "      height: 32px;\n",
              "      padding: 0 0 0 0;\n",
              "      width: 32px;\n",
              "    }\n",
              "\n",
              "    .colab-df-convert:hover {\n",
              "      background-color: #E2EBFA;\n",
              "      box-shadow: 0px 1px 2px rgba(60, 64, 67, 0.3), 0px 1px 3px 1px rgba(60, 64, 67, 0.15);\n",
              "      fill: #174EA6;\n",
              "    }\n",
              "\n",
              "    [theme=dark] .colab-df-convert {\n",
              "      background-color: #3B4455;\n",
              "      fill: #D2E3FC;\n",
              "    }\n",
              "\n",
              "    [theme=dark] .colab-df-convert:hover {\n",
              "      background-color: #434B5C;\n",
              "      box-shadow: 0px 1px 3px 1px rgba(0, 0, 0, 0.15);\n",
              "      filter: drop-shadow(0px 1px 2px rgba(0, 0, 0, 0.3));\n",
              "      fill: #FFFFFF;\n",
              "    }\n",
              "  </style>\n",
              "\n",
              "      <script>\n",
              "        const buttonEl =\n",
              "          document.querySelector('#df-ffa6c73d-9031-45c7-9630-3bad190f375f button.colab-df-convert');\n",
              "        buttonEl.style.display =\n",
              "          google.colab.kernel.accessAllowed ? 'block' : 'none';\n",
              "\n",
              "        async function convertToInteractive(key) {\n",
              "          const element = document.querySelector('#df-ffa6c73d-9031-45c7-9630-3bad190f375f');\n",
              "          const dataTable =\n",
              "            await google.colab.kernel.invokeFunction('convertToInteractive',\n",
              "                                                     [key], {});\n",
              "          if (!dataTable) return;\n",
              "\n",
              "          const docLinkHtml = 'Like what you see? Visit the ' +\n",
              "            '<a target=\"_blank\" href=https://colab.research.google.com/notebooks/data_table.ipynb>data table notebook</a>'\n",
              "            + ' to learn more about interactive tables.';\n",
              "          element.innerHTML = '';\n",
              "          dataTable['output_type'] = 'display_data';\n",
              "          await google.colab.output.renderOutput(dataTable, element);\n",
              "          const docLink = document.createElement('div');\n",
              "          docLink.innerHTML = docLinkHtml;\n",
              "          element.appendChild(docLink);\n",
              "        }\n",
              "      </script>\n",
              "    </div>\n",
              "  </div>\n",
              "  "
            ]
          },
          "metadata": {},
          "execution_count": 52
        }
      ]
    },
    {
      "cell_type": "code",
      "execution_count": null,
      "metadata": {
        "colab": {
          "base_uri": "https://localhost:8080/",
          "height": 206
        },
        "outputId": "78e70d78-92bb-459a-e678-164b6678bcf9",
        "id": "RQebQSsh1ZVA"
      },
      "outputs": [
        {
          "output_type": "execute_result",
          "data": {
            "text/plain": [
              "   Survived  Pclass     Sex   Age  SibSp  Parch     Fare Cabin Embarked Title  \\\n",
              "0         0       3    male  22.0      1      0   7.2500   NaN        S    Mr   \n",
              "1         1       1  female  38.0      1      0  71.2833   C85        C   Mrs   \n",
              "2         1       3  female  26.0      0      0   7.9250   NaN        S  Miss   \n",
              "3         1       1  female  35.0      1      0  53.1000  C123        S   Mrs   \n",
              "4         0       3    male  35.0      0      0   8.0500   NaN        S    Mr   \n",
              "\n",
              "      Deck  Family_Size  Age*Class  Fare_Per_Person  \n",
              "0  Unknown            1       66.0          3.62500  \n",
              "1        C            1       38.0         35.64165  \n",
              "2  Unknown            0       78.0          7.92500  \n",
              "3        C            1       35.0         26.55000  \n",
              "4  Unknown            0      105.0          8.05000  "
            ],
            "text/html": [
              "\n",
              "  <div id=\"df-6f00811b-a22a-40f7-8e78-76e16931fff5\">\n",
              "    <div class=\"colab-df-container\">\n",
              "      <div>\n",
              "<style scoped>\n",
              "    .dataframe tbody tr th:only-of-type {\n",
              "        vertical-align: middle;\n",
              "    }\n",
              "\n",
              "    .dataframe tbody tr th {\n",
              "        vertical-align: top;\n",
              "    }\n",
              "\n",
              "    .dataframe thead th {\n",
              "        text-align: right;\n",
              "    }\n",
              "</style>\n",
              "<table border=\"1\" class=\"dataframe\">\n",
              "  <thead>\n",
              "    <tr style=\"text-align: right;\">\n",
              "      <th></th>\n",
              "      <th>Survived</th>\n",
              "      <th>Pclass</th>\n",
              "      <th>Sex</th>\n",
              "      <th>Age</th>\n",
              "      <th>SibSp</th>\n",
              "      <th>Parch</th>\n",
              "      <th>Fare</th>\n",
              "      <th>Cabin</th>\n",
              "      <th>Embarked</th>\n",
              "      <th>Title</th>\n",
              "      <th>Deck</th>\n",
              "      <th>Family_Size</th>\n",
              "      <th>Age*Class</th>\n",
              "      <th>Fare_Per_Person</th>\n",
              "    </tr>\n",
              "  </thead>\n",
              "  <tbody>\n",
              "    <tr>\n",
              "      <th>0</th>\n",
              "      <td>0</td>\n",
              "      <td>3</td>\n",
              "      <td>male</td>\n",
              "      <td>22.0</td>\n",
              "      <td>1</td>\n",
              "      <td>0</td>\n",
              "      <td>7.2500</td>\n",
              "      <td>NaN</td>\n",
              "      <td>S</td>\n",
              "      <td>Mr</td>\n",
              "      <td>Unknown</td>\n",
              "      <td>1</td>\n",
              "      <td>66.0</td>\n",
              "      <td>3.62500</td>\n",
              "    </tr>\n",
              "    <tr>\n",
              "      <th>1</th>\n",
              "      <td>1</td>\n",
              "      <td>1</td>\n",
              "      <td>female</td>\n",
              "      <td>38.0</td>\n",
              "      <td>1</td>\n",
              "      <td>0</td>\n",
              "      <td>71.2833</td>\n",
              "      <td>C85</td>\n",
              "      <td>C</td>\n",
              "      <td>Mrs</td>\n",
              "      <td>C</td>\n",
              "      <td>1</td>\n",
              "      <td>38.0</td>\n",
              "      <td>35.64165</td>\n",
              "    </tr>\n",
              "    <tr>\n",
              "      <th>2</th>\n",
              "      <td>1</td>\n",
              "      <td>3</td>\n",
              "      <td>female</td>\n",
              "      <td>26.0</td>\n",
              "      <td>0</td>\n",
              "      <td>0</td>\n",
              "      <td>7.9250</td>\n",
              "      <td>NaN</td>\n",
              "      <td>S</td>\n",
              "      <td>Miss</td>\n",
              "      <td>Unknown</td>\n",
              "      <td>0</td>\n",
              "      <td>78.0</td>\n",
              "      <td>7.92500</td>\n",
              "    </tr>\n",
              "    <tr>\n",
              "      <th>3</th>\n",
              "      <td>1</td>\n",
              "      <td>1</td>\n",
              "      <td>female</td>\n",
              "      <td>35.0</td>\n",
              "      <td>1</td>\n",
              "      <td>0</td>\n",
              "      <td>53.1000</td>\n",
              "      <td>C123</td>\n",
              "      <td>S</td>\n",
              "      <td>Mrs</td>\n",
              "      <td>C</td>\n",
              "      <td>1</td>\n",
              "      <td>35.0</td>\n",
              "      <td>26.55000</td>\n",
              "    </tr>\n",
              "    <tr>\n",
              "      <th>4</th>\n",
              "      <td>0</td>\n",
              "      <td>3</td>\n",
              "      <td>male</td>\n",
              "      <td>35.0</td>\n",
              "      <td>0</td>\n",
              "      <td>0</td>\n",
              "      <td>8.0500</td>\n",
              "      <td>NaN</td>\n",
              "      <td>S</td>\n",
              "      <td>Mr</td>\n",
              "      <td>Unknown</td>\n",
              "      <td>0</td>\n",
              "      <td>105.0</td>\n",
              "      <td>8.05000</td>\n",
              "    </tr>\n",
              "  </tbody>\n",
              "</table>\n",
              "</div>\n",
              "      <button class=\"colab-df-convert\" onclick=\"convertToInteractive('df-6f00811b-a22a-40f7-8e78-76e16931fff5')\"\n",
              "              title=\"Convert this dataframe to an interactive table.\"\n",
              "              style=\"display:none;\">\n",
              "        \n",
              "  <svg xmlns=\"http://www.w3.org/2000/svg\" height=\"24px\"viewBox=\"0 0 24 24\"\n",
              "       width=\"24px\">\n",
              "    <path d=\"M0 0h24v24H0V0z\" fill=\"none\"/>\n",
              "    <path d=\"M18.56 5.44l.94 2.06.94-2.06 2.06-.94-2.06-.94-.94-2.06-.94 2.06-2.06.94zm-11 1L8.5 8.5l.94-2.06 2.06-.94-2.06-.94L8.5 2.5l-.94 2.06-2.06.94zm10 10l.94 2.06.94-2.06 2.06-.94-2.06-.94-.94-2.06-.94 2.06-2.06.94z\"/><path d=\"M17.41 7.96l-1.37-1.37c-.4-.4-.92-.59-1.43-.59-.52 0-1.04.2-1.43.59L10.3 9.45l-7.72 7.72c-.78.78-.78 2.05 0 2.83L4 21.41c.39.39.9.59 1.41.59.51 0 1.02-.2 1.41-.59l7.78-7.78 2.81-2.81c.8-.78.8-2.07 0-2.86zM5.41 20L4 18.59l7.72-7.72 1.47 1.35L5.41 20z\"/>\n",
              "  </svg>\n",
              "      </button>\n",
              "      \n",
              "  <style>\n",
              "    .colab-df-container {\n",
              "      display:flex;\n",
              "      flex-wrap:wrap;\n",
              "      gap: 12px;\n",
              "    }\n",
              "\n",
              "    .colab-df-convert {\n",
              "      background-color: #E8F0FE;\n",
              "      border: none;\n",
              "      border-radius: 50%;\n",
              "      cursor: pointer;\n",
              "      display: none;\n",
              "      fill: #1967D2;\n",
              "      height: 32px;\n",
              "      padding: 0 0 0 0;\n",
              "      width: 32px;\n",
              "    }\n",
              "\n",
              "    .colab-df-convert:hover {\n",
              "      background-color: #E2EBFA;\n",
              "      box-shadow: 0px 1px 2px rgba(60, 64, 67, 0.3), 0px 1px 3px 1px rgba(60, 64, 67, 0.15);\n",
              "      fill: #174EA6;\n",
              "    }\n",
              "\n",
              "    [theme=dark] .colab-df-convert {\n",
              "      background-color: #3B4455;\n",
              "      fill: #D2E3FC;\n",
              "    }\n",
              "\n",
              "    [theme=dark] .colab-df-convert:hover {\n",
              "      background-color: #434B5C;\n",
              "      box-shadow: 0px 1px 3px 1px rgba(0, 0, 0, 0.15);\n",
              "      filter: drop-shadow(0px 1px 2px rgba(0, 0, 0, 0.3));\n",
              "      fill: #FFFFFF;\n",
              "    }\n",
              "  </style>\n",
              "\n",
              "      <script>\n",
              "        const buttonEl =\n",
              "          document.querySelector('#df-6f00811b-a22a-40f7-8e78-76e16931fff5 button.colab-df-convert');\n",
              "        buttonEl.style.display =\n",
              "          google.colab.kernel.accessAllowed ? 'block' : 'none';\n",
              "\n",
              "        async function convertToInteractive(key) {\n",
              "          const element = document.querySelector('#df-6f00811b-a22a-40f7-8e78-76e16931fff5');\n",
              "          const dataTable =\n",
              "            await google.colab.kernel.invokeFunction('convertToInteractive',\n",
              "                                                     [key], {});\n",
              "          if (!dataTable) return;\n",
              "\n",
              "          const docLinkHtml = 'Like what you see? Visit the ' +\n",
              "            '<a target=\"_blank\" href=https://colab.research.google.com/notebooks/data_table.ipynb>data table notebook</a>'\n",
              "            + ' to learn more about interactive tables.';\n",
              "          element.innerHTML = '';\n",
              "          dataTable['output_type'] = 'display_data';\n",
              "          await google.colab.output.renderOutput(dataTable, element);\n",
              "          const docLink = document.createElement('div');\n",
              "          docLink.innerHTML = docLinkHtml;\n",
              "          element.appendChild(docLink);\n",
              "        }\n",
              "      </script>\n",
              "    </div>\n",
              "  </div>\n",
              "  "
            ]
          },
          "metadata": {},
          "execution_count": 53
        }
      ],
      "source": [
        "data2 = data2.drop(columns= [\"PassengerId\",\t\"Name\", \"Ticket\"]) #ตัดคอลัมน์ที่เป้นลักษณะ ID ที่ unique ออก\n",
        "data2.head()"
      ]
    },
    {
      "cell_type": "code",
      "execution_count": null,
      "metadata": {
        "colab": {
          "base_uri": "https://localhost:8080/",
          "height": 300
        },
        "outputId": "7c867fe9-b451-4e05-d6d3-942a55571b41",
        "id": "X8Vr81lM1ZVB"
      },
      "outputs": [
        {
          "output_type": "execute_result",
          "data": {
            "text/plain": [
              "         Survived      Pclass         Age       SibSp       Parch        Fare  \\\n",
              "count  891.000000  891.000000  714.000000  891.000000  891.000000  891.000000   \n",
              "mean     0.383838    2.308642   29.714286    0.523008    0.381594   32.204208   \n",
              "std      0.486592    0.836071   14.526453    1.102743    0.806057   49.693429   \n",
              "min      0.000000    1.000000    1.000000    0.000000    0.000000    0.000000   \n",
              "25%      0.000000    2.000000   20.250000    0.000000    0.000000    7.910400   \n",
              "50%      0.000000    3.000000   28.000000    0.000000    0.000000   14.454200   \n",
              "75%      1.000000    3.000000   38.000000    1.000000    0.000000   31.000000   \n",
              "max      1.000000    3.000000   80.000000    8.000000    6.000000  512.329200   \n",
              "\n",
              "       Family_Size   Age*Class  Fare_Per_Person  \n",
              "count   891.000000  714.000000       891.000000  \n",
              "mean      0.904602   61.978992        19.916375  \n",
              "std       1.613459   34.405809        35.841257  \n",
              "min       0.000000    1.000000         0.000000  \n",
              "25%       0.000000   38.000000         7.250000  \n",
              "50%       0.000000   58.000000         8.300000  \n",
              "75%       1.000000   81.000000        23.666667  \n",
              "max      10.000000  222.000000       512.329200  "
            ],
            "text/html": [
              "\n",
              "  <div id=\"df-79c576a9-da7b-431c-81cf-d4a9aeb7a167\">\n",
              "    <div class=\"colab-df-container\">\n",
              "      <div>\n",
              "<style scoped>\n",
              "    .dataframe tbody tr th:only-of-type {\n",
              "        vertical-align: middle;\n",
              "    }\n",
              "\n",
              "    .dataframe tbody tr th {\n",
              "        vertical-align: top;\n",
              "    }\n",
              "\n",
              "    .dataframe thead th {\n",
              "        text-align: right;\n",
              "    }\n",
              "</style>\n",
              "<table border=\"1\" class=\"dataframe\">\n",
              "  <thead>\n",
              "    <tr style=\"text-align: right;\">\n",
              "      <th></th>\n",
              "      <th>Survived</th>\n",
              "      <th>Pclass</th>\n",
              "      <th>Age</th>\n",
              "      <th>SibSp</th>\n",
              "      <th>Parch</th>\n",
              "      <th>Fare</th>\n",
              "      <th>Family_Size</th>\n",
              "      <th>Age*Class</th>\n",
              "      <th>Fare_Per_Person</th>\n",
              "    </tr>\n",
              "  </thead>\n",
              "  <tbody>\n",
              "    <tr>\n",
              "      <th>count</th>\n",
              "      <td>891.000000</td>\n",
              "      <td>891.000000</td>\n",
              "      <td>714.000000</td>\n",
              "      <td>891.000000</td>\n",
              "      <td>891.000000</td>\n",
              "      <td>891.000000</td>\n",
              "      <td>891.000000</td>\n",
              "      <td>714.000000</td>\n",
              "      <td>891.000000</td>\n",
              "    </tr>\n",
              "    <tr>\n",
              "      <th>mean</th>\n",
              "      <td>0.383838</td>\n",
              "      <td>2.308642</td>\n",
              "      <td>29.714286</td>\n",
              "      <td>0.523008</td>\n",
              "      <td>0.381594</td>\n",
              "      <td>32.204208</td>\n",
              "      <td>0.904602</td>\n",
              "      <td>61.978992</td>\n",
              "      <td>19.916375</td>\n",
              "    </tr>\n",
              "    <tr>\n",
              "      <th>std</th>\n",
              "      <td>0.486592</td>\n",
              "      <td>0.836071</td>\n",
              "      <td>14.526453</td>\n",
              "      <td>1.102743</td>\n",
              "      <td>0.806057</td>\n",
              "      <td>49.693429</td>\n",
              "      <td>1.613459</td>\n",
              "      <td>34.405809</td>\n",
              "      <td>35.841257</td>\n",
              "    </tr>\n",
              "    <tr>\n",
              "      <th>min</th>\n",
              "      <td>0.000000</td>\n",
              "      <td>1.000000</td>\n",
              "      <td>1.000000</td>\n",
              "      <td>0.000000</td>\n",
              "      <td>0.000000</td>\n",
              "      <td>0.000000</td>\n",
              "      <td>0.000000</td>\n",
              "      <td>1.000000</td>\n",
              "      <td>0.000000</td>\n",
              "    </tr>\n",
              "    <tr>\n",
              "      <th>25%</th>\n",
              "      <td>0.000000</td>\n",
              "      <td>2.000000</td>\n",
              "      <td>20.250000</td>\n",
              "      <td>0.000000</td>\n",
              "      <td>0.000000</td>\n",
              "      <td>7.910400</td>\n",
              "      <td>0.000000</td>\n",
              "      <td>38.000000</td>\n",
              "      <td>7.250000</td>\n",
              "    </tr>\n",
              "    <tr>\n",
              "      <th>50%</th>\n",
              "      <td>0.000000</td>\n",
              "      <td>3.000000</td>\n",
              "      <td>28.000000</td>\n",
              "      <td>0.000000</td>\n",
              "      <td>0.000000</td>\n",
              "      <td>14.454200</td>\n",
              "      <td>0.000000</td>\n",
              "      <td>58.000000</td>\n",
              "      <td>8.300000</td>\n",
              "    </tr>\n",
              "    <tr>\n",
              "      <th>75%</th>\n",
              "      <td>1.000000</td>\n",
              "      <td>3.000000</td>\n",
              "      <td>38.000000</td>\n",
              "      <td>1.000000</td>\n",
              "      <td>0.000000</td>\n",
              "      <td>31.000000</td>\n",
              "      <td>1.000000</td>\n",
              "      <td>81.000000</td>\n",
              "      <td>23.666667</td>\n",
              "    </tr>\n",
              "    <tr>\n",
              "      <th>max</th>\n",
              "      <td>1.000000</td>\n",
              "      <td>3.000000</td>\n",
              "      <td>80.000000</td>\n",
              "      <td>8.000000</td>\n",
              "      <td>6.000000</td>\n",
              "      <td>512.329200</td>\n",
              "      <td>10.000000</td>\n",
              "      <td>222.000000</td>\n",
              "      <td>512.329200</td>\n",
              "    </tr>\n",
              "  </tbody>\n",
              "</table>\n",
              "</div>\n",
              "      <button class=\"colab-df-convert\" onclick=\"convertToInteractive('df-79c576a9-da7b-431c-81cf-d4a9aeb7a167')\"\n",
              "              title=\"Convert this dataframe to an interactive table.\"\n",
              "              style=\"display:none;\">\n",
              "        \n",
              "  <svg xmlns=\"http://www.w3.org/2000/svg\" height=\"24px\"viewBox=\"0 0 24 24\"\n",
              "       width=\"24px\">\n",
              "    <path d=\"M0 0h24v24H0V0z\" fill=\"none\"/>\n",
              "    <path d=\"M18.56 5.44l.94 2.06.94-2.06 2.06-.94-2.06-.94-.94-2.06-.94 2.06-2.06.94zm-11 1L8.5 8.5l.94-2.06 2.06-.94-2.06-.94L8.5 2.5l-.94 2.06-2.06.94zm10 10l.94 2.06.94-2.06 2.06-.94-2.06-.94-.94-2.06-.94 2.06-2.06.94z\"/><path d=\"M17.41 7.96l-1.37-1.37c-.4-.4-.92-.59-1.43-.59-.52 0-1.04.2-1.43.59L10.3 9.45l-7.72 7.72c-.78.78-.78 2.05 0 2.83L4 21.41c.39.39.9.59 1.41.59.51 0 1.02-.2 1.41-.59l7.78-7.78 2.81-2.81c.8-.78.8-2.07 0-2.86zM5.41 20L4 18.59l7.72-7.72 1.47 1.35L5.41 20z\"/>\n",
              "  </svg>\n",
              "      </button>\n",
              "      \n",
              "  <style>\n",
              "    .colab-df-container {\n",
              "      display:flex;\n",
              "      flex-wrap:wrap;\n",
              "      gap: 12px;\n",
              "    }\n",
              "\n",
              "    .colab-df-convert {\n",
              "      background-color: #E8F0FE;\n",
              "      border: none;\n",
              "      border-radius: 50%;\n",
              "      cursor: pointer;\n",
              "      display: none;\n",
              "      fill: #1967D2;\n",
              "      height: 32px;\n",
              "      padding: 0 0 0 0;\n",
              "      width: 32px;\n",
              "    }\n",
              "\n",
              "    .colab-df-convert:hover {\n",
              "      background-color: #E2EBFA;\n",
              "      box-shadow: 0px 1px 2px rgba(60, 64, 67, 0.3), 0px 1px 3px 1px rgba(60, 64, 67, 0.15);\n",
              "      fill: #174EA6;\n",
              "    }\n",
              "\n",
              "    [theme=dark] .colab-df-convert {\n",
              "      background-color: #3B4455;\n",
              "      fill: #D2E3FC;\n",
              "    }\n",
              "\n",
              "    [theme=dark] .colab-df-convert:hover {\n",
              "      background-color: #434B5C;\n",
              "      box-shadow: 0px 1px 3px 1px rgba(0, 0, 0, 0.15);\n",
              "      filter: drop-shadow(0px 1px 2px rgba(0, 0, 0, 0.3));\n",
              "      fill: #FFFFFF;\n",
              "    }\n",
              "  </style>\n",
              "\n",
              "      <script>\n",
              "        const buttonEl =\n",
              "          document.querySelector('#df-79c576a9-da7b-431c-81cf-d4a9aeb7a167 button.colab-df-convert');\n",
              "        buttonEl.style.display =\n",
              "          google.colab.kernel.accessAllowed ? 'block' : 'none';\n",
              "\n",
              "        async function convertToInteractive(key) {\n",
              "          const element = document.querySelector('#df-79c576a9-da7b-431c-81cf-d4a9aeb7a167');\n",
              "          const dataTable =\n",
              "            await google.colab.kernel.invokeFunction('convertToInteractive',\n",
              "                                                     [key], {});\n",
              "          if (!dataTable) return;\n",
              "\n",
              "          const docLinkHtml = 'Like what you see? Visit the ' +\n",
              "            '<a target=\"_blank\" href=https://colab.research.google.com/notebooks/data_table.ipynb>data table notebook</a>'\n",
              "            + ' to learn more about interactive tables.';\n",
              "          element.innerHTML = '';\n",
              "          dataTable['output_type'] = 'display_data';\n",
              "          await google.colab.output.renderOutput(dataTable, element);\n",
              "          const docLink = document.createElement('div');\n",
              "          docLink.innerHTML = docLinkHtml;\n",
              "          element.appendChild(docLink);\n",
              "        }\n",
              "      </script>\n",
              "    </div>\n",
              "  </div>\n",
              "  "
            ]
          },
          "metadata": {},
          "execution_count": 54
        }
      ],
      "source": [
        "data2.describe() #เช็คค่าทางสถิติ"
      ]
    },
    {
      "cell_type": "code",
      "execution_count": null,
      "metadata": {
        "colab": {
          "base_uri": "https://localhost:8080/"
        },
        "outputId": "cb8d456e-122d-4352-c130-e57b7ed32d50",
        "id": "tQ91IGxF1ZVB"
      },
      "outputs": [
        {
          "output_type": "stream",
          "name": "stdout",
          "text": [
            "<class 'pandas.core.frame.DataFrame'>\n",
            "RangeIndex: 891 entries, 0 to 890\n",
            "Data columns (total 14 columns):\n",
            " #   Column           Non-Null Count  Dtype  \n",
            "---  ------           --------------  -----  \n",
            " 0   Survived         891 non-null    int64  \n",
            " 1   Pclass           891 non-null    int64  \n",
            " 2   Sex              891 non-null    object \n",
            " 3   Age              714 non-null    float64\n",
            " 4   SibSp            891 non-null    int64  \n",
            " 5   Parch            891 non-null    int64  \n",
            " 6   Fare             891 non-null    float64\n",
            " 7   Cabin            204 non-null    object \n",
            " 8   Embarked         889 non-null    object \n",
            " 9   Title            891 non-null    object \n",
            " 10  Deck             891 non-null    object \n",
            " 11  Family_Size      891 non-null    int64  \n",
            " 12  Age*Class        714 non-null    float64\n",
            " 13  Fare_Per_Person  891 non-null    float64\n",
            "dtypes: float64(4), int64(5), object(5)\n",
            "memory usage: 97.6+ KB\n"
          ]
        }
      ],
      "source": [
        "data2.info()"
      ]
    },
    {
      "cell_type": "markdown",
      "metadata": {
        "id": "7w_tGeLY1ZVB"
      },
      "source": [
        "## Check correlation between feature"
      ]
    },
    {
      "cell_type": "markdown",
      "source": [
        "ทำการพลอตกราฟ heatmap เพื่อดู correlation ระหว่าง feature โดยจะเลือกตัด feature ที่มี correlation ร่วมกันมากกว่า 0.8 ขึ้นไป"
      ],
      "metadata": {
        "id": "d82TJx6_3iUj"
      }
    },
    {
      "cell_type": "code",
      "execution_count": null,
      "metadata": {
        "colab": {
          "base_uri": "https://localhost:8080/",
          "height": 642
        },
        "outputId": "bc97ddaf-0805-48fe-e1d1-371660901de8",
        "id": "nLuR80uX1ZVB"
      },
      "outputs": [
        {
          "output_type": "stream",
          "name": "stderr",
          "text": [
            "/usr/local/lib/python3.7/dist-packages/ipykernel_launcher.py:4: DeprecationWarning: `np.bool` is a deprecated alias for the builtin `bool`. To silence this warning, use `bool` by itself. Doing this will not modify any behavior and is safe. If you specifically wanted the numpy scalar type, use `np.bool_` here.\n",
            "Deprecated in NumPy 1.20; for more details and guidance: https://numpy.org/devdocs/release/1.20.0-notes.html#deprecations\n",
            "  after removing the cwd from sys.path.\n"
          ]
        },
        {
          "output_type": "execute_result",
          "data": {
            "text/plain": [
              "<matplotlib.axes._subplots.AxesSubplot at 0x7ff28ecc7350>"
            ]
          },
          "metadata": {},
          "execution_count": 56
        },
        {
          "output_type": "display_data",
          "data": {
            "text/plain": [
              "<Figure size 720x576 with 2 Axes>"
            ],
            "image/png": "[encoded data removed]"
          },
          "metadata": {
            "needs_background": "light"
          }
        }
      ],
      "source": [
        "data_corr = data2.drop(columns = \"Survived\")\n",
        "corr = data_corr.corr(method='spearman')\n",
        "# Generate a mask for the upper triangle\n",
        "mask = np.zeros_like(corr, dtype=np.bool)\n",
        "mask[np.triu_indices_from(mask)] = True\n",
        "\n",
        "# Set up the matplotlib figure\n",
        "f, ax = plt.subplots(figsize=(10, 8))\n",
        "\n",
        "# Draw the heatmap with the mask and correct aspect ratio\n",
        "sns.heatmap(corr, annot = True, mask=mask, cmap=\"YlGnBu\", center=0,\n",
        "            square=True, linewidths=.5)"
      ]
    },
    {
      "cell_type": "markdown",
      "metadata": {
        "id": "o9W8y88P1ZVB"
      },
      "source": [
        "หลังจากที่ทำการพลอต Heatmap จะเห็นได้ว่าคอลัมน์ Family_size มี correlation เกินกว่า 80 เปอร์เซ็นเมื่อเทียบกับคอลัมน์ SipSp จึงทำการลบคอลัมน์ Family_Size ทิ้งเพื่อไม่ให้เป็นปัญหา bias ในการสร้างโมเดล "
      ]
    },
    {
      "cell_type": "code",
      "source": [
        "data2 = data2.drop(columns = \"Family_Size\") #ลบคอลัมน์ Family_size"
      ],
      "metadata": {
        "id": "SISfm3hELB_R"
      },
      "execution_count": null,
      "outputs": []
    },
    {
      "cell_type": "markdown",
      "metadata": {
        "id": "UQbRKptN1ZVB"
      },
      "source": [
        "## Check unbalance data"
      ]
    },
    {
      "cell_type": "markdown",
      "source": [
        "ทำการตรวจสอบว่า label ของข้อมูลมีลักษณะเป็น Unbalance data ไหม"
      ],
      "metadata": {
        "id": "hjdY-moZ4efh"
      }
    },
    {
      "cell_type": "code",
      "execution_count": null,
      "metadata": {
        "colab": {
          "base_uri": "https://localhost:8080/",
          "height": 295
        },
        "outputId": "f37d6f5c-8160-4d6d-9c5d-fa2db4c7b133",
        "id": "yfTbGL9y1ZVC"
      },
      "outputs": [
        {
          "output_type": "display_data",
          "data": {
            "text/plain": [
              "<Figure size 432x288 with 1 Axes>"
            ],
            "image/png": "[encoded data removed]"
          },
          "metadata": {
            "needs_background": "light"
          }
        }
      ],
      "source": [
        "ax = sns.countplot(x = \"Survived\" ,data =data)\n",
        "ax.set_xticklabels([\"Deceased\", \"Survived\"])\n",
        "ax.set_title(\"Check balance data from Survival label\")\n",
        "for p in ax.patches:\n",
        "    ax.annotate(f'\\n{p.get_height()}', (p.get_x()+0.2, p.get_height()), ha='center', va='top', color='white', size=18)"
      ]
    },
    {
      "cell_type": "markdown",
      "source": [
        "ผลลัพธ์ของข้อมูลนี้จะได้ว่ามีผู้รอดชีวิต 342 คน และเสียชีวิต 342 คน ซึ่งถือว่ายังยอมรับได้อยู่ในเรื่องของความ balance ของข้อมูล "
      ],
      "metadata": {
        "id": "qELRPyvR4not"
      }
    },
    {
      "cell_type": "markdown",
      "metadata": {
        "id": "phPIIr4y1ZVC"
      },
      "source": [
        "## Missing data"
      ]
    },
    {
      "cell_type": "markdown",
      "metadata": {
        "id": "ejklXMhd1ZVC"
      },
      "source": [
        "ก่อนจะทำการหา missing data จะต้องแปลง Unknown ในคอลัม deck ที่สร้างขึ้นมาให้เป็นค่า NaN เหมือนเดิม"
      ]
    },
    {
      "cell_type": "code",
      "source": [
        "data2[\"Deck\"] = data2[\"Deck\"].replace(\"Unknown\", np.nan, regex = True)\n",
        "data2.head()"
      ],
      "metadata": {
        "colab": {
          "base_uri": "https://localhost:8080/",
          "height": 206
        },
        "id": "f6wD1uqbLUTI",
        "outputId": "b12d8579-b936-45ee-b9b6-aaefbbeabef9"
      },
      "execution_count": null,
      "outputs": [
        {
          "output_type": "execute_result",
          "data": {
            "text/plain": [
              "   Survived  Pclass     Sex   Age  SibSp  Parch     Fare Cabin Embarked Title  \\\n",
              "0         0       3    male  22.0      1      0   7.2500   NaN        S    Mr   \n",
              "1         1       1  female  38.0      1      0  71.2833   C85        C   Mrs   \n",
              "2         1       3  female  26.0      0      0   7.9250   NaN        S  Miss   \n",
              "3         1       1  female  35.0      1      0  53.1000  C123        S   Mrs   \n",
              "4         0       3    male  35.0      0      0   8.0500   NaN        S    Mr   \n",
              "\n",
              "  Deck  Age*Class  Fare_Per_Person  \n",
              "0  NaN       66.0          3.62500  \n",
              "1    C       38.0         35.64165  \n",
              "2  NaN       78.0          7.92500  \n",
              "3    C       35.0         26.55000  \n",
              "4  NaN      105.0          8.05000  "
            ],
            "text/html": [
              "\n",
              "  <div id=\"df-f84e41f5-4b7d-4692-9228-2788ed9f89d7\">\n",
              "    <div class=\"colab-df-container\">\n",
              "      <div>\n",
              "<style scoped>\n",
              "    .dataframe tbody tr th:only-of-type {\n",
              "        vertical-align: middle;\n",
              "    }\n",
              "\n",
              "    .dataframe tbody tr th {\n",
              "        vertical-align: top;\n",
              "    }\n",
              "\n",
              "    .dataframe thead th {\n",
              "        text-align: right;\n",
              "    }\n",
              "</style>\n",
              "<table border=\"1\" class=\"dataframe\">\n",
              "  <thead>\n",
              "    <tr style=\"text-align: right;\">\n",
              "      <th></th>\n",
              "      <th>Survived</th>\n",
              "      <th>Pclass</th>\n",
              "      <th>Sex</th>\n",
              "      <th>Age</th>\n",
              "      <th>SibSp</th>\n",
              "      <th>Parch</th>\n",
              "      <th>Fare</th>\n",
              "      <th>Cabin</th>\n",
              "      <th>Embarked</th>\n",
              "      <th>Title</th>\n",
              "      <th>Deck</th>\n",
              "      <th>Age*Class</th>\n",
              "      <th>Fare_Per_Person</th>\n",
              "    </tr>\n",
              "  </thead>\n",
              "  <tbody>\n",
              "    <tr>\n",
              "      <th>0</th>\n",
              "      <td>0</td>\n",
              "      <td>3</td>\n",
              "      <td>male</td>\n",
              "      <td>22.0</td>\n",
              "      <td>1</td>\n",
              "      <td>0</td>\n",
              "      <td>7.2500</td>\n",
              "      <td>NaN</td>\n",
              "      <td>S</td>\n",
              "      <td>Mr</td>\n",
              "      <td>NaN</td>\n",
              "      <td>66.0</td>\n",
              "      <td>3.62500</td>\n",
              "    </tr>\n",
              "    <tr>\n",
              "      <th>1</th>\n",
              "      <td>1</td>\n",
              "      <td>1</td>\n",
              "      <td>female</td>\n",
              "      <td>38.0</td>\n",
              "      <td>1</td>\n",
              "      <td>0</td>\n",
              "      <td>71.2833</td>\n",
              "      <td>C85</td>\n",
              "      <td>C</td>\n",
              "      <td>Mrs</td>\n",
              "      <td>C</td>\n",
              "      <td>38.0</td>\n",
              "      <td>35.64165</td>\n",
              "    </tr>\n",
              "    <tr>\n",
              "      <th>2</th>\n",
              "      <td>1</td>\n",
              "      <td>3</td>\n",
              "      <td>female</td>\n",
              "      <td>26.0</td>\n",
              "      <td>0</td>\n",
              "      <td>0</td>\n",
              "      <td>7.9250</td>\n",
              "      <td>NaN</td>\n",
              "      <td>S</td>\n",
              "      <td>Miss</td>\n",
              "      <td>NaN</td>\n",
              "      <td>78.0</td>\n",
              "      <td>7.92500</td>\n",
              "    </tr>\n",
              "    <tr>\n",
              "      <th>3</th>\n",
              "      <td>1</td>\n",
              "      <td>1</td>\n",
              "      <td>female</td>\n",
              "      <td>35.0</td>\n",
              "      <td>1</td>\n",
              "      <td>0</td>\n",
              "      <td>53.1000</td>\n",
              "      <td>C123</td>\n",
              "      <td>S</td>\n",
              "      <td>Mrs</td>\n",
              "      <td>C</td>\n",
              "      <td>35.0</td>\n",
              "      <td>26.55000</td>\n",
              "    </tr>\n",
              "    <tr>\n",
              "      <th>4</th>\n",
              "      <td>0</td>\n",
              "      <td>3</td>\n",
              "      <td>male</td>\n",
              "      <td>35.0</td>\n",
              "      <td>0</td>\n",
              "      <td>0</td>\n",
              "      <td>8.0500</td>\n",
              "      <td>NaN</td>\n",
              "      <td>S</td>\n",
              "      <td>Mr</td>\n",
              "      <td>NaN</td>\n",
              "      <td>105.0</td>\n",
              "      <td>8.05000</td>\n",
              "    </tr>\n",
              "  </tbody>\n",
              "</table>\n",
              "</div>\n",
              "      <button class=\"colab-df-convert\" onclick=\"convertToInteractive('df-f84e41f5-4b7d-4692-9228-2788ed9f89d7')\"\n",
              "              title=\"Convert this dataframe to an interactive table.\"\n",
              "              style=\"display:none;\">\n",
              "        \n",
              "  <svg xmlns=\"http://www.w3.org/2000/svg\" height=\"24px\"viewBox=\"0 0 24 24\"\n",
              "       width=\"24px\">\n",
              "    <path d=\"M0 0h24v24H0V0z\" fill=\"none\"/>\n",
              "    <path d=\"M18.56 5.44l.94 2.06.94-2.06 2.06-.94-2.06-.94-.94-2.06-.94 2.06-2.06.94zm-11 1L8.5 8.5l.94-2.06 2.06-.94-2.06-.94L8.5 2.5l-.94 2.06-2.06.94zm10 10l.94 2.06.94-2.06 2.06-.94-2.06-.94-.94-2.06-.94 2.06-2.06.94z\"/><path d=\"M17.41 7.96l-1.37-1.37c-.4-.4-.92-.59-1.43-.59-.52 0-1.04.2-1.43.59L10.3 9.45l-7.72 7.72c-.78.78-.78 2.05 0 2.83L4 21.41c.39.39.9.59 1.41.59.51 0 1.02-.2 1.41-.59l7.78-7.78 2.81-2.81c.8-.78.8-2.07 0-2.86zM5.41 20L4 18.59l7.72-7.72 1.47 1.35L5.41 20z\"/>\n",
              "  </svg>\n",
              "      </button>\n",
              "      \n",
              "  <style>\n",
              "    .colab-df-container {\n",
              "      display:flex;\n",
              "      flex-wrap:wrap;\n",
              "      gap: 12px;\n",
              "    }\n",
              "\n",
              "    .colab-df-convert {\n",
              "      background-color: #E8F0FE;\n",
              "      border: none;\n",
              "      border-radius: 50%;\n",
              "      cursor: pointer;\n",
              "      display: none;\n",
              "      fill: #1967D2;\n",
              "      height: 32px;\n",
              "      padding: 0 0 0 0;\n",
              "      width: 32px;\n",
              "    }\n",
              "\n",
              "    .colab-df-convert:hover {\n",
              "      background-color: #E2EBFA;\n",
              "      box-shadow: 0px 1px 2px rgba(60, 64, 67, 0.3), 0px 1px 3px 1px rgba(60, 64, 67, 0.15);\n",
              "      fill: #174EA6;\n",
              "    }\n",
              "\n",
              "    [theme=dark] .colab-df-convert {\n",
              "      background-color: #3B4455;\n",
              "      fill: #D2E3FC;\n",
              "    }\n",
              "\n",
              "    [theme=dark] .colab-df-convert:hover {\n",
              "      background-color: #434B5C;\n",
              "      box-shadow: 0px 1px 3px 1px rgba(0, 0, 0, 0.15);\n",
              "      filter: drop-shadow(0px 1px 2px rgba(0, 0, 0, 0.3));\n",
              "      fill: #FFFFFF;\n",
              "    }\n",
              "  </style>\n",
              "\n",
              "      <script>\n",
              "        const buttonEl =\n",
              "          document.querySelector('#df-f84e41f5-4b7d-4692-9228-2788ed9f89d7 button.colab-df-convert');\n",
              "        buttonEl.style.display =\n",
              "          google.colab.kernel.accessAllowed ? 'block' : 'none';\n",
              "\n",
              "        async function convertToInteractive(key) {\n",
              "          const element = document.querySelector('#df-f84e41f5-4b7d-4692-9228-2788ed9f89d7');\n",
              "          const dataTable =\n",
              "            await google.colab.kernel.invokeFunction('convertToInteractive',\n",
              "                                                     [key], {});\n",
              "          if (!dataTable) return;\n",
              "\n",
              "          const docLinkHtml = 'Like what you see? Visit the ' +\n",
              "            '<a target=\"_blank\" href=https://colab.research.google.com/notebooks/data_table.ipynb>data table notebook</a>'\n",
              "            + ' to learn more about interactive tables.';\n",
              "          element.innerHTML = '';\n",
              "          dataTable['output_type'] = 'display_data';\n",
              "          await google.colab.output.renderOutput(dataTable, element);\n",
              "          const docLink = document.createElement('div');\n",
              "          docLink.innerHTML = docLinkHtml;\n",
              "          element.appendChild(docLink);\n",
              "        }\n",
              "      </script>\n",
              "    </div>\n",
              "  </div>\n",
              "  "
            ]
          },
          "metadata": {},
          "execution_count": 59
        }
      ]
    },
    {
      "cell_type": "markdown",
      "source": [
        "หลังจากนั้นทำการเช็ค missing value อีกครั้ง"
      ],
      "metadata": {
        "id": "gjBskNDw5ibt"
      }
    },
    {
      "cell_type": "code",
      "execution_count": null,
      "metadata": {
        "colab": {
          "base_uri": "https://localhost:8080/"
        },
        "outputId": "7643041e-5e0b-4107-b963-d5359cc782f3",
        "id": "Lg8XTOCg1ZVC"
      },
      "outputs": [
        {
          "output_type": "execute_result",
          "data": {
            "text/plain": [
              "Survived             0\n",
              "Pclass               0\n",
              "Sex                  0\n",
              "Age                177\n",
              "SibSp                0\n",
              "Parch                0\n",
              "Fare                 0\n",
              "Cabin              687\n",
              "Embarked             2\n",
              "Title                0\n",
              "Deck               687\n",
              "Age*Class          177\n",
              "Fare_Per_Person      0\n",
              "dtype: int64"
            ]
          },
          "metadata": {},
          "execution_count": 60
        }
      ],
      "source": [
        "missing = data2.isnull().sum()\n",
        "missing"
      ]
    },
    {
      "cell_type": "markdown",
      "source": [
        "ทำการสร้าง dataframe เพื่อแสดงให้เห็นจำนวน missing value และ percent ของ missing value เมื่อเทียบกับจำนวนข้อมูลทั้งหมดมีกี่เปอร์เซ็น "
      ],
      "metadata": {
        "id": "oMyoy4248P_7"
      }
    },
    {
      "cell_type": "code",
      "execution_count": null,
      "metadata": {
        "colab": {
          "base_uri": "https://localhost:8080/",
          "height": 206
        },
        "outputId": "bb3491fc-5d71-4a94-872f-29f6cd79a906",
        "id": "W8yk7LYk1ZVC"
      },
      "outputs": [
        {
          "output_type": "execute_result",
          "data": {
            "text/plain": [
              "           number_of_missing_values    percent\n",
              "Age                             177  19.865320\n",
              "Cabin                           687  77.104377\n",
              "Embarked                          2   0.224467\n",
              "Deck                            687  77.104377\n",
              "Age*Class                       177  19.865320"
            ],
            "text/html": [
              "\n",
              "  <div id=\"df-a7f0e78f-8ba3-41d3-a5b4-13c288f7a09b\">\n",
              "    <div class=\"colab-df-container\">\n",
              "      <div>\n",
              "<style scoped>\n",
              "    .dataframe tbody tr th:only-of-type {\n",
              "        vertical-align: middle;\n",
              "    }\n",
              "\n",
              "    .dataframe tbody tr th {\n",
              "        vertical-align: top;\n",
              "    }\n",
              "\n",
              "    .dataframe thead th {\n",
              "        text-align: right;\n",
              "    }\n",
              "</style>\n",
              "<table border=\"1\" class=\"dataframe\">\n",
              "  <thead>\n",
              "    <tr style=\"text-align: right;\">\n",
              "      <th></th>\n",
              "      <th>number_of_missing_values</th>\n",
              "      <th>percent</th>\n",
              "    </tr>\n",
              "  </thead>\n",
              "  <tbody>\n",
              "    <tr>\n",
              "      <th>Age</th>\n",
              "      <td>177</td>\n",
              "      <td>19.865320</td>\n",
              "    </tr>\n",
              "    <tr>\n",
              "      <th>Cabin</th>\n",
              "      <td>687</td>\n",
              "      <td>77.104377</td>\n",
              "    </tr>\n",
              "    <tr>\n",
              "      <th>Embarked</th>\n",
              "      <td>2</td>\n",
              "      <td>0.224467</td>\n",
              "    </tr>\n",
              "    <tr>\n",
              "      <th>Deck</th>\n",
              "      <td>687</td>\n",
              "      <td>77.104377</td>\n",
              "    </tr>\n",
              "    <tr>\n",
              "      <th>Age*Class</th>\n",
              "      <td>177</td>\n",
              "      <td>19.865320</td>\n",
              "    </tr>\n",
              "  </tbody>\n",
              "</table>\n",
              "</div>\n",
              "      <button class=\"colab-df-convert\" onclick=\"convertToInteractive('df-a7f0e78f-8ba3-41d3-a5b4-13c288f7a09b')\"\n",
              "              title=\"Convert this dataframe to an interactive table.\"\n",
              "              style=\"display:none;\">\n",
              "        \n",
              "  <svg xmlns=\"http://www.w3.org/2000/svg\" height=\"24px\"viewBox=\"0 0 24 24\"\n",
              "       width=\"24px\">\n",
              "    <path d=\"M0 0h24v24H0V0z\" fill=\"none\"/>\n",
              "    <path d=\"M18.56 5.44l.94 2.06.94-2.06 2.06-.94-2.06-.94-.94-2.06-.94 2.06-2.06.94zm-11 1L8.5 8.5l.94-2.06 2.06-.94-2.06-.94L8.5 2.5l-.94 2.06-2.06.94zm10 10l.94 2.06.94-2.06 2.06-.94-2.06-.94-.94-2.06-.94 2.06-2.06.94z\"/><path d=\"M17.41 7.96l-1.37-1.37c-.4-.4-.92-.59-1.43-.59-.52 0-1.04.2-1.43.59L10.3 9.45l-7.72 7.72c-.78.78-.78 2.05 0 2.83L4 21.41c.39.39.9.59 1.41.59.51 0 1.02-.2 1.41-.59l7.78-7.78 2.81-2.81c.8-.78.8-2.07 0-2.86zM5.41 20L4 18.59l7.72-7.72 1.47 1.35L5.41 20z\"/>\n",
              "  </svg>\n",
              "      </button>\n",
              "      \n",
              "  <style>\n",
              "    .colab-df-container {\n",
              "      display:flex;\n",
              "      flex-wrap:wrap;\n",
              "      gap: 12px;\n",
              "    }\n",
              "\n",
              "    .colab-df-convert {\n",
              "      background-color: #E8F0FE;\n",
              "      border: none;\n",
              "      border-radius: 50%;\n",
              "      cursor: pointer;\n",
              "      display: none;\n",
              "      fill: #1967D2;\n",
              "      height: 32px;\n",
              "      padding: 0 0 0 0;\n",
              "      width: 32px;\n",
              "    }\n",
              "\n",
              "    .colab-df-convert:hover {\n",
              "      background-color: #E2EBFA;\n",
              "      box-shadow: 0px 1px 2px rgba(60, 64, 67, 0.3), 0px 1px 3px 1px rgba(60, 64, 67, 0.15);\n",
              "      fill: #174EA6;\n",
              "    }\n",
              "\n",
              "    [theme=dark] .colab-df-convert {\n",
              "      background-color: #3B4455;\n",
              "      fill: #D2E3FC;\n",
              "    }\n",
              "\n",
              "    [theme=dark] .colab-df-convert:hover {\n",
              "      background-color: #434B5C;\n",
              "      box-shadow: 0px 1px 3px 1px rgba(0, 0, 0, 0.15);\n",
              "      filter: drop-shadow(0px 1px 2px rgba(0, 0, 0, 0.3));\n",
              "      fill: #FFFFFF;\n",
              "    }\n",
              "  </style>\n",
              "\n",
              "      <script>\n",
              "        const buttonEl =\n",
              "          document.querySelector('#df-a7f0e78f-8ba3-41d3-a5b4-13c288f7a09b button.colab-df-convert');\n",
              "        buttonEl.style.display =\n",
              "          google.colab.kernel.accessAllowed ? 'block' : 'none';\n",
              "\n",
              "        async function convertToInteractive(key) {\n",
              "          const element = document.querySelector('#df-a7f0e78f-8ba3-41d3-a5b4-13c288f7a09b');\n",
              "          const dataTable =\n",
              "            await google.colab.kernel.invokeFunction('convertToInteractive',\n",
              "                                                     [key], {});\n",
              "          if (!dataTable) return;\n",
              "\n",
              "          const docLinkHtml = 'Like what you see? Visit the ' +\n",
              "            '<a target=\"_blank\" href=https://colab.research.google.com/notebooks/data_table.ipynb>data table notebook</a>'\n",
              "            + ' to learn more about interactive tables.';\n",
              "          element.innerHTML = '';\n",
              "          dataTable['output_type'] = 'display_data';\n",
              "          await google.colab.output.renderOutput(dataTable, element);\n",
              "          const docLink = document.createElement('div');\n",
              "          docLink.innerHTML = docLinkHtml;\n",
              "          element.appendChild(docLink);\n",
              "        }\n",
              "      </script>\n",
              "    </div>\n",
              "  </div>\n",
              "  "
            ]
          },
          "metadata": {},
          "execution_count": 61
        }
      ],
      "source": [
        "total_missing = missing[missing != 0 ]\n",
        "missing_df = pd.DataFrame(total_missing, columns=[\"number_of_missing_values\"])\n",
        "missing_df[\"percent\"] = total_missing * 100 / len(data2)\n",
        "missing_df"
      ]
    },
    {
      "cell_type": "markdown",
      "metadata": {
        "id": "2ibsCYmS1ZVC"
      },
      "source": [
        "หลังจากทีได้ทำการเช็ตค่า missing value แล้วจะพบว่า \n",
        "- คอลัมน์ Cabin และคอลัมน์ deck ที่ถูกสร้างมาจาก cabin มี missing value ค่อนข้างมากถึง 77% จากข้อมูลทั้งหมด เพราะฉะนั้น จะเลือกกำจัดด้วยการลบคอลัมน์นี้ทิ้ง\n",
        "- คอลัมน์ Age ที่มี missing value เท่ากับ 20% จากข้อมูลทั้งหมด จะแทนด้วยค่า median เนื่องจากกราฟด้านบนที่เคยแสดงเป็น histogram มีพฤติกรรมเบ้ไปด้านใดด้านหนึ่ง\n",
        "- คอลัมน์ Embarked มี missing value เท่ากับ 0.22% จากข้อมูลทั้งหมดซึ่ง จะทำการแทนด้วยค่า mode\n",
        "- Age*Class จะทำการสร้างขึ้นมาใหม่เนื่องจาก ได้ทำการแก้ไขคอลัมน์ Age ไป"
      ]
    },
    {
      "cell_type": "markdown",
      "source": [
        "### Remove Cabin and Deck Column"
      ],
      "metadata": {
        "id": "RLXonnCq6w0a"
      }
    },
    {
      "cell_type": "code",
      "source": [
        "data2 = data2.drop(columns = [\"Cabin\",\"Deck\"]) #ลบคตอลัมน์ Cabin และ Deck"
      ],
      "metadata": {
        "id": "OuJlt_lL60zT"
      },
      "execution_count": null,
      "outputs": []
    },
    {
      "cell_type": "code",
      "source": [
        "data2.head()"
      ],
      "metadata": {
        "colab": {
          "base_uri": "https://localhost:8080/",
          "height": 206
        },
        "id": "mnlSURmw7Adt",
        "outputId": "3dbf8fe6-2a76-4002-ae75-b8c2e320593d"
      },
      "execution_count": null,
      "outputs": [
        {
          "output_type": "execute_result",
          "data": {
            "text/plain": [
              "   Survived  Pclass     Sex   Age  SibSp  Parch     Fare Embarked Title  \\\n",
              "0         0       3    male  22.0      1      0   7.2500        S    Mr   \n",
              "1         1       1  female  38.0      1      0  71.2833        C   Mrs   \n",
              "2         1       3  female  26.0      0      0   7.9250        S  Miss   \n",
              "3         1       1  female  35.0      1      0  53.1000        S   Mrs   \n",
              "4         0       3    male  35.0      0      0   8.0500        S    Mr   \n",
              "\n",
              "   Age*Class  Fare_Per_Person  \n",
              "0       66.0          3.62500  \n",
              "1       38.0         35.64165  \n",
              "2       78.0          7.92500  \n",
              "3       35.0         26.55000  \n",
              "4      105.0          8.05000  "
            ],
            "text/html": [
              "\n",
              "  <div id=\"df-39be09a2-1876-4fbe-ae9d-0ccc9f134526\">\n",
              "    <div class=\"colab-df-container\">\n",
              "      <div>\n",
              "<style scoped>\n",
              "    .dataframe tbody tr th:only-of-type {\n",
              "        vertical-align: middle;\n",
              "    }\n",
              "\n",
              "    .dataframe tbody tr th {\n",
              "        vertical-align: top;\n",
              "    }\n",
              "\n",
              "    .dataframe thead th {\n",
              "        text-align: right;\n",
              "    }\n",
              "</style>\n",
              "<table border=\"1\" class=\"dataframe\">\n",
              "  <thead>\n",
              "    <tr style=\"text-align: right;\">\n",
              "      <th></th>\n",
              "      <th>Survived</th>\n",
              "      <th>Pclass</th>\n",
              "      <th>Sex</th>\n",
              "      <th>Age</th>\n",
              "      <th>SibSp</th>\n",
              "      <th>Parch</th>\n",
              "      <th>Fare</th>\n",
              "      <th>Embarked</th>\n",
              "      <th>Title</th>\n",
              "      <th>Age*Class</th>\n",
              "      <th>Fare_Per_Person</th>\n",
              "    </tr>\n",
              "  </thead>\n",
              "  <tbody>\n",
              "    <tr>\n",
              "      <th>0</th>\n",
              "      <td>0</td>\n",
              "      <td>3</td>\n",
              "      <td>male</td>\n",
              "      <td>22.0</td>\n",
              "      <td>1</td>\n",
              "      <td>0</td>\n",
              "      <td>7.2500</td>\n",
              "      <td>S</td>\n",
              "      <td>Mr</td>\n",
              "      <td>66.0</td>\n",
              "      <td>3.62500</td>\n",
              "    </tr>\n",
              "    <tr>\n",
              "      <th>1</th>\n",
              "      <td>1</td>\n",
              "      <td>1</td>\n",
              "      <td>female</td>\n",
              "      <td>38.0</td>\n",
              "      <td>1</td>\n",
              "      <td>0</td>\n",
              "      <td>71.2833</td>\n",
              "      <td>C</td>\n",
              "      <td>Mrs</td>\n",
              "      <td>38.0</td>\n",
              "      <td>35.64165</td>\n",
              "    </tr>\n",
              "    <tr>\n",
              "      <th>2</th>\n",
              "      <td>1</td>\n",
              "      <td>3</td>\n",
              "      <td>female</td>\n",
              "      <td>26.0</td>\n",
              "      <td>0</td>\n",
              "      <td>0</td>\n",
              "      <td>7.9250</td>\n",
              "      <td>S</td>\n",
              "      <td>Miss</td>\n",
              "      <td>78.0</td>\n",
              "      <td>7.92500</td>\n",
              "    </tr>\n",
              "    <tr>\n",
              "      <th>3</th>\n",
              "      <td>1</td>\n",
              "      <td>1</td>\n",
              "      <td>female</td>\n",
              "      <td>35.0</td>\n",
              "      <td>1</td>\n",
              "      <td>0</td>\n",
              "      <td>53.1000</td>\n",
              "      <td>S</td>\n",
              "      <td>Mrs</td>\n",
              "      <td>35.0</td>\n",
              "      <td>26.55000</td>\n",
              "    </tr>\n",
              "    <tr>\n",
              "      <th>4</th>\n",
              "      <td>0</td>\n",
              "      <td>3</td>\n",
              "      <td>male</td>\n",
              "      <td>35.0</td>\n",
              "      <td>0</td>\n",
              "      <td>0</td>\n",
              "      <td>8.0500</td>\n",
              "      <td>S</td>\n",
              "      <td>Mr</td>\n",
              "      <td>105.0</td>\n",
              "      <td>8.05000</td>\n",
              "    </tr>\n",
              "  </tbody>\n",
              "</table>\n",
              "</div>\n",
              "      <button class=\"colab-df-convert\" onclick=\"convertToInteractive('df-39be09a2-1876-4fbe-ae9d-0ccc9f134526')\"\n",
              "              title=\"Convert this dataframe to an interactive table.\"\n",
              "              style=\"display:none;\">\n",
              "        \n",
              "  <svg xmlns=\"http://www.w3.org/2000/svg\" height=\"24px\"viewBox=\"0 0 24 24\"\n",
              "       width=\"24px\">\n",
              "    <path d=\"M0 0h24v24H0V0z\" fill=\"none\"/>\n",
              "    <path d=\"M18.56 5.44l.94 2.06.94-2.06 2.06-.94-2.06-.94-.94-2.06-.94 2.06-2.06.94zm-11 1L8.5 8.5l.94-2.06 2.06-.94-2.06-.94L8.5 2.5l-.94 2.06-2.06.94zm10 10l.94 2.06.94-2.06 2.06-.94-2.06-.94-.94-2.06-.94 2.06-2.06.94z\"/><path d=\"M17.41 7.96l-1.37-1.37c-.4-.4-.92-.59-1.43-.59-.52 0-1.04.2-1.43.59L10.3 9.45l-7.72 7.72c-.78.78-.78 2.05 0 2.83L4 21.41c.39.39.9.59 1.41.59.51 0 1.02-.2 1.41-.59l7.78-7.78 2.81-2.81c.8-.78.8-2.07 0-2.86zM5.41 20L4 18.59l7.72-7.72 1.47 1.35L5.41 20z\"/>\n",
              "  </svg>\n",
              "      </button>\n",
              "      \n",
              "  <style>\n",
              "    .colab-df-container {\n",
              "      display:flex;\n",
              "      flex-wrap:wrap;\n",
              "      gap: 12px;\n",
              "    }\n",
              "\n",
              "    .colab-df-convert {\n",
              "      background-color: #E8F0FE;\n",
              "      border: none;\n",
              "      border-radius: 50%;\n",
              "      cursor: pointer;\n",
              "      display: none;\n",
              "      fill: #1967D2;\n",
              "      height: 32px;\n",
              "      padding: 0 0 0 0;\n",
              "      width: 32px;\n",
              "    }\n",
              "\n",
              "    .colab-df-convert:hover {\n",
              "      background-color: #E2EBFA;\n",
              "      box-shadow: 0px 1px 2px rgba(60, 64, 67, 0.3), 0px 1px 3px 1px rgba(60, 64, 67, 0.15);\n",
              "      fill: #174EA6;\n",
              "    }\n",
              "\n",
              "    [theme=dark] .colab-df-convert {\n",
              "      background-color: #3B4455;\n",
              "      fill: #D2E3FC;\n",
              "    }\n",
              "\n",
              "    [theme=dark] .colab-df-convert:hover {\n",
              "      background-color: #434B5C;\n",
              "      box-shadow: 0px 1px 3px 1px rgba(0, 0, 0, 0.15);\n",
              "      filter: drop-shadow(0px 1px 2px rgba(0, 0, 0, 0.3));\n",
              "      fill: #FFFFFF;\n",
              "    }\n",
              "  </style>\n",
              "\n",
              "      <script>\n",
              "        const buttonEl =\n",
              "          document.querySelector('#df-39be09a2-1876-4fbe-ae9d-0ccc9f134526 button.colab-df-convert');\n",
              "        buttonEl.style.display =\n",
              "          google.colab.kernel.accessAllowed ? 'block' : 'none';\n",
              "\n",
              "        async function convertToInteractive(key) {\n",
              "          const element = document.querySelector('#df-39be09a2-1876-4fbe-ae9d-0ccc9f134526');\n",
              "          const dataTable =\n",
              "            await google.colab.kernel.invokeFunction('convertToInteractive',\n",
              "                                                     [key], {});\n",
              "          if (!dataTable) return;\n",
              "\n",
              "          const docLinkHtml = 'Like what you see? Visit the ' +\n",
              "            '<a target=\"_blank\" href=https://colab.research.google.com/notebooks/data_table.ipynb>data table notebook</a>'\n",
              "            + ' to learn more about interactive tables.';\n",
              "          element.innerHTML = '';\n",
              "          dataTable['output_type'] = 'display_data';\n",
              "          await google.colab.output.renderOutput(dataTable, element);\n",
              "          const docLink = document.createElement('div');\n",
              "          docLink.innerHTML = docLinkHtml;\n",
              "          element.appendChild(docLink);\n",
              "        }\n",
              "      </script>\n",
              "    </div>\n",
              "  </div>\n",
              "  "
            ]
          },
          "metadata": {},
          "execution_count": 63
        }
      ]
    },
    {
      "cell_type": "markdown",
      "metadata": {
        "id": "2RZDQpDH1ZVD"
      },
      "source": [
        "### Replace NaN at Age columns with median value"
      ]
    },
    {
      "cell_type": "markdown",
      "source": [
        "ในส่วนของคอลัมน์ Age จะถูกแทนที่ด้วยค่า median ในกรณีที่เป็น missing value "
      ],
      "metadata": {
        "id": "HOOuhlaB83Ob"
      }
    },
    {
      "cell_type": "code",
      "execution_count": null,
      "metadata": {
        "colab": {
          "base_uri": "https://localhost:8080/"
        },
        "outputId": "bf86e499-a8a2-4dde-c990-3e62a243852f",
        "id": "-V7KhRU81ZVD"
      },
      "outputs": [
        {
          "output_type": "execute_result",
          "data": {
            "text/plain": [
              "28"
            ]
          },
          "metadata": {},
          "execution_count": 64
        }
      ],
      "source": [
        "int(data2[\"Age\"].median())"
      ]
    },
    {
      "cell_type": "code",
      "execution_count": null,
      "metadata": {
        "colab": {
          "base_uri": "https://localhost:8080/"
        },
        "outputId": "c0d2e7d7-952a-4f1c-c37e-f3044b297327",
        "id": "XCxCBpNN1ZVD"
      },
      "outputs": [
        {
          "output_type": "execute_result",
          "data": {
            "text/plain": [
              "Survived             0\n",
              "Pclass               0\n",
              "Sex                  0\n",
              "Age                  0\n",
              "SibSp                0\n",
              "Parch                0\n",
              "Fare                 0\n",
              "Embarked             2\n",
              "Title                0\n",
              "Age*Class          177\n",
              "Fare_Per_Person      0\n",
              "dtype: int64"
            ]
          },
          "metadata": {},
          "execution_count": 65
        }
      ],
      "source": [
        "data2[\"Age\"] = data2[\"Age\"].fillna(int(data2[\"Age\"].median()))\n",
        "data2.isna().sum()"
      ]
    },
    {
      "cell_type": "code",
      "execution_count": null,
      "metadata": {
        "colab": {
          "base_uri": "https://localhost:8080/",
          "height": 296
        },
        "outputId": "f4169d50-02b1-4170-b9d5-bf1c017e0282",
        "id": "4nbuB6x81ZVD"
      },
      "outputs": [
        {
          "output_type": "execute_result",
          "data": {
            "text/plain": [
              "<matplotlib.axes._subplots.AxesSubplot at 0x7ff28eb94890>"
            ]
          },
          "metadata": {},
          "execution_count": 66
        },
        {
          "output_type": "display_data",
          "data": {
            "text/plain": [
              "<Figure size 432x288 with 1 Axes>"
            ],
            "image/png": "[encoded data removed]"
          },
          "metadata": {
            "needs_background": "light"
          }
        }
      ],
      "source": [
        "sns.histplot(x = \"Age\", data= data2) #พลอตกราฟ histogram แสดงค่าการจายตัวของคอลัมน์ Age"
      ]
    },
    {
      "cell_type": "markdown",
      "metadata": {
        "id": "gZOsrfv01ZVD"
      },
      "source": [
        "### Replace NaN at Embarked columns with mode value"
      ]
    },
    {
      "cell_type": "markdown",
      "source": [
        "ทำการแทนที่ missing value ของคอลัมน์ Embarked ด้วยค่า mode"
      ],
      "metadata": {
        "id": "VJSGQ0Yr_O_e"
      }
    },
    {
      "cell_type": "code",
      "execution_count": null,
      "metadata": {
        "colab": {
          "base_uri": "https://localhost:8080/",
          "height": 34
        },
        "outputId": "a45209d9-f6d3-4688-a454-79cda124af4f",
        "id": "jiPa-FG_1ZVD"
      },
      "outputs": [
        {
          "output_type": "execute_result",
          "data": {
            "text/plain": [
              "'S'"
            ],
            "application/vnd.google.colaboratory.intrinsic+json": {
              "type": "string"
            }
          },
          "metadata": {},
          "execution_count": 67
        }
      ],
      "source": [
        "(data2[\"Embarked\"].mode())[0] #แสดงค่า mode ของ Embarked"
      ]
    },
    {
      "cell_type": "code",
      "execution_count": null,
      "metadata": {
        "colab": {
          "base_uri": "https://localhost:8080/"
        },
        "outputId": "5f67bfb9-e93f-464b-eea7-8eaa08fa8f7a",
        "id": "WwaFWJzO1ZVD"
      },
      "outputs": [
        {
          "output_type": "execute_result",
          "data": {
            "text/plain": [
              "Survived             0\n",
              "Pclass               0\n",
              "Sex                  0\n",
              "Age                  0\n",
              "SibSp                0\n",
              "Parch                0\n",
              "Fare                 0\n",
              "Embarked             0\n",
              "Title                0\n",
              "Age*Class          177\n",
              "Fare_Per_Person      0\n",
              "dtype: int64"
            ]
          },
          "metadata": {},
          "execution_count": 68
        }
      ],
      "source": [
        "data2[\"Embarked\"] = data2[\"Embarked\"].fillna(data2[\"Embarked\"].mode()[0])\n",
        "data2.isna().sum()"
      ]
    },
    {
      "cell_type": "markdown",
      "metadata": {
        "id": "qwJh22Q91ZVD"
      },
      "source": [
        "### Revise Age*Class columns after replace Age columns"
      ]
    },
    {
      "cell_type": "markdown",
      "source": [
        "เนื่องจาก ได้ทำการแทนที่ missing value ของ Age ใหม่จึงต้องทำการคำนวณคอลัมน์ Age*Class ใหม่ด้วย"
      ],
      "metadata": {
        "id": "jrlExoYB_Yra"
      }
    },
    {
      "cell_type": "code",
      "execution_count": null,
      "metadata": {
        "id": "kf2fwf9k1ZVD"
      },
      "outputs": [],
      "source": [
        "data2['Age*Class']=data2['Age']*data2['Pclass']"
      ]
    },
    {
      "cell_type": "code",
      "execution_count": null,
      "metadata": {
        "colab": {
          "base_uri": "https://localhost:8080/"
        },
        "outputId": "795e3bf7-d2c6-4172-8b17-937353a49c9d",
        "id": "K8D8fdnr1ZVE"
      },
      "outputs": [
        {
          "output_type": "execute_result",
          "data": {
            "text/plain": [
              "Survived           0\n",
              "Pclass             0\n",
              "Sex                0\n",
              "Age                0\n",
              "SibSp              0\n",
              "Parch              0\n",
              "Fare               0\n",
              "Embarked           0\n",
              "Title              0\n",
              "Age*Class          0\n",
              "Fare_Per_Person    0\n",
              "dtype: int64"
            ]
          },
          "metadata": {},
          "execution_count": 70
        }
      ],
      "source": [
        "data2.isna().sum()"
      ]
    },
    {
      "cell_type": "code",
      "execution_count": null,
      "metadata": {
        "colab": {
          "base_uri": "https://localhost:8080/",
          "height": 296
        },
        "outputId": "cd9b5ac2-ef7b-4eb6-8b3b-9a803c128f4c",
        "id": "5HmBCPVB1ZVE"
      },
      "outputs": [
        {
          "output_type": "execute_result",
          "data": {
            "text/plain": [
              "<matplotlib.axes._subplots.AxesSubplot at 0x7ff28ea650d0>"
            ]
          },
          "metadata": {},
          "execution_count": 71
        },
        {
          "output_type": "display_data",
          "data": {
            "text/plain": [
              "<Figure size 432x288 with 1 Axes>"
            ],
            "image/png": "[encoded data removed]"
          },
          "metadata": {
            "needs_background": "light"
          }
        }
      ],
      "source": [
        "sns.histplot(x = \"Age*Class\", data = data2)"
      ]
    },
    {
      "cell_type": "markdown",
      "metadata": {
        "id": "L7Y34T5N1ZVE"
      },
      "source": [
        "## Check Outlier "
      ]
    },
    {
      "cell_type": "markdown",
      "source": [
        "ทำการเช็ค Outlier กับคอลัมน์ที่มีตัวแปรเป็น Continuous value ซึ่งจะอยู่ในคอลัมน์ \"Age\", \"Fare\", \"Age*Class\", \"Fare_Per_Person\""
      ],
      "metadata": {
        "id": "_6c_xG8K_pJE"
      }
    },
    {
      "cell_type": "code",
      "execution_count": null,
      "metadata": {
        "colab": {
          "base_uri": "https://localhost:8080/",
          "height": 540
        },
        "outputId": "bb0c7dfe-bbf2-4777-d998-d1c6f8633697",
        "id": "0-C33fl_1ZVE"
      },
      "outputs": [
        {
          "output_type": "display_data",
          "data": {
            "text/plain": [
              "<Figure size 1080x648 with 4 Axes>"
            ],
            "image/png": "[encoded data removed]"
          },
          "metadata": {
            "needs_background": "light"
          }
        }
      ],
      "source": [
        "fig, axes = plt.subplots(ncols=4, nrows=1, figsize=(15, 9))\n",
        "index = 0\n",
        "for i in [\"Age\", \"Fare\", \"Age*Class\", \"Fare_Per_Person\"] :\n",
        "  sns.boxplot(y = i, data= data2, ax = axes[index])\n",
        "  axes[index].set_title( i + \" Boxplot\")\n",
        "  index += 1"
      ]
    },
    {
      "cell_type": "markdown",
      "source": [
        "กราฟ Boxplot ด้านบนจะแสดงถึงช่วงของข้อมูลและแสดงค่า Outlier "
      ],
      "metadata": {
        "id": "2K1qTcMJB7F_"
      }
    },
    {
      "cell_type": "markdown",
      "metadata": {
        "id": "Uxg4c0_H1ZVE"
      },
      "source": [
        "### Outlier Age"
      ]
    },
    {
      "cell_type": "markdown",
      "source": [
        "หา Outlier ของคอลัมน์ Age โดยจะทำการตัด outlier ที่ upper limit ของ IQR + 1.5 ขึ้นไปและ lower limit ของ IQR - 1.5 ลงมา "
      ],
      "metadata": {
        "id": "dKu1-M3CCIZs"
      }
    },
    {
      "cell_type": "code",
      "execution_count": null,
      "metadata": {
        "id": "NKl8lJ2i1ZVE"
      },
      "outputs": [],
      "source": [
        "cal_Q1 = data2[\"Age\"].quantile(0.25)\n",
        "cal_Q3 = data2[\"Age\"].quantile(0.75)\n",
        "cal_IQR = cal_Q3 - cal_Q1\n",
        "lower_limit = cal_Q1 - 1.5 * cal_IQR\n",
        "upper_limit = cal_Q3 + 1.5 * cal_IQR"
      ]
    },
    {
      "cell_type": "code",
      "execution_count": null,
      "metadata": {
        "colab": {
          "base_uri": "https://localhost:8080/",
          "height": 424
        },
        "outputId": "61eeaba8-3d07-4c61-b381-efb48f2b74b0",
        "id": "cAK5wWAm1ZVE"
      },
      "outputs": [
        {
          "output_type": "execute_result",
          "data": {
            "text/plain": [
              "     Survived  Pclass     Sex   Age  SibSp  Parch     Fare Embarked   Title  \\\n",
              "7           0       3    male   2.0      3      1  21.0750        S  Master   \n",
              "11          1       1  female  58.0      0      0  26.5500        S    Miss   \n",
              "15          1       2  female  55.0      0      0  16.0000        S     Mrs   \n",
              "16          0       3    male   2.0      4      1  29.1250        Q  Master   \n",
              "33          0       2    male  66.0      0      0  10.5000        S      Mr   \n",
              "..        ...     ...     ...   ...    ...    ...      ...      ...     ...   \n",
              "827         1       2    male   1.0      0      2  37.0042        C  Master   \n",
              "829         1       1  female  62.0      0      0  80.0000        S     Mrs   \n",
              "831         1       2    male   1.0      1      1  18.7500        S  Master   \n",
              "851         0       3    male  74.0      0      0   7.7750        S      Mr   \n",
              "879         1       1  female  56.0      0      1  83.1583        C     Mrs   \n",
              "\n",
              "     Age*Class  Fare_Per_Person  \n",
              "7          6.0         4.215000  \n",
              "11        58.0        26.550000  \n",
              "15       110.0        16.000000  \n",
              "16         6.0         4.854167  \n",
              "33       132.0        10.500000  \n",
              "..         ...              ...  \n",
              "827        2.0        12.334733  \n",
              "829       62.0        80.000000  \n",
              "831        2.0         6.250000  \n",
              "851      222.0         7.775000  \n",
              "879       56.0        41.579150  \n",
              "\n",
              "[66 rows x 11 columns]"
            ],
            "text/html": [
              "\n",
              "  <div id=\"df-b8d45d08-b447-42db-bde3-7fa322f1a9ea\">\n",
              "    <div class=\"colab-df-container\">\n",
              "      <div>\n",
              "<style scoped>\n",
              "    .dataframe tbody tr th:only-of-type {\n",
              "        vertical-align: middle;\n",
              "    }\n",
              "\n",
              "    .dataframe tbody tr th {\n",
              "        vertical-align: top;\n",
              "    }\n",
              "\n",
              "    .dataframe thead th {\n",
              "        text-align: right;\n",
              "    }\n",
              "</style>\n",
              "<table border=\"1\" class=\"dataframe\">\n",
              "  <thead>\n",
              "    <tr style=\"text-align: right;\">\n",
              "      <th></th>\n",
              "      <th>Survived</th>\n",
              "      <th>Pclass</th>\n",
              "      <th>Sex</th>\n",
              "      <th>Age</th>\n",
              "      <th>SibSp</th>\n",
              "      <th>Parch</th>\n",
              "      <th>Fare</th>\n",
              "      <th>Embarked</th>\n",
              "      <th>Title</th>\n",
              "      <th>Age*Class</th>\n",
              "      <th>Fare_Per_Person</th>\n",
              "    </tr>\n",
              "  </thead>\n",
              "  <tbody>\n",
              "    <tr>\n",
              "      <th>7</th>\n",
              "      <td>0</td>\n",
              "      <td>3</td>\n",
              "      <td>male</td>\n",
              "      <td>2.0</td>\n",
              "      <td>3</td>\n",
              "      <td>1</td>\n",
              "      <td>21.0750</td>\n",
              "      <td>S</td>\n",
              "      <td>Master</td>\n",
              "      <td>6.0</td>\n",
              "      <td>4.215000</td>\n",
              "    </tr>\n",
              "    <tr>\n",
              "      <th>11</th>\n",
              "      <td>1</td>\n",
              "      <td>1</td>\n",
              "      <td>female</td>\n",
              "      <td>58.0</td>\n",
              "      <td>0</td>\n",
              "      <td>0</td>\n",
              "      <td>26.5500</td>\n",
              "      <td>S</td>\n",
              "      <td>Miss</td>\n",
              "      <td>58.0</td>\n",
              "      <td>26.550000</td>\n",
              "    </tr>\n",
              "    <tr>\n",
              "      <th>15</th>\n",
              "      <td>1</td>\n",
              "      <td>2</td>\n",
              "      <td>female</td>\n",
              "      <td>55.0</td>\n",
              "      <td>0</td>\n",
              "      <td>0</td>\n",
              "      <td>16.0000</td>\n",
              "      <td>S</td>\n",
              "      <td>Mrs</td>\n",
              "      <td>110.0</td>\n",
              "      <td>16.000000</td>\n",
              "    </tr>\n",
              "    <tr>\n",
              "      <th>16</th>\n",
              "      <td>0</td>\n",
              "      <td>3</td>\n",
              "      <td>male</td>\n",
              "      <td>2.0</td>\n",
              "      <td>4</td>\n",
              "      <td>1</td>\n",
              "      <td>29.1250</td>\n",
              "      <td>Q</td>\n",
              "      <td>Master</td>\n",
              "      <td>6.0</td>\n",
              "      <td>4.854167</td>\n",
              "    </tr>\n",
              "    <tr>\n",
              "      <th>33</th>\n",
              "      <td>0</td>\n",
              "      <td>2</td>\n",
              "      <td>male</td>\n",
              "      <td>66.0</td>\n",
              "      <td>0</td>\n",
              "      <td>0</td>\n",
              "      <td>10.5000</td>\n",
              "      <td>S</td>\n",
              "      <td>Mr</td>\n",
              "      <td>132.0</td>\n",
              "      <td>10.500000</td>\n",
              "    </tr>\n",
              "    <tr>\n",
              "      <th>...</th>\n",
              "      <td>...</td>\n",
              "      <td>...</td>\n",
              "      <td>...</td>\n",
              "      <td>...</td>\n",
              "      <td>...</td>\n",
              "      <td>...</td>\n",
              "      <td>...</td>\n",
              "      <td>...</td>\n",
              "      <td>...</td>\n",
              "      <td>...</td>\n",
              "      <td>...</td>\n",
              "    </tr>\n",
              "    <tr>\n",
              "      <th>827</th>\n",
              "      <td>1</td>\n",
              "      <td>2</td>\n",
              "      <td>male</td>\n",
              "      <td>1.0</td>\n",
              "      <td>0</td>\n",
              "      <td>2</td>\n",
              "      <td>37.0042</td>\n",
              "      <td>C</td>\n",
              "      <td>Master</td>\n",
              "      <td>2.0</td>\n",
              "      <td>12.334733</td>\n",
              "    </tr>\n",
              "    <tr>\n",
              "      <th>829</th>\n",
              "      <td>1</td>\n",
              "      <td>1</td>\n",
              "      <td>female</td>\n",
              "      <td>62.0</td>\n",
              "      <td>0</td>\n",
              "      <td>0</td>\n",
              "      <td>80.0000</td>\n",
              "      <td>S</td>\n",
              "      <td>Mrs</td>\n",
              "      <td>62.0</td>\n",
              "      <td>80.000000</td>\n",
              "    </tr>\n",
              "    <tr>\n",
              "      <th>831</th>\n",
              "      <td>1</td>\n",
              "      <td>2</td>\n",
              "      <td>male</td>\n",
              "      <td>1.0</td>\n",
              "      <td>1</td>\n",
              "      <td>1</td>\n",
              "      <td>18.7500</td>\n",
              "      <td>S</td>\n",
              "      <td>Master</td>\n",
              "      <td>2.0</td>\n",
              "      <td>6.250000</td>\n",
              "    </tr>\n",
              "    <tr>\n",
              "      <th>851</th>\n",
              "      <td>0</td>\n",
              "      <td>3</td>\n",
              "      <td>male</td>\n",
              "      <td>74.0</td>\n",
              "      <td>0</td>\n",
              "      <td>0</td>\n",
              "      <td>7.7750</td>\n",
              "      <td>S</td>\n",
              "      <td>Mr</td>\n",
              "      <td>222.0</td>\n",
              "      <td>7.775000</td>\n",
              "    </tr>\n",
              "    <tr>\n",
              "      <th>879</th>\n",
              "      <td>1</td>\n",
              "      <td>1</td>\n",
              "      <td>female</td>\n",
              "      <td>56.0</td>\n",
              "      <td>0</td>\n",
              "      <td>1</td>\n",
              "      <td>83.1583</td>\n",
              "      <td>C</td>\n",
              "      <td>Mrs</td>\n",
              "      <td>56.0</td>\n",
              "      <td>41.579150</td>\n",
              "    </tr>\n",
              "  </tbody>\n",
              "</table>\n",
              "<p>66 rows × 11 columns</p>\n",
              "</div>\n",
              "      <button class=\"colab-df-convert\" onclick=\"convertToInteractive('df-b8d45d08-b447-42db-bde3-7fa322f1a9ea')\"\n",
              "              title=\"Convert this dataframe to an interactive table.\"\n",
              "              style=\"display:none;\">\n",
              "        \n",
              "  <svg xmlns=\"http://www.w3.org/2000/svg\" height=\"24px\"viewBox=\"0 0 24 24\"\n",
              "       width=\"24px\">\n",
              "    <path d=\"M0 0h24v24H0V0z\" fill=\"none\"/>\n",
              "    <path d=\"M18.56 5.44l.94 2.06.94-2.06 2.06-.94-2.06-.94-.94-2.06-.94 2.06-2.06.94zm-11 1L8.5 8.5l.94-2.06 2.06-.94-2.06-.94L8.5 2.5l-.94 2.06-2.06.94zm10 10l.94 2.06.94-2.06 2.06-.94-2.06-.94-.94-2.06-.94 2.06-2.06.94z\"/><path d=\"M17.41 7.96l-1.37-1.37c-.4-.4-.92-.59-1.43-.59-.52 0-1.04.2-1.43.59L10.3 9.45l-7.72 7.72c-.78.78-.78 2.05 0 2.83L4 21.41c.39.39.9.59 1.41.59.51 0 1.02-.2 1.41-.59l7.78-7.78 2.81-2.81c.8-.78.8-2.07 0-2.86zM5.41 20L4 18.59l7.72-7.72 1.47 1.35L5.41 20z\"/>\n",
              "  </svg>\n",
              "      </button>\n",
              "      \n",
              "  <style>\n",
              "    .colab-df-container {\n",
              "      display:flex;\n",
              "      flex-wrap:wrap;\n",
              "      gap: 12px;\n",
              "    }\n",
              "\n",
              "    .colab-df-convert {\n",
              "      background-color: #E8F0FE;\n",
              "      border: none;\n",
              "      border-radius: 50%;\n",
              "      cursor: pointer;\n",
              "      display: none;\n",
              "      fill: #1967D2;\n",
              "      height: 32px;\n",
              "      padding: 0 0 0 0;\n",
              "      width: 32px;\n",
              "    }\n",
              "\n",
              "    .colab-df-convert:hover {\n",
              "      background-color: #E2EBFA;\n",
              "      box-shadow: 0px 1px 2px rgba(60, 64, 67, 0.3), 0px 1px 3px 1px rgba(60, 64, 67, 0.15);\n",
              "      fill: #174EA6;\n",
              "    }\n",
              "\n",
              "    [theme=dark] .colab-df-convert {\n",
              "      background-color: #3B4455;\n",
              "      fill: #D2E3FC;\n",
              "    }\n",
              "\n",
              "    [theme=dark] .colab-df-convert:hover {\n",
              "      background-color: #434B5C;\n",
              "      box-shadow: 0px 1px 3px 1px rgba(0, 0, 0, 0.15);\n",
              "      filter: drop-shadow(0px 1px 2px rgba(0, 0, 0, 0.3));\n",
              "      fill: #FFFFFF;\n",
              "    }\n",
              "  </style>\n",
              "\n",
              "      <script>\n",
              "        const buttonEl =\n",
              "          document.querySelector('#df-b8d45d08-b447-42db-bde3-7fa322f1a9ea button.colab-df-convert');\n",
              "        buttonEl.style.display =\n",
              "          google.colab.kernel.accessAllowed ? 'block' : 'none';\n",
              "\n",
              "        async function convertToInteractive(key) {\n",
              "          const element = document.querySelector('#df-b8d45d08-b447-42db-bde3-7fa322f1a9ea');\n",
              "          const dataTable =\n",
              "            await google.colab.kernel.invokeFunction('convertToInteractive',\n",
              "                                                     [key], {});\n",
              "          if (!dataTable) return;\n",
              "\n",
              "          const docLinkHtml = 'Like what you see? Visit the ' +\n",
              "            '<a target=\"_blank\" href=https://colab.research.google.com/notebooks/data_table.ipynb>data table notebook</a>'\n",
              "            + ' to learn more about interactive tables.';\n",
              "          element.innerHTML = '';\n",
              "          dataTable['output_type'] = 'display_data';\n",
              "          await google.colab.output.renderOutput(dataTable, element);\n",
              "          const docLink = document.createElement('div');\n",
              "          docLink.innerHTML = docLinkHtml;\n",
              "          element.appendChild(docLink);\n",
              "        }\n",
              "      </script>\n",
              "    </div>\n",
              "  </div>\n",
              "  "
            ]
          },
          "metadata": {},
          "execution_count": 74
        }
      ],
      "source": [
        "data2[(data2[\"Age\"] < lower_limit) | (data2[\"Age\"] > upper_limit)] "
      ]
    },
    {
      "cell_type": "markdown",
      "source": [
        "จากตารางด้านบนแสดงค่า Outlier ที่เกิดขึ้นกับคอลัมน์ Age มีทั้งหมด 66 แถวที่จะตัดออก"
      ],
      "metadata": {
        "id": "PulkKdr-CoqE"
      }
    },
    {
      "cell_type": "code",
      "execution_count": null,
      "metadata": {
        "colab": {
          "base_uri": "https://localhost:8080/"
        },
        "outputId": "4795da40-6820-4bf0-d227-58358544d23d",
        "id": "Wc2b-glI1ZVE"
      },
      "outputs": [
        {
          "output_type": "execute_result",
          "data": {
            "text/plain": [
              "(825, 11)"
            ]
          },
          "metadata": {},
          "execution_count": 75
        }
      ],
      "source": [
        "data2 = data2[(data2[\"Age\"] >= lower_limit) & (data2[\"Age\"] <= upper_limit)]\n",
        "data2.shape"
      ]
    },
    {
      "cell_type": "markdown",
      "source": [
        "หลังจากตัด Outlier ไปแล้วจะเหลือแถวทั้งหมด 825 แถว"
      ],
      "metadata": {
        "id": "gQhIprkxDc55"
      }
    },
    {
      "cell_type": "markdown",
      "source": [
        "### Outlier Fare"
      ],
      "metadata": {
        "id": "DymFaUK-7-RZ"
      }
    },
    {
      "cell_type": "markdown",
      "source": [
        "หา Outlier ของคอลัมน์ Fare โดยจะทำการตัด outlier ที่ upper limit ของ IQR + 1.5 ขึ้นไปและ lower limit ของ IQR - 1.5 ลงมา "
      ],
      "metadata": {
        "id": "dZqH3fHTDka4"
      }
    },
    {
      "cell_type": "code",
      "execution_count": null,
      "metadata": {
        "id": "3Za7PwUq8IgY"
      },
      "outputs": [],
      "source": [
        "cal_Q1 = data2[\"Fare\"].quantile(0.25)\n",
        "cal_Q3 = data2[\"Fare\"].quantile(0.75)\n",
        "cal_IQR = cal_Q3 - cal_Q1\n",
        "lower_limit = cal_Q1 - 1.5 * cal_IQR\n",
        "upper_limit = cal_Q3 + 1.5 * cal_IQR"
      ]
    },
    {
      "cell_type": "code",
      "execution_count": null,
      "metadata": {
        "colab": {
          "base_uri": "https://localhost:8080/",
          "height": 424
        },
        "outputId": "10ce9021-fc28-4c4f-c986-7570310e62ee",
        "id": "C0Aw-avi8IgY"
      },
      "outputs": [
        {
          "output_type": "execute_result",
          "data": {
            "text/plain": [
              "     Survived  Pclass     Sex   Age  SibSp  Parch      Fare Embarked Title  \\\n",
              "1           1       1  female  38.0      1      0   71.2833        C   Mrs   \n",
              "27          0       1    male  19.0      3      2  263.0000        S    Mr   \n",
              "31          1       1  female  28.0      1      0  146.5208        C   Mrs   \n",
              "34          0       1    male  28.0      1      0   82.1708        C    Mr   \n",
              "52          1       1  female  49.0      1      0   76.7292        C   Mrs   \n",
              "..        ...     ...     ...   ...    ...    ...       ...      ...   ...   \n",
              "835         1       1  female  39.0      1      1   83.1583        C  Miss   \n",
              "846         0       3    male  28.0      8      2   69.5500        S    Mr   \n",
              "849         1       1  female  28.0      1      0   89.1042        C   Mrs   \n",
              "856         1       1  female  45.0      1      1  164.8667        S   Mrs   \n",
              "863         0       3  female  28.0      8      2   69.5500        S  Miss   \n",
              "\n",
              "     Age*Class  Fare_Per_Person  \n",
              "1         38.0        35.641650  \n",
              "27        19.0        43.833333  \n",
              "31        28.0        73.260400  \n",
              "34        28.0        41.085400  \n",
              "52        49.0        38.364600  \n",
              "..         ...              ...  \n",
              "835       39.0        27.719433  \n",
              "846       84.0         6.322727  \n",
              "849       28.0        44.552100  \n",
              "856       45.0        54.955567  \n",
              "863       84.0         6.322727  \n",
              "\n",
              "[107 rows x 11 columns]"
            ],
            "text/html": [
              "\n",
              "  <div id=\"df-eef119cd-78e8-45bc-97a3-f08c9e2c43f9\">\n",
              "    <div class=\"colab-df-container\">\n",
              "      <div>\n",
              "<style scoped>\n",
              "    .dataframe tbody tr th:only-of-type {\n",
              "        vertical-align: middle;\n",
              "    }\n",
              "\n",
              "    .dataframe tbody tr th {\n",
              "        vertical-align: top;\n",
              "    }\n",
              "\n",
              "    .dataframe thead th {\n",
              "        text-align: right;\n",
              "    }\n",
              "</style>\n",
              "<table border=\"1\" class=\"dataframe\">\n",
              "  <thead>\n",
              "    <tr style=\"text-align: right;\">\n",
              "      <th></th>\n",
              "      <th>Survived</th>\n",
              "      <th>Pclass</th>\n",
              "      <th>Sex</th>\n",
              "      <th>Age</th>\n",
              "      <th>SibSp</th>\n",
              "      <th>Parch</th>\n",
              "      <th>Fare</th>\n",
              "      <th>Embarked</th>\n",
              "      <th>Title</th>\n",
              "      <th>Age*Class</th>\n",
              "      <th>Fare_Per_Person</th>\n",
              "    </tr>\n",
              "  </thead>\n",
              "  <tbody>\n",
              "    <tr>\n",
              "      <th>1</th>\n",
              "      <td>1</td>\n",
              "      <td>1</td>\n",
              "      <td>female</td>\n",
              "      <td>38.0</td>\n",
              "      <td>1</td>\n",
              "      <td>0</td>\n",
              "      <td>71.2833</td>\n",
              "      <td>C</td>\n",
              "      <td>Mrs</td>\n",
              "      <td>38.0</td>\n",
              "      <td>35.641650</td>\n",
              "    </tr>\n",
              "    <tr>\n",
              "      <th>27</th>\n",
              "      <td>0</td>\n",
              "      <td>1</td>\n",
              "      <td>male</td>\n",
              "      <td>19.0</td>\n",
              "      <td>3</td>\n",
              "      <td>2</td>\n",
              "      <td>263.0000</td>\n",
              "      <td>S</td>\n",
              "      <td>Mr</td>\n",
              "      <td>19.0</td>\n",
              "      <td>43.833333</td>\n",
              "    </tr>\n",
              "    <tr>\n",
              "      <th>31</th>\n",
              "      <td>1</td>\n",
              "      <td>1</td>\n",
              "      <td>female</td>\n",
              "      <td>28.0</td>\n",
              "      <td>1</td>\n",
              "      <td>0</td>\n",
              "      <td>146.5208</td>\n",
              "      <td>C</td>\n",
              "      <td>Mrs</td>\n",
              "      <td>28.0</td>\n",
              "      <td>73.260400</td>\n",
              "    </tr>\n",
              "    <tr>\n",
              "      <th>34</th>\n",
              "      <td>0</td>\n",
              "      <td>1</td>\n",
              "      <td>male</td>\n",
              "      <td>28.0</td>\n",
              "      <td>1</td>\n",
              "      <td>0</td>\n",
              "      <td>82.1708</td>\n",
              "      <td>C</td>\n",
              "      <td>Mr</td>\n",
              "      <td>28.0</td>\n",
              "      <td>41.085400</td>\n",
              "    </tr>\n",
              "    <tr>\n",
              "      <th>52</th>\n",
              "      <td>1</td>\n",
              "      <td>1</td>\n",
              "      <td>female</td>\n",
              "      <td>49.0</td>\n",
              "      <td>1</td>\n",
              "      <td>0</td>\n",
              "      <td>76.7292</td>\n",
              "      <td>C</td>\n",
              "      <td>Mrs</td>\n",
              "      <td>49.0</td>\n",
              "      <td>38.364600</td>\n",
              "    </tr>\n",
              "    <tr>\n",
              "      <th>...</th>\n",
              "      <td>...</td>\n",
              "      <td>...</td>\n",
              "      <td>...</td>\n",
              "      <td>...</td>\n",
              "      <td>...</td>\n",
              "      <td>...</td>\n",
              "      <td>...</td>\n",
              "      <td>...</td>\n",
              "      <td>...</td>\n",
              "      <td>...</td>\n",
              "      <td>...</td>\n",
              "    </tr>\n",
              "    <tr>\n",
              "      <th>835</th>\n",
              "      <td>1</td>\n",
              "      <td>1</td>\n",
              "      <td>female</td>\n",
              "      <td>39.0</td>\n",
              "      <td>1</td>\n",
              "      <td>1</td>\n",
              "      <td>83.1583</td>\n",
              "      <td>C</td>\n",
              "      <td>Miss</td>\n",
              "      <td>39.0</td>\n",
              "      <td>27.719433</td>\n",
              "    </tr>\n",
              "    <tr>\n",
              "      <th>846</th>\n",
              "      <td>0</td>\n",
              "      <td>3</td>\n",
              "      <td>male</td>\n",
              "      <td>28.0</td>\n",
              "      <td>8</td>\n",
              "      <td>2</td>\n",
              "      <td>69.5500</td>\n",
              "      <td>S</td>\n",
              "      <td>Mr</td>\n",
              "      <td>84.0</td>\n",
              "      <td>6.322727</td>\n",
              "    </tr>\n",
              "    <tr>\n",
              "      <th>849</th>\n",
              "      <td>1</td>\n",
              "      <td>1</td>\n",
              "      <td>female</td>\n",
              "      <td>28.0</td>\n",
              "      <td>1</td>\n",
              "      <td>0</td>\n",
              "      <td>89.1042</td>\n",
              "      <td>C</td>\n",
              "      <td>Mrs</td>\n",
              "      <td>28.0</td>\n",
              "      <td>44.552100</td>\n",
              "    </tr>\n",
              "    <tr>\n",
              "      <th>856</th>\n",
              "      <td>1</td>\n",
              "      <td>1</td>\n",
              "      <td>female</td>\n",
              "      <td>45.0</td>\n",
              "      <td>1</td>\n",
              "      <td>1</td>\n",
              "      <td>164.8667</td>\n",
              "      <td>S</td>\n",
              "      <td>Mrs</td>\n",
              "      <td>45.0</td>\n",
              "      <td>54.955567</td>\n",
              "    </tr>\n",
              "    <tr>\n",
              "      <th>863</th>\n",
              "      <td>0</td>\n",
              "      <td>3</td>\n",
              "      <td>female</td>\n",
              "      <td>28.0</td>\n",
              "      <td>8</td>\n",
              "      <td>2</td>\n",
              "      <td>69.5500</td>\n",
              "      <td>S</td>\n",
              "      <td>Miss</td>\n",
              "      <td>84.0</td>\n",
              "      <td>6.322727</td>\n",
              "    </tr>\n",
              "  </tbody>\n",
              "</table>\n",
              "<p>107 rows × 11 columns</p>\n",
              "</div>\n",
              "      <button class=\"colab-df-convert\" onclick=\"convertToInteractive('df-eef119cd-78e8-45bc-97a3-f08c9e2c43f9')\"\n",
              "              title=\"Convert this dataframe to an interactive table.\"\n",
              "              style=\"display:none;\">\n",
              "        \n",
              "  <svg xmlns=\"http://www.w3.org/2000/svg\" height=\"24px\"viewBox=\"0 0 24 24\"\n",
              "       width=\"24px\">\n",
              "    <path d=\"M0 0h24v24H0V0z\" fill=\"none\"/>\n",
              "    <path d=\"M18.56 5.44l.94 2.06.94-2.06 2.06-.94-2.06-.94-.94-2.06-.94 2.06-2.06.94zm-11 1L8.5 8.5l.94-2.06 2.06-.94-2.06-.94L8.5 2.5l-.94 2.06-2.06.94zm10 10l.94 2.06.94-2.06 2.06-.94-2.06-.94-.94-2.06-.94 2.06-2.06.94z\"/><path d=\"M17.41 7.96l-1.37-1.37c-.4-.4-.92-.59-1.43-.59-.52 0-1.04.2-1.43.59L10.3 9.45l-7.72 7.72c-.78.78-.78 2.05 0 2.83L4 21.41c.39.39.9.59 1.41.59.51 0 1.02-.2 1.41-.59l7.78-7.78 2.81-2.81c.8-.78.8-2.07 0-2.86zM5.41 20L4 18.59l7.72-7.72 1.47 1.35L5.41 20z\"/>\n",
              "  </svg>\n",
              "      </button>\n",
              "      \n",
              "  <style>\n",
              "    .colab-df-container {\n",
              "      display:flex;\n",
              "      flex-wrap:wrap;\n",
              "      gap: 12px;\n",
              "    }\n",
              "\n",
              "    .colab-df-convert {\n",
              "      background-color: #E8F0FE;\n",
              "      border: none;\n",
              "      border-radius: 50%;\n",
              "      cursor: pointer;\n",
              "      display: none;\n",
              "      fill: #1967D2;\n",
              "      height: 32px;\n",
              "      padding: 0 0 0 0;\n",
              "      width: 32px;\n",
              "    }\n",
              "\n",
              "    .colab-df-convert:hover {\n",
              "      background-color: #E2EBFA;\n",
              "      box-shadow: 0px 1px 2px rgba(60, 64, 67, 0.3), 0px 1px 3px 1px rgba(60, 64, 67, 0.15);\n",
              "      fill: #174EA6;\n",
              "    }\n",
              "\n",
              "    [theme=dark] .colab-df-convert {\n",
              "      background-color: #3B4455;\n",
              "      fill: #D2E3FC;\n",
              "    }\n",
              "\n",
              "    [theme=dark] .colab-df-convert:hover {\n",
              "      background-color: #434B5C;\n",
              "      box-shadow: 0px 1px 3px 1px rgba(0, 0, 0, 0.15);\n",
              "      filter: drop-shadow(0px 1px 2px rgba(0, 0, 0, 0.3));\n",
              "      fill: #FFFFFF;\n",
              "    }\n",
              "  </style>\n",
              "\n",
              "      <script>\n",
              "        const buttonEl =\n",
              "          document.querySelector('#df-eef119cd-78e8-45bc-97a3-f08c9e2c43f9 button.colab-df-convert');\n",
              "        buttonEl.style.display =\n",
              "          google.colab.kernel.accessAllowed ? 'block' : 'none';\n",
              "\n",
              "        async function convertToInteractive(key) {\n",
              "          const element = document.querySelector('#df-eef119cd-78e8-45bc-97a3-f08c9e2c43f9');\n",
              "          const dataTable =\n",
              "            await google.colab.kernel.invokeFunction('convertToInteractive',\n",
              "                                                     [key], {});\n",
              "          if (!dataTable) return;\n",
              "\n",
              "          const docLinkHtml = 'Like what you see? Visit the ' +\n",
              "            '<a target=\"_blank\" href=https://colab.research.google.com/notebooks/data_table.ipynb>data table notebook</a>'\n",
              "            + ' to learn more about interactive tables.';\n",
              "          element.innerHTML = '';\n",
              "          dataTable['output_type'] = 'display_data';\n",
              "          await google.colab.output.renderOutput(dataTable, element);\n",
              "          const docLink = document.createElement('div');\n",
              "          docLink.innerHTML = docLinkHtml;\n",
              "          element.appendChild(docLink);\n",
              "        }\n",
              "      </script>\n",
              "    </div>\n",
              "  </div>\n",
              "  "
            ]
          },
          "metadata": {},
          "execution_count": 77
        }
      ],
      "source": [
        "data2[(data2[\"Fare\"] < lower_limit) | (data2[\"Fare\"] > upper_limit)]"
      ]
    },
    {
      "cell_type": "markdown",
      "source": [
        "จากตารางด้านบนแสดงค่า Outlier ที่เกิดขึ้นกับคอลัมน์ Fare มีทั้งหมด 107 แถวที่จะตัดออก"
      ],
      "metadata": {
        "id": "0zFTSDmSDrho"
      }
    },
    {
      "cell_type": "code",
      "execution_count": null,
      "metadata": {
        "colab": {
          "base_uri": "https://localhost:8080/"
        },
        "outputId": "acbcaa58-fb66-4f06-a483-a926ba382497",
        "id": "IU6Z9SM08IgY"
      },
      "outputs": [
        {
          "output_type": "execute_result",
          "data": {
            "text/plain": [
              "(718, 11)"
            ]
          },
          "metadata": {},
          "execution_count": 78
        }
      ],
      "source": [
        "data2 = data2[(data2[\"Fare\"] >= lower_limit) & (data2[\"Fare\"] <= upper_limit)]\n",
        "data2.shape"
      ]
    },
    {
      "cell_type": "markdown",
      "source": [
        "หลังจากตัด Outlier ไปแล้วจะเหลือแถวทั้งหมด 718 แถว"
      ],
      "metadata": {
        "id": "TUwIm9LvDv7p"
      }
    },
    {
      "cell_type": "markdown",
      "source": [
        "### Outlier Age*Class"
      ],
      "metadata": {
        "id": "ZpBi_pea8Taa"
      }
    },
    {
      "cell_type": "markdown",
      "source": [
        "หา Outlier ของคอลัมน์ Age*Class โดยจะทำการตัด outlier ที่ upper limit ของ IQR + 1.5 ขึ้นไปและ lower limit ของ IQR - 1.5 ลงมา "
      ],
      "metadata": {
        "id": "wra3WWIfD1mK"
      }
    },
    {
      "cell_type": "code",
      "execution_count": null,
      "metadata": {
        "id": "3cbbTcOE8alY"
      },
      "outputs": [],
      "source": [
        "cal_Q1 = data2[\"Age*Class\"].quantile(0.25)\n",
        "cal_Q3 = data2[\"Age*Class\"].quantile(0.75)\n",
        "cal_IQR = cal_Q3 - cal_Q1\n",
        "lower_limit = cal_Q1 - 1.5 * cal_IQR\n",
        "upper_limit = cal_Q3 + 1.5 * cal_IQR"
      ]
    },
    {
      "cell_type": "code",
      "execution_count": null,
      "metadata": {
        "colab": {
          "base_uri": "https://localhost:8080/",
          "height": 363
        },
        "outputId": "198d53b3-eb59-4dd9-ae56-c07ba6249cd9",
        "id": "Bh9i4duU8alY"
      },
      "outputs": [
        {
          "output_type": "execute_result",
          "data": {
            "text/plain": [
              "     Survived  Pclass     Sex   Age  SibSp  Parch     Fare Embarked Title  \\\n",
              "132         0       3  female  47.0      1      0  14.5000        S   Mrs   \n",
              "222         0       3    male  51.0      0      0   8.0500        S    Mr   \n",
              "406         0       3    male  51.0      0      0   7.7500        S    Mr   \n",
              "482         0       3    male  50.0      0      0   8.0500        S    Mr   \n",
              "592         0       3    male  47.0      0      0   7.2500        S    Mr   \n",
              "597         0       3    male  49.0      0      0   0.0000        S    Mr   \n",
              "631         0       3    male  51.0      0      0   7.0542        S    Mr   \n",
              "736         0       3  female  48.0      1      3  34.3750        S   Mrs   \n",
              "771         0       3    male  48.0      0      0   7.8542        S    Mr   \n",
              "873         0       3    male  47.0      0      0   9.0000        S    Mr   \n",
              "\n",
              "     Age*Class  Fare_Per_Person  \n",
              "132      141.0           7.2500  \n",
              "222      153.0           8.0500  \n",
              "406      153.0           7.7500  \n",
              "482      150.0           8.0500  \n",
              "592      141.0           7.2500  \n",
              "597      147.0           0.0000  \n",
              "631      153.0           7.0542  \n",
              "736      144.0           6.8750  \n",
              "771      144.0           7.8542  \n",
              "873      141.0           9.0000  "
            ],
            "text/html": [
              "\n",
              "  <div id=\"df-782afdcc-f6dc-4e3c-929d-18d73bed3a88\">\n",
              "    <div class=\"colab-df-container\">\n",
              "      <div>\n",
              "<style scoped>\n",
              "    .dataframe tbody tr th:only-of-type {\n",
              "        vertical-align: middle;\n",
              "    }\n",
              "\n",
              "    .dataframe tbody tr th {\n",
              "        vertical-align: top;\n",
              "    }\n",
              "\n",
              "    .dataframe thead th {\n",
              "        text-align: right;\n",
              "    }\n",
              "</style>\n",
              "<table border=\"1\" class=\"dataframe\">\n",
              "  <thead>\n",
              "    <tr style=\"text-align: right;\">\n",
              "      <th></th>\n",
              "      <th>Survived</th>\n",
              "      <th>Pclass</th>\n",
              "      <th>Sex</th>\n",
              "      <th>Age</th>\n",
              "      <th>SibSp</th>\n",
              "      <th>Parch</th>\n",
              "      <th>Fare</th>\n",
              "      <th>Embarked</th>\n",
              "      <th>Title</th>\n",
              "      <th>Age*Class</th>\n",
              "      <th>Fare_Per_Person</th>\n",
              "    </tr>\n",
              "  </thead>\n",
              "  <tbody>\n",
              "    <tr>\n",
              "      <th>132</th>\n",
              "      <td>0</td>\n",
              "      <td>3</td>\n",
              "      <td>female</td>\n",
              "      <td>47.0</td>\n",
              "      <td>1</td>\n",
              "      <td>0</td>\n",
              "      <td>14.5000</td>\n",
              "      <td>S</td>\n",
              "      <td>Mrs</td>\n",
              "      <td>141.0</td>\n",
              "      <td>7.2500</td>\n",
              "    </tr>\n",
              "    <tr>\n",
              "      <th>222</th>\n",
              "      <td>0</td>\n",
              "      <td>3</td>\n",
              "      <td>male</td>\n",
              "      <td>51.0</td>\n",
              "      <td>0</td>\n",
              "      <td>0</td>\n",
              "      <td>8.0500</td>\n",
              "      <td>S</td>\n",
              "      <td>Mr</td>\n",
              "      <td>153.0</td>\n",
              "      <td>8.0500</td>\n",
              "    </tr>\n",
              "    <tr>\n",
              "      <th>406</th>\n",
              "      <td>0</td>\n",
              "      <td>3</td>\n",
              "      <td>male</td>\n",
              "      <td>51.0</td>\n",
              "      <td>0</td>\n",
              "      <td>0</td>\n",
              "      <td>7.7500</td>\n",
              "      <td>S</td>\n",
              "      <td>Mr</td>\n",
              "      <td>153.0</td>\n",
              "      <td>7.7500</td>\n",
              "    </tr>\n",
              "    <tr>\n",
              "      <th>482</th>\n",
              "      <td>0</td>\n",
              "      <td>3</td>\n",
              "      <td>male</td>\n",
              "      <td>50.0</td>\n",
              "      <td>0</td>\n",
              "      <td>0</td>\n",
              "      <td>8.0500</td>\n",
              "      <td>S</td>\n",
              "      <td>Mr</td>\n",
              "      <td>150.0</td>\n",
              "      <td>8.0500</td>\n",
              "    </tr>\n",
              "    <tr>\n",
              "      <th>592</th>\n",
              "      <td>0</td>\n",
              "      <td>3</td>\n",
              "      <td>male</td>\n",
              "      <td>47.0</td>\n",
              "      <td>0</td>\n",
              "      <td>0</td>\n",
              "      <td>7.2500</td>\n",
              "      <td>S</td>\n",
              "      <td>Mr</td>\n",
              "      <td>141.0</td>\n",
              "      <td>7.2500</td>\n",
              "    </tr>\n",
              "    <tr>\n",
              "      <th>597</th>\n",
              "      <td>0</td>\n",
              "      <td>3</td>\n",
              "      <td>male</td>\n",
              "      <td>49.0</td>\n",
              "      <td>0</td>\n",
              "      <td>0</td>\n",
              "      <td>0.0000</td>\n",
              "      <td>S</td>\n",
              "      <td>Mr</td>\n",
              "      <td>147.0</td>\n",
              "      <td>0.0000</td>\n",
              "    </tr>\n",
              "    <tr>\n",
              "      <th>631</th>\n",
              "      <td>0</td>\n",
              "      <td>3</td>\n",
              "      <td>male</td>\n",
              "      <td>51.0</td>\n",
              "      <td>0</td>\n",
              "      <td>0</td>\n",
              "      <td>7.0542</td>\n",
              "      <td>S</td>\n",
              "      <td>Mr</td>\n",
              "      <td>153.0</td>\n",
              "      <td>7.0542</td>\n",
              "    </tr>\n",
              "    <tr>\n",
              "      <th>736</th>\n",
              "      <td>0</td>\n",
              "      <td>3</td>\n",
              "      <td>female</td>\n",
              "      <td>48.0</td>\n",
              "      <td>1</td>\n",
              "      <td>3</td>\n",
              "      <td>34.3750</td>\n",
              "      <td>S</td>\n",
              "      <td>Mrs</td>\n",
              "      <td>144.0</td>\n",
              "      <td>6.8750</td>\n",
              "    </tr>\n",
              "    <tr>\n",
              "      <th>771</th>\n",
              "      <td>0</td>\n",
              "      <td>3</td>\n",
              "      <td>male</td>\n",
              "      <td>48.0</td>\n",
              "      <td>0</td>\n",
              "      <td>0</td>\n",
              "      <td>7.8542</td>\n",
              "      <td>S</td>\n",
              "      <td>Mr</td>\n",
              "      <td>144.0</td>\n",
              "      <td>7.8542</td>\n",
              "    </tr>\n",
              "    <tr>\n",
              "      <th>873</th>\n",
              "      <td>0</td>\n",
              "      <td>3</td>\n",
              "      <td>male</td>\n",
              "      <td>47.0</td>\n",
              "      <td>0</td>\n",
              "      <td>0</td>\n",
              "      <td>9.0000</td>\n",
              "      <td>S</td>\n",
              "      <td>Mr</td>\n",
              "      <td>141.0</td>\n",
              "      <td>9.0000</td>\n",
              "    </tr>\n",
              "  </tbody>\n",
              "</table>\n",
              "</div>\n",
              "      <button class=\"colab-df-convert\" onclick=\"convertToInteractive('df-782afdcc-f6dc-4e3c-929d-18d73bed3a88')\"\n",
              "              title=\"Convert this dataframe to an interactive table.\"\n",
              "              style=\"display:none;\">\n",
              "        \n",
              "  <svg xmlns=\"http://www.w3.org/2000/svg\" height=\"24px\"viewBox=\"0 0 24 24\"\n",
              "       width=\"24px\">\n",
              "    <path d=\"M0 0h24v24H0V0z\" fill=\"none\"/>\n",
              "    <path d=\"M18.56 5.44l.94 2.06.94-2.06 2.06-.94-2.06-.94-.94-2.06-.94 2.06-2.06.94zm-11 1L8.5 8.5l.94-2.06 2.06-.94-2.06-.94L8.5 2.5l-.94 2.06-2.06.94zm10 10l.94 2.06.94-2.06 2.06-.94-2.06-.94-.94-2.06-.94 2.06-2.06.94z\"/><path d=\"M17.41 7.96l-1.37-1.37c-.4-.4-.92-.59-1.43-.59-.52 0-1.04.2-1.43.59L10.3 9.45l-7.72 7.72c-.78.78-.78 2.05 0 2.83L4 21.41c.39.39.9.59 1.41.59.51 0 1.02-.2 1.41-.59l7.78-7.78 2.81-2.81c.8-.78.8-2.07 0-2.86zM5.41 20L4 18.59l7.72-7.72 1.47 1.35L5.41 20z\"/>\n",
              "  </svg>\n",
              "      </button>\n",
              "      \n",
              "  <style>\n",
              "    .colab-df-container {\n",
              "      display:flex;\n",
              "      flex-wrap:wrap;\n",
              "      gap: 12px;\n",
              "    }\n",
              "\n",
              "    .colab-df-convert {\n",
              "      background-color: #E8F0FE;\n",
              "      border: none;\n",
              "      border-radius: 50%;\n",
              "      cursor: pointer;\n",
              "      display: none;\n",
              "      fill: #1967D2;\n",
              "      height: 32px;\n",
              "      padding: 0 0 0 0;\n",
              "      width: 32px;\n",
              "    }\n",
              "\n",
              "    .colab-df-convert:hover {\n",
              "      background-color: #E2EBFA;\n",
              "      box-shadow: 0px 1px 2px rgba(60, 64, 67, 0.3), 0px 1px 3px 1px rgba(60, 64, 67, 0.15);\n",
              "      fill: #174EA6;\n",
              "    }\n",
              "\n",
              "    [theme=dark] .colab-df-convert {\n",
              "      background-color: #3B4455;\n",
              "      fill: #D2E3FC;\n",
              "    }\n",
              "\n",
              "    [theme=dark] .colab-df-convert:hover {\n",
              "      background-color: #434B5C;\n",
              "      box-shadow: 0px 1px 3px 1px rgba(0, 0, 0, 0.15);\n",
              "      filter: drop-shadow(0px 1px 2px rgba(0, 0, 0, 0.3));\n",
              "      fill: #FFFFFF;\n",
              "    }\n",
              "  </style>\n",
              "\n",
              "      <script>\n",
              "        const buttonEl =\n",
              "          document.querySelector('#df-782afdcc-f6dc-4e3c-929d-18d73bed3a88 button.colab-df-convert');\n",
              "        buttonEl.style.display =\n",
              "          google.colab.kernel.accessAllowed ? 'block' : 'none';\n",
              "\n",
              "        async function convertToInteractive(key) {\n",
              "          const element = document.querySelector('#df-782afdcc-f6dc-4e3c-929d-18d73bed3a88');\n",
              "          const dataTable =\n",
              "            await google.colab.kernel.invokeFunction('convertToInteractive',\n",
              "                                                     [key], {});\n",
              "          if (!dataTable) return;\n",
              "\n",
              "          const docLinkHtml = 'Like what you see? Visit the ' +\n",
              "            '<a target=\"_blank\" href=https://colab.research.google.com/notebooks/data_table.ipynb>data table notebook</a>'\n",
              "            + ' to learn more about interactive tables.';\n",
              "          element.innerHTML = '';\n",
              "          dataTable['output_type'] = 'display_data';\n",
              "          await google.colab.output.renderOutput(dataTable, element);\n",
              "          const docLink = document.createElement('div');\n",
              "          docLink.innerHTML = docLinkHtml;\n",
              "          element.appendChild(docLink);\n",
              "        }\n",
              "      </script>\n",
              "    </div>\n",
              "  </div>\n",
              "  "
            ]
          },
          "metadata": {},
          "execution_count": 80
        }
      ],
      "source": [
        "data2[(data2[\"Age*Class\"] < lower_limit) | (data2[\"Age*Class\"] > upper_limit)]"
      ]
    },
    {
      "cell_type": "markdown",
      "source": [
        "จากตารางด้านบนแสดงค่า Outlier ที่เกิดขึ้นกับคอลัมน์ Fare มีทั้งหมด 10 แถวที่จะตัดออก"
      ],
      "metadata": {
        "id": "dcxVHUlOD6IV"
      }
    },
    {
      "cell_type": "code",
      "execution_count": null,
      "metadata": {
        "colab": {
          "base_uri": "https://localhost:8080/"
        },
        "outputId": "a01c7923-a25a-4c5b-f062-a84b6f1a662a",
        "id": "kU2zMxHl8alZ"
      },
      "outputs": [
        {
          "output_type": "execute_result",
          "data": {
            "text/plain": [
              "(708, 11)"
            ]
          },
          "metadata": {},
          "execution_count": 81
        }
      ],
      "source": [
        "data2 = data2[(data2[\"Age*Class\"] >= lower_limit) & (data2[\"Age*Class\"] <= upper_limit)]\n",
        "data2.shape"
      ]
    },
    {
      "cell_type": "markdown",
      "source": [
        "หลังจากตัด Outlier ไปแล้วจะเหลือแถวทั้งหมด 708 แถว"
      ],
      "metadata": {
        "id": "xwB-lL4vD-YO"
      }
    },
    {
      "cell_type": "markdown",
      "source": [
        "### Outlier Fare_Per_Person"
      ],
      "metadata": {
        "id": "l6CRa7JVg8u1"
      }
    },
    {
      "cell_type": "markdown",
      "source": [
        "หา Outlier ของคอลัมน์ Fare_Per_Person โดยจะทำการตัด outlier ที่ upper limit ของ IQR + 1.5 ขึ้นไปและ lower limit ของ IQR - 1.5 ลงมา "
      ],
      "metadata": {
        "id": "OUaLUBZLEGMy"
      }
    },
    {
      "cell_type": "code",
      "execution_count": null,
      "metadata": {
        "id": "tTzSDIOrg8u1"
      },
      "outputs": [],
      "source": [
        "cal_Q1 = data2[\"Fare_Per_Person\"].quantile(0.25)\n",
        "cal_Q3 = data2[\"Fare_Per_Person\"].quantile(0.75)\n",
        "cal_IQR = cal_Q3 - cal_Q1\n",
        "lower_limit = cal_Q1 - 1.5 * cal_IQR\n",
        "upper_limit = cal_Q3 + 1.5 * cal_IQR"
      ]
    },
    {
      "cell_type": "markdown",
      "source": [
        "จากตารางด้านบนแสดงค่า Outlier ที่เกิดขึ้นกับคอลัมน์ Fare_Per_Person มีทั้งหมด 98 แถวที่จะตัดออก"
      ],
      "metadata": {
        "id": "8zx1wvOqEK03"
      }
    },
    {
      "cell_type": "code",
      "execution_count": null,
      "metadata": {
        "colab": {
          "base_uri": "https://localhost:8080/",
          "height": 424
        },
        "outputId": "792a70a0-43df-4b61-f12f-8ed15e5bb77e",
        "id": "ObZMl4jgg8u2"
      },
      "outputs": [
        {
          "output_type": "execute_result",
          "data": {
            "text/plain": [
              "     Survived  Pclass     Sex   Age  SibSp  Parch     Fare Embarked Title  \\\n",
              "3           1       1  female  35.0      1      0  53.1000        S   Mrs   \n",
              "6           0       1    male  54.0      0      0  51.8625        S    Mr   \n",
              "20          0       2    male  35.0      0      0  26.0000        S    Mr   \n",
              "23          1       1    male  28.0      0      0  35.5000        S    Mr   \n",
              "30          0       1    male  40.0      0      0  27.7208        C    Mr   \n",
              "..        ...     ...     ...   ...    ...    ...      ...      ...   ...   \n",
              "857         1       1    male  51.0      0      0  26.5500        S    Mr   \n",
              "862         1       1  female  48.0      0      0  25.9292        S   Mrs   \n",
              "867         0       1    male  31.0      0      0  50.4958        S    Mr   \n",
              "887         1       1  female  19.0      0      0  30.0000        S  Miss   \n",
              "889         1       1    male  26.0      0      0  30.0000        C    Mr   \n",
              "\n",
              "     Age*Class  Fare_Per_Person  \n",
              "3         35.0          26.5500  \n",
              "6         54.0          51.8625  \n",
              "20        70.0          26.0000  \n",
              "23        28.0          35.5000  \n",
              "30        40.0          27.7208  \n",
              "..         ...              ...  \n",
              "857       51.0          26.5500  \n",
              "862       48.0          25.9292  \n",
              "867       31.0          50.4958  \n",
              "887       19.0          30.0000  \n",
              "889       26.0          30.0000  \n",
              "\n",
              "[98 rows x 11 columns]"
            ],
            "text/html": [
              "\n",
              "  <div id=\"df-616408a0-cb84-4ab0-a32f-fd597783d7d9\">\n",
              "    <div class=\"colab-df-container\">\n",
              "      <div>\n",
              "<style scoped>\n",
              "    .dataframe tbody tr th:only-of-type {\n",
              "        vertical-align: middle;\n",
              "    }\n",
              "\n",
              "    .dataframe tbody tr th {\n",
              "        vertical-align: top;\n",
              "    }\n",
              "\n",
              "    .dataframe thead th {\n",
              "        text-align: right;\n",
              "    }\n",
              "</style>\n",
              "<table border=\"1\" class=\"dataframe\">\n",
              "  <thead>\n",
              "    <tr style=\"text-align: right;\">\n",
              "      <th></th>\n",
              "      <th>Survived</th>\n",
              "      <th>Pclass</th>\n",
              "      <th>Sex</th>\n",
              "      <th>Age</th>\n",
              "      <th>SibSp</th>\n",
              "      <th>Parch</th>\n",
              "      <th>Fare</th>\n",
              "      <th>Embarked</th>\n",
              "      <th>Title</th>\n",
              "      <th>Age*Class</th>\n",
              "      <th>Fare_Per_Person</th>\n",
              "    </tr>\n",
              "  </thead>\n",
              "  <tbody>\n",
              "    <tr>\n",
              "      <th>3</th>\n",
              "      <td>1</td>\n",
              "      <td>1</td>\n",
              "      <td>female</td>\n",
              "      <td>35.0</td>\n",
              "      <td>1</td>\n",
              "      <td>0</td>\n",
              "      <td>53.1000</td>\n",
              "      <td>S</td>\n",
              "      <td>Mrs</td>\n",
              "      <td>35.0</td>\n",
              "      <td>26.5500</td>\n",
              "    </tr>\n",
              "    <tr>\n",
              "      <th>6</th>\n",
              "      <td>0</td>\n",
              "      <td>1</td>\n",
              "      <td>male</td>\n",
              "      <td>54.0</td>\n",
              "      <td>0</td>\n",
              "      <td>0</td>\n",
              "      <td>51.8625</td>\n",
              "      <td>S</td>\n",
              "      <td>Mr</td>\n",
              "      <td>54.0</td>\n",
              "      <td>51.8625</td>\n",
              "    </tr>\n",
              "    <tr>\n",
              "      <th>20</th>\n",
              "      <td>0</td>\n",
              "      <td>2</td>\n",
              "      <td>male</td>\n",
              "      <td>35.0</td>\n",
              "      <td>0</td>\n",
              "      <td>0</td>\n",
              "      <td>26.0000</td>\n",
              "      <td>S</td>\n",
              "      <td>Mr</td>\n",
              "      <td>70.0</td>\n",
              "      <td>26.0000</td>\n",
              "    </tr>\n",
              "    <tr>\n",
              "      <th>23</th>\n",
              "      <td>1</td>\n",
              "      <td>1</td>\n",
              "      <td>male</td>\n",
              "      <td>28.0</td>\n",
              "      <td>0</td>\n",
              "      <td>0</td>\n",
              "      <td>35.5000</td>\n",
              "      <td>S</td>\n",
              "      <td>Mr</td>\n",
              "      <td>28.0</td>\n",
              "      <td>35.5000</td>\n",
              "    </tr>\n",
              "    <tr>\n",
              "      <th>30</th>\n",
              "      <td>0</td>\n",
              "      <td>1</td>\n",
              "      <td>male</td>\n",
              "      <td>40.0</td>\n",
              "      <td>0</td>\n",
              "      <td>0</td>\n",
              "      <td>27.7208</td>\n",
              "      <td>C</td>\n",
              "      <td>Mr</td>\n",
              "      <td>40.0</td>\n",
              "      <td>27.7208</td>\n",
              "    </tr>\n",
              "    <tr>\n",
              "      <th>...</th>\n",
              "      <td>...</td>\n",
              "      <td>...</td>\n",
              "      <td>...</td>\n",
              "      <td>...</td>\n",
              "      <td>...</td>\n",
              "      <td>...</td>\n",
              "      <td>...</td>\n",
              "      <td>...</td>\n",
              "      <td>...</td>\n",
              "      <td>...</td>\n",
              "      <td>...</td>\n",
              "    </tr>\n",
              "    <tr>\n",
              "      <th>857</th>\n",
              "      <td>1</td>\n",
              "      <td>1</td>\n",
              "      <td>male</td>\n",
              "      <td>51.0</td>\n",
              "      <td>0</td>\n",
              "      <td>0</td>\n",
              "      <td>26.5500</td>\n",
              "      <td>S</td>\n",
              "      <td>Mr</td>\n",
              "      <td>51.0</td>\n",
              "      <td>26.5500</td>\n",
              "    </tr>\n",
              "    <tr>\n",
              "      <th>862</th>\n",
              "      <td>1</td>\n",
              "      <td>1</td>\n",
              "      <td>female</td>\n",
              "      <td>48.0</td>\n",
              "      <td>0</td>\n",
              "      <td>0</td>\n",
              "      <td>25.9292</td>\n",
              "      <td>S</td>\n",
              "      <td>Mrs</td>\n",
              "      <td>48.0</td>\n",
              "      <td>25.9292</td>\n",
              "    </tr>\n",
              "    <tr>\n",
              "      <th>867</th>\n",
              "      <td>0</td>\n",
              "      <td>1</td>\n",
              "      <td>male</td>\n",
              "      <td>31.0</td>\n",
              "      <td>0</td>\n",
              "      <td>0</td>\n",
              "      <td>50.4958</td>\n",
              "      <td>S</td>\n",
              "      <td>Mr</td>\n",
              "      <td>31.0</td>\n",
              "      <td>50.4958</td>\n",
              "    </tr>\n",
              "    <tr>\n",
              "      <th>887</th>\n",
              "      <td>1</td>\n",
              "      <td>1</td>\n",
              "      <td>female</td>\n",
              "      <td>19.0</td>\n",
              "      <td>0</td>\n",
              "      <td>0</td>\n",
              "      <td>30.0000</td>\n",
              "      <td>S</td>\n",
              "      <td>Miss</td>\n",
              "      <td>19.0</td>\n",
              "      <td>30.0000</td>\n",
              "    </tr>\n",
              "    <tr>\n",
              "      <th>889</th>\n",
              "      <td>1</td>\n",
              "      <td>1</td>\n",
              "      <td>male</td>\n",
              "      <td>26.0</td>\n",
              "      <td>0</td>\n",
              "      <td>0</td>\n",
              "      <td>30.0000</td>\n",
              "      <td>C</td>\n",
              "      <td>Mr</td>\n",
              "      <td>26.0</td>\n",
              "      <td>30.0000</td>\n",
              "    </tr>\n",
              "  </tbody>\n",
              "</table>\n",
              "<p>98 rows × 11 columns</p>\n",
              "</div>\n",
              "      <button class=\"colab-df-convert\" onclick=\"convertToInteractive('df-616408a0-cb84-4ab0-a32f-fd597783d7d9')\"\n",
              "              title=\"Convert this dataframe to an interactive table.\"\n",
              "              style=\"display:none;\">\n",
              "        \n",
              "  <svg xmlns=\"http://www.w3.org/2000/svg\" height=\"24px\"viewBox=\"0 0 24 24\"\n",
              "       width=\"24px\">\n",
              "    <path d=\"M0 0h24v24H0V0z\" fill=\"none\"/>\n",
              "    <path d=\"M18.56 5.44l.94 2.06.94-2.06 2.06-.94-2.06-.94-.94-2.06-.94 2.06-2.06.94zm-11 1L8.5 8.5l.94-2.06 2.06-.94-2.06-.94L8.5 2.5l-.94 2.06-2.06.94zm10 10l.94 2.06.94-2.06 2.06-.94-2.06-.94-.94-2.06-.94 2.06-2.06.94z\"/><path d=\"M17.41 7.96l-1.37-1.37c-.4-.4-.92-.59-1.43-.59-.52 0-1.04.2-1.43.59L10.3 9.45l-7.72 7.72c-.78.78-.78 2.05 0 2.83L4 21.41c.39.39.9.59 1.41.59.51 0 1.02-.2 1.41-.59l7.78-7.78 2.81-2.81c.8-.78.8-2.07 0-2.86zM5.41 20L4 18.59l7.72-7.72 1.47 1.35L5.41 20z\"/>\n",
              "  </svg>\n",
              "      </button>\n",
              "      \n",
              "  <style>\n",
              "    .colab-df-container {\n",
              "      display:flex;\n",
              "      flex-wrap:wrap;\n",
              "      gap: 12px;\n",
              "    }\n",
              "\n",
              "    .colab-df-convert {\n",
              "      background-color: #E8F0FE;\n",
              "      border: none;\n",
              "      border-radius: 50%;\n",
              "      cursor: pointer;\n",
              "      display: none;\n",
              "      fill: #1967D2;\n",
              "      height: 32px;\n",
              "      padding: 0 0 0 0;\n",
              "      width: 32px;\n",
              "    }\n",
              "\n",
              "    .colab-df-convert:hover {\n",
              "      background-color: #E2EBFA;\n",
              "      box-shadow: 0px 1px 2px rgba(60, 64, 67, 0.3), 0px 1px 3px 1px rgba(60, 64, 67, 0.15);\n",
              "      fill: #174EA6;\n",
              "    }\n",
              "\n",
              "    [theme=dark] .colab-df-convert {\n",
              "      background-color: #3B4455;\n",
              "      fill: #D2E3FC;\n",
              "    }\n",
              "\n",
              "    [theme=dark] .colab-df-convert:hover {\n",
              "      background-color: #434B5C;\n",
              "      box-shadow: 0px 1px 3px 1px rgba(0, 0, 0, 0.15);\n",
              "      filter: drop-shadow(0px 1px 2px rgba(0, 0, 0, 0.3));\n",
              "      fill: #FFFFFF;\n",
              "    }\n",
              "  </style>\n",
              "\n",
              "      <script>\n",
              "        const buttonEl =\n",
              "          document.querySelector('#df-616408a0-cb84-4ab0-a32f-fd597783d7d9 button.colab-df-convert');\n",
              "        buttonEl.style.display =\n",
              "          google.colab.kernel.accessAllowed ? 'block' : 'none';\n",
              "\n",
              "        async function convertToInteractive(key) {\n",
              "          const element = document.querySelector('#df-616408a0-cb84-4ab0-a32f-fd597783d7d9');\n",
              "          const dataTable =\n",
              "            await google.colab.kernel.invokeFunction('convertToInteractive',\n",
              "                                                     [key], {});\n",
              "          if (!dataTable) return;\n",
              "\n",
              "          const docLinkHtml = 'Like what you see? Visit the ' +\n",
              "            '<a target=\"_blank\" href=https://colab.research.google.com/notebooks/data_table.ipynb>data table notebook</a>'\n",
              "            + ' to learn more about interactive tables.';\n",
              "          element.innerHTML = '';\n",
              "          dataTable['output_type'] = 'display_data';\n",
              "          await google.colab.output.renderOutput(dataTable, element);\n",
              "          const docLink = document.createElement('div');\n",
              "          docLink.innerHTML = docLinkHtml;\n",
              "          element.appendChild(docLink);\n",
              "        }\n",
              "      </script>\n",
              "    </div>\n",
              "  </div>\n",
              "  "
            ]
          },
          "metadata": {},
          "execution_count": 83
        }
      ],
      "source": [
        "data2[(data2[\"Fare_Per_Person\"] < lower_limit) | (data2[\"Fare_Per_Person\"] > upper_limit)]"
      ]
    },
    {
      "cell_type": "code",
      "execution_count": null,
      "metadata": {
        "colab": {
          "base_uri": "https://localhost:8080/"
        },
        "outputId": "fd6891f3-2e7b-4c34-a564-8db4584f2dd2",
        "id": "eBxhZSpEg8u2"
      },
      "outputs": [
        {
          "output_type": "execute_result",
          "data": {
            "text/plain": [
              "(610, 11)"
            ]
          },
          "metadata": {},
          "execution_count": 84
        }
      ],
      "source": [
        "data2 = data2[(data2[\"Fare_Per_Person\"] >= lower_limit) & (data2[\"Fare_Per_Person\"] <= upper_limit)]\n",
        "data2.shape"
      ]
    },
    {
      "cell_type": "markdown",
      "source": [
        "หลังจากตัด Outlier ไปแล้วจะเหลือแถวทั้งหมด 610 แถว"
      ],
      "metadata": {
        "id": "snRlCd1yEWIr"
      }
    },
    {
      "cell_type": "code",
      "source": [
        "fig, axes = plt.subplots(nrows = 2, ncols = 2, figsize = (15,9))\n",
        "sns.histplot(data = data2, x = \"Age\", ax = axes[0,0])\n",
        "axes[0,0].set_title(\"Age distribution\")\n",
        "sns.histplot(data = data2, x = \"Fare\", ax = axes[0,1])\n",
        "axes[0,1].set_title(\"Fare distribution\")\n",
        "sns.histplot(data = data2, x = \"Age*Class\", ax = axes[1,0])\n",
        "axes[1,0].set_title(\"Age*Class distribution\")\n",
        "sns.histplot(data = data2, x = \"Fare_Per_Person\", ax = axes[1,1])\n",
        "axes[1,1].set_title(\"Fare_Per_Person distribution\")\n",
        "plt.tight_layout()"
      ],
      "metadata": {
        "colab": {
          "base_uri": "https://localhost:8080/",
          "height": 657
        },
        "id": "oRCoSCLNhQXl",
        "outputId": "213a18ef-f7d5-4489-d9b4-f7516e1e5186"
      },
      "execution_count": null,
      "outputs": [
        {
          "output_type": "display_data",
          "data": {
            "text/plain": [
              "<Figure size 1080x648 with 4 Axes>"
            ],
            "image/png": "[encoded data removed]"
          },
          "metadata": {
            "needs_background": "light"
          }
        }
      ]
    },
    {
      "cell_type": "markdown",
      "source": [
        "หลังจากที่ลบ Outlier ออกแล้ว พลอตกราฟ histrogram เพื่อดูว่า normal distribution ไหม "
      ],
      "metadata": {
        "id": "4kczsw35Ep96"
      }
    },
    {
      "cell_type": "markdown",
      "metadata": {
        "id": "selS23uh1ZVF"
      },
      "source": [
        "## One-hot Encoding "
      ]
    },
    {
      "cell_type": "markdown",
      "source": [
        "ขั้นตอนนี้จะเปลี่ยนตัวแปรที่เป็น Categories ให้อยู่ในรูปแบบของ one-hot encodding เพื่อที่จะนำไปสร้างโมเดลได้"
      ],
      "metadata": {
        "id": "jfnnsIWtFEBH"
      }
    },
    {
      "cell_type": "code",
      "source": [
        "data2[\"Sex_num\"] = data2[\"Sex\"].apply(lambda x : 1 if  x == \"male\" else 0) #แปลง male ให้เท่ากับ 1 และ female ให้เท่ากับ 0 ในคอลัมน์ Sex\n",
        "data2 = data2.drop(columns = \"Sex\")\n",
        "data2.head()"
      ],
      "metadata": {
        "colab": {
          "base_uri": "https://localhost:8080/",
          "height": 206
        },
        "id": "Jqvt6h6Nnlhp",
        "outputId": "d2e44297-751a-4670-d5bd-72400824081f"
      },
      "execution_count": null,
      "outputs": [
        {
          "output_type": "execute_result",
          "data": {
            "text/plain": [
              "   Survived  Pclass   Age  SibSp  Parch     Fare Embarked Title  Age*Class  \\\n",
              "0         0       3  22.0      1      0   7.2500        S    Mr       66.0   \n",
              "2         1       3  26.0      0      0   7.9250        S  Miss       78.0   \n",
              "4         0       3  35.0      0      0   8.0500        S    Mr      105.0   \n",
              "5         0       3  28.0      0      0   8.4583        Q    Mr       84.0   \n",
              "8         1       3  27.0      0      2  11.1333        S   Mrs       81.0   \n",
              "\n",
              "   Fare_Per_Person  Sex_num  \n",
              "0           3.6250        1  \n",
              "2           7.9250        0  \n",
              "4           8.0500        1  \n",
              "5           8.4583        1  \n",
              "8           3.7111        0  "
            ],
            "text/html": [
              "\n",
              "  <div id=\"df-cde618b9-df31-43db-a3ae-667f183a9a42\">\n",
              "    <div class=\"colab-df-container\">\n",
              "      <div>\n",
              "<style scoped>\n",
              "    .dataframe tbody tr th:only-of-type {\n",
              "        vertical-align: middle;\n",
              "    }\n",
              "\n",
              "    .dataframe tbody tr th {\n",
              "        vertical-align: top;\n",
              "    }\n",
              "\n",
              "    .dataframe thead th {\n",
              "        text-align: right;\n",
              "    }\n",
              "</style>\n",
              "<table border=\"1\" class=\"dataframe\">\n",
              "  <thead>\n",
              "    <tr style=\"text-align: right;\">\n",
              "      <th></th>\n",
              "      <th>Survived</th>\n",
              "      <th>Pclass</th>\n",
              "      <th>Age</th>\n",
              "      <th>SibSp</th>\n",
              "      <th>Parch</th>\n",
              "      <th>Fare</th>\n",
              "      <th>Embarked</th>\n",
              "      <th>Title</th>\n",
              "      <th>Age*Class</th>\n",
              "      <th>Fare_Per_Person</th>\n",
              "      <th>Sex_num</th>\n",
              "    </tr>\n",
              "  </thead>\n",
              "  <tbody>\n",
              "    <tr>\n",
              "      <th>0</th>\n",
              "      <td>0</td>\n",
              "      <td>3</td>\n",
              "      <td>22.0</td>\n",
              "      <td>1</td>\n",
              "      <td>0</td>\n",
              "      <td>7.2500</td>\n",
              "      <td>S</td>\n",
              "      <td>Mr</td>\n",
              "      <td>66.0</td>\n",
              "      <td>3.6250</td>\n",
              "      <td>1</td>\n",
              "    </tr>\n",
              "    <tr>\n",
              "      <th>2</th>\n",
              "      <td>1</td>\n",
              "      <td>3</td>\n",
              "      <td>26.0</td>\n",
              "      <td>0</td>\n",
              "      <td>0</td>\n",
              "      <td>7.9250</td>\n",
              "      <td>S</td>\n",
              "      <td>Miss</td>\n",
              "      <td>78.0</td>\n",
              "      <td>7.9250</td>\n",
              "      <td>0</td>\n",
              "    </tr>\n",
              "    <tr>\n",
              "      <th>4</th>\n",
              "      <td>0</td>\n",
              "      <td>3</td>\n",
              "      <td>35.0</td>\n",
              "      <td>0</td>\n",
              "      <td>0</td>\n",
              "      <td>8.0500</td>\n",
              "      <td>S</td>\n",
              "      <td>Mr</td>\n",
              "      <td>105.0</td>\n",
              "      <td>8.0500</td>\n",
              "      <td>1</td>\n",
              "    </tr>\n",
              "    <tr>\n",
              "      <th>5</th>\n",
              "      <td>0</td>\n",
              "      <td>3</td>\n",
              "      <td>28.0</td>\n",
              "      <td>0</td>\n",
              "      <td>0</td>\n",
              "      <td>8.4583</td>\n",
              "      <td>Q</td>\n",
              "      <td>Mr</td>\n",
              "      <td>84.0</td>\n",
              "      <td>8.4583</td>\n",
              "      <td>1</td>\n",
              "    </tr>\n",
              "    <tr>\n",
              "      <th>8</th>\n",
              "      <td>1</td>\n",
              "      <td>3</td>\n",
              "      <td>27.0</td>\n",
              "      <td>0</td>\n",
              "      <td>2</td>\n",
              "      <td>11.1333</td>\n",
              "      <td>S</td>\n",
              "      <td>Mrs</td>\n",
              "      <td>81.0</td>\n",
              "      <td>3.7111</td>\n",
              "      <td>0</td>\n",
              "    </tr>\n",
              "  </tbody>\n",
              "</table>\n",
              "</div>\n",
              "      <button class=\"colab-df-convert\" onclick=\"convertToInteractive('df-cde618b9-df31-43db-a3ae-667f183a9a42')\"\n",
              "              title=\"Convert this dataframe to an interactive table.\"\n",
              "              style=\"display:none;\">\n",
              "        \n",
              "  <svg xmlns=\"http://www.w3.org/2000/svg\" height=\"24px\"viewBox=\"0 0 24 24\"\n",
              "       width=\"24px\">\n",
              "    <path d=\"M0 0h24v24H0V0z\" fill=\"none\"/>\n",
              "    <path d=\"M18.56 5.44l.94 2.06.94-2.06 2.06-.94-2.06-.94-.94-2.06-.94 2.06-2.06.94zm-11 1L8.5 8.5l.94-2.06 2.06-.94-2.06-.94L8.5 2.5l-.94 2.06-2.06.94zm10 10l.94 2.06.94-2.06 2.06-.94-2.06-.94-.94-2.06-.94 2.06-2.06.94z\"/><path d=\"M17.41 7.96l-1.37-1.37c-.4-.4-.92-.59-1.43-.59-.52 0-1.04.2-1.43.59L10.3 9.45l-7.72 7.72c-.78.78-.78 2.05 0 2.83L4 21.41c.39.39.9.59 1.41.59.51 0 1.02-.2 1.41-.59l7.78-7.78 2.81-2.81c.8-.78.8-2.07 0-2.86zM5.41 20L4 18.59l7.72-7.72 1.47 1.35L5.41 20z\"/>\n",
              "  </svg>\n",
              "      </button>\n",
              "      \n",
              "  <style>\n",
              "    .colab-df-container {\n",
              "      display:flex;\n",
              "      flex-wrap:wrap;\n",
              "      gap: 12px;\n",
              "    }\n",
              "\n",
              "    .colab-df-convert {\n",
              "      background-color: #E8F0FE;\n",
              "      border: none;\n",
              "      border-radius: 50%;\n",
              "      cursor: pointer;\n",
              "      display: none;\n",
              "      fill: #1967D2;\n",
              "      height: 32px;\n",
              "      padding: 0 0 0 0;\n",
              "      width: 32px;\n",
              "    }\n",
              "\n",
              "    .colab-df-convert:hover {\n",
              "      background-color: #E2EBFA;\n",
              "      box-shadow: 0px 1px 2px rgba(60, 64, 67, 0.3), 0px 1px 3px 1px rgba(60, 64, 67, 0.15);\n",
              "      fill: #174EA6;\n",
              "    }\n",
              "\n",
              "    [theme=dark] .colab-df-convert {\n",
              "      background-color: #3B4455;\n",
              "      fill: #D2E3FC;\n",
              "    }\n",
              "\n",
              "    [theme=dark] .colab-df-convert:hover {\n",
              "      background-color: #434B5C;\n",
              "      box-shadow: 0px 1px 3px 1px rgba(0, 0, 0, 0.15);\n",
              "      filter: drop-shadow(0px 1px 2px rgba(0, 0, 0, 0.3));\n",
              "      fill: #FFFFFF;\n",
              "    }\n",
              "  </style>\n",
              "\n",
              "      <script>\n",
              "        const buttonEl =\n",
              "          document.querySelector('#df-cde618b9-df31-43db-a3ae-667f183a9a42 button.colab-df-convert');\n",
              "        buttonEl.style.display =\n",
              "          google.colab.kernel.accessAllowed ? 'block' : 'none';\n",
              "\n",
              "        async function convertToInteractive(key) {\n",
              "          const element = document.querySelector('#df-cde618b9-df31-43db-a3ae-667f183a9a42');\n",
              "          const dataTable =\n",
              "            await google.colab.kernel.invokeFunction('convertToInteractive',\n",
              "                                                     [key], {});\n",
              "          if (!dataTable) return;\n",
              "\n",
              "          const docLinkHtml = 'Like what you see? Visit the ' +\n",
              "            '<a target=\"_blank\" href=https://colab.research.google.com/notebooks/data_table.ipynb>data table notebook</a>'\n",
              "            + ' to learn more about interactive tables.';\n",
              "          element.innerHTML = '';\n",
              "          dataTable['output_type'] = 'display_data';\n",
              "          await google.colab.output.renderOutput(dataTable, element);\n",
              "          const docLink = document.createElement('div');\n",
              "          docLink.innerHTML = docLinkHtml;\n",
              "          element.appendChild(docLink);\n",
              "        }\n",
              "      </script>\n",
              "    </div>\n",
              "  </div>\n",
              "  "
            ]
          },
          "metadata": {},
          "execution_count": 86
        }
      ]
    },
    {
      "cell_type": "code",
      "execution_count": null,
      "metadata": {
        "id": "0qhehtJ71ZVF"
      },
      "outputs": [],
      "source": [
        "data2 = pd.get_dummies(data2) #ใช้คำสั่ง get_dummies จะทำการ one-hot อัตโนมัติกับคอลัมน์ที่ยังเป็น category อยู่"
      ]
    },
    {
      "cell_type": "code",
      "execution_count": null,
      "metadata": {
        "colab": {
          "base_uri": "https://localhost:8080/",
          "height": 206
        },
        "outputId": "729524b3-b284-499d-ed30-f1f53027584e",
        "id": "kwT6qBXQ1ZVF"
      },
      "outputs": [
        {
          "output_type": "execute_result",
          "data": {
            "text/plain": [
              "   Survived  Pclass   Age  SibSp  Parch     Fare  Age*Class  Fare_Per_Person  \\\n",
              "0         0       3  22.0      1      0   7.2500       66.0           3.6250   \n",
              "2         1       3  26.0      0      0   7.9250       78.0           7.9250   \n",
              "4         0       3  35.0      0      0   8.0500      105.0           8.0500   \n",
              "5         0       3  28.0      0      0   8.4583       84.0           8.4583   \n",
              "8         1       3  27.0      0      2  11.1333       81.0           3.7111   \n",
              "\n",
              "   Sex_num  Embarked_C  Embarked_Q  Embarked_S  Title_Master  Title_Miss  \\\n",
              "0        1           0           0           1             0           0   \n",
              "2        0           0           0           1             0           1   \n",
              "4        1           0           0           1             0           0   \n",
              "5        1           0           1           0             0           0   \n",
              "8        0           0           0           1             0           0   \n",
              "\n",
              "   Title_Mr  Title_Mrs  \n",
              "0         1          0  \n",
              "2         0          0  \n",
              "4         1          0  \n",
              "5         1          0  \n",
              "8         0          1  "
            ],
            "text/html": [
              "\n",
              "  <div id=\"df-f0ab6a59-d1ff-4766-9501-e852c473f1bc\">\n",
              "    <div class=\"colab-df-container\">\n",
              "      <div>\n",
              "<style scoped>\n",
              "    .dataframe tbody tr th:only-of-type {\n",
              "        vertical-align: middle;\n",
              "    }\n",
              "\n",
              "    .dataframe tbody tr th {\n",
              "        vertical-align: top;\n",
              "    }\n",
              "\n",
              "    .dataframe thead th {\n",
              "        text-align: right;\n",
              "    }\n",
              "</style>\n",
              "<table border=\"1\" class=\"dataframe\">\n",
              "  <thead>\n",
              "    <tr style=\"text-align: right;\">\n",
              "      <th></th>\n",
              "      <th>Survived</th>\n",
              "      <th>Pclass</th>\n",
              "      <th>Age</th>\n",
              "      <th>SibSp</th>\n",
              "      <th>Parch</th>\n",
              "      <th>Fare</th>\n",
              "      <th>Age*Class</th>\n",
              "      <th>Fare_Per_Person</th>\n",
              "      <th>Sex_num</th>\n",
              "      <th>Embarked_C</th>\n",
              "      <th>Embarked_Q</th>\n",
              "      <th>Embarked_S</th>\n",
              "      <th>Title_Master</th>\n",
              "      <th>Title_Miss</th>\n",
              "      <th>Title_Mr</th>\n",
              "      <th>Title_Mrs</th>\n",
              "    </tr>\n",
              "  </thead>\n",
              "  <tbody>\n",
              "    <tr>\n",
              "      <th>0</th>\n",
              "      <td>0</td>\n",
              "      <td>3</td>\n",
              "      <td>22.0</td>\n",
              "      <td>1</td>\n",
              "      <td>0</td>\n",
              "      <td>7.2500</td>\n",
              "      <td>66.0</td>\n",
              "      <td>3.6250</td>\n",
              "      <td>1</td>\n",
              "      <td>0</td>\n",
              "      <td>0</td>\n",
              "      <td>1</td>\n",
              "      <td>0</td>\n",
              "      <td>0</td>\n",
              "      <td>1</td>\n",
              "      <td>0</td>\n",
              "    </tr>\n",
              "    <tr>\n",
              "      <th>2</th>\n",
              "      <td>1</td>\n",
              "      <td>3</td>\n",
              "      <td>26.0</td>\n",
              "      <td>0</td>\n",
              "      <td>0</td>\n",
              "      <td>7.9250</td>\n",
              "      <td>78.0</td>\n",
              "      <td>7.9250</td>\n",
              "      <td>0</td>\n",
              "      <td>0</td>\n",
              "      <td>0</td>\n",
              "      <td>1</td>\n",
              "      <td>0</td>\n",
              "      <td>1</td>\n",
              "      <td>0</td>\n",
              "      <td>0</td>\n",
              "    </tr>\n",
              "    <tr>\n",
              "      <th>4</th>\n",
              "      <td>0</td>\n",
              "      <td>3</td>\n",
              "      <td>35.0</td>\n",
              "      <td>0</td>\n",
              "      <td>0</td>\n",
              "      <td>8.0500</td>\n",
              "      <td>105.0</td>\n",
              "      <td>8.0500</td>\n",
              "      <td>1</td>\n",
              "      <td>0</td>\n",
              "      <td>0</td>\n",
              "      <td>1</td>\n",
              "      <td>0</td>\n",
              "      <td>0</td>\n",
              "      <td>1</td>\n",
              "      <td>0</td>\n",
              "    </tr>\n",
              "    <tr>\n",
              "      <th>5</th>\n",
              "      <td>0</td>\n",
              "      <td>3</td>\n",
              "      <td>28.0</td>\n",
              "      <td>0</td>\n",
              "      <td>0</td>\n",
              "      <td>8.4583</td>\n",
              "      <td>84.0</td>\n",
              "      <td>8.4583</td>\n",
              "      <td>1</td>\n",
              "      <td>0</td>\n",
              "      <td>1</td>\n",
              "      <td>0</td>\n",
              "      <td>0</td>\n",
              "      <td>0</td>\n",
              "      <td>1</td>\n",
              "      <td>0</td>\n",
              "    </tr>\n",
              "    <tr>\n",
              "      <th>8</th>\n",
              "      <td>1</td>\n",
              "      <td>3</td>\n",
              "      <td>27.0</td>\n",
              "      <td>0</td>\n",
              "      <td>2</td>\n",
              "      <td>11.1333</td>\n",
              "      <td>81.0</td>\n",
              "      <td>3.7111</td>\n",
              "      <td>0</td>\n",
              "      <td>0</td>\n",
              "      <td>0</td>\n",
              "      <td>1</td>\n",
              "      <td>0</td>\n",
              "      <td>0</td>\n",
              "      <td>0</td>\n",
              "      <td>1</td>\n",
              "    </tr>\n",
              "  </tbody>\n",
              "</table>\n",
              "</div>\n",
              "      <button class=\"colab-df-convert\" onclick=\"convertToInteractive('df-f0ab6a59-d1ff-4766-9501-e852c473f1bc')\"\n",
              "              title=\"Convert this dataframe to an interactive table.\"\n",
              "              style=\"display:none;\">\n",
              "        \n",
              "  <svg xmlns=\"http://www.w3.org/2000/svg\" height=\"24px\"viewBox=\"0 0 24 24\"\n",
              "       width=\"24px\">\n",
              "    <path d=\"M0 0h24v24H0V0z\" fill=\"none\"/>\n",
              "    <path d=\"M18.56 5.44l.94 2.06.94-2.06 2.06-.94-2.06-.94-.94-2.06-.94 2.06-2.06.94zm-11 1L8.5 8.5l.94-2.06 2.06-.94-2.06-.94L8.5 2.5l-.94 2.06-2.06.94zm10 10l.94 2.06.94-2.06 2.06-.94-2.06-.94-.94-2.06-.94 2.06-2.06.94z\"/><path d=\"M17.41 7.96l-1.37-1.37c-.4-.4-.92-.59-1.43-.59-.52 0-1.04.2-1.43.59L10.3 9.45l-7.72 7.72c-.78.78-.78 2.05 0 2.83L4 21.41c.39.39.9.59 1.41.59.51 0 1.02-.2 1.41-.59l7.78-7.78 2.81-2.81c.8-.78.8-2.07 0-2.86zM5.41 20L4 18.59l7.72-7.72 1.47 1.35L5.41 20z\"/>\n",
              "  </svg>\n",
              "      </button>\n",
              "      \n",
              "  <style>\n",
              "    .colab-df-container {\n",
              "      display:flex;\n",
              "      flex-wrap:wrap;\n",
              "      gap: 12px;\n",
              "    }\n",
              "\n",
              "    .colab-df-convert {\n",
              "      background-color: #E8F0FE;\n",
              "      border: none;\n",
              "      border-radius: 50%;\n",
              "      cursor: pointer;\n",
              "      display: none;\n",
              "      fill: #1967D2;\n",
              "      height: 32px;\n",
              "      padding: 0 0 0 0;\n",
              "      width: 32px;\n",
              "    }\n",
              "\n",
              "    .colab-df-convert:hover {\n",
              "      background-color: #E2EBFA;\n",
              "      box-shadow: 0px 1px 2px rgba(60, 64, 67, 0.3), 0px 1px 3px 1px rgba(60, 64, 67, 0.15);\n",
              "      fill: #174EA6;\n",
              "    }\n",
              "\n",
              "    [theme=dark] .colab-df-convert {\n",
              "      background-color: #3B4455;\n",
              "      fill: #D2E3FC;\n",
              "    }\n",
              "\n",
              "    [theme=dark] .colab-df-convert:hover {\n",
              "      background-color: #434B5C;\n",
              "      box-shadow: 0px 1px 3px 1px rgba(0, 0, 0, 0.15);\n",
              "      filter: drop-shadow(0px 1px 2px rgba(0, 0, 0, 0.3));\n",
              "      fill: #FFFFFF;\n",
              "    }\n",
              "  </style>\n",
              "\n",
              "      <script>\n",
              "        const buttonEl =\n",
              "          document.querySelector('#df-f0ab6a59-d1ff-4766-9501-e852c473f1bc button.colab-df-convert');\n",
              "        buttonEl.style.display =\n",
              "          google.colab.kernel.accessAllowed ? 'block' : 'none';\n",
              "\n",
              "        async function convertToInteractive(key) {\n",
              "          const element = document.querySelector('#df-f0ab6a59-d1ff-4766-9501-e852c473f1bc');\n",
              "          const dataTable =\n",
              "            await google.colab.kernel.invokeFunction('convertToInteractive',\n",
              "                                                     [key], {});\n",
              "          if (!dataTable) return;\n",
              "\n",
              "          const docLinkHtml = 'Like what you see? Visit the ' +\n",
              "            '<a target=\"_blank\" href=https://colab.research.google.com/notebooks/data_table.ipynb>data table notebook</a>'\n",
              "            + ' to learn more about interactive tables.';\n",
              "          element.innerHTML = '';\n",
              "          dataTable['output_type'] = 'display_data';\n",
              "          await google.colab.output.renderOutput(dataTable, element);\n",
              "          const docLink = document.createElement('div');\n",
              "          docLink.innerHTML = docLinkHtml;\n",
              "          element.appendChild(docLink);\n",
              "        }\n",
              "      </script>\n",
              "    </div>\n",
              "  </div>\n",
              "  "
            ]
          },
          "metadata": {},
          "execution_count": 88
        }
      ],
      "source": [
        "data2.head()"
      ]
    },
    {
      "cell_type": "markdown",
      "metadata": {
        "id": "SrDUkQAB1ZVF"
      },
      "source": [
        "## Check data type"
      ]
    },
    {
      "cell_type": "markdown",
      "source": [
        "ขั้นตอน Check data type จะทำการเช็คประเภทของข้อมูลว่าถูกต้องเหมาะสมหรือไม่"
      ],
      "metadata": {
        "id": "hHRCscXuGuMK"
      }
    },
    {
      "cell_type": "code",
      "execution_count": null,
      "metadata": {
        "colab": {
          "base_uri": "https://localhost:8080/"
        },
        "outputId": "a0f4fe13-1e27-442e-b7e0-1905b06e48d0",
        "id": "BHRwtwEu1ZVF"
      },
      "outputs": [
        {
          "output_type": "stream",
          "name": "stdout",
          "text": [
            "<class 'pandas.core.frame.DataFrame'>\n",
            "Int64Index: 610 entries, 0 to 890\n",
            "Data columns (total 16 columns):\n",
            " #   Column           Non-Null Count  Dtype  \n",
            "---  ------           --------------  -----  \n",
            " 0   Survived         610 non-null    int64  \n",
            " 1   Pclass           610 non-null    int64  \n",
            " 2   Age              610 non-null    float64\n",
            " 3   SibSp            610 non-null    int64  \n",
            " 4   Parch            610 non-null    int64  \n",
            " 5   Fare             610 non-null    float64\n",
            " 6   Age*Class        610 non-null    float64\n",
            " 7   Fare_Per_Person  610 non-null    float64\n",
            " 8   Sex_num          610 non-null    int64  \n",
            " 9   Embarked_C       610 non-null    uint8  \n",
            " 10  Embarked_Q       610 non-null    uint8  \n",
            " 11  Embarked_S       610 non-null    uint8  \n",
            " 12  Title_Master     610 non-null    uint8  \n",
            " 13  Title_Miss       610 non-null    uint8  \n",
            " 14  Title_Mr         610 non-null    uint8  \n",
            " 15  Title_Mrs        610 non-null    uint8  \n",
            "dtypes: float64(4), int64(5), uint8(7)\n",
            "memory usage: 51.8 KB\n"
          ]
        }
      ],
      "source": [
        "data2.info()"
      ]
    },
    {
      "cell_type": "markdown",
      "source": [
        "หลังจากทำการตรวจสอบแล้วไม่พบความผิดปกติเกี่ยวกับ Data type"
      ],
      "metadata": {
        "id": "CS2YC-sBHw7C"
      }
    },
    {
      "cell_type": "markdown",
      "metadata": {
        "id": "FNtrciCn1ZVF"
      },
      "source": [
        "## Train-Test Split"
      ]
    },
    {
      "cell_type": "markdown",
      "source": [
        "ในส่วนจะเป็นการแบ่งข้อมูลสำหรับ train set และ test set"
      ],
      "metadata": {
        "id": "ZIg_Qm2VI1Sv"
      }
    },
    {
      "cell_type": "code",
      "execution_count": null,
      "metadata": {
        "id": "k37TslfF1ZVF"
      },
      "outputs": [],
      "source": [
        "X = data2.iloc[:, 1:].values #กำหนดให้ Feature ทั้งหมด เป็น X\n",
        "y = data2.iloc[:, :1].values #กำหนดให้คอลัมน์ survived เป็น y"
      ]
    },
    {
      "cell_type": "markdown",
      "source": [
        "สร้าง X_train และ y_train ไว้สำหรับการ train ข้อมูลส่วน X_test และ y_test ใช้ในการ test ข้อมูล "
      ],
      "metadata": {
        "id": "jYZU3AtBKS-F"
      }
    },
    {
      "cell_type": "code",
      "execution_count": null,
      "metadata": {
        "id": "xV0Y_KEk1ZVF"
      },
      "outputs": [],
      "source": [
        "X_train, X_test, y_train, y_test = train_test_split(X, y, test_size = 0.2,random_state = 1, shuffle = True, stratify = y) "
      ]
    },
    {
      "cell_type": "markdown",
      "source": [
        "โดย train_test_split จะทำการกำหนด \n",
        "- shuffle = True เพื่อให้สับเปลี่ยนข้อมูลก่อนแบ่ง train test\n",
        "- stratify = y เพื่อการกำหนดการกระจายของข้อมูลที่ split ให้มีการกระจายเหมือน original dataset"
      ],
      "metadata": {
        "id": "JBx1nAP1K3b4"
      }
    },
    {
      "cell_type": "code",
      "execution_count": null,
      "metadata": {
        "colab": {
          "base_uri": "https://localhost:8080/"
        },
        "outputId": "f1d2eecb-11ec-41a5-f733-8fc2c2ffb6c4",
        "id": "PKGlN-ye1ZVF"
      },
      "outputs": [
        {
          "output_type": "execute_result",
          "data": {
            "text/plain": [
              "(488, 15)"
            ]
          },
          "metadata": {},
          "execution_count": 92
        }
      ],
      "source": [
        "X_train.shape"
      ]
    },
    {
      "cell_type": "markdown",
      "source": [
        "ขนาดของข้อมูล train มีขนาด 488 แถว"
      ],
      "metadata": {
        "id": "332-WU3QO8Fl"
      }
    },
    {
      "cell_type": "code",
      "execution_count": null,
      "metadata": {
        "colab": {
          "base_uri": "https://localhost:8080/"
        },
        "outputId": "d8362810-a521-4e8e-d3b5-e22466849a15",
        "id": "UzbQbJka1ZVG"
      },
      "outputs": [
        {
          "output_type": "execute_result",
          "data": {
            "text/plain": [
              "(122, 15)"
            ]
          },
          "metadata": {},
          "execution_count": 93
        }
      ],
      "source": [
        "X_test.shape"
      ]
    },
    {
      "cell_type": "markdown",
      "source": [
        "ขนาดของข้อมูล test มีขนาด 122 แถว"
      ],
      "metadata": {
        "id": "LYsOnTrTPFC1"
      }
    },
    {
      "cell_type": "code",
      "execution_count": null,
      "metadata": {
        "colab": {
          "base_uri": "https://localhost:8080/"
        },
        "outputId": "d2a8e760-9b29-406e-d79c-12f331edb2ad",
        "id": "iX3ZjD4P1ZVG"
      },
      "outputs": [
        {
          "output_type": "execute_result",
          "data": {
            "text/plain": [
              "array([ 3.    , 28.    ,  1.    ,  2.    , 23.45  , 84.    ,  5.8625,\n",
              "        0.    ,  0.    ,  0.    ,  1.    ,  0.    ,  1.    ,  0.    ,\n",
              "        0.    ])"
            ]
          },
          "metadata": {},
          "execution_count": 94
        }
      ],
      "source": [
        "X_train[0] #แสดงข้อมูล X_train ของ index แรก"
      ]
    },
    {
      "cell_type": "code",
      "execution_count": null,
      "metadata": {
        "colab": {
          "base_uri": "https://localhost:8080/"
        },
        "outputId": "18a15239-e115-4dd9-8cdc-af884e203aa2",
        "id": "pIwRWIB11ZVG"
      },
      "outputs": [
        {
          "output_type": "execute_result",
          "data": {
            "text/plain": [
              "array([  3.   ,  39.   ,   0.   ,   0.   ,   7.925, 117.   ,   7.925,\n",
              "         1.   ,   0.   ,   0.   ,   1.   ,   0.   ,   0.   ,   1.   ,\n",
              "         0.   ])"
            ]
          },
          "metadata": {},
          "execution_count": 95
        }
      ],
      "source": [
        "X_test[0] #แสดงข้อมูล X_test ของ index แรก"
      ]
    },
    {
      "cell_type": "code",
      "execution_count": null,
      "metadata": {
        "colab": {
          "base_uri": "https://localhost:8080/"
        },
        "outputId": "26224b1f-a070-4211-cfa6-b2a329fe7775",
        "id": "1qJYIBM11ZVG"
      },
      "outputs": [
        {
          "output_type": "execute_result",
          "data": {
            "text/plain": [
              "array([0])"
            ]
          },
          "metadata": {},
          "execution_count": 96
        }
      ],
      "source": [
        "y_train[0] #แสดงข้อมูล y_train ของ index แรก"
      ]
    },
    {
      "cell_type": "code",
      "execution_count": null,
      "metadata": {
        "colab": {
          "base_uri": "https://localhost:8080/"
        },
        "outputId": "14d94f45-81fa-45c4-b77a-56cc07192b97",
        "id": "_Puir9Xd1ZVG"
      },
      "outputs": [
        {
          "output_type": "execute_result",
          "data": {
            "text/plain": [
              "array([0])"
            ]
          },
          "metadata": {},
          "execution_count": 97
        }
      ],
      "source": [
        "y_test[0] #แสดงข้อมูล y_test ของ index แรก"
      ]
    },
    {
      "cell_type": "markdown",
      "metadata": {
        "id": "ejlvL90M1ZVG"
      },
      "source": [
        "## Feature Scaling"
      ]
    },
    {
      "cell_type": "markdown",
      "source": [
        "การทำ feature scaling ข้อมูลเพื่อให้ข้อมูลในทุกคอลัมน์อยู่ในสเกลเดียวกัน และเพื่อให้ไม่ส่งผลต่อโมเดล weigth ไปที่คอลัมน์ใดคอลัมน์หนึ่งจึงต้องทำการสเกลก่อน โดยจะใช้ StandardScaler ซึ่งมีค่าช่วงอยู่ระหว่าง -3 ถึง 3"
      ],
      "metadata": {
        "id": "41lcurn_Pivh"
      }
    },
    {
      "cell_type": "code",
      "execution_count": null,
      "metadata": {
        "id": "muXlmyAo1ZVG"
      },
      "outputs": [],
      "source": [
        "sc = StandardScaler()\n",
        "X_train[:, :7] = sc.fit_transform(X_train[:, :7]) # จะ fit_tranform ที่ train set ก่อน\n",
        "X_test[:, :7] = sc.transform(X_test[:, :7])  # ในส่วนของ test_set จะ transform อย่างเดียว"
      ]
    },
    {
      "cell_type": "markdown",
      "source": [
        "การสเกลข้อมูลจะสเกลเพียงแค่คอลัม 7 คอลัมน์แรกเนื่องจากคอลัมน์ที่เหลือถูกทำ one_hot เป็น 0 กับ 1 แล้วไม่จำเป็นต้องสเกล"
      ],
      "metadata": {
        "id": "Qc9L1MGmQNQU"
      }
    },
    {
      "cell_type": "code",
      "execution_count": null,
      "metadata": {
        "colab": {
          "base_uri": "https://localhost:8080/"
        },
        "outputId": "54d869ca-167c-4ea0-b673-5aabc037c37e",
        "id": "lvnf1kfR1ZVG"
      },
      "outputs": [
        {
          "output_type": "execute_result",
          "data": {
            "text/plain": [
              "array([ 0.60206566,  0.11027478,  0.67814305,  1.97815056,  1.06187017,\n",
              "        0.48610694, -0.78002768,  0.        ,  0.        ,  0.        ,\n",
              "        1.        ,  0.        ,  1.        ,  0.        ,  0.        ])"
            ]
          },
          "metadata": {},
          "execution_count": 99
        }
      ],
      "source": [
        "X_train[0] #แสดงข้อมูล X_train ของ index แรกหลังจากสเกล "
      ]
    },
    {
      "cell_type": "code",
      "execution_count": null,
      "metadata": {
        "colab": {
          "base_uri": "https://localhost:8080/"
        },
        "outputId": "a8a9a504-43c6-4dc9-9b65-e7a220ceef24",
        "id": "hdHEjo4G1ZVG"
      },
      "outputs": [
        {
          "output_type": "execute_result",
          "data": {
            "text/plain": [
              "array([ 0.60206566,  1.2941848 , -0.50376341, -0.42617689, -0.63481084,\n",
              "        1.78003524, -0.16437169,  1.        ,  0.        ,  0.        ,\n",
              "        1.        ,  0.        ,  0.        ,  1.        ,  0.        ])"
            ]
          },
          "metadata": {},
          "execution_count": 100
        }
      ],
      "source": [
        "X_test[0] #แสดงข้อมูล X_test ของ index แรกหลังจากสเกล "
      ]
    },
    {
      "cell_type": "markdown",
      "source": [
        "# Create machine learning model"
      ],
      "metadata": {
        "id": "5mWYxx9OjyLB"
      }
    },
    {
      "cell_type": "markdown",
      "source": [
        "ขั้นตอนต่อไปจะนำข้อมูลที่ได้ทำการเตรียมไปสร้างโมเดล machine learning ซึ่งจะมีโมเดล ดังนี้\n",
        "- Decision tree\n",
        "- SVM\n",
        "- KNN\n",
        "- Naive Bayes\n",
        "- Random Forest \n",
        "- Logistic Regression \n",
        "- XGBoost\n",
        "- Ensemble\n",
        "\n",
        "โดยในแต่ละโมเดลจะทำการ Tune hyperparameter ด้วย GridSearchCV และกำหนด Cross-Validation ที่ 5 และ scoring ประสิทธิภาพการประเมินจะกำหนดให้เป็น f1 เนื่องจาก ต้องการสนใจ label ทั้ง 1 และ 0 "
      ],
      "metadata": {
        "id": "MPIlbD9_TI1b"
      }
    },
    {
      "cell_type": "markdown",
      "metadata": {
        "id": "4NnZUPAL9d91"
      },
      "source": [
        "## Decision tree "
      ]
    },
    {
      "cell_type": "code",
      "execution_count": null,
      "metadata": {
        "id": "FjcY994L9d92"
      },
      "outputs": [],
      "source": [
        "param_dist = {\"criterion\" : [\"gini\", \"entropy\"],\n",
        "              \"ccp_alpha\" : [0.1, .01, .001, 0.0001],\n",
        "              \"min_samples_split\" : range(1, 41, 5),\n",
        "              \"max_depth\" : [3,5,7,9,None],\n",
        "              }\n",
        "\n",
        "ctree = DecisionTreeClassifier(random_state= 1)\n",
        "ctree_cv = GridSearchCV(ctree, param_dist, cv = 5, scoring = 'f1')"
      ]
    },
    {
      "cell_type": "markdown",
      "source": [
        "Parameter ที่จะใช้ในการ tune decision tree มีดังนี้ \n",
        "ข้อมูลจาก [link](https://scikit-learn.org/stable/modules/generated/sklearn.tree.DecisionTreeClassifier.html)\n",
        "\n",
        "\n",
        "- criterion{“gini”, “entropy”, “log_loss”}, default=”gini” The function to measure the quality of a split. Supported criteria are “gini” for the Gini impurity and “log_loss” and “entropy” both for the Shannon information gain\n",
        "\n",
        "- ccp_alphanon-negative float, default=0.0\n",
        "Complexity parameter used for Minimal Cost-Complexity Pruning. The subtree with the largest cost complexity that is smaller than ccp_alpha will be chosen. By default, no pruning is performed.\n",
        "\n",
        "- min_samples_split int or float, default=2\n",
        "The minimum number of samples required to split an internal node: If int, then consider min_samples_split as the minimum number.\n",
        "\n",
        "- max_depthint, default=None\n",
        "The maximum depth of the tree. If None, then nodes are expanded until all leaves are pure or until all leaves contain less than min_samples_split samples.\n"
      ],
      "metadata": {
        "id": "Q7zDLHWaVQIA"
      }
    },
    {
      "cell_type": "code",
      "execution_count": null,
      "metadata": {
        "colab": {
          "base_uri": "https://localhost:8080/"
        },
        "outputId": "fb6fbde2-98e5-4e0c-a3b9-c37020f189a4",
        "id": "oYRwyXd59d92"
      },
      "outputs": [
        {
          "output_type": "stream",
          "name": "stderr",
          "text": [
            "/usr/local/lib/python3.7/dist-packages/sklearn/model_selection/_validation.py:372: FitFailedWarning: \n",
            "200 fits failed out of a total of 1600.\n",
            "The score on these train-test partitions for these parameters will be set to nan.\n",
            "If these failures are not expected, you can try to debug them by setting error_score='raise'.\n",
            "\n",
            "Below are more details about the failures:\n",
            "--------------------------------------------------------------------------------\n",
            "200 fits failed with the following error:\n",
            "Traceback (most recent call last):\n",
            "  File \"/usr/local/lib/python3.7/dist-packages/sklearn/model_selection/_validation.py\", line 680, in _fit_and_score\n",
            "    estimator.fit(X_train, y_train, **fit_params)\n",
            "  File \"/usr/local/lib/python3.7/dist-packages/sklearn/tree/_classes.py\", line 942, in fit\n",
            "    X_idx_sorted=X_idx_sorted,\n",
            "  File \"/usr/local/lib/python3.7/dist-packages/sklearn/tree/_classes.py\", line 254, in fit\n",
            "    % self.min_samples_split\n",
            "ValueError: min_samples_split must be an integer greater than 1 or a float in (0.0, 1.0]; got the integer 1\n",
            "\n",
            "  warnings.warn(some_fits_failed_message, FitFailedWarning)\n",
            "/usr/local/lib/python3.7/dist-packages/sklearn/model_selection/_search.py:972: UserWarning: One or more of the test scores are non-finite: [       nan 0.69834173 0.69834173 0.69834173 0.69834173 0.69834173\n",
            " 0.69834173 0.69834173        nan 0.69834173 0.69834173 0.69834173\n",
            " 0.69834173 0.69834173 0.69834173 0.69834173        nan 0.69834173\n",
            " 0.69834173 0.69834173 0.69834173 0.69834173 0.69834173 0.69834173\n",
            "        nan 0.69834173 0.69834173 0.69834173 0.69834173 0.69834173\n",
            " 0.69834173 0.69834173        nan 0.69834173 0.69834173 0.69834173\n",
            " 0.69834173 0.69834173 0.69834173 0.69834173        nan 0.69834173\n",
            " 0.69834173 0.69834173 0.69834173 0.69834173 0.69834173 0.69834173\n",
            "        nan 0.69834173 0.69834173 0.69834173 0.69834173 0.69834173\n",
            " 0.69834173 0.69834173        nan 0.69834173 0.69834173 0.69834173\n",
            " 0.69834173 0.69834173 0.69834173 0.69834173        nan 0.69834173\n",
            " 0.69834173 0.69834173 0.69834173 0.69834173 0.69834173 0.69834173\n",
            "        nan 0.69834173 0.69834173 0.69834173 0.69834173 0.69834173\n",
            " 0.69834173 0.69834173        nan 0.71014455 0.71014455 0.71014455\n",
            " 0.71014455 0.71014455 0.71014455 0.71014455        nan 0.69715004\n",
            " 0.69715004 0.69715004 0.69715004 0.69715004 0.69715004 0.69715004\n",
            "        nan 0.69715004 0.69715004 0.69715004 0.69715004 0.69715004\n",
            " 0.69715004 0.69715004        nan 0.69715004 0.69715004 0.69715004\n",
            " 0.69715004 0.69715004 0.69715004 0.69715004        nan 0.69715004\n",
            " 0.69715004 0.69715004 0.69715004 0.69715004 0.69715004 0.69715004\n",
            "        nan 0.69831796 0.69831796 0.69831796 0.69831796 0.69831796\n",
            " 0.69831796 0.69831796        nan 0.68109917 0.68109917 0.68109917\n",
            " 0.68109917 0.68352341 0.68301174 0.68301174        nan 0.65022195\n",
            " 0.65022195 0.65022195 0.65022195 0.68135435 0.68084268 0.68084268\n",
            "        nan 0.64061577 0.64285353 0.64948121 0.64948121 0.68135435\n",
            " 0.68084268 0.68084268        nan 0.64285353 0.64285353 0.64948121\n",
            " 0.64948121 0.68135435 0.68084268 0.68084268        nan 0.68704582\n",
            " 0.68704582 0.68704582 0.68704582 0.68704582 0.68704582 0.68704582\n",
            "        nan 0.67638465 0.67638465 0.67880889 0.67880889 0.68098675\n",
            " 0.68098675 0.68098675        nan 0.61535687 0.63587302 0.66052812\n",
            " 0.66546319 0.67276113 0.67009447 0.67009447        nan 0.60862051\n",
            " 0.62729989 0.64451888 0.65340257 0.6626798  0.66533256 0.66533256\n",
            "        nan 0.58914262 0.61194226 0.64259797 0.65629408 0.6626798\n",
            " 0.66533256 0.66533256        nan 0.69117062 0.69117062 0.69117062\n",
            " 0.69117062 0.69117062 0.69117062 0.69117062        nan 0.66253595\n",
            " 0.66751911 0.67218112 0.67218112 0.67212121 0.67660209 0.67660209\n",
            "        nan 0.61276758 0.63104928 0.64779002 0.65766995 0.65744619\n",
            " 0.65937722 0.65937722        nan 0.60679583 0.62148153 0.64157697\n",
            " 0.64903775 0.65849839 0.65877233 0.65877233        nan 0.57867878\n",
            " 0.599347   0.61957346 0.64002543 0.65364991 0.65392385 0.65877233\n",
            "        nan 0.68704582 0.68704582 0.68704582 0.68704582 0.68704582\n",
            " 0.68704582 0.68704582        nan 0.67638465 0.67638465 0.67880889\n",
            " 0.67880889 0.68098675 0.68098675 0.68098675        nan 0.61535687\n",
            " 0.63587302 0.66052812 0.66546319 0.67276113 0.67009447 0.67009447\n",
            "        nan 0.60862051 0.62729989 0.64451888 0.65340257 0.6626798\n",
            " 0.66533256 0.66533256        nan 0.58699209 0.61194226 0.64259797\n",
            " 0.65629408 0.6626798  0.66533256 0.66533256        nan 0.69117062\n",
            " 0.69117062 0.69117062 0.69117062 0.69117062 0.69117062 0.69117062\n",
            "        nan 0.66253595 0.66751911 0.67218112 0.67218112 0.67212121\n",
            " 0.67660209 0.67660209        nan 0.61276758 0.63104928 0.64779002\n",
            " 0.65766995 0.65744619 0.65937722 0.65937722        nan 0.60679583\n",
            " 0.62148153 0.64157697 0.64903775 0.65849839 0.65877233 0.65877233\n",
            "        nan 0.57867878 0.599347   0.61957346 0.64002543 0.65364991\n",
            " 0.65392385 0.65877233]\n",
            "  category=UserWarning,\n"
          ]
        },
        {
          "output_type": "execute_result",
          "data": {
            "text/plain": [
              "GridSearchCV(cv=5, estimator=DecisionTreeClassifier(random_state=1),\n",
              "             param_grid={'ccp_alpha': [0.1, 0.01, 0.001, 0.0001],\n",
              "                         'criterion': ['gini', 'entropy'],\n",
              "                         'max_depth': [3, 5, 7, 9, None],\n",
              "                         'min_samples_split': range(1, 41, 5)},\n",
              "             scoring='f1')"
            ]
          },
          "metadata": {},
          "execution_count": 102
        }
      ],
      "source": [
        "ctree_cv.fit(X_train,y_train) # train ข้อมูล"
      ]
    },
    {
      "cell_type": "code",
      "execution_count": null,
      "metadata": {
        "colab": {
          "base_uri": "https://localhost:8080/"
        },
        "outputId": "4f3ab953-b7aa-4998-a6ad-1ee789beb9c8",
        "id": "DM1-Q6KB9d92"
      },
      "outputs": [
        {
          "output_type": "execute_result",
          "data": {
            "text/plain": [
              "{'ccp_alpha': 0.01,\n",
              " 'criterion': 'gini',\n",
              " 'max_depth': 3,\n",
              " 'min_samples_split': 6}"
            ]
          },
          "metadata": {},
          "execution_count": 103
        }
      ],
      "source": [
        "ctree_cv.best_params_ #แสดงค่า best parameter ที่ได้จากการ tune "
      ]
    },
    {
      "cell_type": "code",
      "execution_count": null,
      "metadata": {
        "id": "M7A04EQR9d92"
      },
      "outputs": [],
      "source": [
        "tree_y_pred = ctree_cv.predict(X_test) #ทำการ predict กับ test set "
      ]
    },
    {
      "cell_type": "code",
      "execution_count": null,
      "metadata": {
        "colab": {
          "base_uri": "https://localhost:8080/"
        },
        "outputId": "71637e6d-892b-4ae8-f661-f858346680df",
        "id": "ihBRVv5L9d92"
      },
      "outputs": [
        {
          "output_type": "stream",
          "name": "stdout",
          "text": [
            "              precision    recall  f1-score   support\n",
            "\n",
            "           0       0.92      0.92      0.92        85\n",
            "           1       0.81      0.81      0.81        37\n",
            "\n",
            "    accuracy                           0.89       122\n",
            "   macro avg       0.86      0.86      0.86       122\n",
            "weighted avg       0.89      0.89      0.89       122\n",
            "\n"
          ]
        }
      ],
      "source": [
        "print(classification_report(y_test, tree_y_pred))"
      ]
    },
    {
      "cell_type": "markdown",
      "source": [
        "จากด้านบนเป็น Classification report \n",
        "- มี accuracy เท่ากับ 0.89\n",
        "- มี F1-score ที่ label 0 เท่ากับ 0.92\n",
        "- มี F1-score ที่ label 1 เท่ากับ 0.81"
      ],
      "metadata": {
        "id": "Z8i6ekmWc1bS"
      }
    },
    {
      "cell_type": "code",
      "execution_count": null,
      "metadata": {
        "colab": {
          "base_uri": "https://localhost:8080/",
          "height": 351
        },
        "outputId": "f31b7894-fb4f-44f6-9c3e-82c4e28c2e02",
        "id": "jXj4rePZ9d92"
      },
      "outputs": [
        {
          "output_type": "stream",
          "name": "stderr",
          "text": [
            "/usr/local/lib/python3.7/dist-packages/sklearn/utils/deprecation.py:87: FutureWarning: Function plot_confusion_matrix is deprecated; Function `plot_confusion_matrix` is deprecated in 1.0 and will be removed in 1.2. Use one of the class methods: ConfusionMatrixDisplay.from_predictions or ConfusionMatrixDisplay.from_estimator.\n",
            "  warnings.warn(msg, category=FutureWarning)\n"
          ]
        },
        {
          "output_type": "execute_result",
          "data": {
            "text/plain": [
              "<sklearn.metrics._plot.confusion_matrix.ConfusionMatrixDisplay at 0x7ff2919e2590>"
            ]
          },
          "metadata": {},
          "execution_count": 106
        },
        {
          "output_type": "display_data",
          "data": {
            "text/plain": [
              "<Figure size 432x288 with 2 Axes>"
            ],
            "image/png": "[encoded data removed]"
          },
          "metadata": {
            "needs_background": "light"
          }
        }
      ],
      "source": [
        "plot_confusion_matrix(ctree_cv, X_test, y_test, cmap = 'Blues')"
      ]
    },
    {
      "cell_type": "markdown",
      "source": [
        "พลอต confusion matrix จะได้ \n",
        "- TP = 30\n",
        "- TN = 78\n",
        "- FP = 7\n",
        "- FN = 7"
      ],
      "metadata": {
        "id": "H08ikUj0q4-i"
      }
    },
    {
      "cell_type": "markdown",
      "source": [
        "กราฟ ROC & AUC curve จะเป็นตามรูปด้านบนมี AUC = 0.87"
      ],
      "metadata": {
        "id": "LnP1HyBRrRPY"
      }
    },
    {
      "cell_type": "code",
      "execution_count": null,
      "metadata": {
        "colab": {
          "base_uri": "https://localhost:8080/"
        },
        "outputId": "8af2ba3d-2ada-4ecc-9759-88fa30fcfc25",
        "id": "SVtK_sMu9d93"
      },
      "outputs": [
        {
          "output_type": "execute_result",
          "data": {
            "text/plain": [
              "0.8852459016393442"
            ]
          },
          "metadata": {},
          "execution_count": 107
        }
      ],
      "source": [
        "accuracy_score(y_test, tree_y_pred)"
      ]
    },
    {
      "cell_type": "markdown",
      "source": [
        "ค่าความแม่นยำ Accuracy ได้ 0.88"
      ],
      "metadata": {
        "id": "zBiPciNardEu"
      }
    },
    {
      "cell_type": "code",
      "execution_count": null,
      "metadata": {
        "id": "_fY7FRiH9d93"
      },
      "outputs": [],
      "source": [
        "scores_model = [] #สร้าง list ขึ้นมาเก็บค่า score ที่ได้ \n",
        "scores_model.append({'Model': 'Decision Tree',\n",
        "                    'F1_Score': f1_score(y_test, tree_y_pred),\n",
        "                    'Accuracy_Score': accuracy_score(y_test, tree_y_pred)})"
      ]
    },
    {
      "cell_type": "code",
      "execution_count": null,
      "metadata": {
        "colab": {
          "base_uri": "https://localhost:8080/"
        },
        "outputId": "671cf493-14da-4d08-aab3-82b85132d4e2",
        "id": "Az1hIS8e9d93"
      },
      "outputs": [
        {
          "output_type": "execute_result",
          "data": {
            "text/plain": [
              "[{'Model': 'Decision Tree',\n",
              "  'F1_Score': 0.8108108108108109,\n",
              "  'Accuracy_Score': 0.8852459016393442}]"
            ]
          },
          "metadata": {},
          "execution_count": 109
        }
      ],
      "source": [
        "scores_model"
      ]
    },
    {
      "cell_type": "markdown",
      "source": [
        "ใน scores_model จะเก็บค่า Accuracy, F1-score และ ROC_AUC score ของ Decision tree model"
      ],
      "metadata": {
        "id": "UoOHNn_nrp_j"
      }
    },
    {
      "cell_type": "markdown",
      "metadata": {
        "id": "35TQR8469d93"
      },
      "source": [
        "## SVM"
      ]
    },
    {
      "cell_type": "code",
      "execution_count": null,
      "metadata": {
        "id": "LXr2gNIn9d93"
      },
      "outputs": [],
      "source": [
        "param_dist = {\"kernel\" : [\"rbf\"],\n",
        "              'C': [0.1, 1, 10, 100, 1000, 10000],\n",
        "              'gamma': [1, 0.1, 0.01, 0.001, 0.0001, \"scale\", \"auto\"]\n",
        "              }\n",
        "csvm = SVC(random_state= 1)\n",
        "csvm_cv = GridSearchCV(csvm, param_dist, cv = 5, scoring = 'f1')"
      ]
    },
    {
      "cell_type": "markdown",
      "source": [
        "Parameter ที่จะใช้ในการ tune SVM (support vector machine) มีดังนี้ \n",
        "ข้อมูลจาก [link](https://scikit-learn.org/stable/modules/generated/sklearn.svm.SVC.html)\n",
        "\n",
        "- kernel {‘linear’, ‘poly’, ‘rbf’, ‘sigmoid’, ‘precomputed’} or callable, default=’rbf’ Specifies the kernel type to be used in the algorithm. If none is given, ‘rbf’ will be used. If a callable is given it is used to pre-compute the kernel matrix from data matrices; that matrix should be an array of shape (n_samples, n_samples).\n",
        "\n",
        "- C float, default=1.0 Regularization parameter. The strength of the regularization is inversely proportional to C. Must be strictly positive. The penalty is a squared l2 penalty.\n",
        "\n",
        "- gamma{‘scale’, ‘auto’} or float, default=’scale’\n",
        "Kernel coefficient for ‘rbf’, ‘poly’ and ‘sigmoid’. if gamma='scale' (default) is passed then it uses 1 / (n_features * X.var()) as value of gamma, if ‘auto’, uses 1 / n_features."
      ],
      "metadata": {
        "id": "exYb_71zsCBF"
      }
    },
    {
      "cell_type": "code",
      "execution_count": null,
      "metadata": {
        "id": "0ojG_gYo9d93"
      },
      "outputs": [],
      "source": [
        "csvm_cv.fit(X_train,y_train) # train ข้อมูล"
      ]
    },
    {
      "cell_type": "code",
      "execution_count": null,
      "metadata": {
        "colab": {
          "base_uri": "https://localhost:8080/"
        },
        "outputId": "974a19bb-96eb-4ef1-8ff3-6f16c29a22ed",
        "id": "m9FohjJbZyIB"
      },
      "outputs": [
        {
          "output_type": "execute_result",
          "data": {
            "text/plain": [
              "{'C': 1000, 'gamma': 0.001, 'kernel': 'rbf'}"
            ]
          },
          "metadata": {},
          "execution_count": 112
        }
      ],
      "source": [
        "csvm_cv.best_params_ #แสดงค่า best parameter ที่ได้จากการ tune "
      ]
    },
    {
      "cell_type": "code",
      "execution_count": null,
      "metadata": {
        "id": "rV6UTuvJZyIB"
      },
      "outputs": [],
      "source": [
        "svm_y_pred = csvm_cv.predict(X_test) #ทำการ predict กับ test set "
      ]
    },
    {
      "cell_type": "code",
      "execution_count": null,
      "metadata": {
        "colab": {
          "base_uri": "https://localhost:8080/"
        },
        "outputId": "9a74cb31-f235-4ba1-a7c5-5173616952a4",
        "id": "Xku42SrFZyIB"
      },
      "outputs": [
        {
          "output_type": "stream",
          "name": "stdout",
          "text": [
            "              precision    recall  f1-score   support\n",
            "\n",
            "           0       0.91      0.93      0.92        85\n",
            "           1       0.83      0.78      0.81        37\n",
            "\n",
            "    accuracy                           0.89       122\n",
            "   macro avg       0.87      0.86      0.86       122\n",
            "weighted avg       0.88      0.89      0.88       122\n",
            "\n"
          ]
        }
      ],
      "source": [
        "print(classification_report(y_test, svm_y_pred))"
      ]
    },
    {
      "cell_type": "markdown",
      "source": [
        "จากด้านบนเป็น Classification report \n",
        "- มี accuracy เท่ากับ 0.89\n",
        "- มี F1-score ที่ label 0 เท่ากับ 0.92\n",
        "- มี F1-score ที่ label 1 เท่ากับ 0.81"
      ],
      "metadata": {
        "id": "-R2EaBX7tE_m"
      }
    },
    {
      "cell_type": "code",
      "execution_count": null,
      "metadata": {
        "colab": {
          "base_uri": "https://localhost:8080/",
          "height": 351
        },
        "outputId": "d4b03af3-c05e-4807-89d6-15dbecbb1094",
        "id": "fbanwXHNZyIB"
      },
      "outputs": [
        {
          "output_type": "stream",
          "name": "stderr",
          "text": [
            "/usr/local/lib/python3.7/dist-packages/sklearn/utils/deprecation.py:87: FutureWarning: Function plot_confusion_matrix is deprecated; Function `plot_confusion_matrix` is deprecated in 1.0 and will be removed in 1.2. Use one of the class methods: ConfusionMatrixDisplay.from_predictions or ConfusionMatrixDisplay.from_estimator.\n",
            "  warnings.warn(msg, category=FutureWarning)\n"
          ]
        },
        {
          "output_type": "execute_result",
          "data": {
            "text/plain": [
              "<sklearn.metrics._plot.confusion_matrix.ConfusionMatrixDisplay at 0x7ff2918dfc90>"
            ]
          },
          "metadata": {},
          "execution_count": 115
        },
        {
          "output_type": "display_data",
          "data": {
            "text/plain": [
              "<Figure size 432x288 with 2 Axes>"
            ],
            "image/png": "[encoded data removed]"
          },
          "metadata": {
            "needs_background": "light"
          }
        }
      ],
      "source": [
        "plot_confusion_matrix(csvm_cv, X_test, y_test, cmap = 'Blues')"
      ]
    },
    {
      "cell_type": "markdown",
      "source": [
        "พลอต confusion matrix จะได้ \n",
        "- TP = 29\n",
        "- TN = 79\n",
        "- FP = 6\n",
        "- FN = 8"
      ],
      "metadata": {
        "id": "EI_-4sJXtONr"
      }
    },
    {
      "cell_type": "markdown",
      "source": [
        "กราฟ ROC & AUC curve จะเป็นตามรูปด้านบนมี AUC = 0.84"
      ],
      "metadata": {
        "id": "ymXq68MT5Qhg"
      }
    },
    {
      "cell_type": "code",
      "execution_count": null,
      "metadata": {
        "colab": {
          "base_uri": "https://localhost:8080/"
        },
        "outputId": "9550e3c0-157d-4227-f8da-b3f5f4f5011b",
        "id": "yxqK8KmIZyIC"
      },
      "outputs": [
        {
          "output_type": "execute_result",
          "data": {
            "text/plain": [
              "0.8852459016393442"
            ]
          },
          "metadata": {},
          "execution_count": 116
        }
      ],
      "source": [
        "accuracy_score(y_test, svm_y_pred)"
      ]
    },
    {
      "cell_type": "markdown",
      "source": [
        "ค่าความแม่นยำ Accuracy ได้ 0.88"
      ],
      "metadata": {
        "id": "LCDBT5Gu5IO2"
      }
    },
    {
      "cell_type": "code",
      "execution_count": null,
      "metadata": {
        "id": "WCOWgvwNZyIC"
      },
      "outputs": [],
      "source": [
        "scores_model.append({'Model': 'SVM', #เก็บค่า score ที่ได้ใน scores_model\n",
        "                    'F1_Score': f1_score(y_test, svm_y_pred),\n",
        "                    'Accuracy_Score': accuracy_score(y_test, svm_y_pred)})"
      ]
    },
    {
      "cell_type": "code",
      "execution_count": null,
      "metadata": {
        "colab": {
          "base_uri": "https://localhost:8080/"
        },
        "outputId": "faa532bf-cb0d-46fb-9a6c-fa44e537f1ff",
        "id": "8tphcAlOZyIC"
      },
      "outputs": [
        {
          "output_type": "execute_result",
          "data": {
            "text/plain": [
              "[{'Model': 'Decision Tree',\n",
              "  'F1_Score': 0.8108108108108109,\n",
              "  'Accuracy_Score': 0.8852459016393442},\n",
              " {'Model': 'SVM',\n",
              "  'F1_Score': 0.8055555555555555,\n",
              "  'Accuracy_Score': 0.8852459016393442}]"
            ]
          },
          "metadata": {},
          "execution_count": 118
        }
      ],
      "source": [
        "scores_model"
      ]
    },
    {
      "cell_type": "markdown",
      "source": [
        "ใน scores_model จะเก็บค่า Accuracy, F1-score และ ROC_AUC score ของ SVM model"
      ],
      "metadata": {
        "id": "PBh2Q0C65fbQ"
      }
    },
    {
      "cell_type": "markdown",
      "metadata": {
        "id": "eL-9b2VYZT07"
      },
      "source": [
        "## KNN"
      ]
    },
    {
      "cell_type": "code",
      "execution_count": null,
      "metadata": {
        "id": "EALI3zmFZT08"
      },
      "outputs": [],
      "source": [
        "param_dist = {\"leaf_size\" : list(range(1,50)),\n",
        "              'n_neighbors': list(range(1,10)),\n",
        "              'p': [1, 2],\n",
        "              'weights' : [\"uniform\", \"distance\"]\n",
        "              }\n",
        "cknn = KNeighborsClassifier()\n",
        "cknn_cv = GridSearchCV(cknn, param_dist, cv = 5, scoring = 'f1')"
      ]
    },
    {
      "cell_type": "markdown",
      "source": [
        "Parameter ที่จะใช้ในการ tune KNN มีดังนี้ \n",
        "ข้อมูลจาก [link](https://scikit-learn.org/stable/modules/generated/sklearn.neighbors.KNeighborsClassifier.html)\n",
        "\n",
        "- n_neighborsint, default=5\n",
        "Number of neighbors to use by default for kneighbors queries.\n",
        "\n",
        "- weights{‘uniform’, ‘distance’} or callable, default=’uniform’\n",
        "Weight function used in prediction. Possible values:\n",
        "    - ‘uniform’ : uniform weights. All points in each neighborhood are weighted equally.\n",
        "\n",
        "    - ‘distance’ : weight points by the inverse of their distance. in this case, closer neighbors of a query point will have a greater influence than neighbors which are further away.\n",
        "\n",
        "- pint, default=2\n",
        "Power parameter for the Minkowski metric. When p = 1, this is equivalent to using manhattan_distance (l1), and euclidean_distance (l2) for p = 2. For arbitrary p, minkowski_distance (l_p) is used.\n",
        "\n",
        "- leaf_sizeint, default=30\n",
        "Leaf size passed to BallTree or KDTree. This can affect the speed of the construction and query, as well as the memory required to store the tree. The optimal value depends on the nature of the problem."
      ],
      "metadata": {
        "id": "91gADiEz628Q"
      }
    },
    {
      "cell_type": "code",
      "source": [
        "cknn_cv.fit(X_train, y_train) # train ข้อมูล"
      ],
      "metadata": {
        "id": "z_efcUClZT08"
      },
      "execution_count": null,
      "outputs": []
    },
    {
      "cell_type": "code",
      "execution_count": null,
      "metadata": {
        "colab": {
          "base_uri": "https://localhost:8080/"
        },
        "outputId": "c5dd6ff8-cfdb-41de-8375-f5147ec1d404",
        "id": "rid3tGD8ZT08"
      },
      "outputs": [
        {
          "output_type": "execute_result",
          "data": {
            "text/plain": [
              "{'leaf_size': 1, 'n_neighbors': 9, 'p': 1, 'weights': 'uniform'}"
            ]
          },
          "metadata": {},
          "execution_count": 121
        }
      ],
      "source": [
        "cknn_cv.best_params_ #แสดงค่า best parameter ที่ได้จากการ tune "
      ]
    },
    {
      "cell_type": "code",
      "execution_count": null,
      "metadata": {
        "id": "vEhDDVE6ZT08"
      },
      "outputs": [],
      "source": [
        "knn_y_pred = cknn_cv.predict(X_test) #ทำการ predict กับ test set "
      ]
    },
    {
      "cell_type": "code",
      "execution_count": null,
      "metadata": {
        "colab": {
          "base_uri": "https://localhost:8080/"
        },
        "outputId": "9c122a35-df85-4729-b934-d6bae6aff2b3",
        "id": "AHewkb07ZT08"
      },
      "outputs": [
        {
          "output_type": "stream",
          "name": "stdout",
          "text": [
            "              precision    recall  f1-score   support\n",
            "\n",
            "           0       0.84      0.95      0.90        85\n",
            "           1       0.85      0.59      0.70        37\n",
            "\n",
            "    accuracy                           0.84       122\n",
            "   macro avg       0.84      0.77      0.80       122\n",
            "weighted avg       0.84      0.84      0.84       122\n",
            "\n"
          ]
        }
      ],
      "source": [
        "print(classification_report(y_test, knn_y_pred))"
      ]
    },
    {
      "cell_type": "markdown",
      "source": [
        "จากด้านบนเป็น Classification report \n",
        "- มี accuracy เท่ากับ 0.84\n",
        "- มี F1-score ที่ label 0 เท่ากับ 0.90\n",
        "- มี F1-score ที่ label 1 เท่ากับ 0.70"
      ],
      "metadata": {
        "id": "wPR1S3d27tCf"
      }
    },
    {
      "cell_type": "code",
      "execution_count": null,
      "metadata": {
        "colab": {
          "base_uri": "https://localhost:8080/",
          "height": 353
        },
        "outputId": "4409255e-54b4-40bb-9002-576275c32336",
        "id": "v0w0RU1cZT08"
      },
      "outputs": [
        {
          "output_type": "stream",
          "name": "stderr",
          "text": [
            "/usr/local/lib/python3.7/dist-packages/sklearn/utils/deprecation.py:87: FutureWarning: Function plot_confusion_matrix is deprecated; Function `plot_confusion_matrix` is deprecated in 1.0 and will be removed in 1.2. Use one of the class methods: ConfusionMatrixDisplay.from_predictions or ConfusionMatrixDisplay.from_estimator.\n",
            "  warnings.warn(msg, category=FutureWarning)\n"
          ]
        },
        {
          "output_type": "execute_result",
          "data": {
            "text/plain": [
              "<sklearn.metrics._plot.confusion_matrix.ConfusionMatrixDisplay at 0x7ff29171f110>"
            ]
          },
          "metadata": {},
          "execution_count": 124
        },
        {
          "output_type": "display_data",
          "data": {
            "text/plain": [
              "<Figure size 432x288 with 2 Axes>"
            ],
            "image/png": "[encoded data removed]"
          },
          "metadata": {
            "needs_background": "light"
          }
        }
      ],
      "source": [
        "plot_confusion_matrix(cknn_cv, X_test, y_test, cmap = 'Blues')"
      ]
    },
    {
      "cell_type": "markdown",
      "source": [
        "พลอต confusion matrix จะได้ \n",
        "- TP = 22\n",
        "- TN = 81\n",
        "- FP = 4\n",
        "- FN = 15"
      ],
      "metadata": {
        "id": "AwFjOe3073eR"
      }
    },
    {
      "cell_type": "markdown",
      "source": [
        "กราฟ ROC & AUC curve จะเป็นตามรูปด้านบนมี AUC = 0.89"
      ],
      "metadata": {
        "id": "4wVcWhSa8ERF"
      }
    },
    {
      "cell_type": "code",
      "execution_count": null,
      "metadata": {
        "colab": {
          "base_uri": "https://localhost:8080/"
        },
        "outputId": "8dedb88d-6e1d-4ae0-badc-74afb5b838b1",
        "id": "s5OS6qteZT09"
      },
      "outputs": [
        {
          "output_type": "execute_result",
          "data": {
            "text/plain": [
              "0.8442622950819673"
            ]
          },
          "metadata": {},
          "execution_count": 125
        }
      ],
      "source": [
        "accuracy_score(y_test, knn_y_pred)"
      ]
    },
    {
      "cell_type": "markdown",
      "source": [
        "ค่าความแม่นยำ Accuracy ได้ 0.84"
      ],
      "metadata": {
        "id": "7KUxLbc48S1o"
      }
    },
    {
      "cell_type": "code",
      "execution_count": null,
      "metadata": {
        "id": "wx_qd3bBZT09"
      },
      "outputs": [],
      "source": [
        "scores_model.append({'Model': 'KNN', #เก็บค่า score ที่ได้ใน scores_model\n",
        "                    'F1_Score': f1_score(y_test, knn_y_pred),\n",
        "                    'Accuracy_Score': accuracy_score(y_test, knn_y_pred)})"
      ]
    },
    {
      "cell_type": "code",
      "execution_count": null,
      "metadata": {
        "colab": {
          "base_uri": "https://localhost:8080/"
        },
        "outputId": "6cdae88d-c117-40f9-a822-bb90355c3646",
        "id": "ZNIM0ywcZT09"
      },
      "outputs": [
        {
          "output_type": "execute_result",
          "data": {
            "text/plain": [
              "[{'Model': 'Decision Tree',\n",
              "  'F1_Score': 0.8108108108108109,\n",
              "  'Accuracy_Score': 0.8852459016393442},\n",
              " {'Model': 'SVM',\n",
              "  'F1_Score': 0.8055555555555555,\n",
              "  'Accuracy_Score': 0.8852459016393442},\n",
              " {'Model': 'KNN',\n",
              "  'F1_Score': 0.6984126984126985,\n",
              "  'Accuracy_Score': 0.8442622950819673}]"
            ]
          },
          "metadata": {},
          "execution_count": 127
        }
      ],
      "source": [
        "scores_model"
      ]
    },
    {
      "cell_type": "markdown",
      "source": [
        "ใน scores_model จะเก็บค่า Accuracy, F1-score และ ROC_AUC score ของ KNN model"
      ],
      "metadata": {
        "id": "QTI5y-Cj8dpp"
      }
    },
    {
      "cell_type": "markdown",
      "source": [
        "## Naive Bayes"
      ],
      "metadata": {
        "id": "VQ9QoGgYoiKr"
      }
    },
    {
      "cell_type": "code",
      "execution_count": null,
      "metadata": {
        "id": "T-sZAYzbo5x5"
      },
      "outputs": [],
      "source": [
        "param_dist = {\"var_smoothing\" : np.logspace(0,-9, num=100)\n",
        "              }\n",
        "cnb = GaussianNB()\n",
        "cnb_cv = GridSearchCV(cnb, param_dist, cv = 5,  scoring = 'f1')"
      ]
    },
    {
      "cell_type": "markdown",
      "source": [
        "Parameter ที่จะใช้ในการ tune Naive Bayes มีดังนี้ \n",
        "ข้อมูลจาก [link](https://scikit-learn.org/stable/modules/generated/sklearn.naive_bayes.GaussianNB.html)\n",
        "\n",
        "- var_smoothingfloat, default=1e-9\n",
        "Portion of the largest variance of all features that is added to variances for calculation stability."
      ],
      "metadata": {
        "id": "m0zIR6yv9mAe"
      }
    },
    {
      "cell_type": "code",
      "source": [
        "cnb_cv.fit(X_train, y_train) #train ข้อมูล"
      ],
      "metadata": {
        "id": "GoGQglYQo5x6"
      },
      "execution_count": null,
      "outputs": []
    },
    {
      "cell_type": "code",
      "execution_count": null,
      "metadata": {
        "colab": {
          "base_uri": "https://localhost:8080/"
        },
        "outputId": "ba376a36-6813-4ce9-d680-5eff32fe651f",
        "id": "z5V19txVo5x6"
      },
      "outputs": [
        {
          "output_type": "execute_result",
          "data": {
            "text/plain": [
              "{'var_smoothing': 0.04328761281083057}"
            ]
          },
          "metadata": {},
          "execution_count": 130
        }
      ],
      "source": [
        "cnb_cv.best_params_ #แสดงค่า best parameter ที่ได้จากการ tune "
      ]
    },
    {
      "cell_type": "code",
      "execution_count": null,
      "metadata": {
        "id": "gB_Dq8KNo5x6"
      },
      "outputs": [],
      "source": [
        "knn_y_pred = cnb_cv.predict(X_test) #ทำการ predict กับ test set "
      ]
    },
    {
      "cell_type": "code",
      "execution_count": null,
      "metadata": {
        "colab": {
          "base_uri": "https://localhost:8080/"
        },
        "outputId": "2a2712a0-0377-4653-e2fe-8d6ce51c7053",
        "id": "0GOp5_hEo5x6"
      },
      "outputs": [
        {
          "output_type": "stream",
          "name": "stdout",
          "text": [
            "              precision    recall  f1-score   support\n",
            "\n",
            "           0       0.90      0.86      0.88        85\n",
            "           1       0.71      0.78      0.74        37\n",
            "\n",
            "    accuracy                           0.84       122\n",
            "   macro avg       0.80      0.82      0.81       122\n",
            "weighted avg       0.84      0.84      0.84       122\n",
            "\n"
          ]
        }
      ],
      "source": [
        "print(classification_report(y_test, knn_y_pred))"
      ]
    },
    {
      "cell_type": "markdown",
      "source": [
        "จากด้านบนเป็น Classification report \n",
        "- มี accuracy เท่ากับ 0.84\n",
        "- มี F1-score ที่ label 0 เท่ากับ 0.88\n",
        "- มี F1-score ที่ label 1 เท่ากับ 0.74"
      ],
      "metadata": {
        "id": "BMAIBiQJ_Pk2"
      }
    },
    {
      "cell_type": "code",
      "execution_count": null,
      "metadata": {
        "colab": {
          "base_uri": "https://localhost:8080/",
          "height": 351
        },
        "outputId": "c401e74b-5d66-4690-983b-cd8180dad3df",
        "id": "KqqGi7Xzo5x6"
      },
      "outputs": [
        {
          "output_type": "stream",
          "name": "stderr",
          "text": [
            "/usr/local/lib/python3.7/dist-packages/sklearn/utils/deprecation.py:87: FutureWarning: Function plot_confusion_matrix is deprecated; Function `plot_confusion_matrix` is deprecated in 1.0 and will be removed in 1.2. Use one of the class methods: ConfusionMatrixDisplay.from_predictions or ConfusionMatrixDisplay.from_estimator.\n",
            "  warnings.warn(msg, category=FutureWarning)\n"
          ]
        },
        {
          "output_type": "execute_result",
          "data": {
            "text/plain": [
              "<sklearn.metrics._plot.confusion_matrix.ConfusionMatrixDisplay at 0x7ff291e41110>"
            ]
          },
          "metadata": {},
          "execution_count": 133
        },
        {
          "output_type": "display_data",
          "data": {
            "text/plain": [
              "<Figure size 432x288 with 2 Axes>"
            ],
            "image/png": "[encoded data removed]"
          },
          "metadata": {
            "needs_background": "light"
          }
        }
      ],
      "source": [
        "plot_confusion_matrix(cnb_cv, X_test, y_test, cmap = 'Blues')"
      ]
    },
    {
      "cell_type": "markdown",
      "source": [
        "พลอต confusion matrix จะได้ \n",
        "- TP = 29\n",
        "- TN = 73\n",
        "- FP = 12\n",
        "- FN = 8"
      ],
      "metadata": {
        "id": "t1Z7tyJeAubR"
      }
    },
    {
      "cell_type": "markdown",
      "source": [
        "กราฟ ROC & AUC curve จะเป็นตามรูปด้านบนมี AUC = 0.87"
      ],
      "metadata": {
        "id": "E1cGuJKkA6YC"
      }
    },
    {
      "cell_type": "code",
      "execution_count": null,
      "metadata": {
        "colab": {
          "base_uri": "https://localhost:8080/"
        },
        "outputId": "ed3807a6-7ba5-4c06-9bb9-4fdc7eef78d5",
        "id": "b9rMjfHgo5x7"
      },
      "outputs": [
        {
          "output_type": "execute_result",
          "data": {
            "text/plain": [
              "0.8360655737704918"
            ]
          },
          "metadata": {},
          "execution_count": 134
        }
      ],
      "source": [
        "accuracy_score(y_test, knn_y_pred)"
      ]
    },
    {
      "cell_type": "markdown",
      "source": [
        "ค่าความแม่นยำ Accuracy ได้ 0.83"
      ],
      "metadata": {
        "id": "JGygjGBaBIu8"
      }
    },
    {
      "cell_type": "code",
      "execution_count": null,
      "metadata": {
        "id": "oasIpte0o5x7"
      },
      "outputs": [],
      "source": [
        "scores_model.append({'Model': 'Naive Bayes',  #เก็บค่า score ที่ได้ใน scores_model\n",
        "                    'F1_Score': f1_score(y_test, knn_y_pred),\n",
        "                    'Accuracy_Score': accuracy_score(y_test, knn_y_pred)})"
      ]
    },
    {
      "cell_type": "code",
      "execution_count": null,
      "metadata": {
        "colab": {
          "base_uri": "https://localhost:8080/"
        },
        "outputId": "56e5a7c6-71a3-4cd0-d9c4-ad4720952be9",
        "id": "6v1WfIuHo5x7"
      },
      "outputs": [
        {
          "output_type": "execute_result",
          "data": {
            "text/plain": [
              "[{'Model': 'Decision Tree',\n",
              "  'F1_Score': 0.8108108108108109,\n",
              "  'Accuracy_Score': 0.8852459016393442},\n",
              " {'Model': 'SVM',\n",
              "  'F1_Score': 0.8055555555555555,\n",
              "  'Accuracy_Score': 0.8852459016393442},\n",
              " {'Model': 'KNN',\n",
              "  'F1_Score': 0.6984126984126985,\n",
              "  'Accuracy_Score': 0.8442622950819673},\n",
              " {'Model': 'Naive Bayes',\n",
              "  'F1_Score': 0.7435897435897435,\n",
              "  'Accuracy_Score': 0.8360655737704918}]"
            ]
          },
          "metadata": {},
          "execution_count": 136
        }
      ],
      "source": [
        "scores_model"
      ]
    },
    {
      "cell_type": "markdown",
      "source": [
        "ใน scores_model จะเก็บค่า Accuracy, F1-score และ ROC_AUC score ของ Naive Bayes model"
      ],
      "metadata": {
        "id": "YQ6gQRxgBaXm"
      }
    },
    {
      "cell_type": "markdown",
      "source": [
        "## Random Forest"
      ],
      "metadata": {
        "id": "jq2ORkceZT09"
      }
    },
    {
      "cell_type": "code",
      "source": [
        "param_dist = {\n",
        "              'criterion': [\"gini\", \"entropy\"],\n",
        "              'n_estimators': [8, 10, 20, 50, 100],\n",
        "              'max_depth' : [3, 5, 7, 9, None],\n",
        "               \"ccp_alpha\" : [0, 0.1, .01, .001, .0001],\n",
        "               \"min_samples_split\" : range(1, 41, 5)\n",
        "              }\n",
        "crdf = RandomForestClassifier(random_state= 1)\n",
        "crdf_cv = GridSearchCV(crdf, param_dist, cv = 5,scoring = 'f1')"
      ],
      "metadata": {
        "id": "5ZP6_V9JZT09"
      },
      "execution_count": null,
      "outputs": []
    },
    {
      "cell_type": "markdown",
      "source": [
        "Parameter ที่จะใช้ในการ tune Random forest มีดังนี้ \n",
        "ข้อมูลจาก [link](https://scikit-learn.org/stable/modules/generated/sklearn.ensemble.RandomForestClassifier.html)\n",
        "- n_estimatorsint, default=100\n",
        "The number of trees in the forest.\n",
        "- criterion{“gini”, “entropy”, “log_loss”}, default=”gini”\n",
        "The function to measure the quality of a split. Supported criteria are “gini” for the Gini impurity and “log_loss” and “entropy” both for the Shannon information gain\n",
        "- max_depthint, default=None\n",
        "The maximum depth of the tree. If None, then nodes are expanded until all leaves are pure or until all leaves contain less than min_samples_split samples.\n",
        "- min_samples_splitint or float, default=2 The minimum number of samples required to split an internal node:\n",
        "  - If int, then consider min_samples_split as the minimum number.\n",
        "\n",
        "  - If float, then min_samples_split is a fraction and ceil(min_samples_split * n_samples) are the minimum number of samples for each split.\n",
        "\n",
        "- ccp_alpha non-negative float, default=0.0\n",
        "Complexity parameter used for Minimal Cost-Complexity Pruning. The subtree with the largest cost complexity that is smaller than ccp_alpha will be chosen. By default, no pruning is performed."
      ],
      "metadata": {
        "id": "vwu_BOWoB3qQ"
      }
    },
    {
      "cell_type": "code",
      "source": [
        "crdf_cv.fit(X_train, y_train) # train ข้อมูล"
      ],
      "metadata": {
        "id": "s3XUuAJJZT09"
      },
      "execution_count": null,
      "outputs": []
    },
    {
      "cell_type": "code",
      "execution_count": null,
      "metadata": {
        "colab": {
          "base_uri": "https://localhost:8080/"
        },
        "outputId": "70f78595-9122-4268-bdfd-181da2959729",
        "id": "UdyNiWirZT0-"
      },
      "outputs": [
        {
          "output_type": "execute_result",
          "data": {
            "text/plain": [
              "{'ccp_alpha': 0,\n",
              " 'criterion': 'gini',\n",
              " 'max_depth': 5,\n",
              " 'min_samples_split': 36,\n",
              " 'n_estimators': 10}"
            ]
          },
          "metadata": {},
          "execution_count": 139
        }
      ],
      "source": [
        "crdf_cv.best_params_  #แสดงค่า best parameter ที่ได้จากการ tune "
      ]
    },
    {
      "cell_type": "code",
      "execution_count": null,
      "metadata": {
        "id": "bW2NPb4jZT0-"
      },
      "outputs": [],
      "source": [
        "forest_y_pred = crdf_cv.predict(X_test) #ทำการ predict กับ test set"
      ]
    },
    {
      "cell_type": "code",
      "execution_count": null,
      "metadata": {
        "colab": {
          "base_uri": "https://localhost:8080/"
        },
        "outputId": "3af2f4b2-af2a-4fae-85dc-01b2ac81c3f1",
        "id": "agTvwI4SZT0-"
      },
      "outputs": [
        {
          "output_type": "stream",
          "name": "stdout",
          "text": [
            "              precision    recall  f1-score   support\n",
            "\n",
            "           0       0.84      0.93      0.88        85\n",
            "           1       0.79      0.59      0.68        37\n",
            "\n",
            "    accuracy                           0.83       122\n",
            "   macro avg       0.81      0.76      0.78       122\n",
            "weighted avg       0.82      0.83      0.82       122\n",
            "\n"
          ]
        }
      ],
      "source": [
        "print(classification_report(y_test, forest_y_pred))"
      ]
    },
    {
      "cell_type": "markdown",
      "source": [
        "จากด้านบนเป็น Classification report \n",
        "- มี accuracy เท่ากับ 0.8-\n",
        "- มี F1-score ที่ label 0 เท่ากับ 0.88\n",
        "- มี F1-score ที่ label 1 เท่ากับ 0.68"
      ],
      "metadata": {
        "id": "LB4e4hZIAh7r"
      }
    },
    {
      "cell_type": "code",
      "execution_count": null,
      "metadata": {
        "colab": {
          "base_uri": "https://localhost:8080/",
          "height": 351
        },
        "outputId": "60e48030-d735-4f4d-c8d7-ba17a0a1abec",
        "id": "7kG66PTWZT0-"
      },
      "outputs": [
        {
          "output_type": "stream",
          "name": "stderr",
          "text": [
            "/usr/local/lib/python3.7/dist-packages/sklearn/utils/deprecation.py:87: FutureWarning: Function plot_confusion_matrix is deprecated; Function `plot_confusion_matrix` is deprecated in 1.0 and will be removed in 1.2. Use one of the class methods: ConfusionMatrixDisplay.from_predictions or ConfusionMatrixDisplay.from_estimator.\n",
            "  warnings.warn(msg, category=FutureWarning)\n"
          ]
        },
        {
          "output_type": "execute_result",
          "data": {
            "text/plain": [
              "<sklearn.metrics._plot.confusion_matrix.ConfusionMatrixDisplay at 0x7ff28e118b50>"
            ]
          },
          "metadata": {},
          "execution_count": 142
        },
        {
          "output_type": "display_data",
          "data": {
            "text/plain": [
              "<Figure size 432x288 with 2 Axes>"
            ],
            "image/png": "[encoded data removed]"
          },
          "metadata": {
            "needs_background": "light"
          }
        }
      ],
      "source": [
        "plot_confusion_matrix(crdf_cv, X_test, y_test, cmap = 'Blues')"
      ]
    },
    {
      "cell_type": "markdown",
      "source": [
        "พลอต confusion matrix จะได้ \n",
        "- TP = 22\n",
        "- TN = 79\n",
        "- FP = 6\n",
        "- FN = 15"
      ],
      "metadata": {
        "id": "DkpZ_FVOAZb3"
      }
    },
    {
      "cell_type": "markdown",
      "source": [
        "กราฟ ROC & AUC curve จะเป็นตามรูปด้านบนมี AUC = 0.87"
      ],
      "metadata": {
        "id": "cMMRGWtaA8xB"
      }
    },
    {
      "cell_type": "code",
      "execution_count": null,
      "metadata": {
        "colab": {
          "base_uri": "https://localhost:8080/"
        },
        "outputId": "24392390-b368-4416-f0e2-db73f9bfacc7",
        "id": "Bl5pCNB8ZT0-"
      },
      "outputs": [
        {
          "output_type": "execute_result",
          "data": {
            "text/plain": [
              "0.8278688524590164"
            ]
          },
          "metadata": {},
          "execution_count": 143
        }
      ],
      "source": [
        "accuracy_score(y_test, forest_y_pred)"
      ]
    },
    {
      "cell_type": "markdown",
      "source": [
        "ค่าความแม่นยำ Accuracy ได้ 0.82"
      ],
      "metadata": {
        "id": "o-lqnPS0BMEY"
      }
    },
    {
      "cell_type": "code",
      "execution_count": null,
      "metadata": {
        "id": "5e_OIfRJZT0_"
      },
      "outputs": [],
      "source": [
        "scores_model.append({'Model': 'Random forest', #เก็บค่า score ที่ได้ใน scores_model\n",
        "                    'F1_Score': f1_score(y_test, forest_y_pred),\n",
        "                    'Accuracy_Score': accuracy_score(y_test, forest_y_pred)})"
      ]
    },
    {
      "cell_type": "code",
      "execution_count": null,
      "metadata": {
        "colab": {
          "base_uri": "https://localhost:8080/"
        },
        "outputId": "981f56ca-3be4-431c-8017-96d39e4da5bb",
        "id": "kivvsyTCZT0_"
      },
      "outputs": [
        {
          "output_type": "execute_result",
          "data": {
            "text/plain": [
              "[{'Model': 'Decision Tree',\n",
              "  'F1_Score': 0.8108108108108109,\n",
              "  'Accuracy_Score': 0.8852459016393442},\n",
              " {'Model': 'SVM',\n",
              "  'F1_Score': 0.8055555555555555,\n",
              "  'Accuracy_Score': 0.8852459016393442},\n",
              " {'Model': 'KNN',\n",
              "  'F1_Score': 0.6984126984126985,\n",
              "  'Accuracy_Score': 0.8442622950819673},\n",
              " {'Model': 'Naive Bayes',\n",
              "  'F1_Score': 0.7435897435897435,\n",
              "  'Accuracy_Score': 0.8360655737704918},\n",
              " {'Model': 'Random forest',\n",
              "  'F1_Score': 0.676923076923077,\n",
              "  'Accuracy_Score': 0.8278688524590164}]"
            ]
          },
          "metadata": {},
          "execution_count": 145
        }
      ],
      "source": [
        "scores_model"
      ]
    },
    {
      "cell_type": "markdown",
      "source": [
        "ใน scores_model จะเก็บค่า Accuracy, F1-score และ ROC_AUC score ของ Random forrest model"
      ],
      "metadata": {
        "id": "w5MMRGl-Be2l"
      }
    },
    {
      "cell_type": "markdown",
      "source": [
        "## Logistic Regression "
      ],
      "metadata": {
        "id": "kGfjidT7ZT0_"
      }
    },
    {
      "cell_type": "code",
      "source": [
        "param_dist = {\n",
        "              'penalty': [\"l1\", \"l2\", \"elasticnet\"],\n",
        "              'C': [100,10,1.0,0.1,0.01],\n",
        "              'solver' : [\"newton-cg\", \"lbfgs\", \"liblinear\"],\n",
        "              \"max_iter\" : [10, 25, 50, 100]\n",
        "              }\n",
        "clg = LogisticRegression(random_state= 1)\n",
        "clg_cv = GridSearchCV(clg, param_dist, cv = 5,  scoring = 'f1')              "
      ],
      "metadata": {
        "id": "PH21JmOKZT0_"
      },
      "execution_count": null,
      "outputs": []
    },
    {
      "cell_type": "markdown",
      "source": [
        "Parameter ที่จะใช้ในการ tune Random forest มีดังนี้ \n",
        "ข้อมูลจาก [link](https://scikit-learn.org/stable/modules/generated/sklearn.linear_model.LogisticRegression.html)\n",
        "\n",
        "- penalty{‘l1’, ‘l2’, ‘elasticnet’, ‘none’}, default=’l2’\n",
        "Specify the norm of the penalty:\n",
        "\n",
        "  - 'none': no penalty is added;\n",
        "\n",
        "  - 'l2': add a L2 penalty term and it is the default choice;\n",
        "\n",
        "  - 'l1': add a L1 penalty term;\n",
        "\n",
        "  - 'elasticnet': both L1 and L2 penalty terms are added.\n",
        "\n",
        "- C float, default=1.0\n",
        "Inverse of regularization strength; must be a positive float. Like in support vector machines, smaller values specify stronger regularization.\n",
        "\n",
        "- max_iter int, default=100\n",
        "Maximum number of iterations taken for the solvers to converge.\n",
        "\n",
        "- solver{‘newton-cg’, ‘lbfgs’, ‘liblinear’, ‘sag’, ‘saga’}, default=’lbfgs’\n",
        "Algorithm to use in the optimization problem. Default is ‘lbfgs’. To choose a solver, you might want to consider the following aspects:"
      ],
      "metadata": {
        "id": "-As5_wnfFqox"
      }
    },
    {
      "cell_type": "code",
      "source": [
        "clg_cv.fit(X_train, y_train) # train ข้อมูล"
      ],
      "metadata": {
        "id": "lRVlKD8IZT0_"
      },
      "execution_count": null,
      "outputs": []
    },
    {
      "cell_type": "code",
      "execution_count": null,
      "metadata": {
        "colab": {
          "base_uri": "https://localhost:8080/"
        },
        "outputId": "437d764e-ffd5-43c3-8e21-8fbe752b2b9c",
        "id": "SggJAWvSZT0_"
      },
      "outputs": [
        {
          "output_type": "execute_result",
          "data": {
            "text/plain": [
              "{'C': 100, 'max_iter': 10, 'penalty': 'l2', 'solver': 'lbfgs'}"
            ]
          },
          "metadata": {},
          "execution_count": 148
        }
      ],
      "source": [
        "clg_cv.best_params_  #แสดงค่า best parameter ที่ได้จากการ tune "
      ]
    },
    {
      "cell_type": "code",
      "source": [
        "log_y_pred = clg_cv.predict(X_test)"
      ],
      "metadata": {
        "id": "KzWVwiOp-8bq"
      },
      "execution_count": null,
      "outputs": []
    },
    {
      "cell_type": "code",
      "execution_count": null,
      "metadata": {
        "colab": {
          "base_uri": "https://localhost:8080/"
        },
        "outputId": "0f413115-31d6-4acb-da29-1affe9d32cf3",
        "id": "rRt2u3mJZT0_"
      },
      "outputs": [
        {
          "output_type": "stream",
          "name": "stdout",
          "text": [
            "              precision    recall  f1-score   support\n",
            "\n",
            "           0       0.90      0.96      0.93        85\n",
            "           1       0.90      0.76      0.82        37\n",
            "\n",
            "    accuracy                           0.90       122\n",
            "   macro avg       0.90      0.86      0.88       122\n",
            "weighted avg       0.90      0.90      0.90       122\n",
            "\n"
          ]
        }
      ],
      "source": [
        "print(classification_report(y_test, log_y_pred))"
      ]
    },
    {
      "cell_type": "markdown",
      "source": [
        "จากด้านบนเป็น Classification report \n",
        "- มี accuracy เท่ากับ 0.90\n",
        "- มี F1-score ที่ label 0 เท่ากับ 0.93\n",
        "- มี F1-score ที่ label 1 เท่ากับ 0.82"
      ],
      "metadata": {
        "id": "Yo4ytHPrAjmu"
      }
    },
    {
      "cell_type": "code",
      "execution_count": null,
      "metadata": {
        "colab": {
          "base_uri": "https://localhost:8080/",
          "height": 351
        },
        "outputId": "6d1e6918-52bd-4611-9949-67f959050450",
        "id": "WuKUD5CgZT0_"
      },
      "outputs": [
        {
          "output_type": "stream",
          "name": "stderr",
          "text": [
            "/usr/local/lib/python3.7/dist-packages/sklearn/utils/deprecation.py:87: FutureWarning: Function plot_confusion_matrix is deprecated; Function `plot_confusion_matrix` is deprecated in 1.0 and will be removed in 1.2. Use one of the class methods: ConfusionMatrixDisplay.from_predictions or ConfusionMatrixDisplay.from_estimator.\n",
            "  warnings.warn(msg, category=FutureWarning)\n"
          ]
        },
        {
          "output_type": "execute_result",
          "data": {
            "text/plain": [
              "<sklearn.metrics._plot.confusion_matrix.ConfusionMatrixDisplay at 0x7ff28e5e77d0>"
            ]
          },
          "metadata": {},
          "execution_count": 151
        },
        {
          "output_type": "display_data",
          "data": {
            "text/plain": [
              "<Figure size 432x288 with 2 Axes>"
            ],
            "image/png": "[encoded data removed]"
          },
          "metadata": {
            "needs_background": "light"
          }
        }
      ],
      "source": [
        "plot_confusion_matrix(clg_cv, X_test, y_test, cmap = 'Blues')"
      ]
    },
    {
      "cell_type": "markdown",
      "source": [
        "พลอต confusion matrix จะได้ \n",
        "- TP = 28\n",
        "- TN = 82\n",
        "- FP = 3\n",
        "- FN = 9"
      ],
      "metadata": {
        "id": "EKLdaEBOAbIy"
      }
    },
    {
      "cell_type": "markdown",
      "source": [
        "กราฟ ROC & AUC curve จะเป็นตามรูปด้านบนมี AUC = 0.84"
      ],
      "metadata": {
        "id": "CLPUmmivA-9U"
      }
    },
    {
      "cell_type": "code",
      "execution_count": null,
      "metadata": {
        "colab": {
          "base_uri": "https://localhost:8080/"
        },
        "outputId": "91563af3-b448-4b90-d599-e387516164f2",
        "id": "8O8G3eQsZT1A"
      },
      "outputs": [
        {
          "output_type": "execute_result",
          "data": {
            "text/plain": [
              "0.9016393442622951"
            ]
          },
          "metadata": {},
          "execution_count": 152
        }
      ],
      "source": [
        "accuracy_score(y_test, log_y_pred)"
      ]
    },
    {
      "cell_type": "markdown",
      "source": [
        "ค่าความแม่นยำ Accuracy ได้ 0.90"
      ],
      "metadata": {
        "id": "ba4AtqX1BOpI"
      }
    },
    {
      "cell_type": "code",
      "execution_count": null,
      "metadata": {
        "id": "JpzIhm8yZT1A"
      },
      "outputs": [],
      "source": [
        "scores_model.append({'Model': 'Logistic Regression', #เก็บค่า score ที่ได้ใน scores_model\n",
        "                    'F1_Score': f1_score(y_test, log_y_pred),\n",
        "                    'Accuracy_Score': accuracy_score(y_test, log_y_pred)})"
      ]
    },
    {
      "cell_type": "code",
      "execution_count": null,
      "metadata": {
        "colab": {
          "base_uri": "https://localhost:8080/"
        },
        "outputId": "dfee8459-f37f-457c-ae49-771d2a382b95",
        "id": "A1pnRxiGZT1A"
      },
      "outputs": [
        {
          "output_type": "execute_result",
          "data": {
            "text/plain": [
              "[{'Model': 'Decision Tree',\n",
              "  'F1_Score': 0.8108108108108109,\n",
              "  'Accuracy_Score': 0.8852459016393442},\n",
              " {'Model': 'SVM',\n",
              "  'F1_Score': 0.8055555555555555,\n",
              "  'Accuracy_Score': 0.8852459016393442},\n",
              " {'Model': 'KNN',\n",
              "  'F1_Score': 0.6984126984126985,\n",
              "  'Accuracy_Score': 0.8442622950819673},\n",
              " {'Model': 'Naive Bayes',\n",
              "  'F1_Score': 0.7435897435897435,\n",
              "  'Accuracy_Score': 0.8360655737704918},\n",
              " {'Model': 'Random forest',\n",
              "  'F1_Score': 0.676923076923077,\n",
              "  'Accuracy_Score': 0.8278688524590164},\n",
              " {'Model': 'Logistic Regression',\n",
              "  'F1_Score': 0.823529411764706,\n",
              "  'Accuracy_Score': 0.9016393442622951}]"
            ]
          },
          "metadata": {},
          "execution_count": 154
        }
      ],
      "source": [
        "scores_model"
      ]
    },
    {
      "cell_type": "markdown",
      "source": [
        "ใน scores_model จะเก็บค่า Accuracy, F1-score และ ROC_AUC score ของ Logistic Regression model"
      ],
      "metadata": {
        "id": "B2Ee0TAFBkb5"
      }
    },
    {
      "cell_type": "markdown",
      "source": [
        "## XGBoost"
      ],
      "metadata": {
        "id": "APFnpt8WhHun"
      }
    },
    {
      "cell_type": "markdown",
      "source": [
        "XGBoost เป็น ensemble learning method ซึ่งเป็นการเรียนรู้แบบ multiple-learners หรือก็คือการเรียนรู้แบบมีผู้เรียนหลายๆคน ช่วยๆกันเรียน"
      ],
      "metadata": {
        "id": "0_gnxuqqKBUa"
      }
    },
    {
      "cell_type": "code",
      "source": [
        "param_dist = {\n",
        "              'learning_rate': [1.0, 0.1, 0.3, 0.01, 0.001, 0.0001, 0.00001],\n",
        "              'gamma': [0,0.1,0.5,1.0],\n",
        "              'max_depth' : [4, 5, 6, 10],\n",
        "              \"subsample\" : [0.6, 0.8, 1],\n",
        "              \"min_child_weight\" : [1,3,6,]\n",
        "              }\n",
        "cxg= XGBClassifier()\n",
        "cxg_cv = GridSearchCV(estimator = cxg, param_grid = param_dist, cv = 5, scoring = 'f1' )\n"
      ],
      "metadata": {
        "id": "7s6-awsoCk4U"
      },
      "execution_count": null,
      "outputs": []
    },
    {
      "cell_type": "markdown",
      "source": [
        "Parameter ที่จะใช้ในการ tune Random forest มีดังนี้ \n",
        "ข้อมูลจาก [link](https://xgboost.readthedocs.io/en/stable/parameter.html)\n",
        "- gamma [default=0, alias: min_split_loss]  Minimum loss reduction required to make a further partition on a leaf node of the tree. The larger gamma is, the more conservative the algorithm will be.\n",
        "- learning_rate Step size shrinkage used in update to prevents overfitting. After each boosting step, we can directly get the weights of new features, and eta shrinks the feature weights to make the boosting process more conservative.\n",
        "- max_depth [default=6] Maximum depth of a tree. Increasing this value will make the model more complex and more likely to overfit. 0 indicates no limit on depth. Beware that XGBoost aggressively consumes memory when training a deep tree. exact tree method requires non-zero value.\n",
        "- subsample [default=1] Subsample ratio of the training instances. Setting it to 0.5 means that XGBoost would randomly sample half of the training data prior to growing trees. and this will prevent overfitting. Subsampling will occur once in every boosting iteration.\n",
        "- min_child_weight [default=1] Minimum sum of instance weight (hessian) needed in a child. If the tree partition step results in a leaf node with the sum of instance weight less than min_child_weight, then the building process will give up further partitioning. In linear regression task, this simply corresponds to minimum number of instances needed to be in each node. The larger min_child_weight is, the more conservative the algorithm will be.\n"
      ],
      "metadata": {
        "id": "OuRk7dGmGi_k"
      }
    },
    {
      "cell_type": "code",
      "source": [
        "cxg_cv.fit(X_train, y_train)"
      ],
      "metadata": {
        "id": "jiFfO4oPlW8S"
      },
      "execution_count": null,
      "outputs": []
    },
    {
      "cell_type": "code",
      "execution_count": null,
      "metadata": {
        "colab": {
          "base_uri": "https://localhost:8080/"
        },
        "outputId": "22c16d5b-c883-4bfe-f919-ba2466b58c24",
        "id": "pVQaPvFalW8S"
      },
      "outputs": [
        {
          "output_type": "execute_result",
          "data": {
            "text/plain": [
              "{'gamma': 0,\n",
              " 'learning_rate': 0.0001,\n",
              " 'max_depth': 5,\n",
              " 'min_child_weight': 1,\n",
              " 'subsample': 1}"
            ]
          },
          "metadata": {},
          "execution_count": 157
        }
      ],
      "source": [
        "cxg_cv.best_params_  #แสดงค่า best parameter ที่ได้จากการ tune "
      ]
    },
    {
      "cell_type": "code",
      "source": [
        "xg_y_pred = cxg_cv.predict(X_test)"
      ],
      "metadata": {
        "id": "ymaUt8xj-1c_"
      },
      "execution_count": null,
      "outputs": []
    },
    {
      "cell_type": "code",
      "execution_count": null,
      "metadata": {
        "colab": {
          "base_uri": "https://localhost:8080/"
        },
        "outputId": "b955cb91-2dae-4166-c3d3-172226ec7424",
        "id": "Tt_LzlsWlW8T"
      },
      "outputs": [
        {
          "output_type": "stream",
          "name": "stdout",
          "text": [
            "              precision    recall  f1-score   support\n",
            "\n",
            "           0       0.88      0.94      0.91        85\n",
            "           1       0.84      0.70      0.76        37\n",
            "\n",
            "    accuracy                           0.87       122\n",
            "   macro avg       0.86      0.82      0.84       122\n",
            "weighted avg       0.87      0.87      0.87       122\n",
            "\n"
          ]
        }
      ],
      "source": [
        "print(classification_report(y_test, xg_y_pred))"
      ]
    },
    {
      "cell_type": "markdown",
      "source": [
        "จากด้านบนเป็น Classification report \n",
        "- มี accuracy เท่ากับ 0.87\n",
        "- มี F1-score ที่ label 0 เท่ากับ 0.91\n",
        "- มี F1-score ที่ label 1 เท่ากับ 0.76"
      ],
      "metadata": {
        "id": "HWfBgDbyAlhL"
      }
    },
    {
      "cell_type": "code",
      "execution_count": null,
      "metadata": {
        "colab": {
          "base_uri": "https://localhost:8080/",
          "height": 355
        },
        "outputId": "899d64e1-99bd-4e08-9cda-21463c1850e5",
        "id": "oGfy02enlW8T"
      },
      "outputs": [
        {
          "output_type": "stream",
          "name": "stderr",
          "text": [
            "/usr/local/lib/python3.7/dist-packages/sklearn/utils/deprecation.py:87: FutureWarning: Function plot_confusion_matrix is deprecated; Function `plot_confusion_matrix` is deprecated in 1.0 and will be removed in 1.2. Use one of the class methods: ConfusionMatrixDisplay.from_predictions or ConfusionMatrixDisplay.from_estimator.\n",
            "  warnings.warn(msg, category=FutureWarning)\n"
          ]
        },
        {
          "output_type": "execute_result",
          "data": {
            "text/plain": [
              "<sklearn.metrics._plot.confusion_matrix.ConfusionMatrixDisplay at 0x7ff28e3e0e50>"
            ]
          },
          "metadata": {},
          "execution_count": 160
        },
        {
          "output_type": "display_data",
          "data": {
            "text/plain": [
              "<Figure size 432x288 with 2 Axes>"
            ],
            "image/png": "[encoded data removed]"
          },
          "metadata": {
            "needs_background": "light"
          }
        }
      ],
      "source": [
        "plot_confusion_matrix(cxg_cv, X_test, y_test, cmap = 'Blues')"
      ]
    },
    {
      "cell_type": "markdown",
      "source": [
        "พลอต confusion matrix จะได้ \n",
        "- TP = 26\n",
        "- TN = 80\n",
        "- FP = 5\n",
        "- FN = 11"
      ],
      "metadata": {
        "id": "1on6GDaUAcXO"
      }
    },
    {
      "cell_type": "markdown",
      "source": [
        "กราฟ ROC & AUC curve จะเป็นตามรูปด้านบนมี AUC = 0.87"
      ],
      "metadata": {
        "id": "qIO2aD77BBF-"
      }
    },
    {
      "cell_type": "code",
      "execution_count": null,
      "metadata": {
        "colab": {
          "base_uri": "https://localhost:8080/"
        },
        "outputId": "7ec8f045-a438-48d2-c80d-db58c95a03ae",
        "id": "1hkD6j0ZlW8U"
      },
      "outputs": [
        {
          "output_type": "execute_result",
          "data": {
            "text/plain": [
              "0.8688524590163934"
            ]
          },
          "metadata": {},
          "execution_count": 161
        }
      ],
      "source": [
        "accuracy_score(y_test, xg_y_pred)"
      ]
    },
    {
      "cell_type": "markdown",
      "source": [
        "ค่าความแม่นยำ Accuracy ได้ 0.86"
      ],
      "metadata": {
        "id": "cxN1C2AhBR1M"
      }
    },
    {
      "cell_type": "code",
      "execution_count": null,
      "metadata": {
        "id": "fvotOmRDlW8U"
      },
      "outputs": [],
      "source": [
        "scores_model.append({'Model': 'XGBoost', #เก็บค่า score ที่ได้ใน scores_model\n",
        "                    'F1_Score': f1_score(y_test, xg_y_pred),\n",
        "                    'Accuracy_Score': accuracy_score(y_test, xg_y_pred)})"
      ]
    },
    {
      "cell_type": "code",
      "execution_count": null,
      "metadata": {
        "colab": {
          "base_uri": "https://localhost:8080/"
        },
        "outputId": "9f67826f-1e6a-4365-f392-e34233071cfb",
        "id": "hej9a5x5lW8U"
      },
      "outputs": [
        {
          "output_type": "execute_result",
          "data": {
            "text/plain": [
              "[{'Model': 'Decision Tree',\n",
              "  'F1_Score': 0.8108108108108109,\n",
              "  'Accuracy_Score': 0.8852459016393442},\n",
              " {'Model': 'SVM',\n",
              "  'F1_Score': 0.8055555555555555,\n",
              "  'Accuracy_Score': 0.8852459016393442},\n",
              " {'Model': 'KNN',\n",
              "  'F1_Score': 0.6984126984126985,\n",
              "  'Accuracy_Score': 0.8442622950819673},\n",
              " {'Model': 'Naive Bayes',\n",
              "  'F1_Score': 0.7435897435897435,\n",
              "  'Accuracy_Score': 0.8360655737704918},\n",
              " {'Model': 'Random forest',\n",
              "  'F1_Score': 0.676923076923077,\n",
              "  'Accuracy_Score': 0.8278688524590164},\n",
              " {'Model': 'Logistic Regression',\n",
              "  'F1_Score': 0.823529411764706,\n",
              "  'Accuracy_Score': 0.9016393442622951},\n",
              " {'Model': 'XGBoost',\n",
              "  'F1_Score': 0.7647058823529411,\n",
              "  'Accuracy_Score': 0.8688524590163934}]"
            ]
          },
          "metadata": {},
          "execution_count": 163
        }
      ],
      "source": [
        "scores_model"
      ]
    },
    {
      "cell_type": "markdown",
      "source": [
        "ใน scores_model จะเก็บค่า Accuracy, F1-score และ ROC_AUC score ของ XGBoost model"
      ],
      "metadata": {
        "id": "LKrCvH61BpFg"
      }
    },
    {
      "cell_type": "markdown",
      "metadata": {
        "id": "american-safety"
      },
      "source": [
        "***\n",
        "## Ensemble\n",
        "\n",
        "-ขั้นตอนการ Ensemble จะรวมเอา label y_pred ที่ได้จาก model หลายๆโมเดล มาทำการโหวต"
      ]
    },
    {
      "cell_type": "markdown",
      "metadata": {
        "id": "solar-franchise"
      },
      "source": [
        "ทำ Majority Vote เพื่อเลือกผลลัพท์ที่ Model ทำนายออกมาเหมือนกันมากที่สุด เอาหกโมเดลมารวมกัน"
      ]
    },
    {
      "cell_type": "code",
      "metadata": {
        "id": "98qviPKGw1FR"
      },
      "source": [
        "# สร้าง DataFrame ของค่า predict แต่ละ model\n",
        "voting_df = pd.DataFrame({'Tree':tree_y_pred, 'SVM':svm_y_pred, \n",
        "                          'KNN':knn_y_pred, 'Forest':forest_y_pred, \n",
        "                          'logistic':log_y_pred, 'XgBoost': xg_y_pred})"
      ],
      "execution_count": null,
      "outputs": []
    },
    {
      "cell_type": "code",
      "metadata": {
        "id": "parental-contamination",
        "colab": {
          "base_uri": "https://localhost:8080/",
          "height": 424
        },
        "outputId": "330a0d0e-db66-422c-b063-b18aded4d494"
      },
      "source": [
        "voting_df"
      ],
      "execution_count": null,
      "outputs": [
        {
          "output_type": "execute_result",
          "data": {
            "text/plain": [
              "     Tree  SVM  KNN  Forest  logistic  XgBoost\n",
              "0       0    0    0       0         0        0\n",
              "1       0    0    1       0         0        0\n",
              "2       0    0    0       0         0        0\n",
              "3       0    0    0       0         0        0\n",
              "4       1    1    1       1         1        1\n",
              "..    ...  ...  ...     ...       ...      ...\n",
              "117     0    0    0       0         0        0\n",
              "118     1    1    1       1         1        1\n",
              "119     1    1    1       0         1        1\n",
              "120     0    0    0       0         0        0\n",
              "121     1    1    1       1         1        0\n",
              "\n",
              "[122 rows x 6 columns]"
            ],
            "text/html": [
              "\n",
              "  <div id=\"df-045c01e5-25eb-4c63-aad2-ebf3c8b01580\">\n",
              "    <div class=\"colab-df-container\">\n",
              "      <div>\n",
              "<style scoped>\n",
              "    .dataframe tbody tr th:only-of-type {\n",
              "        vertical-align: middle;\n",
              "    }\n",
              "\n",
              "    .dataframe tbody tr th {\n",
              "        vertical-align: top;\n",
              "    }\n",
              "\n",
              "    .dataframe thead th {\n",
              "        text-align: right;\n",
              "    }\n",
              "</style>\n",
              "<table border=\"1\" class=\"dataframe\">\n",
              "  <thead>\n",
              "    <tr style=\"text-align: right;\">\n",
              "      <th></th>\n",
              "      <th>Tree</th>\n",
              "      <th>SVM</th>\n",
              "      <th>KNN</th>\n",
              "      <th>Forest</th>\n",
              "      <th>logistic</th>\n",
              "      <th>XgBoost</th>\n",
              "    </tr>\n",
              "  </thead>\n",
              "  <tbody>\n",
              "    <tr>\n",
              "      <th>0</th>\n",
              "      <td>0</td>\n",
              "      <td>0</td>\n",
              "      <td>0</td>\n",
              "      <td>0</td>\n",
              "      <td>0</td>\n",
              "      <td>0</td>\n",
              "    </tr>\n",
              "    <tr>\n",
              "      <th>1</th>\n",
              "      <td>0</td>\n",
              "      <td>0</td>\n",
              "      <td>1</td>\n",
              "      <td>0</td>\n",
              "      <td>0</td>\n",
              "      <td>0</td>\n",
              "    </tr>\n",
              "    <tr>\n",
              "      <th>2</th>\n",
              "      <td>0</td>\n",
              "      <td>0</td>\n",
              "      <td>0</td>\n",
              "      <td>0</td>\n",
              "      <td>0</td>\n",
              "      <td>0</td>\n",
              "    </tr>\n",
              "    <tr>\n",
              "      <th>3</th>\n",
              "      <td>0</td>\n",
              "      <td>0</td>\n",
              "      <td>0</td>\n",
              "      <td>0</td>\n",
              "      <td>0</td>\n",
              "      <td>0</td>\n",
              "    </tr>\n",
              "    <tr>\n",
              "      <th>4</th>\n",
              "      <td>1</td>\n",
              "      <td>1</td>\n",
              "      <td>1</td>\n",
              "      <td>1</td>\n",
              "      <td>1</td>\n",
              "      <td>1</td>\n",
              "    </tr>\n",
              "    <tr>\n",
              "      <th>...</th>\n",
              "      <td>...</td>\n",
              "      <td>...</td>\n",
              "      <td>...</td>\n",
              "      <td>...</td>\n",
              "      <td>...</td>\n",
              "      <td>...</td>\n",
              "    </tr>\n",
              "    <tr>\n",
              "      <th>117</th>\n",
              "      <td>0</td>\n",
              "      <td>0</td>\n",
              "      <td>0</td>\n",
              "      <td>0</td>\n",
              "      <td>0</td>\n",
              "      <td>0</td>\n",
              "    </tr>\n",
              "    <tr>\n",
              "      <th>118</th>\n",
              "      <td>1</td>\n",
              "      <td>1</td>\n",
              "      <td>1</td>\n",
              "      <td>1</td>\n",
              "      <td>1</td>\n",
              "      <td>1</td>\n",
              "    </tr>\n",
              "    <tr>\n",
              "      <th>119</th>\n",
              "      <td>1</td>\n",
              "      <td>1</td>\n",
              "      <td>1</td>\n",
              "      <td>0</td>\n",
              "      <td>1</td>\n",
              "      <td>1</td>\n",
              "    </tr>\n",
              "    <tr>\n",
              "      <th>120</th>\n",
              "      <td>0</td>\n",
              "      <td>0</td>\n",
              "      <td>0</td>\n",
              "      <td>0</td>\n",
              "      <td>0</td>\n",
              "      <td>0</td>\n",
              "    </tr>\n",
              "    <tr>\n",
              "      <th>121</th>\n",
              "      <td>1</td>\n",
              "      <td>1</td>\n",
              "      <td>1</td>\n",
              "      <td>1</td>\n",
              "      <td>1</td>\n",
              "      <td>0</td>\n",
              "    </tr>\n",
              "  </tbody>\n",
              "</table>\n",
              "<p>122 rows × 6 columns</p>\n",
              "</div>\n",
              "      <button class=\"colab-df-convert\" onclick=\"convertToInteractive('df-045c01e5-25eb-4c63-aad2-ebf3c8b01580')\"\n",
              "              title=\"Convert this dataframe to an interactive table.\"\n",
              "              style=\"display:none;\">\n",
              "        \n",
              "  <svg xmlns=\"http://www.w3.org/2000/svg\" height=\"24px\"viewBox=\"0 0 24 24\"\n",
              "       width=\"24px\">\n",
              "    <path d=\"M0 0h24v24H0V0z\" fill=\"none\"/>\n",
              "    <path d=\"M18.56 5.44l.94 2.06.94-2.06 2.06-.94-2.06-.94-.94-2.06-.94 2.06-2.06.94zm-11 1L8.5 8.5l.94-2.06 2.06-.94-2.06-.94L8.5 2.5l-.94 2.06-2.06.94zm10 10l.94 2.06.94-2.06 2.06-.94-2.06-.94-.94-2.06-.94 2.06-2.06.94z\"/><path d=\"M17.41 7.96l-1.37-1.37c-.4-.4-.92-.59-1.43-.59-.52 0-1.04.2-1.43.59L10.3 9.45l-7.72 7.72c-.78.78-.78 2.05 0 2.83L4 21.41c.39.39.9.59 1.41.59.51 0 1.02-.2 1.41-.59l7.78-7.78 2.81-2.81c.8-.78.8-2.07 0-2.86zM5.41 20L4 18.59l7.72-7.72 1.47 1.35L5.41 20z\"/>\n",
              "  </svg>\n",
              "      </button>\n",
              "      \n",
              "  <style>\n",
              "    .colab-df-container {\n",
              "      display:flex;\n",
              "      flex-wrap:wrap;\n",
              "      gap: 12px;\n",
              "    }\n",
              "\n",
              "    .colab-df-convert {\n",
              "      background-color: #E8F0FE;\n",
              "      border: none;\n",
              "      border-radius: 50%;\n",
              "      cursor: pointer;\n",
              "      display: none;\n",
              "      fill: #1967D2;\n",
              "      height: 32px;\n",
              "      padding: 0 0 0 0;\n",
              "      width: 32px;\n",
              "    }\n",
              "\n",
              "    .colab-df-convert:hover {\n",
              "      background-color: #E2EBFA;\n",
              "      box-shadow: 0px 1px 2px rgba(60, 64, 67, 0.3), 0px 1px 3px 1px rgba(60, 64, 67, 0.15);\n",
              "      fill: #174EA6;\n",
              "    }\n",
              "\n",
              "    [theme=dark] .colab-df-convert {\n",
              "      background-color: #3B4455;\n",
              "      fill: #D2E3FC;\n",
              "    }\n",
              "\n",
              "    [theme=dark] .colab-df-convert:hover {\n",
              "      background-color: #434B5C;\n",
              "      box-shadow: 0px 1px 3px 1px rgba(0, 0, 0, 0.15);\n",
              "      filter: drop-shadow(0px 1px 2px rgba(0, 0, 0, 0.3));\n",
              "      fill: #FFFFFF;\n",
              "    }\n",
              "  </style>\n",
              "\n",
              "      <script>\n",
              "        const buttonEl =\n",
              "          document.querySelector('#df-045c01e5-25eb-4c63-aad2-ebf3c8b01580 button.colab-df-convert');\n",
              "        buttonEl.style.display =\n",
              "          google.colab.kernel.accessAllowed ? 'block' : 'none';\n",
              "\n",
              "        async function convertToInteractive(key) {\n",
              "          const element = document.querySelector('#df-045c01e5-25eb-4c63-aad2-ebf3c8b01580');\n",
              "          const dataTable =\n",
              "            await google.colab.kernel.invokeFunction('convertToInteractive',\n",
              "                                                     [key], {});\n",
              "          if (!dataTable) return;\n",
              "\n",
              "          const docLinkHtml = 'Like what you see? Visit the ' +\n",
              "            '<a target=\"_blank\" href=https://colab.research.google.com/notebooks/data_table.ipynb>data table notebook</a>'\n",
              "            + ' to learn more about interactive tables.';\n",
              "          element.innerHTML = '';\n",
              "          dataTable['output_type'] = 'display_data';\n",
              "          await google.colab.output.renderOutput(dataTable, element);\n",
              "          const docLink = document.createElement('div');\n",
              "          docLink.innerHTML = docLinkHtml;\n",
              "          element.appendChild(docLink);\n",
              "        }\n",
              "      </script>\n",
              "    </div>\n",
              "  </div>\n",
              "  "
            ]
          },
          "metadata": {},
          "execution_count": 165
        }
      ]
    },
    {
      "cell_type": "markdown",
      "metadata": {
        "id": "AzQ-G7GxxevZ"
      },
      "source": [
        "หาผลรวมการทำนายของทุก model"
      ]
    },
    {
      "cell_type": "code",
      "metadata": {
        "id": "ll1soSKPxa5n"
      },
      "source": [
        "voting_df = voting_df.sum(axis=1)"
      ],
      "execution_count": null,
      "outputs": []
    },
    {
      "cell_type": "code",
      "metadata": {
        "id": "8VNdsE1VzSDW",
        "colab": {
          "base_uri": "https://localhost:8080/"
        },
        "outputId": "b91571dd-38a5-483f-d31b-3e234a0d63f9"
      },
      "source": [
        "voting_df"
      ],
      "execution_count": null,
      "outputs": [
        {
          "output_type": "execute_result",
          "data": {
            "text/plain": [
              "0      0\n",
              "1      1\n",
              "2      0\n",
              "3      0\n",
              "4      6\n",
              "      ..\n",
              "117    0\n",
              "118    6\n",
              "119    5\n",
              "120    0\n",
              "121    5\n",
              "Length: 122, dtype: int64"
            ]
          },
          "metadata": {},
          "execution_count": 167
        }
      ]
    },
    {
      "cell_type": "markdown",
      "metadata": {
        "id": "yfukHQ2Iymwj"
      },
      "source": [
        "สร้างผลลัพธ์โดยกำหนดว่าถ้าผลรวมการทำนาย >= 4 ให้ทำนายเป็น 1 ถ้าไม่ใช่ = 0"
      ]
    },
    {
      "cell_type": "code",
      "metadata": {
        "id": "ETWfDOU7yE1g"
      },
      "source": [
        "# your code here\n",
        "result = voting_df.apply(lambda x:1 if x>=4 else 0)"
      ],
      "execution_count": null,
      "outputs": []
    },
    {
      "cell_type": "code",
      "source": [
        "print('Result:')\n",
        "print(result)"
      ],
      "metadata": {
        "colab": {
          "base_uri": "https://localhost:8080/"
        },
        "id": "USHPPlFXg3jk",
        "outputId": "799b93f4-dcaa-4170-f64a-6730b47d026f"
      },
      "execution_count": null,
      "outputs": [
        {
          "output_type": "stream",
          "name": "stdout",
          "text": [
            "Result:\n",
            "0      0\n",
            "1      0\n",
            "2      0\n",
            "3      0\n",
            "4      1\n",
            "      ..\n",
            "117    0\n",
            "118    1\n",
            "119    1\n",
            "120    0\n",
            "121    1\n",
            "Length: 122, dtype: int64\n"
          ]
        }
      ]
    },
    {
      "cell_type": "code",
      "metadata": {
        "id": "q7touWbez512",
        "colab": {
          "base_uri": "https://localhost:8080/"
        },
        "outputId": "049a427d-ef17-4c5d-82bc-2b7bf9b4bdc2"
      },
      "source": [
        "print('Accuracy Score:')\n",
        "print(accuracy_score(y_test, result))"
      ],
      "execution_count": null,
      "outputs": [
        {
          "output_type": "stream",
          "name": "stdout",
          "text": [
            "Accuracy Score:\n",
            "0.8770491803278688\n"
          ]
        }
      ]
    },
    {
      "cell_type": "markdown",
      "source": [
        "ค่าความแม่นยำที่ได้ accuracy = 0.87"
      ],
      "metadata": {
        "id": "xTzlutZxK9gy"
      }
    },
    {
      "cell_type": "code",
      "source": [
        "f1_score(y_test, result)"
      ],
      "metadata": {
        "colab": {
          "base_uri": "https://localhost:8080/"
        },
        "id": "yLujHO0QitE3",
        "outputId": "c6f21fbd-9b55-4146-ca46-94ebbbffb127"
      },
      "execution_count": null,
      "outputs": [
        {
          "output_type": "execute_result",
          "data": {
            "text/plain": [
              "0.7887323943661971"
            ]
          },
          "metadata": {},
          "execution_count": 171
        }
      ]
    },
    {
      "cell_type": "markdown",
      "source": [
        "ค่า f1_score = 0.78"
      ],
      "metadata": {
        "id": "b4FfVGdfLDB9"
      }
    },
    {
      "cell_type": "markdown",
      "source": [
        "ค่า roc_auc = 0.84"
      ],
      "metadata": {
        "id": "HdijJW5DLMiW"
      }
    },
    {
      "cell_type": "code",
      "source": [
        "scores_model.append({'Model': 'Ensemble',\n",
        "                    'F1_Score': f1_score(y_test, result),\n",
        "                    'Accuracy_Score': accuracy_score(y_test, result)})"
      ],
      "metadata": {
        "id": "7_Xi2LyJjFq5"
      },
      "execution_count": null,
      "outputs": []
    },
    {
      "cell_type": "markdown",
      "source": [
        "ใน scores_model จะเก็บค่า Accuracy, F1-score และ ROC_AUC score ของ Ensemble model"
      ],
      "metadata": {
        "id": "g-o0Aq1BBtBl"
      }
    },
    {
      "cell_type": "markdown",
      "source": [
        "# Evaluate model "
      ],
      "metadata": {
        "id": "2-8D9ks0j_pO"
      }
    },
    {
      "cell_type": "markdown",
      "source": [
        "หลังจากที่ได้ทำการประเมินโมเดลทั้งหมดแล้วจะนำคะแนนที่ได้มาที่ถูกเก็บไว้ใน scores_model จะนำมาสร้าง dataframe แล้วทำการเรียงลำดับค่าตาม roc_auc score จากมากไปน้อย ซึ่งจะได้ผลตามตารางด้านล่าง"
      ],
      "metadata": {
        "id": "G5oD9MYnLSWV"
      }
    },
    {
      "cell_type": "code",
      "source": [
        "results = pd.DataFrame(scores_model).sort_values(by='F1_Score',ascending=False)\n",
        "results.style.background_gradient(cmap='Blues')"
      ],
      "metadata": {
        "colab": {
          "base_uri": "https://localhost:8080/",
          "height": 332
        },
        "id": "4LtKOn5pkNpt",
        "outputId": "0f90de38-e9d9-4755-999b-311339c07958"
      },
      "execution_count": null,
      "outputs": [
        {
          "output_type": "execute_result",
          "data": {
            "text/plain": [
              "<pandas.io.formats.style.Styler at 0x7ff28e162a50>"
            ],
            "text/html": [
              "<style type=\"text/css\">\n",
              "#T_02eda_row0_col1, #T_02eda_row0_col2 {\n",
              "  background-color: #08306b;\n",
              "  color: #f1f1f1;\n",
              "}\n",
              "#T_02eda_row1_col1 {\n",
              "  background-color: #08478d;\n",
              "  color: #f1f1f1;\n",
              "}\n",
              "#T_02eda_row1_col2, #T_02eda_row2_col2 {\n",
              "  background-color: #1b69af;\n",
              "  color: #f1f1f1;\n",
              "}\n",
              "#T_02eda_row2_col1 {\n",
              "  background-color: #08509b;\n",
              "  color: #f1f1f1;\n",
              "}\n",
              "#T_02eda_row3_col1, #T_02eda_row4_col1 {\n",
              "  background-color: #1e6db2;\n",
              "  color: #f1f1f1;\n",
              "}\n",
              "#T_02eda_row3_col2, #T_02eda_row4_col2 {\n",
              "  background-color: #3787c0;\n",
              "  color: #f1f1f1;\n",
              "}\n",
              "#T_02eda_row5_col1 {\n",
              "  background-color: #4a98c9;\n",
              "  color: #f1f1f1;\n",
              "}\n",
              "#T_02eda_row5_col2 {\n",
              "  background-color: #58a1cf;\n",
              "  color: #f1f1f1;\n",
              "}\n",
              "#T_02eda_row6_col1 {\n",
              "  background-color: #7db8da;\n",
              "  color: #000000;\n",
              "}\n",
              "#T_02eda_row6_col2 {\n",
              "  background-color: #e1edf8;\n",
              "  color: #000000;\n",
              "}\n",
              "#T_02eda_row7_col1 {\n",
              "  background-color: #dae8f6;\n",
              "  color: #000000;\n",
              "}\n",
              "#T_02eda_row7_col2 {\n",
              "  background-color: #ccdff1;\n",
              "  color: #000000;\n",
              "}\n",
              "#T_02eda_row8_col1, #T_02eda_row8_col2 {\n",
              "  background-color: #f7fbff;\n",
              "  color: #000000;\n",
              "}\n",
              "</style>\n",
              "<table id=\"T_02eda_\" class=\"dataframe\">\n",
              "  <thead>\n",
              "    <tr>\n",
              "      <th class=\"blank level0\" >&nbsp;</th>\n",
              "      <th class=\"col_heading level0 col0\" >Model</th>\n",
              "      <th class=\"col_heading level0 col1\" >F1_Score</th>\n",
              "      <th class=\"col_heading level0 col2\" >Accuracy_Score</th>\n",
              "    </tr>\n",
              "  </thead>\n",
              "  <tbody>\n",
              "    <tr>\n",
              "      <th id=\"T_02eda_level0_row0\" class=\"row_heading level0 row0\" >5</th>\n",
              "      <td id=\"T_02eda_row0_col0\" class=\"data row0 col0\" >Logistic Regression</td>\n",
              "      <td id=\"T_02eda_row0_col1\" class=\"data row0 col1\" >0.823529</td>\n",
              "      <td id=\"T_02eda_row0_col2\" class=\"data row0 col2\" >0.901639</td>\n",
              "    </tr>\n",
              "    <tr>\n",
              "      <th id=\"T_02eda_level0_row1\" class=\"row_heading level0 row1\" >0</th>\n",
              "      <td id=\"T_02eda_row1_col0\" class=\"data row1 col0\" >Decision Tree</td>\n",
              "      <td id=\"T_02eda_row1_col1\" class=\"data row1 col1\" >0.810811</td>\n",
              "      <td id=\"T_02eda_row1_col2\" class=\"data row1 col2\" >0.885246</td>\n",
              "    </tr>\n",
              "    <tr>\n",
              "      <th id=\"T_02eda_level0_row2\" class=\"row_heading level0 row2\" >1</th>\n",
              "      <td id=\"T_02eda_row2_col0\" class=\"data row2 col0\" >SVM</td>\n",
              "      <td id=\"T_02eda_row2_col1\" class=\"data row2 col1\" >0.805556</td>\n",
              "      <td id=\"T_02eda_row2_col2\" class=\"data row2 col2\" >0.885246</td>\n",
              "    </tr>\n",
              "    <tr>\n",
              "      <th id=\"T_02eda_level0_row3\" class=\"row_heading level0 row3\" >7</th>\n",
              "      <td id=\"T_02eda_row3_col0\" class=\"data row3 col0\" >Ensemble</td>\n",
              "      <td id=\"T_02eda_row3_col1\" class=\"data row3 col1\" >0.788732</td>\n",
              "      <td id=\"T_02eda_row3_col2\" class=\"data row3 col2\" >0.877049</td>\n",
              "    </tr>\n",
              "    <tr>\n",
              "      <th id=\"T_02eda_level0_row4\" class=\"row_heading level0 row4\" >8</th>\n",
              "      <td id=\"T_02eda_row4_col0\" class=\"data row4 col0\" >Ensemble</td>\n",
              "      <td id=\"T_02eda_row4_col1\" class=\"data row4 col1\" >0.788732</td>\n",
              "      <td id=\"T_02eda_row4_col2\" class=\"data row4 col2\" >0.877049</td>\n",
              "    </tr>\n",
              "    <tr>\n",
              "      <th id=\"T_02eda_level0_row5\" class=\"row_heading level0 row5\" >6</th>\n",
              "      <td id=\"T_02eda_row5_col0\" class=\"data row5 col0\" >XGBoost</td>\n",
              "      <td id=\"T_02eda_row5_col1\" class=\"data row5 col1\" >0.764706</td>\n",
              "      <td id=\"T_02eda_row5_col2\" class=\"data row5 col2\" >0.868852</td>\n",
              "    </tr>\n",
              "    <tr>\n",
              "      <th id=\"T_02eda_level0_row6\" class=\"row_heading level0 row6\" >3</th>\n",
              "      <td id=\"T_02eda_row6_col0\" class=\"data row6 col0\" >Naive Bayes</td>\n",
              "      <td id=\"T_02eda_row6_col1\" class=\"data row6 col1\" >0.743590</td>\n",
              "      <td id=\"T_02eda_row6_col2\" class=\"data row6 col2\" >0.836066</td>\n",
              "    </tr>\n",
              "    <tr>\n",
              "      <th id=\"T_02eda_level0_row7\" class=\"row_heading level0 row7\" >2</th>\n",
              "      <td id=\"T_02eda_row7_col0\" class=\"data row7 col0\" >KNN</td>\n",
              "      <td id=\"T_02eda_row7_col1\" class=\"data row7 col1\" >0.698413</td>\n",
              "      <td id=\"T_02eda_row7_col2\" class=\"data row7 col2\" >0.844262</td>\n",
              "    </tr>\n",
              "    <tr>\n",
              "      <th id=\"T_02eda_level0_row8\" class=\"row_heading level0 row8\" >4</th>\n",
              "      <td id=\"T_02eda_row8_col0\" class=\"data row8 col0\" >Random forest</td>\n",
              "      <td id=\"T_02eda_row8_col1\" class=\"data row8 col1\" >0.676923</td>\n",
              "      <td id=\"T_02eda_row8_col2\" class=\"data row8 col2\" >0.827869</td>\n",
              "    </tr>\n",
              "  </tbody>\n",
              "</table>\n"
            ]
          },
          "metadata": {},
          "execution_count": 177
        }
      ]
    },
    {
      "cell_type": "markdown",
      "source": [
        "จากตารางด้านบนจะเห็นได้ว่า โมเดล Decision trees ให้ประสิทธิภาพดีที่สุดเมื่อใช้ metric อย่าง roc_auc score มาใช้ซึ่งอยู่ที่ 0.86 แต่ในกรณีที่วัด Acccuracy และ F1-score โมเดล Logistic regression จะให้ประสิทธิภาพที่ดีกว่า"
      ],
      "metadata": {
        "id": "qUk7nq2oLuUg"
      }
    },
    {
      "cell_type": "markdown",
      "source": [
        "จัดทำโดย\n",
        "\n",
        "ศิระ หฤทัยปรีย์ 64607065"
      ],
      "metadata": {
        "id": "eX4qER-JY4oD"
      }
    }
  ],
  "metadata": {
    "colab": {
      "collapsed_sections": [],
      "provenance": [],
      "include_colab_link": true
    },
    "kernelspec": {
      "display_name": "Python 3",
      "name": "python3"
    },
    "language_info": {
      "name": "python"
    }
  },
  "nbformat": 4,
  "nbformat_minor": 0
}